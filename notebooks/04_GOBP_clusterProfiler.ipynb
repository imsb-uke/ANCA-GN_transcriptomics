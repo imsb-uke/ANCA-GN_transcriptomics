{
 "cells": [
  {
   "cell_type": "code",
   "execution_count": 1,
   "id": "58b7581e-d30c-4f1b-a272-642a8751b559",
   "metadata": {
    "collapsed": true,
    "jupyter": {
     "outputs_hidden": true
    },
    "tags": []
   },
   "outputs": [
    {
     "name": "stderr",
     "output_type": "stream",
     "text": [
      "Loading required package: clusterProfiler\n",
      "\n",
      "\n",
      "\n",
      "clusterProfiler v4.2.2  For help: https://yulab-smu.top/biomedical-knowledge-mining-book/\n",
      "\n",
      "If you use clusterProfiler in published research, please cite:\n",
      "T Wu, E Hu, S Xu, M Chen, P Guo, Z Dai, T Feng, L Zhou, W Tang, L Zhan, X Fu, S Liu, X Bo, and G Yu. clusterProfiler 4.0: A universal enrichment tool for interpreting omics data. The Innovation. 2021, 2(3):100141\n",
      "\n",
      "\n",
      "Attaching package: ‘clusterProfiler’\n",
      "\n",
      "\n",
      "The following object is masked from ‘package:stats’:\n",
      "\n",
      "    filter\n",
      "\n",
      "\n",
      "Loading required package: ggplot2\n",
      "\n",
      "Loading required package: org.Hs.eg.db\n",
      "\n",
      "Loading required package: AnnotationDbi\n",
      "\n",
      "Loading required package: stats4\n",
      "\n",
      "Loading required package: BiocGenerics\n",
      "\n",
      "\n",
      "Attaching package: ‘BiocGenerics’\n",
      "\n",
      "\n",
      "The following objects are masked from ‘package:stats’:\n",
      "\n",
      "    IQR, mad, sd, var, xtabs\n",
      "\n",
      "\n",
      "The following objects are masked from ‘package:base’:\n",
      "\n",
      "    anyDuplicated, append, as.data.frame, basename, cbind, colnames,\n",
      "    dirname, do.call, duplicated, eval, evalq, Filter, Find, get, grep,\n",
      "    grepl, intersect, is.unsorted, lapply, Map, mapply, match, mget,\n",
      "    order, paste, pmax, pmax.int, pmin, pmin.int, Position, rank,\n",
      "    rbind, Reduce, rownames, sapply, setdiff, sort, table, tapply,\n",
      "    union, unique, unsplit, which.max, which.min\n",
      "\n",
      "\n",
      "Loading required package: Biobase\n",
      "\n",
      "Welcome to Bioconductor\n",
      "\n",
      "    Vignettes contain introductory material; view with\n",
      "    'browseVignettes()'. To cite Bioconductor, see\n",
      "    'citation(\"Biobase\")', and for packages 'citation(\"pkgname\")'.\n",
      "\n",
      "\n",
      "Loading required package: IRanges\n",
      "\n",
      "Loading required package: S4Vectors\n",
      "\n",
      "\n",
      "Attaching package: ‘S4Vectors’\n",
      "\n",
      "\n",
      "The following object is masked from ‘package:clusterProfiler’:\n",
      "\n",
      "    rename\n",
      "\n",
      "\n",
      "The following objects are masked from ‘package:base’:\n",
      "\n",
      "    expand.grid, I, unname\n",
      "\n",
      "\n",
      "\n",
      "Attaching package: ‘IRanges’\n",
      "\n",
      "\n",
      "The following object is masked from ‘package:clusterProfiler’:\n",
      "\n",
      "    slice\n",
      "\n",
      "\n",
      "\n",
      "Attaching package: ‘AnnotationDbi’\n",
      "\n",
      "\n",
      "The following object is masked from ‘package:clusterProfiler’:\n",
      "\n",
      "    select\n",
      "\n",
      "\n",
      "\n",
      "\n"
     ]
    }
   ],
   "source": [
    "require(clusterProfiler)\n",
    "require(ggplot2)\n",
    "require(org.Hs.eg.db)"
   ]
  },
  {
   "cell_type": "code",
   "execution_count": 2,
   "id": "0739abe2-e1e1-4130-a37e-17a55e7aba7a",
   "metadata": {},
   "outputs": [
    {
     "data": {
      "text/plain": [
       "[1] ‘4.2.2’"
      ]
     },
     "metadata": {},
     "output_type": "display_data"
    }
   ],
   "source": [
    "packageVersion(\"clusterProfiler\")"
   ]
  },
  {
   "cell_type": "code",
   "execution_count": 3,
   "id": "487b373a-6aed-4287-ac94-ed34aab7fb14",
   "metadata": {},
   "outputs": [],
   "source": [
    "datadir = \"../data\"\n",
    "figdir = \"../figures\""
   ]
  },
  {
   "cell_type": "code",
   "execution_count": 4,
   "id": "44a15e85-d88b-452d-83da-ab53b4c3ef50",
   "metadata": {},
   "outputs": [
    {
     "name": "stderr",
     "output_type": "stream",
     "text": [
      "'select()' returned 1:many mapping between keys and columns\n",
      "\n",
      "Warning message in bitr(genelist, fromType = \"SYMBOL\", toType = c(\"ENTREZID\", \"ENSEMBL\", :\n",
      "“2.05% of input gene IDs are fail to map...”\n",
      "'select()' returned 1:many mapping between keys and columns\n",
      "\n",
      "Warning message in bitr(genelist, fromType = \"SYMBOL\", toType = c(\"ENTREZID\", \"ENSEMBL\", :\n",
      "“1.99% of input gene IDs are fail to map...”\n"
     ]
    }
   ],
   "source": [
    "cluster_annots = c(\"Inflamed tubulointerstitial\", \"Inflamed glomerular\")\n",
    "\n",
    "for (cluster_annot in cluster_annots){\n",
    "    filepath = paste0(datadir, \"/DEG_anca_samples_genes_\", cluster_annot, \".csv\")\n",
    "    savepath_tab = paste0(datadir, \"/GOBP_anca_samples_genes_\", cluster_annot, \".csv\")\n",
    "    savepath_fig = paste0(figdir, \"/GOBP_anca_samples_genes_\", cluster_annot, \".pdf\")\n",
    "    genelist = rownames(read.csv(filepath, row.names=1))\n",
    "    gene.df <- bitr(genelist, fromType = \"SYMBOL\",\n",
    "                toType = c(\"ENTREZID\",\"ENSEMBL\", \"SYMBOL\"),\n",
    "                OrgDb = org.Hs.eg.db)\n",
    "    genelist <- gene.df$ENTREZID\n",
    "    ego <- enrichGO(gene          = genelist,\n",
    "                    OrgDb         = org.Hs.eg.db,\n",
    "                    ont           = \"BP\",\n",
    "                    pAdjustMethod = \"BH\",\n",
    "                    pvalueCutoff  = 0.01,\n",
    "                    qvalueCutoff  = 0.05,\n",
    "                    readable      = TRUE)\n",
    "    ego <- simplify(ego)\n",
    "    options(repr.plot.width=9, repr.plot.height=6)\n",
    "    dotplot(ego, showCategory=10, font.size=20, title=cluster_annot) + theme(legend.text=element_text(size=18), \n",
    "                                                        text = element_text(size=18))\n",
    "    write.csv(ego, savepath_tab)\n",
    "    ggsave(savepath_fig, width=10, height=6)\n",
    "    }"
   ]
  },
  {
   "cell_type": "code",
   "execution_count": null,
   "id": "78a86c8c-5e80-430b-951d-1ec0b7460516",
   "metadata": {},
   "outputs": [],
   "source": []
  }
 ],
 "metadata": {
  "kernelspec": {
   "display_name": "R",
   "language": "R",
   "name": "ir"
  },
  "language_info": {
   "codemirror_mode": "r",
   "file_extension": ".r",
   "mimetype": "text/x-r-source",
   "name": "R",
   "pygments_lexer": "r",
   "version": "4.1.1"
  }
 },
 "nbformat": 4,
 "nbformat_minor": 5
}
