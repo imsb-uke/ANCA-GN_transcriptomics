{
 "cells": [
  {
   "cell_type": "code",
   "execution_count": 1,
   "id": "a0385d06-9c4e-4192-8c52-bf24f348f233",
   "metadata": {},
   "outputs": [],
   "source": [
    "import sys\n",
    "sys.path.append(\"../src\")\n",
    "from utils import *"
   ]
  },
  {
   "cell_type": "code",
   "execution_count": 2,
   "id": "7de6c29c-7533-4fe5-bac7-4d3a8b3cd95a",
   "metadata": {},
   "outputs": [],
   "source": [
    "import pickle"
   ]
  },
  {
   "cell_type": "code",
   "execution_count": 3,
   "id": "5bef7ccd-840f-4c17-a1f5-2b09c0a87aca",
   "metadata": {},
   "outputs": [],
   "source": [
    "import PIL\n",
    "import matplotlib.pyplot as plt\n",
    "import seaborn as sns"
   ]
  },
  {
   "cell_type": "code",
   "execution_count": 4,
   "id": "112ee6a7-44d1-4f9e-9b46-bcd174232172",
   "metadata": {},
   "outputs": [],
   "source": [
    "# load file sizes\n",
    "\n",
    "img_folder = \"../tif_processed\"\n",
    "annots_folder = \"../annotations_visium\"\n",
    "adata_file = os.path.join(datadir, \"anca_samples_clustered.h5ad\")\n",
    "PIL.Image.MAX_IMAGE_PIXELS = 933120000"
   ]
  },
  {
   "cell_type": "code",
   "execution_count": 5,
   "id": "bc337ae4-75ef-4898-820a-95dcc2bfdd3b",
   "metadata": {},
   "outputs": [],
   "source": [
    "data = sc.read(adata_file)\n",
    "samples = data.obs[\"Sample\"].cat.categories.tolist()"
   ]
  },
  {
   "cell_type": "code",
   "execution_count": 6,
   "id": "f71b5436-1dc7-48d3-8bb8-443bf553f26f",
   "metadata": {},
   "outputs": [],
   "source": [
    "sizes = {}\n",
    "for sample in samples:\n",
    "    # img = plt.imread(os.path.join(img_folder, sample+\".tif\"))\n",
    "    img = PIL.Image.open(os.path.join(img_folder, sample+\".tif\"))\n",
    "    sizes[sample] = img.size[1]"
   ]
  },
  {
   "cell_type": "code",
   "execution_count": 7,
   "id": "9849cdca-4642-455c-bc59-0d854c0bf681",
   "metadata": {},
   "outputs": [],
   "source": [
    "with open(os.path.join(datadir, \"image_sizes.pkl\"), \"wb\") as f:\n",
    "    pickle.dump(sizes, f, protocol=pickle.HIGHEST_PROTOCOL)"
   ]
  },
  {
   "cell_type": "code",
   "execution_count": 8,
   "id": "1ea0fdb9-1fa3-477a-90c9-c8a57b3cc9cf",
   "metadata": {},
   "outputs": [],
   "source": [
    "def map_coords(x, y, scale_factor=9.913354971):\n",
    "\n",
    "    x_, y_ = x/scale_factor, y/scale_factor\n",
    "    return x_, y_"
   ]
  },
  {
   "cell_type": "code",
   "execution_count": 9,
   "id": "37390cd8-10a2-44a4-9c62-a2a0226b907b",
   "metadata": {},
   "outputs": [],
   "source": [
    "count = 0\n",
    "data.obs[\"annot_v1\"] = \"not_annotated\"\n",
    "for sample in data.obs[\"Sample\"].unique():\n",
    "    sub = data[data.obs[\"Sample\"]==sample]\n",
    "    \n",
    "    hires_scale_factor = data.uns[\"spatial\"][sample][\"scalefactors\"]['tissue_hires_scalef']\n",
    "    hires_size = data.uns[\"spatial\"][sample][\"images\"][\"hires\"].shape[0]\n",
    "    scale_tif_to_hires = sizes[sample]/hires_size\n",
    "    tif_scale_factor = hires_scale_factor*scale_tif_to_hires\n",
    "    \n",
    "    annotations = os.listdir(os.path.join(annots_folder, sample))\n",
    "    for file in annotations:\n",
    "        if \".csv\" in file:\n",
    "            type_ = file.split(\".csv\")[0]\n",
    "            shapes = pd.read_csv(os.path.join(annots_folder, sample, file), index_col=0)\n",
    "            for shape_n in shapes.index.unique():\n",
    "                shape = shapes[shapes.index==shape_n].reset_index()\n",
    "                for i in shape.index:\n",
    "                    y, x = shape.loc[i,\"axis-0\"], shape.loc[i, \"axis-1\"]\n",
    "                    shape.loc[i, \"x\"], shape.loc[i, \"y\"] = map_coords(x, y, tif_scale_factor)\n",
    "                min_x, min_y = shape[\"x\"].min(), shape[\"y\"].min()\n",
    "                max_x, max_y = shape[\"x\"].max(), shape[\"y\"].max()\n",
    "                sample_spots = sub.obsm[\"spatial\"]\n",
    "                \n",
    "                mapped_spots = []\n",
    "                for i in range(len(sample_spots)):\n",
    "                    x, y = sample_spots[i][0], sample_spots[i][1]\n",
    "                    if x <= max_x and x >= min_x and y <= max_y and y >= min_y: \n",
    "                        mapped_spots.append(i)\n",
    "                            \n",
    "                idxs = sub.obs.index[mapped_spots]\n",
    "                data.obs.loc[idxs, \"annot_v1\"] = [type_.capitalize()]*len(idxs)\n",
    "                count = count+1\n",
    "                data.obs.loc[idxs, \"count_v1\"] = [count+1]*len(idxs)"
   ]
  },
  {
   "cell_type": "code",
   "execution_count": 10,
   "id": "3a92b2b4-5660-4ada-b72a-28029d0ad452",
   "metadata": {},
   "outputs": [
    {
     "data": {
      "text/plain": [
       "not_annotated    10226\n",
       "Crescent           306\n",
       "Normal             168\n",
       "Scarred             47\n",
       "Cresent             16\n",
       "Name: annot_v1, dtype: int64"
      ]
     },
     "execution_count": 10,
     "metadata": {},
     "output_type": "execute_result"
    }
   ],
   "source": [
    "data.obs[\"annot_v1\"].value_counts()"
   ]
  },
  {
   "cell_type": "code",
   "execution_count": 11,
   "id": "de11fd68-64ca-4a29-86c5-286f3b35d68b",
   "metadata": {},
   "outputs": [],
   "source": [
    "data.obs[\"annot_v1\"].replace({\"Cresent\": \"Crescent\"}, inplace=True)"
   ]
  },
  {
   "cell_type": "code",
   "execution_count": 12,
   "id": "d5b467ab-81b8-45c2-bef1-364bdfdf7c55",
   "metadata": {},
   "outputs": [
    {
     "data": {
      "text/plain": [
       "not_annotated    10226\n",
       "Crescent           322\n",
       "Normal             168\n",
       "Scarred             47\n",
       "Name: annot_v1, dtype: int64"
      ]
     },
     "execution_count": 12,
     "metadata": {},
     "output_type": "execute_result"
    }
   ],
   "source": [
    "data.obs[\"annot_v1\"].value_counts()"
   ]
  },
  {
   "cell_type": "code",
   "execution_count": 13,
   "id": "f13e1f76-e6c9-41ec-accf-9cf421969ec8",
   "metadata": {},
   "outputs": [],
   "source": [
    "data.write(os.path.join(datadir, \"anca_samples_annotated_v1.h5ad\"))"
   ]
  },
  {
   "cell_type": "code",
   "execution_count": null,
   "id": "64ddfa78-6fc1-49ef-b788-9bd243e48f1b",
   "metadata": {},
   "outputs": [],
   "source": []
  }
 ],
 "metadata": {
  "kernelspec": {
   "display_name": "Python 3 (ipykernel)",
   "language": "python",
   "name": "python3"
  },
  "language_info": {
   "codemirror_mode": {
    "name": "ipython",
    "version": 3
   },
   "file_extension": ".py",
   "mimetype": "text/x-python",
   "name": "python",
   "nbconvert_exporter": "python",
   "pygments_lexer": "ipython3",
   "version": "3.9.7"
  }
 },
 "nbformat": 4,
 "nbformat_minor": 5
}
