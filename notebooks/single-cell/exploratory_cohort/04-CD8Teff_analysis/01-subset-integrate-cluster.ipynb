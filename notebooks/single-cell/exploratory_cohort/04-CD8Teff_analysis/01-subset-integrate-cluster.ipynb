{
 "cells": [
  {
   "cell_type": "code",
   "execution_count": 1,
   "metadata": {},
   "outputs": [],
   "source": [
    "data_dir = \"/data/projects/dschaub/ANCA-GN_transcriptomics/data/single-cell/exploratory\"\n",
    "working_dir = \"/data/projects/dschaub/ANCA-GN_transcriptomics\""
   ]
  },
  {
   "cell_type": "code",
   "execution_count": 2,
   "metadata": {},
   "outputs": [
    {
     "name": "stderr",
     "output_type": "stream",
     "text": [
      "Global seed set to 0\n",
      "/opt/conda/envs/scvi-env/lib/python3.9/site-packages/flax/struct.py:136: FutureWarning: jax.tree_util.register_keypaths is deprecated, and will be removed in a future release. Please use `register_pytree_with_keys()` instead.\n",
      "  jax.tree_util.register_keypaths(data_clz, keypaths)\n",
      "/opt/conda/envs/scvi-env/lib/python3.9/site-packages/flax/struct.py:136: FutureWarning: jax.tree_util.register_keypaths is deprecated, and will be removed in a future release. Please use `register_pytree_with_keys()` instead.\n",
      "  jax.tree_util.register_keypaths(data_clz, keypaths)\n"
     ]
    }
   ],
   "source": [
    "%load_ext autoreload\n",
    "%autoreload 2\n",
    "\n",
    "import sys\n",
    "import os\n",
    "os.chdir(working_dir)\n",
    "\n",
    "import anndata as ad\n",
    "import matplotlib.pyplot as plt\n",
    "import mudata as md\n",
    "import muon as mu\n",
    "import pandas as pd\n",
    "import numpy as np\n",
    "import scanpy as sc\n",
    "from scipy import sparse\n",
    "import matplotlib as mpl\n",
    "\n",
    "from utils.utils import *\n",
    "from utils.plotting import *\n",
    "\n",
    "sc.settings.verbosity = 0\n",
    "sc.set_figure_params(dpi=80)\n",
    "sns.set(style=\"white\")"
   ]
  },
  {
   "cell_type": "markdown",
   "metadata": {},
   "source": [
    "## Load data"
   ]
  },
  {
   "cell_type": "code",
   "execution_count": 3,
   "metadata": {},
   "outputs": [
    {
     "data": {
      "text/html": [
       "<pre>MuData object with n_obs × n_vars = 72416 × 21625\n",
       "  2 modalities\n",
       "    rna:\t72416 x 21419\n",
       "      obs:\t&#x27;patient&#x27;, &#x27;sample&#x27;, &#x27;tissue&#x27;, &#x27;cell_type_yu&#x27;, &#x27;n_genes&#x27;, &#x27;n_genes_by_counts&#x27;, &#x27;total_counts&#x27;, &#x27;total_counts_mt&#x27;, &#x27;pct_counts_mt&#x27;, &#x27;total_counts_ribo&#x27;, &#x27;pct_counts_ribo&#x27;, &#x27;leiden_0.3&#x27;, &#x27;leiden_0.4&#x27;, &#x27;leiden_0.5&#x27;, &#x27;leiden_0.6&#x27;, &#x27;leiden_0.7&#x27;, &#x27;leiden_0.8&#x27;, &#x27;leiden_0.9&#x27;, &#x27;leiden_1.0&#x27;, &#x27;leiden_1.1&#x27;, &#x27;leiden_1.2&#x27;, &#x27;leiden_1.3&#x27;, &#x27;leiden_1.4&#x27;, &#x27;leiden_1.5&#x27;, &#x27;leiden_1.6&#x27;, &#x27;leiden_1.7&#x27;, &#x27;leiden_1.8&#x27;, &#x27;leiden_1.9&#x27;, &#x27;cell_type&#x27;, &#x27;cell_type_v1&#x27;\n",
       "      var:\t&#x27;n_cells&#x27;, &#x27;mt&#x27;, &#x27;ribo&#x27;, &#x27;n_cells_by_counts&#x27;, &#x27;mean_counts&#x27;, &#x27;pct_dropout_by_counts&#x27;, &#x27;total_counts&#x27;, &#x27;mean&#x27;, &#x27;std&#x27;\n",
       "      uns:\t&#x27;cell_type_colors&#x27;, &#x27;cell_type_v1_colors&#x27;, &#x27;cell_type_yu_colors&#x27;, &#x27;leiden&#x27;, &#x27;leiden_0.3_colors&#x27;, &#x27;leiden_0.4_colors&#x27;, &#x27;leiden_0.5_colors&#x27;, &#x27;leiden_0.6_colors&#x27;, &#x27;leiden_0.7_colors&#x27;, &#x27;leiden_0.8_colors&#x27;, &#x27;leiden_0.9_colors&#x27;, &#x27;leiden_1.0_colors&#x27;, &#x27;leiden_1.1_colors&#x27;, &#x27;leiden_1.2_colors&#x27;, &#x27;leiden_1.3_colors&#x27;, &#x27;leiden_1.4_colors&#x27;, &#x27;leiden_1.5_colors&#x27;, &#x27;leiden_1.6_colors&#x27;, &#x27;leiden_1.7_colors&#x27;, &#x27;leiden_1.8_colors&#x27;, &#x27;leiden_1.9_colors&#x27;, &#x27;log1p&#x27;, &#x27;neighbors&#x27;, &#x27;patient_colors&#x27;, &#x27;sample_colors&#x27;, &#x27;tissue_colors&#x27;, &#x27;umap&#x27;\n",
       "      obsm:\t&#x27;X_harmony&#x27;, &#x27;X_umap&#x27;\n",
       "      layers:\t&#x27;counts&#x27;, &#x27;log1p&#x27;, &#x27;scaled&#x27;\n",
       "      obsp:\t&#x27;connectivities&#x27;, &#x27;distances&#x27;\n",
       "    cite:\t72416 x 206\n",
       "      obs:\t&#x27;patient&#x27;, &#x27;sample&#x27;, &#x27;tissue&#x27;, &#x27;cell_type_yu&#x27;, &#x27;n_genes_by_counts&#x27;, &#x27;log1p_n_genes_by_counts&#x27;, &#x27;total_counts&#x27;, &#x27;log1p_total_counts&#x27;\n",
       "      var:\t&#x27;n_cells_by_counts&#x27;, &#x27;mean_counts&#x27;, &#x27;log1p_mean_counts&#x27;, &#x27;pct_dropout_by_counts&#x27;, &#x27;total_counts&#x27;, &#x27;log1p_total_counts&#x27;, &#x27;n_cells&#x27;, &#x27;mean&#x27;, &#x27;std&#x27;\n",
       "      layers:\t&#x27;clr&#x27;, &#x27;counts&#x27;, &#x27;scaled&#x27;</pre>"
      ],
      "text/plain": [
       "MuData object with n_obs × n_vars = 72416 × 21625\n",
       "  2 modalities\n",
       "    rna:\t72416 x 21419\n",
       "      obs:\t'patient', 'sample', 'tissue', 'cell_type_yu', 'n_genes', 'n_genes_by_counts', 'total_counts', 'total_counts_mt', 'pct_counts_mt', 'total_counts_ribo', 'pct_counts_ribo', 'leiden_0.3', 'leiden_0.4', 'leiden_0.5', 'leiden_0.6', 'leiden_0.7', 'leiden_0.8', 'leiden_0.9', 'leiden_1.0', 'leiden_1.1', 'leiden_1.2', 'leiden_1.3', 'leiden_1.4', 'leiden_1.5', 'leiden_1.6', 'leiden_1.7', 'leiden_1.8', 'leiden_1.9', 'cell_type', 'cell_type_v1'\n",
       "      var:\t'n_cells', 'mt', 'ribo', 'n_cells_by_counts', 'mean_counts', 'pct_dropout_by_counts', 'total_counts', 'mean', 'std'\n",
       "      uns:\t'cell_type_colors', 'cell_type_v1_colors', 'cell_type_yu_colors', 'leiden', 'leiden_0.3_colors', 'leiden_0.4_colors', 'leiden_0.5_colors', 'leiden_0.6_colors', 'leiden_0.7_colors', 'leiden_0.8_colors', 'leiden_0.9_colors', 'leiden_1.0_colors', 'leiden_1.1_colors', 'leiden_1.2_colors', 'leiden_1.3_colors', 'leiden_1.4_colors', 'leiden_1.5_colors', 'leiden_1.6_colors', 'leiden_1.7_colors', 'leiden_1.8_colors', 'leiden_1.9_colors', 'log1p', 'neighbors', 'patient_colors', 'sample_colors', 'tissue_colors', 'umap'\n",
       "      obsm:\t'X_harmony', 'X_umap'\n",
       "      layers:\t'counts', 'log1p', 'scaled'\n",
       "      obsp:\t'connectivities', 'distances'\n",
       "    cite:\t72416 x 206\n",
       "      obs:\t'patient', 'sample', 'tissue', 'cell_type_yu', 'n_genes_by_counts', 'log1p_n_genes_by_counts', 'total_counts', 'log1p_total_counts'\n",
       "      var:\t'n_cells_by_counts', 'mean_counts', 'log1p_mean_counts', 'pct_dropout_by_counts', 'total_counts', 'log1p_total_counts', 'n_cells', 'mean', 'std'\n",
       "      layers:\t'clr', 'counts', 'scaled'"
      ]
     },
     "execution_count": 3,
     "metadata": {},
     "output_type": "execute_result"
    }
   ],
   "source": [
    "path = os.path.join(\n",
    "    data_dir, \"ANCA_exploratory_27PK27PB_Tcells_HarmonyR_annotated.h5mu\"\n",
    ")\n",
    "mudata = md.read_h5mu(path)\n",
    "mod_rna = mudata.mod[\"rna\"]\n",
    "mod_cite = mudata.mod[\"cite\"]\n",
    "mudata"
   ]
  },
  {
   "cell_type": "markdown",
   "metadata": {},
   "source": [
    "## Subset CD8EMRM"
   ]
  },
  {
   "cell_type": "code",
   "execution_count": 4,
   "metadata": {},
   "outputs": [],
   "source": [
    "celltype_key = \"cell_type\"\n",
    "mudata = mudata[mudata.mod[\"rna\"].obs[celltype_key] == \"CD8+ EM/RM\"].copy()\n",
    "mod_rna = mudata.mod[\"rna\"]\n",
    "mod_cite = mudata.mod[\"cite\"]"
   ]
  },
  {
   "cell_type": "markdown",
   "metadata": {},
   "source": [
    "## Preprocess data"
   ]
  },
  {
   "cell_type": "code",
   "execution_count": null,
   "metadata": {},
   "outputs": [],
   "source": [
    "print(mod_rna.shape)\n",
    "sc.pp.filter_genes(mod_rna, min_cells=10)\n",
    "print(mod_rna.shape)"
   ]
  },
  {
   "cell_type": "code",
   "execution_count": null,
   "metadata": {},
   "outputs": [],
   "source": [
    "# remove any patient that contains less than 2 cells\n",
    "cells_per_patient = mod_rna.obs[\"patient\"].value_counts()\n",
    "patients_to_remove = cells_per_patient[cells_per_patient < 2].index.tolist()\n",
    "mod_rna = mod_rna[~mod_rna.obs[\"patient\"].isin(patients_to_remove)].copy()\n",
    "mod_cite = mod_cite[mod_rna.obs_names, :].copy()"
   ]
  },
  {
   "cell_type": "markdown",
   "metadata": {},
   "source": [
    "### Quality control"
   ]
  },
  {
   "cell_type": "code",
   "execution_count": null,
   "metadata": {},
   "outputs": [],
   "source": [
    "plot_qc(mod_rna, celltype_key)"
   ]
  },
  {
   "cell_type": "code",
   "execution_count": null,
   "metadata": {},
   "outputs": [],
   "source": [
    "# number of unique patients\n",
    "len(mod_rna.obs[\"patient\"].unique())"
   ]
  },
  {
   "cell_type": "markdown",
   "metadata": {},
   "source": [
    "## Integrate data"
   ]
  },
  {
   "cell_type": "code",
   "execution_count": null,
   "metadata": {},
   "outputs": [],
   "source": [
    "log_normalize(mod_rna)\n",
    "protein_clr(mod_cite)"
   ]
  },
  {
   "cell_type": "code",
   "execution_count": null,
   "metadata": {},
   "outputs": [],
   "source": [
    "model, rna_subset = integrate_with_totalvi(\n",
    "    mod_rna,\n",
    "    mod_cite,\n",
    "    batch_key=\"patient\",\n",
    "    n_top_genes=4000,\n",
    "    # continuous_covariate_keys=[\"pct_counts_mt\", \"total_counts\"],\n",
    "    # continuous_covariate_keys=[\"total_counts\"],\n",
    "    # continuous_covariate_batch_keys=[\"pct_counts_mt\"],\n",
    "    empirical_protein_background_prior=True,\n",
    ")"
   ]
  },
  {
   "cell_type": "code",
   "execution_count": null,
   "metadata": {},
   "outputs": [],
   "source": [
    "plt.plot(model.history[\"elbo_train\"], label=\"train\")\n",
    "plt.plot(model.history[\"elbo_validation\"], label=\"val\")\n",
    "plt.title(\"Negative ELBO over training epochs\")\n",
    "# plt.ylim(500, 1500)\n",
    "plt.legend()"
   ]
  },
  {
   "cell_type": "code",
   "execution_count": null,
   "metadata": {},
   "outputs": [],
   "source": [
    "rep_name = \"X_totalvi\"\n",
    "mod_rna.obsm[rep_name] = model.get_latent_representation()\n",
    "sc.pp.neighbors(mod_rna, use_rep=rep_name)\n",
    "sc.tl.umap(mod_rna)"
   ]
  },
  {
   "cell_type": "code",
   "execution_count": null,
   "metadata": {},
   "outputs": [],
   "source": [
    "sc.pl.umap(\n",
    "    mod_rna,\n",
    "    color=[\"sample\", \"patient\", \"tissue\"],\n",
    "    # return_fig=True,\n",
    "    # legend_loc=\"on data\",\n",
    "    # save=\"_leiden.png\",\n",
    "    wspace=0.8,\n",
    ")"
   ]
  },
  {
   "cell_type": "code",
   "execution_count": null,
   "metadata": {},
   "outputs": [],
   "source": [
    "resolutions = np.linspace(0.4, 2.0, 17)\n",
    "for res in resolutions:\n",
    "    res = np.round(res, 1)\n",
    "    print(f\"Running Leiden clustering with resolution {res}\")\n",
    "    sc.tl.leiden(mod_rna, key_added=f\"leiden_{res}\", resolution=res)"
   ]
  },
  {
   "cell_type": "code",
   "execution_count": null,
   "metadata": {},
   "outputs": [],
   "source": [
    "plot_leiden_results(mod_rna, rep_name=\"\")"
   ]
  },
  {
   "cell_type": "markdown",
   "metadata": {},
   "source": [
    "## Save data"
   ]
  },
  {
   "cell_type": "code",
   "execution_count": null,
   "metadata": {},
   "outputs": [],
   "source": [
    "save_path = os.path.join(\n",
    "    data_dir, \"ANCA_exploratory_27PK27PB_CD8Teff_TotalVI.h5mu\"\n",
    "\n",
    ")\n",
    "mudata = md.MuData(\n",
    "    {\n",
    "        \"rna\": mod_rna.copy(),\n",
    "        \"cite\": mod_cite.copy(),\n",
    "    }\n",
    ")\n",
    "mudata.write_h5mu(save_path)"
   ]
  }
 ],
 "metadata": {
  "kernelspec": {
   "display_name": "scvi-env",
   "language": "python",
   "name": "python3"
  },
  "language_info": {
   "codemirror_mode": {
    "name": "ipython",
    "version": 3
   },
   "file_extension": ".py",
   "mimetype": "text/x-python",
   "name": "python",
   "nbconvert_exporter": "python",
   "pygments_lexer": "ipython3",
   "version": "3.9.15"
  }
 },
 "nbformat": 4,
 "nbformat_minor": 2
}
