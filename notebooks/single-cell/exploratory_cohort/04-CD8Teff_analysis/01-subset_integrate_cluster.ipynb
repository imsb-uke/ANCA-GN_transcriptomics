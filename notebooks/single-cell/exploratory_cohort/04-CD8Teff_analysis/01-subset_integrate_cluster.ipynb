{
 "cells": [
  {
   "cell_type": "code",
   "execution_count": null,
   "metadata": {},
   "outputs": [],
   "source": [
    "%load_ext autoreload\n",
    "%autoreload 2\n",
    "\n",
    "import sys\n",
    "import os\n",
    "os.chdir(\"../../../../\")\n",
    "\n",
    "import anndata as ad\n",
    "import matplotlib.pyplot as plt\n",
    "import mudata as md\n",
    "import muon as mu\n",
    "import numpy as np\n",
    "import scanpy as sc\n",
    "from scipy import sparse\n",
    "\n",
    "from utils.utils import *\n",
    "from utils.plotting import *\n",
    "\n",
    "sc.settings.verbosity = 0\n",
    "sc.settings.set_figure_params(\n",
    "    dpi=100,\n",
    "    facecolor=\"white\",\n",
    "    # color_map=\"YlGnBu\",\n",
    "    frameon=False,\n",
    ")\n",
    "import matplotlib as mpl\n",
    "\n",
    "sc.set_figure_params(dpi=100)\n",
    "sns.set(style=\"white\")"
   ]
  },
  {
   "cell_type": "markdown",
   "metadata": {},
   "source": [
    "## Load data"
   ]
  },
  {
   "cell_type": "code",
   "execution_count": null,
   "metadata": {},
   "outputs": [],
   "source": [
    "mudata = md.read_h5mu(\"data/anca/exploratory/ANCA_27PK27PB_T_harmony_r_annotated.h5mu\")\n",
    "mod_rna = mudata.mod[\"rna\"]\n",
    "mod_cite = mudata.mod[\"cite\"]\n",
    "mudata"
   ]
  },
  {
   "cell_type": "markdown",
   "metadata": {},
   "source": [
    "## Subset CD8EMRM"
   ]
  },
  {
   "cell_type": "code",
   "execution_count": null,
   "metadata": {},
   "outputs": [],
   "source": [
    "celltype_key = \"cell_type\"\n",
    "mudata = mudata[mudata.mod[\"rna\"].obs[celltype_key] == \"CD8+ EM/RM\"].copy()\n",
    "mod_rna = mudata.mod[\"rna\"]\n",
    "mod_cite = mudata.mod[\"cite\"]"
   ]
  },
  {
   "cell_type": "markdown",
   "metadata": {},
   "source": [
    "## Preprocess data"
   ]
  },
  {
   "cell_type": "code",
   "execution_count": null,
   "metadata": {},
   "outputs": [],
   "source": [
    "print(mod_rna.shape)\n",
    "sc.pp.filter_genes(mod_rna, min_cells=10)\n",
    "print(mod_rna.shape)"
   ]
  },
  {
   "cell_type": "code",
   "execution_count": null,
   "metadata": {},
   "outputs": [],
   "source": [
    "# remove any patient that contains less than 2 cells\n",
    "cells_per_patient = mod_rna.obs[\"patient\"].value_counts()\n",
    "patients_to_remove = cells_per_patient[cells_per_patient < 2].index.tolist()\n",
    "mod_rna = mod_rna[~mod_rna.obs[\"patient\"].isin(patients_to_remove)].copy()\n",
    "mod_cite = mod_cite[mod_rna.obs_names, :].copy()"
   ]
  },
  {
   "cell_type": "markdown",
   "metadata": {},
   "source": [
    "### Quality control"
   ]
  },
  {
   "cell_type": "code",
   "execution_count": null,
   "metadata": {},
   "outputs": [],
   "source": [
    "plot_qc(mod_rna, celltype_key)"
   ]
  },
  {
   "cell_type": "code",
   "execution_count": null,
   "metadata": {},
   "outputs": [],
   "source": [
    "# number of unique patients\n",
    "len(mod_rna.obs[\"patient\"].unique())"
   ]
  },
  {
   "cell_type": "markdown",
   "metadata": {},
   "source": [
    "## Integrate data"
   ]
  },
  {
   "cell_type": "code",
   "execution_count": null,
   "metadata": {},
   "outputs": [],
   "source": [
    "log_normalize(mod_rna)\n",
    "protein_clr(mod_cite)"
   ]
  },
  {
   "cell_type": "code",
   "execution_count": null,
   "metadata": {},
   "outputs": [],
   "source": [
    "model, rna_subset = integrate_with_totalvi(\n",
    "    mod_rna,\n",
    "    mod_cite,\n",
    "    batch_key=\"patient\",\n",
    "    n_top_genes=4000,\n",
    "    # continuous_covariate_keys=[\"pct_counts_mt\", \"total_counts\"],\n",
    "    # continuous_covariate_keys=[\"total_counts\"],\n",
    "    # continuous_covariate_batch_keys=[\"pct_counts_mt\"],\n",
    "    empirical_protein_background_prior=True,\n",
    ")"
   ]
  },
  {
   "cell_type": "code",
   "execution_count": null,
   "metadata": {},
   "outputs": [],
   "source": [
    "plt.plot(model.history[\"elbo_train\"], label=\"train\")\n",
    "plt.plot(model.history[\"elbo_validation\"], label=\"val\")\n",
    "plt.title(\"Negative ELBO over training epochs\")\n",
    "# plt.ylim(500, 1500)\n",
    "plt.legend()"
   ]
  },
  {
   "cell_type": "code",
   "execution_count": null,
   "metadata": {},
   "outputs": [],
   "source": [
    "rep_name = \"X_totalvi\"\n",
    "mod_rna.obsm[rep_name] = model.get_latent_representation()\n",
    "sc.pp.neighbors(mod_rna, use_rep=rep_name)\n",
    "sc.tl.umap(mod_rna)"
   ]
  },
  {
   "cell_type": "code",
   "execution_count": null,
   "metadata": {},
   "outputs": [],
   "source": [
    "sc.pl.umap(\n",
    "    mod_rna,\n",
    "    color=[\"sample\", \"patient\", \"tissue\"],\n",
    "    # return_fig=True,\n",
    "    # legend_loc=\"on data\",\n",
    "    # save=\"_leiden.png\",\n",
    "    wspace=0.8,\n",
    ")"
   ]
  },
  {
   "cell_type": "code",
   "execution_count": null,
   "metadata": {},
   "outputs": [],
   "source": [
    "resolutions = np.linspace(0.4, 2.0, 17)\n",
    "for res in resolutions:\n",
    "    res = np.round(res, 1)\n",
    "    print(f\"Running Leiden clustering with resolution {res}\")\n",
    "    sc.tl.leiden(mod_rna, key_added=f\"leiden_{res}\", resolution=res)"
   ]
  },
  {
   "cell_type": "code",
   "execution_count": null,
   "metadata": {},
   "outputs": [],
   "source": [
    "plot_leiden_results(mod_rna, rep_name=\"\")"
   ]
  },
  {
   "cell_type": "code",
   "execution_count": null,
   "metadata": {},
   "outputs": [],
   "source": [
    "mudata = md.MuData(\n",
    "    {\n",
    "        \"rna\": mod_rna,\n",
    "        \"cite\": mod_cite,\n",
    "    }\n",
    ")\n",
    "mudata.write_h5mu(\"data/anca/exploratory/ANCA_27PK27PB_cd8emrm_totalvi.h5mu\")"
   ]
  },
  {
   "cell_type": "code",
   "execution_count": null,
   "metadata": {},
   "outputs": [],
   "source": [
    "cluster_key = None\n",
    "cluster_key = \"leiden_1.0\""
   ]
  },
  {
   "cell_type": "code",
   "execution_count": null,
   "metadata": {},
   "outputs": [],
   "source": [
    "sc.pl.umap(mod_rna, color=cluster_key, legend_loc=\"on data\", wspace=0.8)"
   ]
  },
  {
   "cell_type": "code",
   "execution_count": null,
   "metadata": {},
   "outputs": [],
   "source": [
    "all_marker_results, filtered_marker_results, best_markers = run_de_pipeline(\n",
    "    mod_rna,\n",
    "    cluster_key,\n",
    "    mod=\"rna\",\n",
    "    top_n=5,\n",
    "    min_expression=0.1,\n",
    ")"
   ]
  },
  {
   "cell_type": "code",
   "execution_count": null,
   "metadata": {},
   "outputs": [],
   "source": [
    "marker_df = pd.read_excel(\"data/markers/T cell markers.xlsx\")\n",
    "marker_df = marker_df.set_index(\"Cell type\")\n",
    "\n",
    "# extract positive markers\n",
    "marker_db = {}\n",
    "for index, row in marker_df.iterrows():\n",
    "    pos_markers_1 = (\n",
    "        row[\"positive markers 1\"].replace(\" \", \"\").split(\",\")\n",
    "        if row[\"positive markers 1\"] is not np.nan\n",
    "        else []\n",
    "    )\n",
    "    pos_markers_2 = (\n",
    "        row[\"positive markers 2\"].replace(\" \", \"\").split(\",\")\n",
    "        if row[\"positive markers 2\"] is not np.nan\n",
    "        else []\n",
    "    )\n",
    "    marker_db[index] = list(set(pos_markers_1 + pos_markers_2))\n",
    "\n",
    "marker_plotter = MarkerPlotter(mod_rna, mod_cite, marker_db, cluster_key=cluster_key)"
   ]
  },
  {
   "cell_type": "code",
   "execution_count": null,
   "metadata": {},
   "outputs": [],
   "source": [
    "fig = marker_plotter.visualize_markers(\n",
    "    markers=[\n",
    "        \"CD8A\",\n",
    "        \"CD4\",\n",
    "        \"CD3E\",\n",
    "    ],\n",
    "    dtype=\"rna\",\n",
    "    ncols=3,\n",
    "    use_default_plot=True,\n",
    "    # marker_plot=False\n",
    "    # dotplot=False,\n",
    ")"
   ]
  },
  {
   "cell_type": "code",
   "execution_count": null,
   "metadata": {},
   "outputs": [],
   "source": [
    "fig = marker_plotter.visualize_markers(\n",
    "    markers=[\n",
    "        \"IL5\",\n",
    "        \"IL13\",\n",
    "        \"IL9\",\n",
    "        \"IL21\",\n",
    "        \"IL22\",\n",
    "        \"IL2\",\n",
    "    ],\n",
    "    dtype=\"rna\",\n",
    "    ncols=3,\n",
    "    use_default_plot=True,\n",
    "    # marker_plot=False\n",
    "    # dotplot=False,\n",
    ")"
   ]
  },
  {
   "cell_type": "code",
   "execution_count": null,
   "metadata": {},
   "outputs": [],
   "source": [
    "for cell_type in marker_db.keys():\n",
    "    fig = marker_plotter.visualize_markers(\n",
    "        cell_type=cell_type,\n",
    "        dtype=\"rna\",\n",
    "        ncols=3,\n",
    "        use_default_plot=True,\n",
    "        # marker_plot=False\n",
    "        # dotplot=False,\n",
    "    )"
   ]
  },
  {
   "cell_type": "markdown",
   "metadata": {},
   "source": [
    "## Protein markers"
   ]
  },
  {
   "cell_type": "code",
   "execution_count": null,
   "metadata": {},
   "outputs": [],
   "source": [
    "mod_cite.obs[cluster_key] = mod_rna.obs[cluster_key]\n",
    "mod_cite.obsm[\"X_umap\"] = mod_rna.obsm[\"X_umap\"]"
   ]
  },
  {
   "cell_type": "code",
   "execution_count": null,
   "metadata": {},
   "outputs": [],
   "source": [
    "for cell_type in marker_db.keys():\n",
    "    fig = marker_plotter.visualize_markers(\n",
    "        cell_type=cell_type,\n",
    "        dtype=\"protein\",\n",
    "        ncols=3,\n",
    "        use_default_plot=True,\n",
    "        # marker_plot=False\n",
    "        # dotplot=False,\n",
    "    )"
   ]
  }
 ],
 "metadata": {
  "kernelspec": {
   "display_name": "scvi-env",
   "language": "python",
   "name": "python3"
  },
  "language_info": {
   "codemirror_mode": {
    "name": "ipython",
    "version": 3
   },
   "file_extension": ".py",
   "mimetype": "text/x-python",
   "name": "python",
   "nbconvert_exporter": "python",
   "pygments_lexer": "ipython3",
   "version": "3.9.15"
  }
 },
 "nbformat": 4,
 "nbformat_minor": 2
}
