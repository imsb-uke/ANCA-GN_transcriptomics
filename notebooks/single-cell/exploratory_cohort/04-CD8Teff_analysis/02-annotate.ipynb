{
 "cells": [
  {
   "cell_type": "code",
   "execution_count": null,
   "metadata": {},
   "outputs": [],
   "source": [
    "%load_ext autoreload\n",
    "%autoreload 2\n",
    "\n",
    "import sys\n",
    "import os\n",
    "os.chdir(\"../../../../\")\n",
    "\n",
    "import yaml\n",
    "import anndata as ad\n",
    "import matplotlib.pyplot as plt\n",
    "import mudata as md\n",
    "import numpy as np\n",
    "import scanpy as sc\n",
    "\n",
    "from utils.utils import *\n",
    "from utils.plotting import *\n",
    "\n",
    "sc.settings.verbosity = 0\n",
    "sc.settings.set_figure_params(\n",
    "    dpi=100,\n",
    "    facecolor=\"white\",\n",
    "    # color_map=\"YlGnBu\",\n",
    "    frameon=False,\n",
    ")\n",
    "import matplotlib as mpl\n",
    "\n",
    "sc.set_figure_params(dpi=100)\n",
    "sns.set(style=\"white\")"
   ]
  },
  {
   "cell_type": "code",
   "execution_count": null,
   "metadata": {},
   "outputs": [],
   "source": [
    "mudata = md.read_h5mu(\"data/anca/exploratory/ANCA_27PK27PB_cd8emrm_totalvi.h5mu\")\n",
    "mod_rna = mudata.mod[\"rna\"]\n",
    "mod_cite = mudata.mod[\"cite\"]\n",
    "mudata"
   ]
  },
  {
   "cell_type": "code",
   "execution_count": null,
   "metadata": {},
   "outputs": [],
   "source": [
    "cluster_key = \"leiden_1.0\"\n",
    "get_cluster_names(mod_rna, cluster_key)"
   ]
  },
  {
   "cell_type": "code",
   "execution_count": null,
   "metadata": {},
   "outputs": [],
   "source": [
    "plot_qc(mod_rna, cluster_key)"
   ]
  },
  {
   "cell_type": "code",
   "execution_count": null,
   "metadata": {},
   "outputs": [],
   "source": [
    "sc.pl.umap(mod_rna, color=[cluster_key, \"cell_type\"], legend_loc=\"on data\", wspace=0.6)"
   ]
  },
  {
   "cell_type": "code",
   "execution_count": null,
   "metadata": {},
   "outputs": [],
   "source": [
    "annotations = {\n",
    "    \"0\": \"Tc17-like\",\n",
    "    \"1\": \"Tc1\",\n",
    "    \"2\": \"NKT/CTL\",\n",
    "    \"3\": \"NKT/CTL\",\n",
    "    \"4\": \"Tc1-like\",\n",
    "    \"5\": \"Tc1-like\",  # \"CD8+ EM/CM\",\n",
    "    \"6\": \"Tc1\",\n",
    "    \"7\": \"Tc1\",\n",
    "    \"8\": \"Tc1-like\",  # \"CD8+ EM/CM\",\n",
    "    \"9\": \"Tc1-like\",\n",
    "    \"10\": \"Th1-like\",\n",
    "    \"11\": \"Tc1-like\",  # \"CD8+ EM/CM\",\n",
    "}\n",
    "\n",
    "mod_rna.obs[\"cell_type_fine\"] = mod_rna.obs[cluster_key].replace(annotations)\n",
    "sc.pl.umap(mod_rna, color=\"cell_type_fine\")"
   ]
  },
  {
   "cell_type": "code",
   "execution_count": null,
   "metadata": {},
   "outputs": [],
   "source": [
    "annotations = {\n",
    "    \"0\": \"Tc17-like\",\n",
    "    \"1\": \"Tc1\",\n",
    "    \"2\": \"NKT/CTL\",\n",
    "    \"3\": \"NKT/CTL\",\n",
    "    \"4\": \"Tc1\",\n",
    "    \"5\": \"Tc1\",  # \"CD8+ EM/CM\",\n",
    "    \"6\": \"Tc1\",\n",
    "    \"7\": \"Tc1\",\n",
    "    \"8\": \"Tc1\",  # \"CD8+ EM/CM\",\n",
    "    \"9\": \"Tc1\",\n",
    "    \"10\": \"Th1-like\",\n",
    "    \"11\": \"Tc1\",  # \"CD8+ EM/CM\",\n",
    "}\n",
    "\n",
    "mod_rna.obs[\"cell_type_fine_v1\"] = mod_rna.obs[cluster_key].replace(annotations)\n",
    "sc.pl.umap(mod_rna, color=\"cell_type_fine_v1\")"
   ]
  },
  {
   "cell_type": "code",
   "execution_count": null,
   "metadata": {},
   "outputs": [],
   "source": [
    "mudata = md.MuData(\n",
    "    {\n",
    "        \"rna\": mod_rna,\n",
    "        \"cite\": mod_cite,\n",
    "    }\n",
    ")\n",
    "mudata.write_h5mu(\"data/anca/exploratory/ANCA_27PK27PB_cd8emrm_annotated.h5mu\")"
   ]
  }
 ],
 "metadata": {
  "kernelspec": {
   "display_name": "scvi-env",
   "language": "python",
   "name": "python3"
  },
  "language_info": {
   "codemirror_mode": {
    "name": "ipython",
    "version": 3
   },
   "file_extension": ".py",
   "mimetype": "text/x-python",
   "name": "python",
   "nbconvert_exporter": "python",
   "pygments_lexer": "ipython3",
   "version": "3.9.15"
  }
 },
 "nbformat": 4,
 "nbformat_minor": 2
}
