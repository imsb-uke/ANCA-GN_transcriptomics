{
 "cells": [
  {
   "cell_type": "code",
   "execution_count": null,
   "metadata": {},
   "outputs": [],
   "source": [
    "%load_ext autoreload\n",
    "%autoreload 2\n",
    "\n",
    "import sys\n",
    "import os\n",
    "os.chdir(\"../../../../\")\n",
    "\n",
    "import yaml\n",
    "import anndata as ad\n",
    "import matplotlib.pyplot as plt\n",
    "import mudata as md\n",
    "import muon as mu\n",
    "import numpy as np\n",
    "import scanpy as sc\n",
    "import scanpy.external as sce\n",
    "from scipy import sparse\n",
    "from matplotlib.colors import LinearSegmentedColormap\n",
    "\n",
    "from utils.utils import *\n",
    "from utils.plotting import *\n",
    "\n",
    "sc.settings.verbosity = 0\n",
    "sc.settings.set_figure_params(\n",
    "    dpi=100,\n",
    "    facecolor=\"white\",\n",
    "    # color_map=\"YlGnBu\",\n",
    "    frameon=False,\n",
    ")\n",
    "import matplotlib as mpl\n",
    "\n",
    "sc.set_figure_params(dpi=100)\n",
    "sns.set(style=\"white\")"
   ]
  },
  {
   "cell_type": "code",
   "execution_count": null,
   "metadata": {},
   "outputs": [],
   "source": [
    "mudata = md.read_h5mu(\"data/anca/exploratory/ANCA_27PK27PB_cd4emrm_totalvi.h5mu\")\n",
    "mod_rna = mudata.mod[\"rna\"]\n",
    "mod_cite = mudata.mod[\"cite\"]\n",
    "mudata"
   ]
  },
  {
   "cell_type": "code",
   "execution_count": null,
   "metadata": {},
   "outputs": [],
   "source": [
    "cluster_key = \"leiden_0.8\"\n",
    "get_cluster_names(mod_rna, cluster_key)"
   ]
  },
  {
   "cell_type": "code",
   "execution_count": null,
   "metadata": {},
   "outputs": [],
   "source": [
    "sc.pl.umap(mod_rna, color=[cluster_key, \"cell_type\"], legend_loc=\"on data\", wspace=0.6)"
   ]
  },
  {
   "cell_type": "code",
   "execution_count": null,
   "metadata": {},
   "outputs": [],
   "source": [
    "plot_qc(mod_rna, \"leiden_0.8\")"
   ]
  },
  {
   "cell_type": "code",
   "execution_count": null,
   "metadata": {},
   "outputs": [],
   "source": [
    "annotations = {\n",
    "    \"0\": \"Th17\",\n",
    "    \"1\": \"Th1\",\n",
    "    \"2\": \"Tfh\",\n",
    "    \"3\": \"Th1-like\",\n",
    "    \"4\": \"Tc1-like\",\n",
    "    \"5\": \"Th17\",\n",
    "    \"6\": \"Tfh\",\n",
    "    \"7\": \"Th1-like\",\n",
    "    \"8\": \"Th1\",\n",
    "    \"9\": \"Th1\",\n",
    "    \"10\": \"Th1-like\",\n",
    "    \"11\": \"Th1-like\",\n",
    "}"
   ]
  },
  {
   "cell_type": "code",
   "execution_count": null,
   "metadata": {},
   "outputs": [],
   "source": [
    "mod_rna.obs[\"cell_type_fine\"] = mod_rna.obs[cluster_key].replace(annotations)\n",
    "sc.pl.umap(mod_rna, color=\"cell_type_fine\")"
   ]
  },
  {
   "cell_type": "code",
   "execution_count": null,
   "metadata": {},
   "outputs": [],
   "source": [
    "mudata = md.MuData(\n",
    "    {\n",
    "        \"rna\": mod_rna,\n",
    "        \"cite\": mod_cite,\n",
    "    }\n",
    ")\n",
    "mudata.write_h5mu(\"data/anca/exploratory/ANCA_27PK27PB_cd4emrm_annotated.h5mu\")"
   ]
  },
  {
   "cell_type": "code",
   "execution_count": null,
   "metadata": {},
   "outputs": [],
   "source": [
    "cmap_cd4 = {\n",
    "    \"Th17\": \"#7B1717\",\n",
    "    \"Th1\": \"#A91F1F\",\n",
    "    \"Tfh\": \"#E0B093\",\n",
    "    \"Th1-like\": \"#D62728\",\n",
    "    \"Tc1-like\": \"#D2D2D2\",\n",
    "}\n",
    "\n",
    "labels_cd4 = [\n",
    "    \"Th17\",\n",
    "    \"Th1\",\n",
    "    \"Th1-like\",\n",
    "    \"Tfh\",\n",
    "    \"Tc1-like\",\n",
    "]\n",
    "plot_single_stacked_bar(\n",
    "    mod_rna,\n",
    "    labels=labels_cd4,\n",
    "    color_map=cmap_cd4,\n",
    "    celltype_col=\"cell_type_fine\",\n",
    "    save_path=None,\n",
    "    ylabel=\"CD4+ Teff subset proportions\",\n",
    ")"
   ]
  },
  {
   "cell_type": "code",
   "execution_count": null,
   "metadata": {},
   "outputs": [],
   "source": [
    "all_marker_results, filtered_marker_results, best_markers = run_de_pipeline(\n",
    "    mod_rna,\n",
    "    \"cell_type_fine\",\n",
    "    mod=\"rna\",\n",
    "    top_n=5,\n",
    "    min_expression=0.05,\n",
    ")"
   ]
  },
  {
   "cell_type": "markdown",
   "metadata": {},
   "source": [
    "## Protein markers"
   ]
  },
  {
   "cell_type": "code",
   "execution_count": null,
   "metadata": {},
   "outputs": [],
   "source": [
    "mod_cite.obs[\"cell_type_fine\"] = mod_rna.obs[\"cell_type_fine\"]\n",
    "mod_cite.obsm[\"X_umap\"] = mod_rna.obsm[\"X_umap\"]\n",
    "protein_clr(mod_cite)"
   ]
  },
  {
   "cell_type": "code",
   "execution_count": null,
   "metadata": {},
   "outputs": [],
   "source": [
    "all_marker_results, filtered_marker_results, best_markers = run_de_pipeline(\n",
    "    mod_cite,\n",
    "    \"cell_type_fine\",\n",
    "    mod=\"protein\",\n",
    "    top_n=5,\n",
    "    min_expression=0.1,\n",
    ")"
   ]
  }
 ],
 "metadata": {
  "kernelspec": {
   "display_name": "scvi-env",
   "language": "python",
   "name": "python3"
  },
  "language_info": {
   "codemirror_mode": {
    "name": "ipython",
    "version": 3
   },
   "file_extension": ".py",
   "mimetype": "text/x-python",
   "name": "python",
   "nbconvert_exporter": "python",
   "pygments_lexer": "ipython3",
   "version": "3.9.15"
  }
 },
 "nbformat": 4,
 "nbformat_minor": 2
}
