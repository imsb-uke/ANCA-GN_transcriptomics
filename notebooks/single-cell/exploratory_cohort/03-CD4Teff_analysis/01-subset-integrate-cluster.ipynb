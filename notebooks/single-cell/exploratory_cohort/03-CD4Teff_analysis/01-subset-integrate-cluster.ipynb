{
 "cells": [
  {
   "cell_type": "code",
   "execution_count": null,
   "metadata": {},
   "outputs": [],
   "source": [
    "data_dir = \"/data/projects/dschaub/ANCA-GN_transcriptomics/data/single-cell/exploratory\"\n",
    "working_dir = \"/data/projects/dschaub/ANCA-GN_transcriptomics\""
   ]
  },
  {
   "cell_type": "code",
   "execution_count": null,
   "metadata": {},
   "outputs": [],
   "source": [
    "%load_ext autoreload\n",
    "%autoreload 2\n",
    "\n",
    "import sys\n",
    "import os\n",
    "os.chdir(working_dir)\n",
    "\n",
    "import yaml\n",
    "import anndata as ad\n",
    "import matplotlib.pyplot as plt\n",
    "import mudata as md\n",
    "import muon as mu\n",
    "import numpy as np\n",
    "import scanpy as sc\n",
    "import scanpy.external as sce\n",
    "from scipy import sparse\n",
    "import matplotlib as mpl\n",
    "from matplotlib.colors import LinearSegmentedColormap\n",
    "\n",
    "from utils.utils import *\n",
    "from utils.plotting import *\n",
    "\n",
    "sc.settings.verbosity = 0\n",
    "sc.set_figure_params(dpi=80)\n",
    "sns.set(style=\"white\")"
   ]
  },
  {
   "cell_type": "markdown",
   "metadata": {},
   "source": [
    "## Load data"
   ]
  },
  {
   "cell_type": "code",
   "execution_count": null,
   "metadata": {},
   "outputs": [],
   "source": [
    "path = os.path.join(\n",
    "    data_dir, \"ANCA_exploratory_27PK27PB_Tcells_HarmonyR_annotated.h5mu\"\n",
    ")\n",
    "mudata = md.read_h5mu(path)\n",
    "mod_rna = mudata.mod[\"rna\"]\n",
    "mod_cite = mudata.mod[\"cite\"]\n",
    "mudata"
   ]
  },
  {
   "cell_type": "code",
   "execution_count": null,
   "metadata": {},
   "outputs": [],
   "source": [
    "len(mod_rna.obs[\"patient\"].unique())"
   ]
  },
  {
   "cell_type": "markdown",
   "metadata": {},
   "source": [
    "### Subset CD4EMRM"
   ]
  },
  {
   "cell_type": "code",
   "execution_count": null,
   "metadata": {},
   "outputs": [],
   "source": [
    "celltype_key = \"cell_type\""
   ]
  },
  {
   "cell_type": "code",
   "execution_count": null,
   "metadata": {},
   "outputs": [],
   "source": [
    "mudata.mod[\"rna\"].obs[celltype_key].unique()"
   ]
  },
  {
   "cell_type": "code",
   "execution_count": null,
   "metadata": {},
   "outputs": [],
   "source": [
    "mudata = mudata[mudata.mod[\"rna\"].obs[celltype_key] == \"CD4+ EM/RM\"].copy()\n",
    "mudata"
   ]
  },
  {
   "cell_type": "code",
   "execution_count": null,
   "metadata": {},
   "outputs": [],
   "source": [
    "mod_rna = mudata.mod[\"rna\"]\n",
    "mod_cite = mudata.mod[\"cite\"]"
   ]
  },
  {
   "cell_type": "markdown",
   "metadata": {},
   "source": [
    "## Filter data"
   ]
  },
  {
   "cell_type": "code",
   "execution_count": null,
   "metadata": {},
   "outputs": [],
   "source": [
    "print(mod_rna.shape)\n",
    "sc.pp.filter_genes(mod_rna, min_cells=10)\n",
    "print(mod_rna.shape)"
   ]
  },
  {
   "cell_type": "markdown",
   "metadata": {},
   "source": [
    "### Quality control"
   ]
  },
  {
   "cell_type": "code",
   "execution_count": null,
   "metadata": {},
   "outputs": [],
   "source": [
    "plot_qc(mod_rna, celltype_key)"
   ]
  },
  {
   "cell_type": "code",
   "execution_count": null,
   "metadata": {},
   "outputs": [],
   "source": [
    "# number of unique patients\n",
    "len(mod_rna.obs[\"patient\"].unique())"
   ]
  },
  {
   "cell_type": "markdown",
   "metadata": {},
   "source": [
    "## Integrate data"
   ]
  },
  {
   "cell_type": "code",
   "execution_count": null,
   "metadata": {},
   "outputs": [],
   "source": [
    "log_normalize(mod_rna)\n",
    "protein_clr(mod_cite)"
   ]
  },
  {
   "cell_type": "code",
   "execution_count": null,
   "metadata": {},
   "outputs": [],
   "source": [
    "model, rna_subset = integrate_with_totalvi(\n",
    "    mod_rna,\n",
    "    mod_cite,\n",
    "    batch_key=\"patient\",\n",
    "    n_top_genes=4000,\n",
    "    # continuous_covariate_keys=[\"pct_counts_mt\", \"total_counts\"],\n",
    "    # continuous_covariate_keys=[\"total_counts\"],\n",
    "    # continuous_covariate_batch_keys=[\"pct_counts_mt\"],\n",
    "    empirical_protein_background_prior=True,\n",
    ")"
   ]
  },
  {
   "cell_type": "code",
   "execution_count": null,
   "metadata": {},
   "outputs": [],
   "source": [
    "plt.plot(model.history[\"elbo_train\"], label=\"train\")\n",
    "plt.plot(model.history[\"elbo_validation\"], label=\"val\")\n",
    "plt.title(\"Negative ELBO over training epochs\")\n",
    "# plt.ylim(500, 1500)\n",
    "plt.legend()"
   ]
  },
  {
   "cell_type": "code",
   "execution_count": null,
   "metadata": {},
   "outputs": [],
   "source": [
    "rep_name = \"X_totalvi\"\n",
    "mod_rna.obsm[rep_name] = model.get_latent_representation()\n",
    "sc.pp.neighbors(mod_rna, use_rep=rep_name)\n",
    "sc.tl.umap(mod_rna)"
   ]
  },
  {
   "cell_type": "code",
   "execution_count": null,
   "metadata": {},
   "outputs": [],
   "source": [
    "sc.pl.umap(\n",
    "    mod_rna,\n",
    "    color=[\"sample\", \"patient\", \"tissue\"],\n",
    "    # return_fig=True,\n",
    "    # legend_loc=\"on data\",\n",
    "    # save=\"_leiden.png\",\n",
    "    wspace=0.8,\n",
    ")"
   ]
  },
  {
   "cell_type": "code",
   "execution_count": null,
   "metadata": {},
   "outputs": [],
   "source": [
    "resolutions = np.linspace(0.1, 2.0, 20)\n",
    "for res in resolutions:\n",
    "    res = np.round(res, 1)\n",
    "    print(f\"Running Leiden clustering with resolution {res}\")\n",
    "    sc.tl.leiden(mod_rna, key_added=f\"leiden_{res}\", resolution=res)"
   ]
  },
  {
   "cell_type": "code",
   "execution_count": null,
   "metadata": {},
   "outputs": [],
   "source": [
    "plot_leiden_results(mod_rna, rep_name=\"\")"
   ]
  },
  {
   "cell_type": "markdown",
   "metadata": {},
   "source": [
    "## Save data"
   ]
  },
  {
   "cell_type": "code",
   "execution_count": null,
   "metadata": {},
   "outputs": [],
   "source": [
    "save_path = os.path.join(data_dir, \"ANCA_exploratory_27PK27PB_CD4Teff_TotalVI.h5mu\")\n",
    "mudata = md.MuData(\n",
    "    {\n",
    "        \"rna\": mod_rna.copy(),\n",
    "        \"cite\": mod_cite.copy(),\n",
    "    }\n",
    ")\n",
    "mudata.write_h5mu(save_path)"
   ]
  }
 ],
 "metadata": {
  "kernelspec": {
   "display_name": "scvi-env",
   "language": "python",
   "name": "python3"
  },
  "language_info": {
   "codemirror_mode": {
    "name": "ipython",
    "version": 3
   },
   "file_extension": ".py",
   "mimetype": "text/x-python",
   "name": "python",
   "nbconvert_exporter": "python",
   "pygments_lexer": "ipython3",
   "version": "3.9.15"
  },
  "orig_nbformat": 4
 },
 "nbformat": 4,
 "nbformat_minor": 2
}
