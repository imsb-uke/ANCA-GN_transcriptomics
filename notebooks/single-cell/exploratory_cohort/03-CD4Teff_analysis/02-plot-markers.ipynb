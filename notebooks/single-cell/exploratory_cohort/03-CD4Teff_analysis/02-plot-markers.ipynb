{
 "cells": [
  {
   "cell_type": "code",
   "execution_count": null,
   "metadata": {},
   "outputs": [],
   "source": [
    "data_dir = \"/data/projects/dschaub/ANCA-GN_transcriptomics/data/single-cell/exploratory\"\n",
    "working_dir = \"/data/projects/dschaub/ANCA-GN_transcriptomics\""
   ]
  },
  {
   "cell_type": "code",
   "execution_count": null,
   "metadata": {},
   "outputs": [],
   "source": [
    "%load_ext autoreload\n",
    "%autoreload 2\n",
    "\n",
    "import sys\n",
    "import os\n",
    "os.chdir(working_dir)\n",
    "\n",
    "import yaml\n",
    "import anndata as ad\n",
    "import matplotlib.pyplot as plt\n",
    "import mudata as md\n",
    "import muon as mu\n",
    "import numpy as np\n",
    "import scanpy as sc\n",
    "import pandas as pd\n",
    "import scanpy.external as sce\n",
    "from scipy import sparse\n",
    "import seaborn as sns\n",
    "import matplotlib as mpl\n",
    "from matplotlib.colors import LinearSegmentedColormap\n",
    "\n",
    "from utils.utils import *\n",
    "from utils.plotting import *\n",
    "\n",
    "sc.settings.verbosity = 0\n",
    "sc.set_figure_params(dpi=80)\n",
    "sns.set(style=\"white\")"
   ]
  },
  {
   "cell_type": "markdown",
   "metadata": {},
   "source": [
    "## Load data"
   ]
  },
  {
   "cell_type": "code",
   "execution_count": null,
   "metadata": {},
   "outputs": [],
   "source": [
    "path = os.path.join(data_dir, \"ANCA_exploratory_27PK27PB_CD4Teff_TotalVI.h5mu\")\n",
    "mudata = md.read_h5mu(path)\n",
    "mod_rna = mudata.mod[\"rna\"]\n",
    "mod_cite = mudata.mod[\"cite\"]\n",
    "mudata"
   ]
  },
  {
   "cell_type": "markdown",
   "metadata": {},
   "source": [
    "## RNA markers"
   ]
  },
  {
   "cell_type": "code",
   "execution_count": null,
   "metadata": {},
   "outputs": [],
   "source": [
    "cluster_key = \"leiden_0.8\""
   ]
  },
  {
   "cell_type": "code",
   "execution_count": null,
   "metadata": {},
   "outputs": [],
   "source": [
    "all_marker_results, filtered_marker_results, best_markers = run_de_pipeline(\n",
    "    mod_rna,\n",
    "    cluster_key,\n",
    "    mod=\"rna\",\n",
    "    top_n=5,\n",
    "    min_expression=0.2,\n",
    ")"
   ]
  },
  {
   "cell_type": "code",
   "execution_count": null,
   "metadata": {},
   "outputs": [],
   "source": [
    "path = os.path.join(data_dir, \"..\", \"T_cell_markers.xlsx\")\n",
    "marker_df = pd.read_excel(path)\n",
    "marker_df = marker_df.set_index(\"Cell type\")\n",
    "\n",
    "# extract positive markers\n",
    "marker_db = {}\n",
    "for index, row in marker_df.iterrows():\n",
    "    pos_markers_1 = (\n",
    "        row[\"positive markers 1\"].replace(\" \", \"\").split(\",\")\n",
    "        if row[\"positive markers 1\"] is not np.nan\n",
    "        else []\n",
    "    )\n",
    "    pos_markers_2 = (\n",
    "        row[\"positive markers 2\"].replace(\" \", \"\").split(\",\")\n",
    "        if row[\"positive markers 2\"] is not np.nan\n",
    "        else []\n",
    "    )\n",
    "    marker_db[index] = list(set(pos_markers_1 + pos_markers_2))\n",
    "\n",
    "marker_plotter = MarkerPlotter(mod_rna, mod_cite, marker_db, cluster_key=cluster_key)"
   ]
  },
  {
   "cell_type": "code",
   "execution_count": null,
   "metadata": {},
   "outputs": [],
   "source": [
    "fig = marker_plotter.visualize_markers(\n",
    "    markers=[\n",
    "        \"CD8A\",\n",
    "        \"CD4\",\n",
    "        \"CD3E\",\n",
    "    ],\n",
    "    dtype=\"rna\",\n",
    "    ncols=3,\n",
    "    use_default_plot=True,\n",
    "    # marker_plot=False\n",
    "    # dotplot=False,\n",
    ")"
   ]
  },
  {
   "cell_type": "code",
   "execution_count": null,
   "metadata": {},
   "outputs": [],
   "source": [
    "for cell_type in marker_db.keys():\n",
    "    fig = marker_plotter.visualize_markers(\n",
    "        cell_type=cell_type,\n",
    "        dtype=\"rna\",\n",
    "        ncols=3,\n",
    "        use_default_plot=True,\n",
    "        # marker_plot=False\n",
    "        # dotplot=False,\n",
    "    )"
   ]
  },
  {
   "cell_type": "markdown",
   "metadata": {},
   "source": [
    "## Protein markers"
   ]
  },
  {
   "cell_type": "code",
   "execution_count": null,
   "metadata": {},
   "outputs": [],
   "source": [
    "mod_cite.obs[cluster_key] = mod_rna.obs[cluster_key]\n",
    "mod_cite.obsm[\"X_umap\"] = mod_rna.obsm[\"X_umap\"]"
   ]
  },
  {
   "cell_type": "code",
   "execution_count": null,
   "metadata": {},
   "outputs": [],
   "source": [
    "for cell_type in marker_db.keys():\n",
    "    fig = marker_plotter.visualize_markers(\n",
    "        cell_type=cell_type,\n",
    "        dtype=\"protein\",\n",
    "        ncols=3,\n",
    "        use_default_plot=True,\n",
    "        # marker_plot=False\n",
    "        # dotplot=False,\n",
    "    )"
   ]
  }
 ],
 "metadata": {
  "kernelspec": {
   "display_name": "scvi-env",
   "language": "python",
   "name": "python3"
  },
  "language_info": {
   "codemirror_mode": {
    "name": "ipython",
    "version": 3
   },
   "file_extension": ".py",
   "mimetype": "text/x-python",
   "name": "python",
   "nbconvert_exporter": "python",
   "pygments_lexer": "ipython3",
   "version": "3.9.15"
  }
 },
 "nbformat": 4,
 "nbformat_minor": 2
}
