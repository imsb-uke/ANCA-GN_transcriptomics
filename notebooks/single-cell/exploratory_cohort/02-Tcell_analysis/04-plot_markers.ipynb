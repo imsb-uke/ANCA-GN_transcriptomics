{
 "cells": [
  {
   "cell_type": "code",
   "execution_count": null,
   "metadata": {},
   "outputs": [],
   "source": [
    "%load_ext autoreload\n",
    "%autoreload 2\n",
    "\n",
    "import sys\n",
    "import os\n",
    "\n",
    "os.chdir(\"../../../../\")\n",
    "\n",
    "import yaml\n",
    "import anndata as ad\n",
    "import matplotlib.pyplot as plt\n",
    "import seaborn as sns\n",
    "import mudata as md\n",
    "import muon as mu\n",
    "import numpy as np\n",
    "import scanpy as sc\n",
    "from matplotlib import gridspec\n",
    "import scanpy.external as sce\n",
    "from scipy import sparse\n",
    "from matplotlib.colors import LinearSegmentedColormap\n",
    "\n",
    "from utils.utils import *\n",
    "from utils.plotting import *\n",
    "\n",
    "sc.settings.verbosity = 0\n",
    "sc.settings.set_figure_params(\n",
    "    dpi=100,\n",
    "    facecolor=\"white\",\n",
    "    # color_map=\"YlGnBu\",\n",
    "    frameon=False,\n",
    ")\n",
    "import matplotlib as mpl\n",
    "\n",
    "sc.set_figure_params(dpi=100)\n",
    "sns.set(style=\"white\")"
   ]
  },
  {
   "cell_type": "code",
   "execution_count": null,
   "metadata": {},
   "outputs": [],
   "source": [
    "path = \"data/anca/exploratory/ANCA_27PK27PB_T_harmony_r.h5mu\"\n",
    "mudata = md.read_h5mu(path)\n",
    "\n",
    "mod_rna = mudata.mod[\"rna\"]\n",
    "mod_cite = mudata.mod[\"cite\"]"
   ]
  },
  {
   "cell_type": "code",
   "execution_count": null,
   "metadata": {},
   "outputs": [],
   "source": [
    "sc.pl.umap(mod_rna, color=\"cell_type_yu\")"
   ]
  },
  {
   "cell_type": "code",
   "execution_count": null,
   "metadata": {},
   "outputs": [],
   "source": [
    "sc.pl.umap(\n",
    "    mod_rna,\n",
    "    color=[\"sample\", \"tissue\", \"patient\"],\n",
    "    # return_fig=True,\n",
    "    # legend_loc=\"on data\",\n",
    "    # save=\"_leiden.png\",\n",
    "    wspace=0.8,\n",
    ")"
   ]
  },
  {
   "cell_type": "code",
   "execution_count": null,
   "metadata": {},
   "outputs": [],
   "source": [
    "plot_leiden_results(mod_rna, rep_name=\"\")"
   ]
  },
  {
   "cell_type": "code",
   "execution_count": null,
   "metadata": {},
   "outputs": [],
   "source": [
    "run_celltypist(mod_rna)\n",
    "sc.pl.umap(\n",
    "    mod_rna, color=[\"celltypist_cell_label_coarse\", \"celltypist_cell_label_fine\"]\n",
    ")"
   ]
  },
  {
   "cell_type": "code",
   "execution_count": null,
   "metadata": {},
   "outputs": [],
   "source": [
    "cluster_key = \"leiden_1.7\""
   ]
  },
  {
   "cell_type": "code",
   "execution_count": null,
   "metadata": {},
   "outputs": [],
   "source": [
    "all_marker_results, filtered_marker_results, best_markers = run_de_pipeline(\n",
    "    mod_rna,\n",
    "    cluster_key,\n",
    "    mod=\"rna\",\n",
    "    top_n=5,\n",
    "    min_expression=0.1,\n",
    ")"
   ]
  },
  {
   "cell_type": "code",
   "execution_count": null,
   "metadata": {},
   "outputs": [],
   "source": [
    "top_markers = get_top_n_markers(best_markers, n=5)\n",
    "# top_markers = {k: top_markers[k] for k in cell_type_order}\n",
    "sc.pl.dotplot(\n",
    "    mod_rna,\n",
    "    var_names=top_markers,\n",
    "    groupby=cluster_key,\n",
    "    standard_scale=\"var\",\n",
    "    # color_map=\"Reds\",\n",
    "    # swap_axes=True,\n",
    "    var_group_rotation=25,\n",
    ")"
   ]
  },
  {
   "cell_type": "code",
   "execution_count": null,
   "metadata": {},
   "outputs": [],
   "source": [
    "marker_df = pd.read_excel(\"data/markers/T cell markers.xlsx\")\n",
    "marker_df = marker_df.set_index(\"Cell type\")\n",
    "\n",
    "# extract positive markers\n",
    "marker_db = {}\n",
    "for index, row in marker_df.iterrows():\n",
    "    pos_markers_1 = (\n",
    "        row[\"positive markers 1\"].replace(\" \", \"\").split(\",\")\n",
    "        if row[\"positive markers 1\"] is not np.nan\n",
    "        else []\n",
    "    )\n",
    "    pos_markers_2 = (\n",
    "        row[\"positive markers 2\"].replace(\" \", \"\").split(\",\")\n",
    "        if row[\"positive markers 2\"] is not np.nan\n",
    "        else []\n",
    "    )\n",
    "    marker_db[index] = list(set(pos_markers_1 + pos_markers_2))\n",
    "\n",
    "marker_plotter = MarkerPlotter(mod_rna, mod_cite, marker_db, cluster_key=cluster_key)"
   ]
  },
  {
   "cell_type": "code",
   "execution_count": null,
   "metadata": {},
   "outputs": [],
   "source": [
    "fig = marker_plotter.visualize_markers(\n",
    "    markers=[\"LYZ\", \"CD14\", \"APOBEC3A\", \"CFP\", \"S100A9\", \"S100A8\", \"CD16\", \"PTPRC\"],\n",
    "    dtype=\"rna\",\n",
    "    ncols=3,\n",
    "    use_default_plot=True,\n",
    "    # marker_plot=False\n",
    "    # dotplot=False,\n",
    ")"
   ]
  },
  {
   "cell_type": "code",
   "execution_count": null,
   "metadata": {},
   "outputs": [],
   "source": [
    "fig = marker_plotter.visualize_markers(\n",
    "    markers=[\n",
    "        \"CD8A\",\n",
    "        \"CD4\",\n",
    "        \"CD3E\",\n",
    "    ],\n",
    "    dtype=\"rna\",\n",
    "    ncols=3,\n",
    "    use_default_plot=True,\n",
    "    # marker_plot=False\n",
    "    # dotplot=False,\n",
    ")"
   ]
  },
  {
   "cell_type": "markdown",
   "metadata": {},
   "source": [
    "## RNA markers"
   ]
  },
  {
   "cell_type": "code",
   "execution_count": null,
   "metadata": {},
   "outputs": [],
   "source": [
    "for cell_type in marker_db.keys():\n",
    "    fig = marker_plotter.visualize_markers(\n",
    "        cell_type=cell_type,\n",
    "        dtype=\"rna\",\n",
    "        ncols=3,\n",
    "        use_default_plot=True,\n",
    "        # marker_plot=False\n",
    "        # dotplot=False,\n",
    "    )"
   ]
  },
  {
   "cell_type": "code",
   "execution_count": null,
   "metadata": {},
   "outputs": [],
   "source": [
    "fig = marker_plotter.visualize_markers(\n",
    "    markers=[\"TRGV2\", \"TRGV4\", \"TRGV9\", \"TRDV2\", \"TRDV1\", \"TRDC\"],\n",
    "    dtype=\"rna\",\n",
    "    ncols=3,\n",
    "    use_default_plot=True,\n",
    "    # marker_plot=False\n",
    "    # dotplot=False,\n",
    ")"
   ]
  },
  {
   "cell_type": "markdown",
   "metadata": {},
   "source": [
    "## Protein markers"
   ]
  },
  {
   "cell_type": "code",
   "execution_count": null,
   "metadata": {},
   "outputs": [],
   "source": [
    "mod_cite.obsm[\"X_umap\"] = mod_rna.obsm[\"X_umap\"].copy()\n",
    "mod_cite.obs[cluster_key] = mod_rna.obs[cluster_key].copy()"
   ]
  },
  {
   "cell_type": "code",
   "execution_count": null,
   "metadata": {},
   "outputs": [],
   "source": [
    "fig = marker_plotter.visualize_markers(\n",
    "    markers=[\"LYZ\", \"CD14\", \"APOBEC3A\", \"CFP\", \"S100A9\", \"S100A8\", \"CD16\", \"CD45\"],\n",
    "    dtype=\"protein\",\n",
    "    ncols=3,\n",
    "    use_default_plot=True,\n",
    "    # marker_plot=False\n",
    "    # dotplot=False,\n",
    ")"
   ]
  },
  {
   "cell_type": "code",
   "execution_count": null,
   "metadata": {},
   "outputs": [],
   "source": [
    "for cell_type in marker_db.keys():\n",
    "    fig = marker_plotter.visualize_markers(\n",
    "        cell_type=cell_type,\n",
    "        dtype=\"protein\",\n",
    "        ncols=3,\n",
    "        use_default_plot=True,\n",
    "        # marker_plot=False\n",
    "        dotplot=False,\n",
    "    )"
   ]
  }
 ],
 "metadata": {
  "kernelspec": {
   "display_name": "scvi-env",
   "language": "python",
   "name": "python3"
  },
  "language_info": {
   "codemirror_mode": {
    "name": "ipython",
    "version": 3
   },
   "file_extension": ".py",
   "mimetype": "text/x-python",
   "name": "python",
   "nbconvert_exporter": "python",
   "pygments_lexer": "ipython3",
   "version": "3.9.15"
  }
 },
 "nbformat": 4,
 "nbformat_minor": 2
}
