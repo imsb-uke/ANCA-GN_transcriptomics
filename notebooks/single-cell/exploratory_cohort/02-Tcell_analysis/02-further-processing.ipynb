{
 "cells": [
  {
   "cell_type": "code",
   "execution_count": null,
   "metadata": {},
   "outputs": [],
   "source": [
    "data_dir = \"/data/projects/dschaub/ANCA-GN_transcriptomics/data/single-cell/exploratory\"\n",
    "working_dir = \"/data/projects/dschaub/ANCA-GN_transcriptomics\""
   ]
  },
  {
   "cell_type": "code",
   "execution_count": null,
   "metadata": {},
   "outputs": [],
   "source": [
    "%load_ext autoreload\n",
    "%autoreload 2\n",
    "\n",
    "import sys\n",
    "import os\n",
    "\n",
    "os.chdir(working_dir)\n",
    "\n",
    "import yaml\n",
    "import anndata as ad\n",
    "import matplotlib.pyplot as plt\n",
    "import seaborn as sns\n",
    "import mudata as md\n",
    "import muon as mu\n",
    "import numpy as np\n",
    "import scanpy as sc\n",
    "from matplotlib import gridspec\n",
    "import scanpy.external as sce\n",
    "from scipy import sparse\n",
    "import matplotlib as mpl\n",
    "\n",
    "from utils.utils import *\n",
    "from utils.plotting import *\n",
    "\n",
    "sc.settings.verbosity = 0\n",
    "sc.set_figure_params(dpi=100)\n",
    "sns.set(style=\"white\")"
   ]
  },
  {
   "cell_type": "markdown",
   "metadata": {},
   "source": [
    "## Load data"
   ]
  },
  {
   "cell_type": "code",
   "execution_count": null,
   "metadata": {},
   "outputs": [],
   "source": [
    "path = os.path.join(data_dir, \"ANCA_exploratory_27PK27PB_Tcells.h5mu\")\n",
    "mudata = md.read_h5mu(path)"
   ]
  },
  {
   "cell_type": "markdown",
   "metadata": {},
   "source": [
    "## Preprocessing"
   ]
  },
  {
   "cell_type": "code",
   "execution_count": null,
   "metadata": {},
   "outputs": [],
   "source": [
    "relevant_obs = [\"patient\", \"sample\", \"tissue\", \"cell_type_yu\"]\n",
    "mudata.obs = mudata.obs[relevant_obs].copy()"
   ]
  },
  {
   "cell_type": "markdown",
   "metadata": {},
   "source": [
    "### Preprocess RNA"
   ]
  },
  {
   "cell_type": "code",
   "execution_count": null,
   "metadata": {},
   "outputs": [],
   "source": [
    "mod_rna = mudata.mod[\"RNA\"]\n",
    "mod_rna"
   ]
  },
  {
   "cell_type": "code",
   "execution_count": null,
   "metadata": {},
   "outputs": [],
   "source": [
    "mod_rna = ad.AnnData(\n",
    "    mod_rna.layers[\"counts\"].copy(),\n",
    "    obs=mudata.obs.copy(),\n",
    "    # obsm=anca_data.obsm.copy(),\n",
    "    var=mod_rna.var[[]],\n",
    "    layers={\"counts\": mod_rna.layers[\"counts\"].copy()},\n",
    ")"
   ]
  },
  {
   "cell_type": "code",
   "execution_count": null,
   "metadata": {},
   "outputs": [],
   "source": [
    "sc.pl.highest_expr_genes(\n",
    "    mod_rna,\n",
    "    n_top=20,\n",
    ")"
   ]
  },
  {
   "cell_type": "code",
   "execution_count": null,
   "metadata": {},
   "outputs": [],
   "source": [
    "sc.pp.filter_cells(mod_rna, min_genes=200)\n",
    "sc.pp.filter_genes(mod_rna, min_cells=10)"
   ]
  },
  {
   "cell_type": "code",
   "execution_count": null,
   "metadata": {},
   "outputs": [],
   "source": [
    "plot_qc(mod_rna, cell_type_key=\"cell_type_yu\")"
   ]
  },
  {
   "cell_type": "code",
   "execution_count": null,
   "metadata": {},
   "outputs": [],
   "source": [
    "sns.displot(mod_rna.obs.n_genes_by_counts)\n",
    "plt.show()\n",
    "sns.displot(mod_rna.obs.total_counts)\n",
    "plt.show()\n",
    "sns.displot(mod_rna[mod_rna.obs.total_counts < 1500].obs.total_counts)\n",
    "plt.show()"
   ]
  },
  {
   "cell_type": "code",
   "execution_count": null,
   "metadata": {},
   "outputs": [],
   "source": [
    "# get patient in order of numbers\n",
    "patient_order = mod_rna.obs.groupby(\"patient\").size().sort_values().index\n",
    "patient_order"
   ]
  },
  {
   "cell_type": "code",
   "execution_count": null,
   "metadata": {},
   "outputs": [],
   "source": [
    "fig, ax = plt.subplots(figsize=(15, 5))\n",
    "sns.boxplot(y=mod_rna.obs.total_counts, x=mod_rna.obs[\"patient\"], ax=ax)"
   ]
  },
  {
   "cell_type": "code",
   "execution_count": null,
   "metadata": {},
   "outputs": [],
   "source": [
    "fig, ax = plt.subplots(figsize=(15, 5))\n",
    "sns.boxplot(y=mod_rna.obs.n_genes_by_counts, x=mod_rna.obs[\"patient\"], ax=ax)"
   ]
  },
  {
   "cell_type": "code",
   "execution_count": null,
   "metadata": {},
   "outputs": [],
   "source": [
    "sc.pl.scatter(mod_rna, x=\"total_counts\", y=\"pct_counts_mt\")\n",
    "sc.pl.scatter(mod_rna, x=\"total_counts\", y=\"n_genes_by_counts\")"
   ]
  },
  {
   "cell_type": "code",
   "execution_count": null,
   "metadata": {},
   "outputs": [],
   "source": [
    "# get top x percent of cells\n",
    "x = 1e-3\n",
    "total_counts_max_mask = mod_rna.obs.total_counts > mod_rna.obs.total_counts.quantile(\n",
    "    1 - x\n",
    ")\n",
    "total_counts_max_mask.sum()\n",
    "# (mod_rna.obs.total_counts > 16000).sum()\n",
    "\n",
    "mod_rna = mod_rna[\n",
    "    mod_rna.obs.total_counts < mod_rna.obs.total_counts.quantile(1 - x), :\n",
    "].copy()\n",
    "sc.pp.filter_genes(mod_rna, min_cells=10)\n",
    "mod_rna.shape"
   ]
  },
  {
   "cell_type": "code",
   "execution_count": null,
   "metadata": {},
   "outputs": [],
   "source": [
    "log_normalize(mod_rna)"
   ]
  },
  {
   "cell_type": "code",
   "execution_count": null,
   "metadata": {},
   "outputs": [],
   "source": [
    "get_adata_stats(mod_rna)"
   ]
  },
  {
   "cell_type": "code",
   "execution_count": null,
   "metadata": {},
   "outputs": [],
   "source": [
    "plot_qc(mod_rna, cell_type_key=\"cell_type_yu\")"
   ]
  },
  {
   "cell_type": "markdown",
   "metadata": {},
   "source": [
    "### Preprocess CITE"
   ]
  },
  {
   "cell_type": "code",
   "execution_count": null,
   "metadata": {},
   "outputs": [
    {
     "data": {
      "text/plain": [
       "AnnData object with n_obs × n_vars = 72453 × 210\n",
       "    layers: 'counts'"
      ]
     },
     "metadata": {},
     "output_type": "display_data"
    }
   ],
   "source": [
    "mod_cite = mudata.mod[\"CITE\"]\n",
    "mod_cite = mod_cite[mod_rna.obs_names, :].copy()\n",
    "mod_cite"
   ]
  },
  {
   "cell_type": "code",
   "execution_count": null,
   "metadata": {},
   "outputs": [],
   "source": [
    "mod_cite = ad.AnnData(\n",
    "    mod_cite.layers[\"counts\"].copy(),\n",
    "    obs=mudata.obs.loc[mod_cite.obs_names, :].copy(),\n",
    "    # obsm=anca_data.obsm.copy(),\n",
    "    var=mod_cite.var[[]],\n",
    "    layers={\"counts\": mod_cite.layers[\"counts\"].copy()},\n",
    ")"
   ]
  },
  {
   "cell_type": "code",
   "execution_count": null,
   "metadata": {},
   "outputs": [],
   "source": [
    "var_names = [name for name in mod_cite.var_names if not \"Hash\" in name]\n",
    "mod_cite = mod_cite[:, var_names].copy()"
   ]
  },
  {
   "cell_type": "code",
   "execution_count": null,
   "metadata": {},
   "outputs": [],
   "source": [
    "sc.pp.calculate_qc_metrics(mod_cite, inplace=True, percent_top=None)"
   ]
  },
  {
   "cell_type": "code",
   "execution_count": null,
   "metadata": {},
   "outputs": [],
   "source": [
    "sns.displot(mod_cite.obs.n_genes_by_counts)\n",
    "plt.show()\n",
    "sns.displot(mod_cite[mod_cite.obs.n_genes_by_counts < 60].obs.n_genes_by_counts)\n",
    "plt.show()\n",
    "sns.displot(mod_cite.obs.total_counts)\n",
    "plt.show()\n",
    "sns.displot(mod_cite.obs.query(\"total_counts>0 and total_counts<10000\").total_counts)\n",
    "plt.show()\n",
    "sns.displot(\n",
    "    mod_cite.obs.sample(frac=0.01).query(\"total_counts>10\"),\n",
    "    x=\"total_counts\",\n",
    "    log_scale=True,\n",
    "    hue=\"patient\",\n",
    "    multiple=\"stack\",\n",
    ")\n",
    "plt.show()"
   ]
  },
  {
   "cell_type": "code",
   "execution_count": null,
   "metadata": {},
   "outputs": [],
   "source": [
    "# get 0.1% of cells with highest total counts\n",
    "x = 5e-4\n",
    "total_counts_max_cutoff = mod_cite.obs.total_counts.quantile(1 - x)\n",
    "total_counts_max_mask = mod_cite.obs.total_counts < total_counts_max_cutoff\n",
    "print(total_counts_max_mask.sum())\n",
    "print(total_counts_max_cutoff)"
   ]
  },
  {
   "cell_type": "code",
   "execution_count": null,
   "metadata": {},
   "outputs": [],
   "source": [
    "mod_cite = mod_cite[total_counts_max_mask, :].copy()"
   ]
  },
  {
   "cell_type": "code",
   "execution_count": null,
   "metadata": {},
   "outputs": [],
   "source": [
    "sc.pp.filter_genes(mod_cite, min_cells=10)\n",
    "mod_cite.shape"
   ]
  },
  {
   "cell_type": "code",
   "execution_count": null,
   "metadata": {},
   "outputs": [],
   "source": [
    "fig, ax = plt.subplots(figsize=(15, 5))\n",
    "sns.boxplot(y=mod_cite.obs.total_counts, x=mod_cite.obs[\"sample\"], ax=ax)"
   ]
  },
  {
   "cell_type": "code",
   "execution_count": null,
   "metadata": {},
   "outputs": [],
   "source": [
    "fig, ax = plt.subplots(figsize=(15, 5))\n",
    "sns.boxplot(y=mod_cite.obs.n_genes_by_counts, x=mod_cite.obs[\"patient\"], ax=ax)"
   ]
  },
  {
   "cell_type": "code",
   "execution_count": null,
   "metadata": {},
   "outputs": [],
   "source": [
    "protein_clr(mod_cite)"
   ]
  },
  {
   "cell_type": "markdown",
   "metadata": {},
   "source": [
    "## Harmonize RNA and CITE data"
   ]
  },
  {
   "cell_type": "code",
   "execution_count": null,
   "metadata": {},
   "outputs": [],
   "source": [
    "n_cells_cite = mod_cite.shape[0]\n",
    "n_cells_rna = mod_rna.shape[0]\n",
    "print(f\"Number of cells in RNA: {n_cells_rna}\")\n",
    "print(f\"Number of cells in CITE: {n_cells_cite}\")"
   ]
  },
  {
   "cell_type": "code",
   "execution_count": null,
   "metadata": {},
   "outputs": [],
   "source": [
    "shared_obs_names = [name for name in mod_rna.obs_names if name in mod_cite.obs_names]\n",
    "mod_rna = mod_rna[shared_obs_names, :].copy()\n",
    "mod_cite = mod_cite[shared_obs_names, :].copy()"
   ]
  },
  {
   "cell_type": "markdown",
   "metadata": {},
   "source": [
    "## Save data"
   ]
  },
  {
   "cell_type": "code",
   "execution_count": null,
   "metadata": {},
   "outputs": [],
   "source": [
    "mudata = md.MuData(\n",
    "    {\n",
    "        \"rna\": mod_rna.copy(),\n",
    "        \"cite\": mod_cite.copy(),\n",
    "    }\n",
    ")\n",
    "save_path = os.path.join(data_dir, \"ANCA_exploratory_27PK27PB_Tcells_processed.h5mu\")\n",
    "mudata.write_h5mu(save_path)"
   ]
  }
 ],
 "metadata": {
  "language_info": {
   "name": "python"
  }
 },
 "nbformat": 4,
 "nbformat_minor": 2
}
