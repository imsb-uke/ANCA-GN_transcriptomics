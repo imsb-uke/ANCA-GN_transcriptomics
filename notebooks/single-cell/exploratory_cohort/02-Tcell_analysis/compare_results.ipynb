{
 "cells": [
  {
   "cell_type": "code",
   "execution_count": 1,
   "metadata": {},
   "outputs": [],
   "source": [
    "working_dir = \"/data/projects/dschaub/ANCA-GN_transcriptomics\""
   ]
  },
  {
   "cell_type": "code",
   "execution_count": 31,
   "metadata": {},
   "outputs": [
    {
     "name": "stdout",
     "output_type": "stream",
     "text": [
      "The autoreload extension is already loaded. To reload it, use:\n",
      "  %reload_ext autoreload\n"
     ]
    }
   ],
   "source": [
    "%load_ext autoreload\n",
    "%autoreload 2\n",
    "\n",
    "import sys\n",
    "import os\n",
    "\n",
    "os.chdir(working_dir)\n",
    "\n",
    "import pandas as pd\n",
    "import scanpy as sc\n",
    "import numpy as np\n",
    "import mudata as md\n",
    "import scipy as sp\n",
    "\n",
    "from utils.py2r import *"
   ]
  },
  {
   "cell_type": "markdown",
   "metadata": {},
   "source": [
    "## Compare Mudata objects after reindexing"
   ]
  },
  {
   "cell_type": "code",
   "execution_count": 3,
   "metadata": {},
   "outputs": [],
   "source": [
    "path_old = \"/data/projects/dschaub/anca-project/data/anca/exploratory/ANCA_27PK27PB_T_processed.h5mu\"\n",
    "path_new = \"/data/projects/dschaub/ANCA-GN_transcriptomics/data/single-cell/exploratory/ANCA_exploratory_27PK27PB_Tcells_processed.h5mu\""
   ]
  },
  {
   "cell_type": "code",
   "execution_count": 4,
   "metadata": {},
   "outputs": [
    {
     "name": "stderr",
     "output_type": "stream",
     "text": [
      "/opt/conda/envs/scvi-env/lib/python3.9/site-packages/mudata/_core/mudata.py:458: UserWarning: Cannot join columns with the same name because var_names are intersecting.\n",
      "  warnings.warn(\n",
      "/opt/conda/envs/scvi-env/lib/python3.9/site-packages/mudata/_core/mudata.py:458: UserWarning: Cannot join columns with the same name because var_names are intersecting.\n",
      "  warnings.warn(\n"
     ]
    }
   ],
   "source": [
    "mudata = md.read_h5mu(path_new)\n",
    "mudata_old = md.read_h5mu(path_old)"
   ]
  },
  {
   "cell_type": "code",
   "execution_count": 6,
   "metadata": {},
   "outputs": [],
   "source": [
    "mod_rna = mudata.mod[\"rna\"]\n",
    "mod_rna_old = mudata_old.mod[\"rna\"]"
   ]
  },
  {
   "cell_type": "code",
   "execution_count": 13,
   "metadata": {},
   "outputs": [
    {
     "data": {
      "text/plain": [
       "True"
      ]
     },
     "execution_count": 13,
     "metadata": {},
     "output_type": "execute_result"
    }
   ],
   "source": [
    "np.all(mod_rna_old.X.toarray() == mod_rna.X.toarray())"
   ]
  },
  {
   "cell_type": "code",
   "execution_count": 14,
   "metadata": {},
   "outputs": [
    {
     "data": {
      "text/html": [
       "<div>\n",
       "<style scoped>\n",
       "    .dataframe tbody tr th:only-of-type {\n",
       "        vertical-align: middle;\n",
       "    }\n",
       "\n",
       "    .dataframe tbody tr th {\n",
       "        vertical-align: top;\n",
       "    }\n",
       "\n",
       "    .dataframe thead th {\n",
       "        text-align: right;\n",
       "    }\n",
       "</style>\n",
       "<table border=\"1\" class=\"dataframe\">\n",
       "  <thead>\n",
       "    <tr style=\"text-align: right;\">\n",
       "      <th></th>\n",
       "      <th>patient</th>\n",
       "      <th>sample</th>\n",
       "      <th>tissue</th>\n",
       "      <th>cell_type_yu</th>\n",
       "      <th>n_genes</th>\n",
       "      <th>n_genes_by_counts</th>\n",
       "      <th>total_counts</th>\n",
       "      <th>total_counts_mt</th>\n",
       "      <th>pct_counts_mt</th>\n",
       "      <th>total_counts_ribo</th>\n",
       "      <th>pct_counts_ribo</th>\n",
       "    </tr>\n",
       "  </thead>\n",
       "  <tbody>\n",
       "    <tr>\n",
       "      <th>P005K_AAACGGGAGATCGGGT</th>\n",
       "      <td>P005</td>\n",
       "      <td>P005K</td>\n",
       "      <td>K</td>\n",
       "      <td>CD4/CD8 stressed</td>\n",
       "      <td>580</td>\n",
       "      <td>580</td>\n",
       "      <td>1136.0</td>\n",
       "      <td>18.0</td>\n",
       "      <td>1.584507</td>\n",
       "      <td>259.0</td>\n",
       "      <td>22.799296</td>\n",
       "    </tr>\n",
       "    <tr>\n",
       "      <th>P005K_AAAGATGCACATCCAA</th>\n",
       "      <td>P005</td>\n",
       "      <td>P005K</td>\n",
       "      <td>K</td>\n",
       "      <td>CD8 EM/RM</td>\n",
       "      <td>750</td>\n",
       "      <td>749</td>\n",
       "      <td>1546.0</td>\n",
       "      <td>46.0</td>\n",
       "      <td>2.975420</td>\n",
       "      <td>367.0</td>\n",
       "      <td>23.738680</td>\n",
       "    </tr>\n",
       "    <tr>\n",
       "      <th>P005K_AAAGATGTCCTTCAAT</th>\n",
       "      <td>P005</td>\n",
       "      <td>P005K</td>\n",
       "      <td>K</td>\n",
       "      <td>CD8 EM/RM</td>\n",
       "      <td>657</td>\n",
       "      <td>657</td>\n",
       "      <td>1452.0</td>\n",
       "      <td>29.0</td>\n",
       "      <td>1.997245</td>\n",
       "      <td>384.0</td>\n",
       "      <td>26.446281</td>\n",
       "    </tr>\n",
       "    <tr>\n",
       "      <th>P005K_AACCATGGTGACTCAT</th>\n",
       "      <td>P005</td>\n",
       "      <td>P005K</td>\n",
       "      <td>K</td>\n",
       "      <td>CD8 EM/RM</td>\n",
       "      <td>887</td>\n",
       "      <td>887</td>\n",
       "      <td>2068.0</td>\n",
       "      <td>58.0</td>\n",
       "      <td>2.804642</td>\n",
       "      <td>553.0</td>\n",
       "      <td>26.740812</td>\n",
       "    </tr>\n",
       "    <tr>\n",
       "      <th>P005K_AACCGCGGTTACCAGT</th>\n",
       "      <td>P005</td>\n",
       "      <td>P005K</td>\n",
       "      <td>K</td>\n",
       "      <td>CD8 EM/RM</td>\n",
       "      <td>818</td>\n",
       "      <td>818</td>\n",
       "      <td>2056.0</td>\n",
       "      <td>67.0</td>\n",
       "      <td>3.258755</td>\n",
       "      <td>564.0</td>\n",
       "      <td>27.431907</td>\n",
       "    </tr>\n",
       "    <tr>\n",
       "      <th>...</th>\n",
       "      <td>...</td>\n",
       "      <td>...</td>\n",
       "      <td>...</td>\n",
       "      <td>...</td>\n",
       "      <td>...</td>\n",
       "      <td>...</td>\n",
       "      <td>...</td>\n",
       "      <td>...</td>\n",
       "      <td>...</td>\n",
       "      <td>...</td>\n",
       "      <td>...</td>\n",
       "    </tr>\n",
       "    <tr>\n",
       "      <th>P139B_TTTGTCATCCCTTGCA-1</th>\n",
       "      <td>P139</td>\n",
       "      <td>P139B</td>\n",
       "      <td>B</td>\n",
       "      <td>CD4/CD8 CM</td>\n",
       "      <td>1392</td>\n",
       "      <td>1392</td>\n",
       "      <td>3516.0</td>\n",
       "      <td>55.0</td>\n",
       "      <td>1.564278</td>\n",
       "      <td>1280.0</td>\n",
       "      <td>36.405006</td>\n",
       "    </tr>\n",
       "    <tr>\n",
       "      <th>P139B_TTTGTCATCGGAAACG-1</th>\n",
       "      <td>P139</td>\n",
       "      <td>P139B</td>\n",
       "      <td>B</td>\n",
       "      <td>CD4/CD8 CM</td>\n",
       "      <td>969</td>\n",
       "      <td>969</td>\n",
       "      <td>2206.0</td>\n",
       "      <td>23.0</td>\n",
       "      <td>1.042611</td>\n",
       "      <td>782.0</td>\n",
       "      <td>35.448776</td>\n",
       "    </tr>\n",
       "    <tr>\n",
       "      <th>P139B_TTTGTCATCGGTTCGG-1</th>\n",
       "      <td>P139</td>\n",
       "      <td>P139B</td>\n",
       "      <td>B</td>\n",
       "      <td>CD4/CD8 CM</td>\n",
       "      <td>1691</td>\n",
       "      <td>1689</td>\n",
       "      <td>4359.0</td>\n",
       "      <td>71.0</td>\n",
       "      <td>1.628814</td>\n",
       "      <td>1392.0</td>\n",
       "      <td>31.933930</td>\n",
       "    </tr>\n",
       "    <tr>\n",
       "      <th>P139B_TTTGTCATCTCAAACG-1</th>\n",
       "      <td>P139</td>\n",
       "      <td>P139B</td>\n",
       "      <td>B</td>\n",
       "      <td>CD4 EM/RM</td>\n",
       "      <td>1837</td>\n",
       "      <td>1835</td>\n",
       "      <td>4715.0</td>\n",
       "      <td>110.0</td>\n",
       "      <td>2.332980</td>\n",
       "      <td>1476.0</td>\n",
       "      <td>31.304348</td>\n",
       "    </tr>\n",
       "    <tr>\n",
       "      <th>P139B_TTTGTCATCTGGTATG-1</th>\n",
       "      <td>P139</td>\n",
       "      <td>P139B</td>\n",
       "      <td>B</td>\n",
       "      <td>CD4/CD8 stressed</td>\n",
       "      <td>687</td>\n",
       "      <td>687</td>\n",
       "      <td>1234.0</td>\n",
       "      <td>21.0</td>\n",
       "      <td>1.701783</td>\n",
       "      <td>400.0</td>\n",
       "      <td>32.414911</td>\n",
       "    </tr>\n",
       "  </tbody>\n",
       "</table>\n",
       "<p>72416 rows × 11 columns</p>\n",
       "</div>"
      ],
      "text/plain": [
       "                         patient sample tissue      cell_type_yu  n_genes  \\\n",
       "P005K_AAACGGGAGATCGGGT      P005  P005K      K  CD4/CD8 stressed      580   \n",
       "P005K_AAAGATGCACATCCAA      P005  P005K      K         CD8 EM/RM      750   \n",
       "P005K_AAAGATGTCCTTCAAT      P005  P005K      K         CD8 EM/RM      657   \n",
       "P005K_AACCATGGTGACTCAT      P005  P005K      K         CD8 EM/RM      887   \n",
       "P005K_AACCGCGGTTACCAGT      P005  P005K      K         CD8 EM/RM      818   \n",
       "...                          ...    ...    ...               ...      ...   \n",
       "P139B_TTTGTCATCCCTTGCA-1    P139  P139B      B        CD4/CD8 CM     1392   \n",
       "P139B_TTTGTCATCGGAAACG-1    P139  P139B      B        CD4/CD8 CM      969   \n",
       "P139B_TTTGTCATCGGTTCGG-1    P139  P139B      B        CD4/CD8 CM     1691   \n",
       "P139B_TTTGTCATCTCAAACG-1    P139  P139B      B         CD4 EM/RM     1837   \n",
       "P139B_TTTGTCATCTGGTATG-1    P139  P139B      B  CD4/CD8 stressed      687   \n",
       "\n",
       "                          n_genes_by_counts  total_counts  total_counts_mt  \\\n",
       "P005K_AAACGGGAGATCGGGT                  580        1136.0             18.0   \n",
       "P005K_AAAGATGCACATCCAA                  749        1546.0             46.0   \n",
       "P005K_AAAGATGTCCTTCAAT                  657        1452.0             29.0   \n",
       "P005K_AACCATGGTGACTCAT                  887        2068.0             58.0   \n",
       "P005K_AACCGCGGTTACCAGT                  818        2056.0             67.0   \n",
       "...                                     ...           ...              ...   \n",
       "P139B_TTTGTCATCCCTTGCA-1               1392        3516.0             55.0   \n",
       "P139B_TTTGTCATCGGAAACG-1                969        2206.0             23.0   \n",
       "P139B_TTTGTCATCGGTTCGG-1               1689        4359.0             71.0   \n",
       "P139B_TTTGTCATCTCAAACG-1               1835        4715.0            110.0   \n",
       "P139B_TTTGTCATCTGGTATG-1                687        1234.0             21.0   \n",
       "\n",
       "                          pct_counts_mt  total_counts_ribo  pct_counts_ribo  \n",
       "P005K_AAACGGGAGATCGGGT         1.584507              259.0        22.799296  \n",
       "P005K_AAAGATGCACATCCAA         2.975420              367.0        23.738680  \n",
       "P005K_AAAGATGTCCTTCAAT         1.997245              384.0        26.446281  \n",
       "P005K_AACCATGGTGACTCAT         2.804642              553.0        26.740812  \n",
       "P005K_AACCGCGGTTACCAGT         3.258755              564.0        27.431907  \n",
       "...                                 ...                ...              ...  \n",
       "P139B_TTTGTCATCCCTTGCA-1       1.564278             1280.0        36.405006  \n",
       "P139B_TTTGTCATCGGAAACG-1       1.042611              782.0        35.448776  \n",
       "P139B_TTTGTCATCGGTTCGG-1       1.628814             1392.0        31.933930  \n",
       "P139B_TTTGTCATCTCAAACG-1       2.332980             1476.0        31.304348  \n",
       "P139B_TTTGTCATCTGGTATG-1       1.701783              400.0        32.414911  \n",
       "\n",
       "[72416 rows x 11 columns]"
      ]
     },
     "execution_count": 14,
     "metadata": {},
     "output_type": "execute_result"
    }
   ],
   "source": [
    "mod_rna_old.obs"
   ]
  },
  {
   "cell_type": "code",
   "execution_count": 8,
   "metadata": {},
   "outputs": [
    {
     "data": {
      "text/html": [
       "<div>\n",
       "<style scoped>\n",
       "    .dataframe tbody tr th:only-of-type {\n",
       "        vertical-align: middle;\n",
       "    }\n",
       "\n",
       "    .dataframe tbody tr th {\n",
       "        vertical-align: top;\n",
       "    }\n",
       "\n",
       "    .dataframe thead th {\n",
       "        text-align: right;\n",
       "    }\n",
       "</style>\n",
       "<table border=\"1\" class=\"dataframe\">\n",
       "  <thead>\n",
       "    <tr style=\"text-align: right;\">\n",
       "      <th></th>\n",
       "      <th>patient</th>\n",
       "      <th>sample</th>\n",
       "      <th>tissue</th>\n",
       "      <th>n_genes</th>\n",
       "      <th>n_genes_by_counts</th>\n",
       "      <th>total_counts</th>\n",
       "      <th>total_counts_mt</th>\n",
       "      <th>pct_counts_mt</th>\n",
       "      <th>total_counts_ribo</th>\n",
       "      <th>pct_counts_ribo</th>\n",
       "    </tr>\n",
       "  </thead>\n",
       "  <tbody>\n",
       "    <tr>\n",
       "      <th>E016K_AAACGGGAGATCGGGT</th>\n",
       "      <td>E016</td>\n",
       "      <td>E016K</td>\n",
       "      <td>K</td>\n",
       "      <td>580</td>\n",
       "      <td>580</td>\n",
       "      <td>1136.0</td>\n",
       "      <td>18.0</td>\n",
       "      <td>1.584507</td>\n",
       "      <td>259.0</td>\n",
       "      <td>22.799296</td>\n",
       "    </tr>\n",
       "    <tr>\n",
       "      <th>E016K_AAAGATGCACATCCAA</th>\n",
       "      <td>E016</td>\n",
       "      <td>E016K</td>\n",
       "      <td>K</td>\n",
       "      <td>750</td>\n",
       "      <td>749</td>\n",
       "      <td>1546.0</td>\n",
       "      <td>46.0</td>\n",
       "      <td>2.975420</td>\n",
       "      <td>367.0</td>\n",
       "      <td>23.738680</td>\n",
       "    </tr>\n",
       "    <tr>\n",
       "      <th>E016K_AAAGATGTCCTTCAAT</th>\n",
       "      <td>E016</td>\n",
       "      <td>E016K</td>\n",
       "      <td>K</td>\n",
       "      <td>657</td>\n",
       "      <td>657</td>\n",
       "      <td>1452.0</td>\n",
       "      <td>29.0</td>\n",
       "      <td>1.997245</td>\n",
       "      <td>384.0</td>\n",
       "      <td>26.446281</td>\n",
       "    </tr>\n",
       "    <tr>\n",
       "      <th>E016K_AACCATGGTGACTCAT</th>\n",
       "      <td>E016</td>\n",
       "      <td>E016K</td>\n",
       "      <td>K</td>\n",
       "      <td>887</td>\n",
       "      <td>887</td>\n",
       "      <td>2068.0</td>\n",
       "      <td>58.0</td>\n",
       "      <td>2.804642</td>\n",
       "      <td>553.0</td>\n",
       "      <td>26.740812</td>\n",
       "    </tr>\n",
       "    <tr>\n",
       "      <th>E016K_AACCGCGGTTACCAGT</th>\n",
       "      <td>E016</td>\n",
       "      <td>E016K</td>\n",
       "      <td>K</td>\n",
       "      <td>818</td>\n",
       "      <td>818</td>\n",
       "      <td>2056.0</td>\n",
       "      <td>67.0</td>\n",
       "      <td>3.258755</td>\n",
       "      <td>564.0</td>\n",
       "      <td>27.431907</td>\n",
       "    </tr>\n",
       "    <tr>\n",
       "      <th>...</th>\n",
       "      <td>...</td>\n",
       "      <td>...</td>\n",
       "      <td>...</td>\n",
       "      <td>...</td>\n",
       "      <td>...</td>\n",
       "      <td>...</td>\n",
       "      <td>...</td>\n",
       "      <td>...</td>\n",
       "      <td>...</td>\n",
       "      <td>...</td>\n",
       "    </tr>\n",
       "    <tr>\n",
       "      <th>E015B_TTTGTCATCCCTTGCA-1</th>\n",
       "      <td>E015</td>\n",
       "      <td>E015B</td>\n",
       "      <td>B</td>\n",
       "      <td>1392</td>\n",
       "      <td>1392</td>\n",
       "      <td>3516.0</td>\n",
       "      <td>55.0</td>\n",
       "      <td>1.564278</td>\n",
       "      <td>1280.0</td>\n",
       "      <td>36.405006</td>\n",
       "    </tr>\n",
       "    <tr>\n",
       "      <th>E015B_TTTGTCATCGGAAACG-1</th>\n",
       "      <td>E015</td>\n",
       "      <td>E015B</td>\n",
       "      <td>B</td>\n",
       "      <td>969</td>\n",
       "      <td>969</td>\n",
       "      <td>2206.0</td>\n",
       "      <td>23.0</td>\n",
       "      <td>1.042611</td>\n",
       "      <td>782.0</td>\n",
       "      <td>35.448776</td>\n",
       "    </tr>\n",
       "    <tr>\n",
       "      <th>E015B_TTTGTCATCGGTTCGG-1</th>\n",
       "      <td>E015</td>\n",
       "      <td>E015B</td>\n",
       "      <td>B</td>\n",
       "      <td>1691</td>\n",
       "      <td>1689</td>\n",
       "      <td>4359.0</td>\n",
       "      <td>71.0</td>\n",
       "      <td>1.628814</td>\n",
       "      <td>1392.0</td>\n",
       "      <td>31.933930</td>\n",
       "    </tr>\n",
       "    <tr>\n",
       "      <th>E015B_TTTGTCATCTCAAACG-1</th>\n",
       "      <td>E015</td>\n",
       "      <td>E015B</td>\n",
       "      <td>B</td>\n",
       "      <td>1837</td>\n",
       "      <td>1835</td>\n",
       "      <td>4715.0</td>\n",
       "      <td>110.0</td>\n",
       "      <td>2.332980</td>\n",
       "      <td>1476.0</td>\n",
       "      <td>31.304348</td>\n",
       "    </tr>\n",
       "    <tr>\n",
       "      <th>E015B_TTTGTCATCTGGTATG-1</th>\n",
       "      <td>E015</td>\n",
       "      <td>E015B</td>\n",
       "      <td>B</td>\n",
       "      <td>687</td>\n",
       "      <td>687</td>\n",
       "      <td>1234.0</td>\n",
       "      <td>21.0</td>\n",
       "      <td>1.701783</td>\n",
       "      <td>400.0</td>\n",
       "      <td>32.414911</td>\n",
       "    </tr>\n",
       "  </tbody>\n",
       "</table>\n",
       "<p>72416 rows × 10 columns</p>\n",
       "</div>"
      ],
      "text/plain": [
       "                         patient sample tissue  n_genes  n_genes_by_counts  \\\n",
       "E016K_AAACGGGAGATCGGGT      E016  E016K      K      580                580   \n",
       "E016K_AAAGATGCACATCCAA      E016  E016K      K      750                749   \n",
       "E016K_AAAGATGTCCTTCAAT      E016  E016K      K      657                657   \n",
       "E016K_AACCATGGTGACTCAT      E016  E016K      K      887                887   \n",
       "E016K_AACCGCGGTTACCAGT      E016  E016K      K      818                818   \n",
       "...                          ...    ...    ...      ...                ...   \n",
       "E015B_TTTGTCATCCCTTGCA-1    E015  E015B      B     1392               1392   \n",
       "E015B_TTTGTCATCGGAAACG-1    E015  E015B      B      969                969   \n",
       "E015B_TTTGTCATCGGTTCGG-1    E015  E015B      B     1691               1689   \n",
       "E015B_TTTGTCATCTCAAACG-1    E015  E015B      B     1837               1835   \n",
       "E015B_TTTGTCATCTGGTATG-1    E015  E015B      B      687                687   \n",
       "\n",
       "                          total_counts  total_counts_mt  pct_counts_mt  \\\n",
       "E016K_AAACGGGAGATCGGGT          1136.0             18.0       1.584507   \n",
       "E016K_AAAGATGCACATCCAA          1546.0             46.0       2.975420   \n",
       "E016K_AAAGATGTCCTTCAAT          1452.0             29.0       1.997245   \n",
       "E016K_AACCATGGTGACTCAT          2068.0             58.0       2.804642   \n",
       "E016K_AACCGCGGTTACCAGT          2056.0             67.0       3.258755   \n",
       "...                                ...              ...            ...   \n",
       "E015B_TTTGTCATCCCTTGCA-1        3516.0             55.0       1.564278   \n",
       "E015B_TTTGTCATCGGAAACG-1        2206.0             23.0       1.042611   \n",
       "E015B_TTTGTCATCGGTTCGG-1        4359.0             71.0       1.628814   \n",
       "E015B_TTTGTCATCTCAAACG-1        4715.0            110.0       2.332980   \n",
       "E015B_TTTGTCATCTGGTATG-1        1234.0             21.0       1.701783   \n",
       "\n",
       "                          total_counts_ribo  pct_counts_ribo  \n",
       "E016K_AAACGGGAGATCGGGT                259.0        22.799296  \n",
       "E016K_AAAGATGCACATCCAA                367.0        23.738680  \n",
       "E016K_AAAGATGTCCTTCAAT                384.0        26.446281  \n",
       "E016K_AACCATGGTGACTCAT                553.0        26.740812  \n",
       "E016K_AACCGCGGTTACCAGT                564.0        27.431907  \n",
       "...                                     ...              ...  \n",
       "E015B_TTTGTCATCCCTTGCA-1             1280.0        36.405006  \n",
       "E015B_TTTGTCATCGGAAACG-1              782.0        35.448776  \n",
       "E015B_TTTGTCATCGGTTCGG-1             1392.0        31.933930  \n",
       "E015B_TTTGTCATCTCAAACG-1             1476.0        31.304348  \n",
       "E015B_TTTGTCATCTGGTATG-1              400.0        32.414911  \n",
       "\n",
       "[72416 rows x 10 columns]"
      ]
     },
     "execution_count": 8,
     "metadata": {},
     "output_type": "execute_result"
    }
   ],
   "source": [
    "mod_rna.obs"
   ]
  },
  {
   "cell_type": "markdown",
   "metadata": {},
   "source": [
    "## Compare R export files"
   ]
  },
  {
   "cell_type": "code",
   "execution_count": 15,
   "metadata": {},
   "outputs": [],
   "source": [
    "path_old = \"/data/projects/dschaub/anca-project/data/anca/exploratory/ANCA_27PK27PB_T_processed_r\"\n",
    "path_new = \"/data/projects/dschaub/ANCA-GN_transcriptomics/data/single-cell/exploratory/ANCA_exploratory_27PK27PB_Tcells_processed_R\""
   ]
  },
  {
   "cell_type": "code",
   "execution_count": 17,
   "metadata": {},
   "outputs": [
    {
     "data": {
      "text/plain": [
       "['features.tsv',\n",
       " 'features.tsv.gz',\n",
       " 'barcodes.tsv.gz',\n",
       " 'barcodes.tsv',\n",
       " 'metadata.csv',\n",
       " 'matrix.mtx.gz',\n",
       " 'matrix.mtx']"
      ]
     },
     "execution_count": 17,
     "metadata": {},
     "output_type": "execute_result"
    }
   ],
   "source": [
    "os.listdir(path_old)"
   ]
  },
  {
   "cell_type": "code",
   "execution_count": 38,
   "metadata": {},
   "outputs": [
    {
     "data": {
      "text/plain": [
       "0    True\n",
       "1    True\n",
       "2    True\n",
       "dtype: bool"
      ]
     },
     "execution_count": 38,
     "metadata": {},
     "output_type": "execute_result"
    }
   ],
   "source": [
    "features_old = pd.read_csv(\n",
    "    os.path.join(path_old, \"features.tsv\"), sep=\"\\t\", header=None\n",
    ")\n",
    "\n",
    "features_new = pd.read_csv(\n",
    "    os.path.join(path_new, \"features.tsv\"), sep=\"\\t\", header=None\n",
    ")\n",
    "(features_new == features_old).all()"
   ]
  },
  {
   "cell_type": "code",
   "execution_count": 39,
   "metadata": {},
   "outputs": [
    {
     "data": {
      "text/plain": [
       "0    False\n",
       "dtype: bool"
      ]
     },
     "execution_count": 39,
     "metadata": {},
     "output_type": "execute_result"
    }
   ],
   "source": [
    "barcodes_old = pd.read_csv(\n",
    "    os.path.join(path_old, \"barcodes.tsv\"), sep=\"\\t\", header=None\n",
    ")\n",
    "barcodes_new = pd.read_csv(\n",
    "    os.path.join(path_new, \"barcodes.tsv\"), sep=\"\\t\", header=None\n",
    ")\n",
    "(barcodes_new == barcodes_old).all()"
   ]
  },
  {
   "cell_type": "code",
   "execution_count": 33,
   "metadata": {},
   "outputs": [],
   "source": [
    "mtx_old = sp.io.mmread(os.path.join(path_old, \"matrix.mtx\"))\n",
    "mtx_new = sp.io.mmread(os.path.join(path_new, \"matrix.mtx\"))"
   ]
  },
  {
   "cell_type": "code",
   "execution_count": 35,
   "metadata": {},
   "outputs": [],
   "source": [
    "mtx_old = mtx_old.toarray()"
   ]
  },
  {
   "cell_type": "code",
   "execution_count": 36,
   "metadata": {},
   "outputs": [],
   "source": [
    "mtx_new = mtx_new.toarray()"
   ]
  },
  {
   "cell_type": "code",
   "execution_count": 37,
   "metadata": {},
   "outputs": [
    {
     "data": {
      "text/plain": [
       "True"
      ]
     },
     "execution_count": 37,
     "metadata": {},
     "output_type": "execute_result"
    }
   ],
   "source": [
    "(mtx_new == mtx_old).all()"
   ]
  },
  {
   "cell_type": "code",
   "execution_count": 30,
   "metadata": {},
   "outputs": [],
   "source": [
    "# compare mtx file\n"
   ]
  },
  {
   "cell_type": "code",
   "execution_count": 19,
   "metadata": {},
   "outputs": [
    {
     "data": {
      "text/plain": [
       "['features.tsv',\n",
       " 'barcodes.tsv.gz',\n",
       " 'barcodes.tsv',\n",
       " 'metadata.csv',\n",
       " 'matrix.mtx.gz',\n",
       " 'matrix.mtx']"
      ]
     },
     "execution_count": 19,
     "metadata": {},
     "output_type": "execute_result"
    }
   ],
   "source": [
    "os.listdir(path_new)"
   ]
  },
  {
   "cell_type": "markdown",
   "metadata": {},
   "source": [
    "## Compare harmony embeddings"
   ]
  }
 ],
 "metadata": {
  "kernelspec": {
   "display_name": "scvi-env",
   "language": "python",
   "name": "python3"
  },
  "language_info": {
   "codemirror_mode": {
    "name": "ipython",
    "version": 3
   },
   "file_extension": ".py",
   "mimetype": "text/x-python",
   "name": "python",
   "nbconvert_exporter": "python",
   "pygments_lexer": "ipython3",
   "version": "3.9.15"
  }
 },
 "nbformat": 4,
 "nbformat_minor": 2
}
