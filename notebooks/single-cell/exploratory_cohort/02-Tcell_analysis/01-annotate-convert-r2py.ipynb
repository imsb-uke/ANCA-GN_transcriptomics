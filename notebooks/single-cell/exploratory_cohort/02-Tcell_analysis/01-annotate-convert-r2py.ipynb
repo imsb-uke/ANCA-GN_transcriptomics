{
 "cells": [
  {
   "cell_type": "code",
   "execution_count": null,
   "metadata": {
    "vscode": {
     "languageId": "r"
    }
   },
   "outputs": [],
   "source": [
    "working_dir = \"/data/projects/dschaub/ANCA-GN_transcriptomics\"\n",
    "data_dir = \"/data/projects/dschaub/ANCA-GN_transcriptomics/data/single-cell/exploratory/integrated_objects\"\n",
    "save_dir = \"/data/projects/dschaub/ANCA-GN_transcriptomics/data/single-cell/exploratory\""
   ]
  },
  {
   "cell_type": "code",
   "execution_count": null,
   "metadata": {
    "vscode": {
     "languageId": "r"
    }
   },
   "outputs": [],
   "source": [
    "setwd(working_dir)\n",
    "RhpcBLASctl::blas_set_num_threads(1)\n",
    "library(Seurat)\n",
    "library(dplyr)\n",
    "# library(tidyverse)\n",
    "library(here)\n",
    "# library(readxl)\n",
    "# library(Matrix)\n",
    "library(IMSBSeuratHelpers)\n",
    "library(harmony)\n",
    "library(ggplot2)\n",
    "library(MuDataSeurat)\n",
    "# library(sctransform)\n",
    "library(future)\n",
    "library(data.table)\n",
    "library(xlsx)\n",
    "plan(\"multicore\", workers = 1)\n",
    "options(future.globals.maxSize = 20 * 1000 * 1024^2) # 20GB\n",
    "options(repr.matrix.max.rows = 600, repr.matrix.max.cols = 200)"
   ]
  },
  {
   "cell_type": "code",
   "execution_count": null,
   "metadata": {
    "vscode": {
     "languageId": "r"
    }
   },
   "outputs": [],
   "source": [
    "path = paste0(data_dir, \"/Harmony_ANCA_27PK27PB_T_clustered.rds\")\n",
    "seu <- readRDS(path)"
   ]
  },
  {
   "cell_type": "code",
   "execution_count": null,
   "metadata": {
    "vscode": {
     "languageId": "r"
    }
   },
   "outputs": [],
   "source": [
    "head(seu@meta.data)"
   ]
  },
  {
   "cell_type": "code",
   "execution_count": null,
   "metadata": {
    "vscode": {
     "languageId": "r"
    }
   },
   "outputs": [],
   "source": [
    "# seu@meta.data$cluster_ids <- Idents(object = seu)"
   ]
  },
  {
   "cell_type": "code",
   "execution_count": null,
   "metadata": {
    "vscode": {
     "languageId": "r"
    }
   },
   "outputs": [],
   "source": [
    "DefaultAssay(seu) <- \"RNA\"\n",
    "new.cluster.ids <- c(\n",
    "    \"CD4 naive\",\n",
    "    \"CD4/CD8 CM\",\n",
    "    \"NKT/CTL\",\n",
    "    \"CD4 EM/RM\",\n",
    "    \"CD8 EM/RM\",\n",
    "    \"CD8 CM/EM\",\n",
    "    \"CD4/CD8 stressed\",\n",
    "    \"Treg\",\n",
    "    \"CD8 naive\",\n",
    "    \"Treg\",\n",
    "    \"CD8 CM/EM\",\n",
    "    \"NKT/gdT\",\n",
    "    \"MAIT\",\n",
    "    \"CD4/CD8 CM\",\n",
    "    \"NKT/gdT\",\n",
    "    \"CD4 EM/RM\",\n",
    "    \"Prolif.\"\n",
    ")\n",
    "names(new.cluster.ids) <- levels(seu)\n",
    "seu <- RenameIdents(seu, new.cluster.ids)\n",
    "\n",
    "# Get current identities\n",
    "current.idents <- Idents(seu)\n",
    "\n",
    "# Use new.cluster.ids to replace the identities\n",
    "new.idents <- new.cluster.ids[current.idents]\n",
    "\n",
    "seu@meta.data$cell_type_yu <- Idents(object = seu)"
   ]
  },
  {
   "cell_type": "code",
   "execution_count": null,
   "metadata": {
    "vscode": {
     "languageId": "r"
    }
   },
   "outputs": [],
   "source": [
    "DimPlot(\n",
    "    object = seu, reduction = \"umap\", label = TRUE,\n",
    "    pt.size = 0.1, label.size = 6, repel = T\n",
    ") + theme(aspect.ratio = 1)"
   ]
  },
  {
   "cell_type": "code",
   "execution_count": null,
   "metadata": {
    "vscode": {
     "languageId": "r"
    }
   },
   "outputs": [],
   "source": [
    "str(seu)"
   ]
  },
  {
   "cell_type": "code",
   "execution_count": null,
   "metadata": {
    "vscode": {
     "languageId": "r"
    }
   },
   "outputs": [],
   "source": [
    "seu@assays$RNA@scale.data <- matrix(numeric(), nrow = 0, ncol = 0)\n",
    "seu@assays$RNA@var.features <- character()\n",
    "seu@assays$RNA@meta.features <- data.frame(row.names = row.names(seu@assays$RNA@meta.features))\n",
    "# seu@assays$RNA@key <- \"RNA_\"\n",
    "seu@commands <- list()\n",
    "seu@graphs <- list()\n",
    "# seu@reductions <- list()\n",
    "seu@reductions$pca@feature.loadings <- matrix(numeric(), nrow = 0, ncol = 0)\n",
    "seu@reductions$harmony@feature.loadings <- matrix(numeric(), nrow = 0, ncol = 0)\n",
    "seu@reductions$harmony@feature.loadings.projected <- matrix(numeric(), nrow = 0, ncol = 0)"
   ]
  },
  {
   "cell_type": "code",
   "execution_count": null,
   "metadata": {
    "vscode": {
     "languageId": "r"
    }
   },
   "outputs": [],
   "source": [
    "str(seu)"
   ]
  },
  {
   "cell_type": "code",
   "execution_count": null,
   "metadata": {
    "vscode": {
     "languageId": "r"
    }
   },
   "outputs": [],
   "source": [
    "save_path = paste0(save_dir, \"/ANCA_exploratory_27PK27PB_Tcells.h5mu\")\n",
    "WriteH5MU(seu, save_path)"
   ]
  }
 ],
 "metadata": {
  "kernelspec": {
   "display_name": "R",
   "language": "R",
   "name": "ir"
  },
  "language_info": {
   "codemirror_mode": "r",
   "file_extension": ".r",
   "mimetype": "text/x-r-source",
   "name": "R",
   "pygments_lexer": "r",
   "version": "4.1.1"
  }
 },
 "nbformat": 4,
 "nbformat_minor": 2
}
