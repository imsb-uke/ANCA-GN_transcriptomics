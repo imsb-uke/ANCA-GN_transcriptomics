{
 "cells": [
  {
   "cell_type": "markdown",
   "metadata": {},
   "source": [
    "## Python part"
   ]
  },
  {
   "cell_type": "code",
   "execution_count": null,
   "metadata": {},
   "outputs": [],
   "source": [
    "%load_ext autoreload\n",
    "%autoreload 2\n",
    "\n",
    "import sys\n",
    "import os\n",
    "\n",
    "os.chdir(\"../../../../\")\n",
    "\n",
    "import pandas as pd\n",
    "import scanpy as sc\n",
    "import mudata as md\n",
    "\n",
    "from utils.py2r import *"
   ]
  },
  {
   "cell_type": "code",
   "execution_count": null,
   "metadata": {},
   "outputs": [],
   "source": [
    "path = \"data/anca/exploratory/ANCA_27PK27PB_T_processed.h5mu\"\n",
    "mudata = md.read_h5mu(path)\n",
    "\n",
    "mod_rna = mudata.mod[\"rna\"]\n",
    "mod_cite = mudata.mod[\"cite\"]"
   ]
  },
  {
   "cell_type": "code",
   "execution_count": null,
   "metadata": {},
   "outputs": [],
   "source": [
    "save_dir = \"data/anca/exploratory/ANCA_27PK27PB_T_processed_r\"\n",
    "adata2raw(mod_rna, save_dir)\n",
    "\n",
    "for file in os.listdir(save_dir):\n",
    "    if \"meta\" in file:\n",
    "        continue\n",
    "    elif \"gz\" in file:\n",
    "        print(f\"Removing {file}\")\n",
    "        os.remove(f\"{save_dir}/{file}\")\n",
    "    else:\n",
    "        print(f\"Zipping {file}\")\n",
    "        gzip_file(f\"{save_dir}/{file}\")"
   ]
  },
  {
   "cell_type": "markdown",
   "metadata": {},
   "source": [
    "## R part"
   ]
  },
  {
   "cell_type": "code",
   "execution_count": null,
   "metadata": {},
   "outputs": [],
   "source": [
    "RhpcBLASctl::blas_set_num_threads(1)\n",
    "library(Seurat)\n",
    "library(dplyr)\n",
    "# library(tidyverse)\n",
    "library(here)\n",
    "# library(readxl)\n",
    "# library(Matrix)\n",
    "library(IMSBSeuratHelpers)\n",
    "library(harmony)\n",
    "library(ggplot2)\n",
    "# library(sctransform)\n",
    "library(future)\n",
    "library(data.table)\n",
    "library(xlsx)\n",
    "plan(\"multicore\", workers = 1)\n",
    "options(future.globals.maxSize = 20 * 1000 * 1024^2) # 20GB\n",
    "options(repr.matrix.max.rows = 600, repr.matrix.max.cols = 200)"
   ]
  },
  {
   "cell_type": "code",
   "execution_count": null,
   "metadata": {},
   "outputs": [],
   "source": [
    "seu_K <- readRDS(paste0(\"/data/projects/ANCA_Atlas/Integrated_objects/Harmony_ANCA_28PK_T.rds\"))\n",
    "seu_B <- readRDS(paste0(\"/data/projects/ANCA_Atlas/Integrated_objects/Harmony_ANCA_28PB_T.rds\"))\n",
    "seu_old <- merge(seu_K, seu_B)"
   ]
  },
  {
   "cell_type": "code",
   "execution_count": null,
   "metadata": {},
   "outputs": [],
   "source": [
    "seu_old@assays$RNA@data"
   ]
  },
  {
   "cell_type": "code",
   "execution_count": null,
   "metadata": {},
   "outputs": [],
   "source": [
    "str(seu_old)"
   ]
  },
  {
   "cell_type": "code",
   "execution_count": null,
   "metadata": {},
   "outputs": [],
   "source": [
    "seu_old@assays$RNA@counts"
   ]
  },
  {
   "cell_type": "code",
   "execution_count": null,
   "metadata": {},
   "outputs": [],
   "source": []
  },
  {
   "cell_type": "code",
   "execution_count": null,
   "metadata": {},
   "outputs": [],
   "source": []
  },
  {
   "cell_type": "code",
   "execution_count": null,
   "metadata": {},
   "outputs": [],
   "source": [
    "path <- \"/data/projects/dschaub/anca-project/data/anca/exploratory/ANCA_27PK27PB_T_processed_r\"\n",
    "raw_data <- Read10X(data.dir = path)\n",
    "metadata <- read.csv(paste0(path, \"/metadata.csv\"), row.names = 1)\n",
    "seu <- CreateSeuratObject(counts = raw_data, project = \"ANCA\", meta.data = metadata)"
   ]
  },
  {
   "cell_type": "code",
   "execution_count": null,
   "metadata": {},
   "outputs": [],
   "source": [
    "seu@assays$RNA@counts"
   ]
  },
  {
   "cell_type": "code",
   "execution_count": null,
   "metadata": {},
   "outputs": [],
   "source": [
    "seu <- NormalizeData(seu)"
   ]
  },
  {
   "cell_type": "code",
   "execution_count": null,
   "metadata": {},
   "outputs": [],
   "source": [
    "Idents(seu) <- \"patient\""
   ]
  },
  {
   "cell_type": "code",
   "execution_count": null,
   "metadata": {},
   "outputs": [],
   "source": [
    "seu <- FindVariableFeatures(\n",
    "    object = seu,\n",
    "    selection.method = \"vst\",\n",
    "    nfeatures = 2000\n",
    ")"
   ]
  },
  {
   "cell_type": "code",
   "execution_count": null,
   "metadata": {},
   "outputs": [],
   "source": [
    "seu <- ScaleData(\n",
    "    seu\n",
    "    # , vars.to.regress =c(\"nFeature_RNA\",\"nCount_RNA\",\"frac.mito\")\n",
    ")"
   ]
  },
  {
   "cell_type": "code",
   "execution_count": null,
   "metadata": {},
   "outputs": [],
   "source": [
    "seu <- RunPCA(\n",
    "    object = seu,\n",
    "    features = VariableFeatures(object = seu),\n",
    "    verbose = T\n",
    ")"
   ]
  },
  {
   "cell_type": "code",
   "execution_count": null,
   "metadata": {},
   "outputs": [],
   "source": [
    "seu <- seu %>%\n",
    "    RunHarmony(\"patient\",\n",
    "        dims.use = 1:30,\n",
    "        plot_convergence = TRUE\n",
    "    )"
   ]
  },
  {
   "cell_type": "code",
   "execution_count": null,
   "metadata": {},
   "outputs": [],
   "source": [
    "seu <- RunUMAP(object = seu, reduction = \"harmony\", dims = 1:30)"
   ]
  },
  {
   "cell_type": "code",
   "execution_count": null,
   "metadata": {},
   "outputs": [],
   "source": [
    "DimPlot(\n",
    "    object = seu, reduction = \"umap\", label = F,\n",
    "    pt.size = 0.1\n",
    ") + theme(aspect.ratio = 1)"
   ]
  },
  {
   "cell_type": "code",
   "execution_count": null,
   "metadata": {},
   "outputs": [],
   "source": [
    "# Access the metadata from the Seurat object (recommended for Seurat v3.0 and above)\n",
    "metadata <- seu[[]]\n",
    "\n",
    "# Write the metadata to a CSV file\n",
    "write.csv(metadata, file = \"/data/projects/dschaub/anca-project/data/anca/exploratory/ANCA_27PK27PB_T_harmony_r/metadata.csv\", row.names = TRUE)\n",
    "saveRDS(seu, file = \"/data/projects/dschaub/anca-project/data/anca/exploratory/ANCA_27PK27PB_T_harmony_r/seurat.rds\")"
   ]
  },
  {
   "cell_type": "code",
   "execution_count": null,
   "metadata": {},
   "outputs": [],
   "source": [
    "str(seu)"
   ]
  },
  {
   "cell_type": "code",
   "execution_count": null,
   "metadata": {},
   "outputs": [],
   "source": [
    "# Access the Harmony embeddings from the Seurat object\n",
    "# This assumes that the Harmony embeddings are named 'harmony'\n",
    "harmony_embeddings <- seu[[\"harmony\"]]@cell.embeddings\n",
    "umap_embeddings <- seu[[\"umap\"]]@cell.embeddings\n",
    "\n",
    "# Write the Harmony embeddings to a CSV file\n",
    "write.csv(harmony_embeddings, file = \"/data/projects/dschaub/anca-project/data/anca/exploratory/ANCA_27PK27PB_T_harmony_r/harmony_embeddings.csv\", row.names = TRUE)\n",
    "write.csv(umap_embeddings, \"/data/projects/dschaub/anca-project/data/anca/exploratory/ANCA_27PK27PB_T_harmony_r/umap_embeddings.csv\")"
   ]
  },
  {
   "cell_type": "markdown",
   "metadata": {},
   "source": [
    "## Second Python part"
   ]
  },
  {
   "cell_type": "code",
   "execution_count": null,
   "metadata": {},
   "outputs": [],
   "source": [
    "%load_ext autoreload\n",
    "%autoreload 2\n",
    "\n",
    "import sys\n",
    "import os\n",
    "\n",
    "os.chdir(\"../../../../\")\n",
    "\n",
    "import yaml\n",
    "import anndata as ad\n",
    "import matplotlib.pyplot as plt\n",
    "import seaborn as sns\n",
    "import mudata as md\n",
    "import muon as mu\n",
    "import numpy as np\n",
    "import scanpy as sc\n",
    "from matplotlib import gridspec\n",
    "import scanpy.external as sce\n",
    "from scipy import sparse\n",
    "from matplotlib.colors import LinearSegmentedColormap\n",
    "\n",
    "from utils.utils import *\n",
    "from utils.plotting import *\n",
    "\n",
    "sc.settings.verbosity = 0\n",
    "import matplotlib as mpl"
   ]
  },
  {
   "cell_type": "code",
   "execution_count": null,
   "metadata": {},
   "outputs": [],
   "source": [
    "path = \"data/anca/exploratory/ANCA_27PK27PB_T_processed.h5mu\"\n",
    "mudata = md.read_h5mu(path)\n",
    "\n",
    "mod_rna = mudata.mod[\"rna\"]\n",
    "mod_cite = mudata.mod[\"cite\"]"
   ]
  },
  {
   "cell_type": "code",
   "execution_count": null,
   "metadata": {},
   "outputs": [],
   "source": [
    "harmony_r_path = \"data/anca/exploratory/ANCA_27PK27PB_T_harmony_r\"\n",
    "metadata = pd.read_csv(f\"{harmony_r_path}/metadata.csv\", index_col=0)\n",
    "harmony_embeddings = pd.read_csv(\n",
    "    f\"{harmony_r_path}/harmony_embeddings.csv\", index_col=0\n",
    ")\n",
    "umap_embeddings = pd.read_csv(f\"{harmony_r_path}/umap_embeddings.csv\", index_col=0)"
   ]
  },
  {
   "cell_type": "code",
   "execution_count": null,
   "metadata": {},
   "outputs": [],
   "source": [
    "mod_rna.obsm[\"X_harmony\"] = harmony_embeddings.loc[mod_rna.obs_names].values\n",
    "mod_rna.obsm[\"X_umap\"] = umap_embeddings.loc[mod_rna.obs_names].values"
   ]
  },
  {
   "cell_type": "code",
   "execution_count": null,
   "metadata": {},
   "outputs": [],
   "source": [
    "sc.pl.umap(mod_rna, color=\"cell_type_yu\")"
   ]
  },
  {
   "cell_type": "code",
   "execution_count": null,
   "metadata": {},
   "outputs": [],
   "source": [
    "sc.pl.umap(\n",
    "    mod_rna,\n",
    "    color=[\"sample\", \"tissue\", \"patient\"],\n",
    "    # return_fig=True,\n",
    "    # legend_loc=\"on data\",\n",
    "    # save=\"_leiden.png\",\n",
    "    wspace=0.8,\n",
    ")"
   ]
  },
  {
   "cell_type": "code",
   "execution_count": null,
   "metadata": {},
   "outputs": [],
   "source": [
    "sc.pp.neighbors(mod_rna, use_rep=\"X_harmony\", n_pcs=30, metric=\"cosine\", n_neighbors=30)\n",
    "sc.tl.umap(mod_rna, min_dist=0.3)\n",
    "umap_adpated = mod_rna.obsm[\"X_umap\"].copy()"
   ]
  },
  {
   "cell_type": "code",
   "execution_count": null,
   "metadata": {},
   "outputs": [],
   "source": [
    "sc.pp.neighbors(mod_rna, use_rep=\"X_harmony\")\n",
    "sc.tl.umap(mod_rna)\n",
    "umap_sc = mod_rna.obsm[\"X_umap\"].copy()"
   ]
  },
  {
   "cell_type": "code",
   "execution_count": null,
   "metadata": {},
   "outputs": [],
   "source": [
    "sc.pl.umap(mod_rna, color=\"cell_type_yu\")"
   ]
  },
  {
   "cell_type": "code",
   "execution_count": null,
   "metadata": {},
   "outputs": [],
   "source": [
    "sc.pl.umap(\n",
    "    mod_rna,\n",
    "    color=[\"sample\", \"tissue\", \"patient\"],\n",
    "    # return_fig=True,\n",
    "    # legend_loc=\"on data\",\n",
    "    # save=\"_leiden.png\",\n",
    "    wspace=0.8,\n",
    ")"
   ]
  },
  {
   "cell_type": "code",
   "execution_count": null,
   "metadata": {},
   "outputs": [],
   "source": [
    "resolutions = [\n",
    "    0.3,\n",
    "    0.4,\n",
    "    0.5,\n",
    "    0.6,\n",
    "    0.7,\n",
    "    0.8,\n",
    "    0.9,\n",
    "    1.0,\n",
    "    1.1,\n",
    "    1.2,\n",
    "    1.3,\n",
    "    1.4,\n",
    "    1.5,\n",
    "    1.6,\n",
    "    1.7,\n",
    "    1.8,\n",
    "    1.9,\n",
    "]\n",
    "for res in resolutions:\n",
    "    sc.tl.leiden(mod_rna, key_added=f\"leiden_{res}\", resolution=res)"
   ]
  },
  {
   "cell_type": "code",
   "execution_count": null,
   "metadata": {},
   "outputs": [],
   "source": [
    "plot_leiden_results(mod_rna, rep_name=\"\")"
   ]
  },
  {
   "cell_type": "code",
   "execution_count": null,
   "metadata": {},
   "outputs": [],
   "source": [
    "mudata = md.MuData(\n",
    "    {\n",
    "        \"rna\": mod_rna,\n",
    "        \"cite\": mod_cite,\n",
    "    }\n",
    ")\n",
    "mudata.write(\"data/anca/exploratory/ANCA_27PK27PB_T_harmony_r.h5mu\")"
   ]
  },
  {
   "cell_type": "markdown",
   "metadata": {},
   "source": [
    "## Add scaled layer"
   ]
  },
  {
   "cell_type": "code",
   "execution_count": null,
   "metadata": {},
   "outputs": [],
   "source": [
    "mudata = md.read_h5mu(\"data/anca/exploratory/ANCA_27PK27PB_T_harmony_r.h5mu\")\n",
    "mudata.shape"
   ]
  },
  {
   "cell_type": "code",
   "execution_count": null,
   "metadata": {},
   "outputs": [],
   "source": [
    "mod_rna = mudata.mod[\"rna\"]\n",
    "mod_cite = mudata.mod[\"cite\"]"
   ]
  },
  {
   "cell_type": "code",
   "execution_count": null,
   "metadata": {},
   "outputs": [],
   "source": [
    "scale(mod_rna)"
   ]
  },
  {
   "cell_type": "code",
   "execution_count": null,
   "metadata": {},
   "outputs": [],
   "source": [
    "scale(mod_cite, layer=\"clr\")"
   ]
  },
  {
   "cell_type": "code",
   "execution_count": null,
   "metadata": {},
   "outputs": [],
   "source": [
    "mod_rna.X = mod_rna.layers[\"log1p\"].copy()\n",
    "mod_cite.X = mod_cite.layers[\"clr\"].copy()"
   ]
  },
  {
   "cell_type": "code",
   "execution_count": null,
   "metadata": {},
   "outputs": [],
   "source": [
    "mudata = md.MuData(\n",
    "    {\n",
    "        \"rna\": mod_rna,\n",
    "        \"cite\": mod_cite,\n",
    "    }\n",
    ")\n",
    "mudata.write(\"data/anca/exploratory/ANCA_27PK27PB_T_harmony_r.h5mu\")"
   ]
  }
 ],
 "metadata": {
  "kernelspec": {
   "display_name": "scvi-env",
   "language": "python",
   "name": "python3"
  },
  "language_info": {
   "codemirror_mode": {
    "name": "ipython",
    "version": 3
   },
   "file_extension": ".py",
   "mimetype": "text/x-python",
   "name": "python",
   "nbconvert_exporter": "python",
   "pygments_lexer": "ipython3",
   "version": "3.9.15"
  }
 },
 "nbformat": 4,
 "nbformat_minor": 2
}
