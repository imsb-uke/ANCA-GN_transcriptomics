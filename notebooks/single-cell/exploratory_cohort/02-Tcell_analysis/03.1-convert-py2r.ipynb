{
 "cells": [
  {
   "cell_type": "code",
   "execution_count": 1,
   "metadata": {},
   "outputs": [],
   "source": [
    "data_dir = \"/data/projects/dschaub/ANCA-GN_transcriptomics/data/single-cell/exploratory\"\n",
    "working_dir = \"/data/projects/dschaub/ANCA-GN_transcriptomics\""
   ]
  },
  {
   "cell_type": "code",
   "execution_count": 2,
   "metadata": {},
   "outputs": [],
   "source": [
    "%load_ext autoreload\n",
    "%autoreload 2\n",
    "\n",
    "import sys\n",
    "import os\n",
    "\n",
    "os.chdir(working_dir)\n",
    "\n",
    "import pandas as pd\n",
    "import scanpy as sc\n",
    "import mudata as md\n",
    "\n",
    "from utils.py2r import *"
   ]
  },
  {
   "cell_type": "markdown",
   "metadata": {},
   "source": [
    "## Load data"
   ]
  },
  {
   "cell_type": "code",
   "execution_count": 3,
   "metadata": {},
   "outputs": [
    {
     "name": "stderr",
     "output_type": "stream",
     "text": [
      "/opt/conda/envs/scvi-env/lib/python3.9/site-packages/mudata/_core/mudata.py:458: UserWarning: Cannot join columns with the same name because var_names are intersecting.\n",
      "  warnings.warn(\n"
     ]
    }
   ],
   "source": [
    "path = f\"{data_dir}/ANCA_exploratory_27PK27PB_Tcells_processed.h5mu\"\n",
    "mudata = md.read_h5mu(path)\n",
    "\n",
    "mod_rna = mudata.mod[\"rna\"]\n",
    "mod_cite = mudata.mod[\"cite\"]"
   ]
  },
  {
   "cell_type": "markdown",
   "metadata": {},
   "source": [
    "## Convert to R"
   ]
  },
  {
   "cell_type": "code",
   "execution_count": 4,
   "metadata": {},
   "outputs": [],
   "source": [
    "save_dir = f\"{data_dir}/ANCA_exploratory_27PK27PB_Tcells_processed_R\"\n",
    "\n",
    "# remove save dir\n",
    "if os.path.exists(save_dir):\n",
    "    os.system(f\"rm -r {save_dir}\")"
   ]
  },
  {
   "cell_type": "code",
   "execution_count": 5,
   "metadata": {},
   "outputs": [
    {
     "name": "stdout",
     "output_type": "stream",
     "text": [
      "Zipping features.tsv\n",
      "Zipping barcodes.tsv\n",
      "Zipping matrix.mtx\n"
     ]
    }
   ],
   "source": [
    "save_dir = f\"{data_dir}/ANCA_exploratory_27PK27PB_Tcells_processed_R\"\n",
    "\n",
    "# remove save dir\n",
    "if os.path.exists(save_dir):\n",
    "    os.system(f\"rm -r {save_dir}\")\n",
    "\n",
    "adata2raw(mod_rna, save_dir)\n",
    "\n",
    "for file in os.listdir(save_dir):\n",
    "    if \"meta\" in file:\n",
    "        continue\n",
    "    elif \"gz\" in file:\n",
    "        print(f\"Removing {file}\")\n",
    "        os.remove(f\"{save_dir}/{file}\")\n",
    "    else:\n",
    "        print(f\"Zipping {file}\")\n",
    "        gzip_file(f\"{save_dir}/{file}\")"
   ]
  }
 ],
 "metadata": {
  "kernelspec": {
   "display_name": "scvi-env",
   "language": "python",
   "name": "python3"
  },
  "language_info": {
   "codemirror_mode": {
    "name": "ipython",
    "version": 3
   },
   "file_extension": ".py",
   "mimetype": "text/x-python",
   "name": "python",
   "nbconvert_exporter": "python",
   "pygments_lexer": "ipython3",
   "version": "3.9.-1"
  }
 },
 "nbformat": 4,
 "nbformat_minor": 2
}
