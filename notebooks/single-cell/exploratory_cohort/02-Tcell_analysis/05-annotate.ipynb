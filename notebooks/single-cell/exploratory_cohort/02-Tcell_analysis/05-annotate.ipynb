{
 "cells": [
  {
   "cell_type": "code",
   "execution_count": null,
   "metadata": {},
   "outputs": [],
   "source": [
    "%load_ext autoreload\n",
    "%autoreload 2\n",
    "\n",
    "import sys\n",
    "import os\n",
    "\n",
    "os.chdir(\"../../../../\")\n",
    "\n",
    "import yaml\n",
    "import anndata as ad\n",
    "import matplotlib.pyplot as plt\n",
    "import seaborn as sns\n",
    "import mudata as md\n",
    "import muon as mu\n",
    "import numpy as np\n",
    "import scanpy as sc\n",
    "from matplotlib import gridspec\n",
    "import scanpy.external as sce\n",
    "from scipy import sparse\n",
    "from matplotlib.colors import LinearSegmentedColormap\n",
    "\n",
    "from utils.utils import *\n",
    "from utils.plotting import *\n",
    "\n",
    "sc.settings.verbosity = 0\n",
    "sc.settings.set_figure_params(\n",
    "    dpi=100,\n",
    "    facecolor=\"white\",\n",
    "    # color_map=\"YlGnBu\",\n",
    "    frameon=False,\n",
    ")\n",
    "import matplotlib as mpl\n",
    "\n",
    "sc.set_figure_params(dpi=100)\n",
    "sns.set(style=\"white\")"
   ]
  },
  {
   "cell_type": "code",
   "execution_count": null,
   "metadata": {},
   "outputs": [],
   "source": [
    "path = \"data/anca/exploratory/ANCA_27PK27PB_T_harmony_r.h5mu\"\n",
    "mudata = md.read_h5mu(path)\n",
    "\n",
    "mod_rna = mudata.mod[\"rna\"]\n",
    "mod_cite = mudata.mod[\"cite\"]"
   ]
  },
  {
   "cell_type": "code",
   "execution_count": null,
   "metadata": {},
   "outputs": [],
   "source": [
    "cluster_key = \"leiden_1.7\"\n",
    "# get_cluster_names(mod_rna, cluster_key)"
   ]
  },
  {
   "cell_type": "code",
   "execution_count": null,
   "metadata": {},
   "outputs": [],
   "source": [
    "sc.pl.umap(\n",
    "    mod_rna, color=[cluster_key, \"cell_type_yu\"], legend_loc=\"on data\", wspace=0.6\n",
    ")"
   ]
  },
  {
   "cell_type": "code",
   "execution_count": null,
   "metadata": {},
   "outputs": [],
   "source": [
    "sc.pl.umap(mod_rna, color=\"tissue\")"
   ]
  },
  {
   "cell_type": "code",
   "execution_count": null,
   "metadata": {},
   "outputs": [],
   "source": [
    "annotations = {\n",
    "    \"0\": \"CD4+ naive\",\n",
    "    \"1\": \"NKT/CTL\",\n",
    "    \"2\": \"CD4+ naive\",\n",
    "    \"3\": \"CD4+ EM/RM\",\n",
    "    \"4\": \"CD8+ EM/RM\",\n",
    "    \"5\": \"CD4+ CM\",\n",
    "    \"6\": \"CD4+/CD8+ CM\",\n",
    "    \"7\": \"CD8+ CM/EM\",\n",
    "    \"8\": \"Treg\",\n",
    "    \"9\": \"CD4+/CD8+ stressed\",\n",
    "    \"10\": \"CD4+ CM\",\n",
    "    \"11\": \"CD4+ EM/RM\",\n",
    "    \"12\": \"CD4+ CM\",\n",
    "    \"13\": \"CD8+ naive\",\n",
    "    \"14\": \"NK\",\n",
    "    \"15\": \"MAIT\",\n",
    "    \"16\": \"CD8+ EM/RM\",\n",
    "    # \"16\": \"NKT/CTL\",\n",
    "    \"17\": \"gdT\",\n",
    "    \"18\": \"NKT\",\n",
    "    \"19\": \"NKT/CTL\",\n",
    "    \"20\": \"CD4+ EM/RM\",\n",
    "    \"21\": \"NKT/CTL\",\n",
    "    \"22\": \"Prolif.\",\n",
    "    \"23\": \"gdT\",\n",
    "    \"24\": \"CD4+ CM\",\n",
    "    \"25\": \"CD4+ CM\",\n",
    "    \"26\": \"CD4+ naive\",\n",
    "}"
   ]
  },
  {
   "cell_type": "code",
   "execution_count": null,
   "metadata": {},
   "outputs": [],
   "source": [
    "mod_rna.obs[\"cell_type\"] = mod_rna.obs[cluster_key].replace(annotations)\n",
    "sc.pl.umap(mod_rna, color=[\"cell_type\", \"cell_type_yu\"], wspace=0.8)"
   ]
  },
  {
   "cell_type": "code",
   "execution_count": null,
   "metadata": {},
   "outputs": [],
   "source": [
    "annotations_updated = {\n",
    "    \"0\": \"CD4+ naive\",\n",
    "    \"1\": \"NKT/CTL\",\n",
    "    \"2\": \"CD4+ naive\",\n",
    "    \"3\": \"CD4+ Teff\",\n",
    "    \"4\": \"CD8+ Teff\",\n",
    "    \"5\": \"CD4+ Tcm\",\n",
    "    \"6\": \"CD4+/CD8+ Tcm\",\n",
    "    \"7\": \"CD8+ Tem\",\n",
    "    \"8\": \"Treg\",\n",
    "    \"9\": \"stressed T cells\",\n",
    "    \"10\": \"CD4+ Tcm\",\n",
    "    \"11\": \"CD4+ Teff\",\n",
    "    \"12\": \"CD4+ Tcm\",\n",
    "    \"13\": \"CD8+ naive\",\n",
    "    \"14\": \"NK\",\n",
    "    \"15\": \"MAIT\",\n",
    "    \"16\": \"CD8+ Teff\",\n",
    "    # \"16\": \"NKT/CTL\",\n",
    "    \"17\": \"gdT\",\n",
    "    \"18\": \"NKT\",\n",
    "    \"19\": \"NKT/CTL\",\n",
    "    \"20\": \"CD4+ Teff\",\n",
    "    \"21\": \"NKT/CTL\",\n",
    "    \"22\": \"Prolif.\",\n",
    "    \"23\": \"gdT\",\n",
    "    \"24\": \"CD4+ Tcm\",\n",
    "    \"25\": \"CD4+ Tcm\",\n",
    "    \"26\": \"CD4+ naive\",\n",
    "}"
   ]
  },
  {
   "cell_type": "code",
   "execution_count": null,
   "metadata": {},
   "outputs": [],
   "source": [
    "mod_rna.obs[\"cell_type_v1\"] = mod_rna.obs[cluster_key].replace(annotations_updated)\n",
    "sc.pl.umap(mod_rna, color=[\"cell_type_v1\", \"cell_type_yu\"], wspace=0.8)"
   ]
  },
  {
   "cell_type": "code",
   "execution_count": null,
   "metadata": {},
   "outputs": [],
   "source": [
    "mod_rna"
   ]
  },
  {
   "cell_type": "code",
   "execution_count": null,
   "metadata": {},
   "outputs": [],
   "source": [
    "mudata = md.MuData(\n",
    "    {\n",
    "        \"rna\": mod_rna,\n",
    "        \"cite\": mod_cite,\n",
    "    }\n",
    ")\n",
    "mudata.write_h5mu(\"data/anca/exploratory/ANCA_27PK27PB_T_harmony_r_annotated.h5mu\")"
   ]
  },
  {
   "cell_type": "code",
   "execution_count": null,
   "metadata": {},
   "outputs": [],
   "source": [
    "mod_rna.uns[\"cell_type_colors\"]"
   ]
  },
  {
   "cell_type": "code",
   "execution_count": null,
   "metadata": {},
   "outputs": [],
   "source": [
    "# print color code for each cluster\n",
    "celltype_key = \"cell_type\"\n",
    "colors = mod_rna.uns[f\"{celltype_key}_colors\"]\n",
    "color_codes = {\n",
    "    cluster: colors[k] for k, cluster in enumerate(mod_rna.obs[celltype_key].unique())\n",
    "}"
   ]
  },
  {
   "cell_type": "code",
   "execution_count": null,
   "metadata": {},
   "outputs": [],
   "source": [
    "color_map_old = {\n",
    "    \"CD4+ naive\": \"#1f77b4\",\n",
    "    \"CD4+/CD8+ CM\": \"#ff7f0e\",\n",
    "    \"NKT/CTL\": \"#279e68\",\n",
    "    \"CD4+ EM/RM\": \"#d62728\",\n",
    "    \"CD8+ EM/RM\": \"#aa40fc\",\n",
    "    \"CD8+ CM/EM\": \"#8c564b\",\n",
    "    \"CD4+/CD8+ stressed\": \"#e377c2\",\n",
    "    \"Treg\": \"#b5bd61\",\n",
    "    \"CD8+ naive\": \"#17becf\",\n",
    "    \"NKT/gdT\": \"#aec7e8\",\n",
    "    \"MAIT\": \"#ffbb78\",\n",
    "    \"Prolif.\": \"#98df8a\",\n",
    "}\n",
    "color_map = {\n",
    "    \"CD4+ naive\": \"#1f77b4\",\n",
    "    \"CD4+/CD8+ CM\": \"#ff7f0e\",\n",
    "    \"NKT/CTL\": \"#279e68\",\n",
    "    \"CD4+ EM/RM\": \"#d62728\",\n",
    "    \"CD8+ EM/RM\": \"#aa40fc\",\n",
    "    \"CD8+ CM/EM\": \"#8c564b\",\n",
    "    \"CD4+/CD8+ stressed\": \"#e377c2\",\n",
    "    \"Treg\": \"#b5bd61\",\n",
    "    \"CD8+ naive\": \"#17becf\",\n",
    "    \"MAIT\": \"#ffbb78\",\n",
    "    \"Prolif.\": \"#98df8a\",\n",
    "    \"NKT\": \"#aec7e8\",\n",
    "    \"gdT\": \"#c5b0d5\",\n",
    "    \"CD4+ CM\": \"#ff9896\",\n",
    "    \"NK\": \"#c49c94\",\n",
    "}"
   ]
  },
  {
   "cell_type": "code",
   "execution_count": null,
   "metadata": {},
   "outputs": [],
   "source": [
    "plot_qc(mod_rna, cell_type_key=celltype_key)"
   ]
  }
 ],
 "metadata": {
  "kernelspec": {
   "display_name": "scvi-env",
   "language": "python",
   "name": "python3"
  },
  "language_info": {
   "codemirror_mode": {
    "name": "ipython",
    "version": 3
   },
   "file_extension": ".py",
   "mimetype": "text/x-python",
   "name": "python",
   "nbconvert_exporter": "python",
   "pygments_lexer": "ipython3",
   "version": "3.9.15"
  }
 },
 "nbformat": 4,
 "nbformat_minor": 2
}
