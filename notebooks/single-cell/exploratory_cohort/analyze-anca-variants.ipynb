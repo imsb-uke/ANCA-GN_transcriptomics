{
 "cells": [
  {
   "cell_type": "code",
   "execution_count": null,
   "metadata": {},
   "outputs": [],
   "source": [
    "data_dir = \"/data/projects/dschaub/ANCA-GN_transcriptomics/data/single-cell/exploratory\"\n",
    "working_dir = \"/data/projects/dschaub/ANCA-GN_transcriptomics\""
   ]
  },
  {
   "cell_type": "code",
   "execution_count": null,
   "metadata": {},
   "outputs": [],
   "source": [
    "%load_ext autoreload\n",
    "%autoreload 2\n",
    "\n",
    "import os\n",
    "os.chdir(working_dir)\n",
    "\n",
    "import yaml\n",
    "import anndata as ad\n",
    "import matplotlib.pyplot as plt\n",
    "import mudata as md\n",
    "import numpy as np\n",
    "import scanpy as sc\n",
    "from scipy import sparse\n",
    "from matplotlib.colors import LinearSegmentedColormap\n",
    "import matplotlib as mpl\n",
    "from matplotlib import font_manager\n",
    "import pandas as pd\n",
    "\n",
    "from utils.utils import *\n",
    "from utils.plotting import *\n",
    "\n",
    "sc.settings.verbosity = 0\n",
    "sc.settings._vector_friendly = True\n",
    "font_dirs = \"/usr/share/fonts/truetype/msttcorefonts/\"\n",
    "font_files = font_manager.findSystemFonts(fontpaths=font_dirs)\n",
    "for font_file in font_files:\n",
    "    font_manager.fontManager.addfont(font_file)\n",
    "\n",
    "plt.rcParams['font.family'] = \"arial\"\n",
    "plt.rcParams['font.size'] = 12"
   ]
  },
  {
   "cell_type": "markdown",
   "metadata": {},
   "source": [
    "## Load data"
   ]
  },
  {
   "cell_type": "code",
   "execution_count": null,
   "metadata": {},
   "outputs": [],
   "source": [
    "path = os.path.join(\n",
    "    data_dir, \"ANCA_exploratory_27PK27PB_Tcells_HarmonyR_annotated.h5mu\"\n",
    ")\n",
    "mudata = md.read_h5mu(path)\n",
    "mod_rna = mudata.mod[\"rna\"]\n",
    "mod_cite = mudata.mod[\"cite\"]\n",
    "\n",
    "path = os.path.join(data_dir, \"ANCA_exploratory_27PK27PB_CD4Teff_annotated.h5mu\")\n",
    "mudata_cd4 = md.read_h5mu(path)\n",
    "mod_rna_cd4 = mudata_cd4.mod[\"rna\"]\n",
    "mod_cite_cd4 = mudata_cd4.mod[\"cite\"]\n",
    "\n",
    "path = os.path.join(data_dir, \"ANCA_exploratory_27PK27PB_CD8Teff_annotated.h5mu\")\n",
    "mudata_cd8 = md.read_h5mu(path)\n",
    "mod_rna_cd8 = mudata_cd8.mod[\"rna\"]\n",
    "mod_cite_cd8 = mudata_cd8.mod[\"cite\"]"
   ]
  },
  {
   "cell_type": "code",
   "execution_count": null,
   "metadata": {},
   "outputs": [],
   "source": [
    "mod_rna.obs[\"cell_type_v1_merged\"] = mod_rna.obs[\"cell_type_v1\"].astype(str)\n",
    "mod_rna.obs.loc[mod_rna_cd4.obs_names, \"cell_type_v1_merged\"] = mod_rna_cd4.obs[\n",
    "    \"cell_type_fine\"\n",
    "].astype(str)\n",
    "\n",
    "mod_rna.obs.loc[mod_rna_cd8.obs_names, \"cell_type_v1_merged\"] = mod_rna_cd8.obs[\n",
    "    \"cell_type_fine\"\n",
    "].astype(str)\n",
    "\n",
    "mod_rna.obs[\"cell_type_v1_merged\"] = mod_rna.obs[\"cell_type_v1_merged\"].astype(\n",
    "    \"category\"\n",
    ")"
   ]
  },
  {
   "cell_type": "code",
   "execution_count": null,
   "metadata": {},
   "outputs": [],
   "source": [
    "# remove any obs that are not sub labeled\n",
    "teff_obs_names = mod_rna[\n",
    "    mod_rna.obs[\"cell_type_v1\"].isin([\"CD4+ Teff\", \"CD8+ Teff\"])\n",
    "].obs_names"
   ]
  },
  {
   "cell_type": "code",
   "execution_count": null,
   "metadata": {},
   "outputs": [],
   "source": [
    "extra_obs_names = list(\n",
    "    (set(teff_obs_names) - set(mod_rna_cd4.obs_names)) - set(mod_rna_cd8.obs_names)\n",
    ")\n",
    "mod_rna = mod_rna[~mod_rna.obs_names.isin(extra_obs_names)].copy()"
   ]
  },
  {
   "cell_type": "code",
   "execution_count": null,
   "metadata": {},
   "outputs": [],
   "source": [
    "mod_rna.obs.head()"
   ]
  },
  {
   "cell_type": "markdown",
   "metadata": {},
   "source": [
    "## Load subtype info"
   ]
  },
  {
   "cell_type": "code",
   "execution_count": null,
   "metadata": {},
   "outputs": [],
   "source": [
    "# Load a specific sheet by name\n",
    "path = os.path.join(data_dir, \"..\", \"MPO_vs_PR3.xlsx\")\n",
    "df_1 = pd.read_excel(\n",
    "    path,\n",
    "    sheet_name=\"scRNAseq\",\n",
    "    header=0,\n",
    ")\n",
    "# Set the first row as the column names\n",
    "df_1.columns = df_1.iloc[0]\n",
    "# Drop the first row from the DataFrame\n",
    "df_1 = df_1.drop(df_1.index[0])\n",
    "# Reset the index of the DataFrame\n",
    "df_1 = df_1.reset_index(drop=True)\n",
    "\n",
    "df_1[\"type\"] = \"MPO\"\n",
    "df_1.loc[df_1[\"PR3\"] == \"yes\", \"type\"] = \"PR3\"\n",
    "df_1.set_index(\"Pat.Nr.\", inplace=True)\n",
    "# remove spaces from index\n",
    "df_1.index = df_1.index.str.replace(\" \", \"\")"
   ]
  },
  {
   "cell_type": "code",
   "execution_count": null,
   "metadata": {},
   "outputs": [],
   "source": [
    "# Load a specific sheet by name\n",
    "df_2 = pd.read_excel(\n",
    "    path,\n",
    "    sheet_name=\"Tabelle2\",\n",
    "    header=0,\n",
    ")\n",
    "# Set the first row as the column names\n",
    "df_2.columns = df_2.iloc[0]\n",
    "# Drop the first row from the DataFrame\n",
    "df_2 = df_2.drop(df_2.index[0])\n",
    "# Reset the index of the DataFrame\n",
    "df_2 = df_2.reset_index(drop=True)\n",
    "\n",
    "df_2[\"type\"] = \"MPO\"\n",
    "df_2.loc[df_2[\"PR3\"] == \"yes\", \"type\"] = \"PR3\"\n",
    "df_2.set_index(\"Pat.Nr.\", inplace=True)\n",
    "# remove spaces from index\n",
    "df_2.index = df_2.index.str.replace(\" \", \"\")"
   ]
  },
  {
   "cell_type": "code",
   "execution_count": null,
   "metadata": {},
   "outputs": [],
   "source": [
    "df_1.head()"
   ]
  },
  {
   "cell_type": "markdown",
   "metadata": {},
   "source": [
    "## Join information"
   ]
  },
  {
   "cell_type": "code",
   "execution_count": null,
   "metadata": {},
   "outputs": [],
   "source": [
    "set(df_1.index.unique()) - set(mod_rna.obs.patient.unique())\n",
    "# set(mod_rna.obs.patient.unique()) - set(df_1.index.unique())"
   ]
  },
  {
   "cell_type": "code",
   "execution_count": null,
   "metadata": {},
   "outputs": [],
   "source": [
    "mapping = {pat: df_1.loc[pat, \"type\"] for pat in df_1.index.tolist()}"
   ]
  },
  {
   "cell_type": "code",
   "execution_count": null,
   "metadata": {},
   "outputs": [],
   "source": [
    "mod_rna.obs[\"type\"] = mod_rna.obs[\"patient\"].map(mapping)"
   ]
  },
  {
   "cell_type": "code",
   "execution_count": null,
   "metadata": {},
   "outputs": [],
   "source": [
    "mod_rna.obs.head()"
   ]
  },
  {
   "cell_type": "code",
   "execution_count": null,
   "metadata": {},
   "outputs": [],
   "source": [
    "mod_rna.obs.type.isna().sum()"
   ]
  },
  {
   "cell_type": "markdown",
   "metadata": {},
   "source": [
    "## Overview"
   ]
  },
  {
   "cell_type": "code",
   "execution_count": null,
   "metadata": {},
   "outputs": [],
   "source": [
    "plot_umap(\n",
    "    mod_rna,\n",
    "    color=\"type\",\n",
    "    # palette=colors,\n",
    "    figsize=(5.5, 5),\n",
    "    title=\"\",\n",
    "    size=3,\n",
    "    axes_fraction=1.0,\n",
    "    save_path=\"figures/supp/exploratory_anca_type.pdf\",\n",
    ")"
   ]
  },
  {
   "cell_type": "markdown",
   "metadata": {},
   "source": [
    "## Analyze T cell composition per subtype"
   ]
  },
  {
   "cell_type": "code",
   "execution_count": null,
   "metadata": {},
   "outputs": [],
   "source": [
    "celltype_col = \"cell_type_v1\"\n",
    "\n",
    "celltype_map = dict(zip(mod_rna.obs[\"cell_type\"], mod_rna.obs[celltype_col]))\n",
    "\n",
    "color_map = {\n",
    "    \"CD4+ naive\": \"#1f77b4\",\n",
    "    \"CD4+/CD8+ CM\": \"#ff7f0e\",\n",
    "    \"NKT/CTL\": \"#279e68\",\n",
    "    \"CD4+ EM/RM\": \"#d62728\",\n",
    "    \"CD8+ EM/RM\": \"#aa40fc\",\n",
    "    \"CD8+ CM/EM\": \"#8c564b\",\n",
    "    \"CD4+/CD8+ stressed\": \"#e377c2\",\n",
    "    \"Treg\": \"#b5bd61\",\n",
    "    \"CD8+ naive\": \"#17becf\",\n",
    "    \"MAIT\": \"#ffbb78\",\n",
    "    \"Prolif.\": \"#98df8a\",\n",
    "    \"NKT\": \"#aec7e8\",\n",
    "    \"gdT\": \"#c5b0d5\",\n",
    "    \"CD4+ CM\": \"#ff9896\",\n",
    "    \"NK\": \"#c49c94\",\n",
    "}\n",
    "color_map = {celltype_map[k]: v for k, v in color_map.items()}\n",
    "\n",
    "order = [\n",
    "    \"CD4+ EM/RM\",\n",
    "    \"CD8+ EM/RM\",\n",
    "    \"CD4+ naive\",\n",
    "    \"CD4+ CM\",\n",
    "    \"CD8+ naive\",\n",
    "    \"CD8+ CM/EM\",\n",
    "    \"CD4+/CD8+ CM\",\n",
    "    \"CD4+/CD8+ stressed\",\n",
    "    \"Treg\",\n",
    "    \"gdT\",\n",
    "    \"MAIT\",\n",
    "    \"NKT/CTL\",\n",
    "    \"NKT\",\n",
    "    \"NK\",\n",
    "    \"Prolif.\",\n",
    "]\n",
    "order = [celltype_map[x] for x in order]\n",
    "colors = [color_map[x] for x in order]\n",
    "orig_col = mod_rna.obs[celltype_col].copy()\n",
    "mod_rna.obs[\"cell_type_umap\"] = pd.Categorical(\n",
    "    mod_rna.obs[celltype_col], categories=order, ordered=True\n",
    ")"
   ]
  },
  {
   "cell_type": "code",
   "execution_count": null,
   "metadata": {},
   "outputs": [],
   "source": [
    "plot_key_compositon_for_groups(\n",
    "    mod_rna,\n",
    "    \"type\",\n",
    "    \"cell_type_umap\",\n",
    "    colors,\n",
    "    order=order,\n",
    "    figsize=(1.5, 6),\n",
    "    bbox_to_anchor=(1, 1),\n",
    "    xlabel=None,\n",
    "    ylabel=\"Cell type composition\",\n",
    "    save_path=\"figures/supp/exploratory_anca_type_composition.pdf\",\n",
    ")"
   ]
  },
  {
   "cell_type": "markdown",
   "metadata": {},
   "source": [
    "## Teff subtype composition"
   ]
  },
  {
   "cell_type": "code",
   "execution_count": null,
   "metadata": {},
   "outputs": [],
   "source": [
    "cmap_teff = {\n",
    "    \"Tc1\": \"#6600B4\",\n",
    "    \"Tc17-like\": \"#840AE2\",\n",
    "    \"Tc1-like\": \"#A228FF\",\n",
    "    \"NKT/CTL\": \"#D2D2D2\",\n",
    "    \"Th17\": \"#7B1717\",\n",
    "    \"Th1\": \"#A91F1F\",\n",
    "    \"Tfh\": \"#E0B093\",\n",
    "    \"Th1-like\": \"#D62728\",\n",
    "}\n",
    "\n",
    "labels_teff = [\n",
    "    \"Th17\",\n",
    "    \"Th1\",\n",
    "    \"Th1-like\",\n",
    "    \"Tfh\",\n",
    "    \"Tc1\",\n",
    "    \"Tc1-like\",\n",
    "    # \"Tc1-like\",\n",
    "    \"Tc17-like\",\n",
    "    \"NKT/CTL\",\n",
    "]\n",
    "\n",
    "colors_teff = [cmap_teff[x] for x in labels_teff]\n",
    "mod_rna_sub = mod_rna[\n",
    "    mod_rna.obs[\"cell_type_v1\"].isin([\"CD8+ Teff\", \"CD4+ Teff\"])\n",
    "].copy()\n",
    "mod_rna_sub.obs[\"cell_type_umap\"] = pd.Categorical(\n",
    "    mod_rna_sub.obs[\"cell_type_v1_merged\"], categories=labels_teff, ordered=True\n",
    ")"
   ]
  },
  {
   "cell_type": "code",
   "execution_count": null,
   "metadata": {},
   "outputs": [],
   "source": [
    "comp_data = plot_key_compositon_for_groups(\n",
    "    mod_rna_sub,\n",
    "    \"type\",\n",
    "    \"cell_type_umap\",\n",
    "    colors_teff,\n",
    "    order=labels_teff,\n",
    "    figsize=(1.5, 6),\n",
    "    bbox_to_anchor=(1, 1),\n",
    "    xlabel=None,\n",
    "    ylabel=\"Teff subset composition\",\n",
    "    save_path=\"figures/main/exploratory_anca_type_composition_teff.pdf\",\n",
    ")"
   ]
  }
 ],
 "metadata": {
  "kernelspec": {
   "display_name": "scvi-env",
   "language": "python",
   "name": "python3"
  },
  "language_info": {
   "codemirror_mode": {
    "name": "ipython",
    "version": 3
   },
   "file_extension": ".py",
   "mimetype": "text/x-python",
   "name": "python",
   "nbconvert_exporter": "python",
   "pygments_lexer": "ipython3",
   "version": "3.9.15"
  }
 },
 "nbformat": 4,
 "nbformat_minor": 2
}
