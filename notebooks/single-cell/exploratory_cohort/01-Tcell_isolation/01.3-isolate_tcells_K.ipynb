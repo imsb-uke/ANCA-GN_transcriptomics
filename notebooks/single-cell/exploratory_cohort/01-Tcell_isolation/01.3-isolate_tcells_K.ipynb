{
 "cells": [
  {
   "cell_type": "code",
   "execution_count": null,
   "id": "14157431-42d0-410c-94e2-5654003447c5",
   "metadata": {
    "tags": [],
    "vscode": {
     "languageId": "r"
    }
   },
   "outputs": [],
   "source": [
    "setwd(\"../../../../\")\n",
    "RhpcBLASctl::blas_set_num_threads(1)\n",
    "library(Seurat)\n",
    "library(dplyr)\n",
    "#library(tidyverse)\n",
    "library(here)\n",
    "#library(readxl)\n",
    "#library(Matrix)\n",
    "library(IMSBSeuratHelpers)\n",
    "library(ggplot2)\n",
    "#library(sctransform)\n",
    "library(future)\n",
    "library(data.table)\n",
    "library(xlsx)\n",
    "#plan(\"multiprocess\", workers = 20)\n",
    "options(future.globals.maxSize = 20 * 1000 * 1024^2)#20GB\n",
    "options(repr.matrix.max.rows=600, repr.matrix.max.cols=200)\n",
    "library(harmony)"
   ]
  },
  {
   "cell_type": "code",
   "execution_count": null,
   "id": "8eee5068-218d-4771-8cbb-29771d3f0e77",
   "metadata": {
    "vscode": {
     "languageId": "r"
    }
   },
   "outputs": [],
   "source": [
    "samples_ID=\"Harmony_ANCA_31PK_celltypeV2\""
   ]
  },
  {
   "cell_type": "code",
   "execution_count": null,
   "id": "a5a5e6f5-0904-499b-a356-9c0a920a8de3",
   "metadata": {
    "vscode": {
     "languageId": "r"
    }
   },
   "outputs": [],
   "source": [
    "#seu<-readRDS(paste0(\"Integrated_objects/\",samples_ID,\"_all.rds\"))\n",
    "seu = readRDS(\"Integrated_objects/Harmony_ANCA_31PK_for_interactom.rds\")\n",
    "seu"
   ]
  },
  {
   "cell_type": "code",
   "execution_count": null,
   "id": "1d73cbc8-8c7c-44f6-addd-729800eef84d",
   "metadata": {
    "vscode": {
     "languageId": "r"
    }
   },
   "outputs": [],
   "source": [
    "DimPlot(object = seu, reduction = 'umap',label = TRUE, \n",
    "        pt.size = 0.1,label.size = 6, repel = T) + theme(aspect.ratio=1)"
   ]
  },
  {
   "cell_type": "code",
   "execution_count": null,
   "id": "a0eaee2f-9f1e-4fab-96cc-4ef86f73d456",
   "metadata": {
    "vscode": {
     "languageId": "r"
    }
   },
   "outputs": [],
   "source": [
    "new.cluster.ids <- c(\n",
    "'T cells',\n",
    "'Proliferating',\n",
    "'B cells',\n",
    "'Myeloid',\n",
    "'Tubule cells',\n",
    "'Tubule cells'\n",
    ")\n",
    "names(new.cluster.ids) <- levels(seu)\n",
    "seu <- RenameIdents(seu, new.cluster.ids)\n",
    "seu@meta.data$meta_cell_type<-Idents(seu)\n",
    "DimPlot(object = seu, reduction = 'umap',label = TRUE, \n",
    "        pt.size = 0.1,label.size = 6, repel = T) + theme(aspect.ratio=1)"
   ]
  },
  {
   "cell_type": "code",
   "execution_count": null,
   "id": "137f148b-1cf9-4e62-95d1-e98982b2738d",
   "metadata": {
    "vscode": {
     "languageId": "r"
    }
   },
   "outputs": [],
   "source": [
    "seu\n",
    "seu_T<-subset(seu, idents=c('T cells'))\n",
    "seu_T"
   ]
  },
  {
   "cell_type": "code",
   "execution_count": null,
   "id": "c70f8d4f-c272-439f-9051-a913b64f86d1",
   "metadata": {
    "vscode": {
     "languageId": "r"
    }
   },
   "outputs": [],
   "source": [
    "Idents(seu_T)<-'case'\n",
    "levels(seu_T)"
   ]
  },
  {
   "cell_type": "code",
   "execution_count": null,
   "id": "854de954-649e-4b65-9cb9-1b796e40bb29",
   "metadata": {
    "vscode": {
     "languageId": "r"
    }
   },
   "outputs": [],
   "source": []
  },
  {
   "cell_type": "code",
   "execution_count": null,
   "id": "496cc9f9-d262-460c-ac86-c168be2c0c84",
   "metadata": {
    "vscode": {
     "languageId": "r"
    }
   },
   "outputs": [],
   "source": [
    "seu_T_ANCA<-subset(seu_T, idents=c('P'))\n",
    "seu_T_ANCA"
   ]
  },
  {
   "cell_type": "code",
   "execution_count": null,
   "id": "b8fa6a5e-db46-4546-b04e-8da6edeab187",
   "metadata": {
    "vscode": {
     "languageId": "r"
    }
   },
   "outputs": [],
   "source": [
    "DimPlot(object = seu_T_ANCA, reduction = 'umap',label = TRUE, \n",
    "        pt.size = 0.1,label.size = 6, repel = T) + theme(aspect.ratio=1)"
   ]
  },
  {
   "cell_type": "code",
   "execution_count": null,
   "id": "05874167-3d60-44f5-b670-b6acb5161732",
   "metadata": {
    "vscode": {
     "languageId": "r"
    }
   },
   "outputs": [],
   "source": [
    "saveRDS(seu_T_ANCA, file = paste0(\"Integrated_objects/Harmony_ANCA_31PK_T.rds\"))"
   ]
  },
  {
   "cell_type": "code",
   "execution_count": null,
   "id": "a06d5768-94e1-45ef-bcfe-d2184912789b",
   "metadata": {
    "vscode": {
     "languageId": "r"
    }
   },
   "outputs": [],
   "source": []
  }
 ],
 "metadata": {
  "kernelspec": {
   "display_name": "R",
   "language": "R",
   "name": "ir"
  },
  "language_info": {
   "codemirror_mode": "r",
   "file_extension": ".r",
   "mimetype": "text/x-r-source",
   "name": "R",
   "pygments_lexer": "r",
   "version": "4.2.2"
  }
 },
 "nbformat": 4,
 "nbformat_minor": 5
}
