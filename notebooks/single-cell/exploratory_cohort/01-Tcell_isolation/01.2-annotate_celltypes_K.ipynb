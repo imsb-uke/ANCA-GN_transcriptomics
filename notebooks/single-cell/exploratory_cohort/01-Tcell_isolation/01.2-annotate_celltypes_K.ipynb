{
 "cells": [
  {
   "cell_type": "code",
   "execution_count": null,
   "id": "14157431-42d0-410c-94e2-5654003447c5",
   "metadata": {
    "collapsed": true,
    "jupyter": {
     "outputs_hidden": true
    },
    "tags": [],
    "vscode": {
     "languageId": "r"
    }
   },
   "outputs": [],
   "source": [
    "data_dir = \"/data/projects/dschaub/ANCA-GN_transcriptomics/data/single-cell/exploratory/integrated_objects\"\n",
    "working_dir = \"/data/projects/dschaub/ANCA-GN_transcriptomics\""
   ]
  },
  {
   "cell_type": "code",
   "execution_count": null,
   "id": "133ed235",
   "metadata": {
    "vscode": {
     "languageId": "r"
    }
   },
   "outputs": [],
   "source": [
    "setwd(working_dir)\n",
    "RhpcBLASctl::blas_set_num_threads(1)\n",
    "library(Seurat)\n",
    "library(dplyr)\n",
    "#library(tidyverse)\n",
    "library(here)\n",
    "#library(readxl)\n",
    "#library(Matrix)\n",
    "library(IMSBSeuratHelpers)\n",
    "library(ggplot2)\n",
    "#library(sctransform)\n",
    "library(future)\n",
    "library(data.table)\n",
    "library(xlsx)\n",
    "#plan(\"multiprocess\", workers = 20)\n",
    "options(future.globals.maxSize = 20 * 1000 * 1024^2)#20GB\n",
    "options(repr.matrix.max.rows=600, repr.matrix.max.cols=200)\n",
    "library(harmony)"
   ]
  },
  {
   "cell_type": "code",
   "execution_count": null,
   "id": "8eee5068-218d-4771-8cbb-29771d3f0e77",
   "metadata": {
    "vscode": {
     "languageId": "r"
    }
   },
   "outputs": [],
   "source": [
    "samples_ID = \"Harmony_ANCA_27PK\""
   ]
  },
  {
   "cell_type": "code",
   "execution_count": null,
   "id": "a5a5e6f5-0904-499b-a356-9c0a920a8de3",
   "metadata": {
    "vscode": {
     "languageId": "r"
    }
   },
   "outputs": [],
   "source": [
    "seu<-readRDS(paste0(\"integrated_objects/\",samples_ID,\"_all.rds\"))\n",
    "seu"
   ]
  },
  {
   "cell_type": "code",
   "execution_count": null,
   "id": "1d73cbc8-8c7c-44f6-addd-729800eef84d",
   "metadata": {
    "vscode": {
     "languageId": "r"
    }
   },
   "outputs": [],
   "source": [
    "DimPlot(object = seu, reduction = 'umap',label = TRUE, \n",
    "        pt.size = 0.1,label.size = 6, repel = T) + theme(aspect.ratio=1)"
   ]
  },
  {
   "cell_type": "code",
   "execution_count": null,
   "id": "fc21172d-1c52-486b-8847-1fd3a08cb017",
   "metadata": {
    "vscode": {
     "languageId": "r"
    }
   },
   "outputs": [],
   "source": [
    "seu_new<-seu\n",
    "umap = seu@reductions$umap@cell.embeddings\n",
    "C.0 = colnames(seu_new)[umap[,1] > -5 & umap[,2] < 5]\n",
    "C.1 = colnames(seu_new)[umap[,1] > 0 & umap[,2] > 5 & umap[,2] < 10]\n",
    "C.2 = colnames(seu_new)[umap[,1] > 0.9 & umap[,2] > 10]\n",
    "C.3 = colnames(seu_new)[umap[,1] > -5 & umap[,1] < 0.9 & umap[,2] > 10]\n",
    "C.4 = colnames(seu_new)[umap[,1] > -10 & umap[,1] < -5 & umap[,2] > 5]\n",
    "C.5 = colnames(seu_new)[umap[,1] < -7 & umap[,2] > -2.5 & umap[,2] < 5]\n",
    "C.6 = colnames(seu_new)[umap[,1] < -11.3 & umap[,2] < -4.7]\n",
    "C.7 <-setdiff(colnames(seu_new),c(C.0,C.1,C.2,C.3,C.4,C.5,C.6))\n",
    "length(colnames(seu_new))\n",
    "length(C.7)\n",
    "length(c(C.0,C.1,C.2,C.3,C.4,C.5,C.6))"
   ]
  },
  {
   "cell_type": "code",
   "execution_count": null,
   "id": "3737d58b-7407-4e46-afa9-1a962802ba72",
   "metadata": {
    "vscode": {
     "languageId": "r"
    }
   },
   "outputs": [],
   "source": [
    "Idents(seu_new, cells = C.0) <- \"C.0\"\n",
    "Idents(seu_new, cells = C.1) <- \"C.1\"\n",
    "Idents(seu_new, cells = C.2) <- \"C.2\"\n",
    "Idents(seu_new, cells = C.3) <- \"C.3\"\n",
    "Idents(seu_new, cells = C.4) <- \"C.4\"\n",
    "Idents(seu_new, cells = C.5) <- \"C.5\"\n",
    "Idents(seu_new, cells = C.6) <- \"C.6\"\n",
    "Idents(seu_new, cells = C.7) <- \"C.7\"\n",
    "DimPlot(object = seu_new, reduction = 'umap',label = TRUE, \n",
    "        pt.size = 0.1,label.size = 6, repel = T) + theme(aspect.ratio=1)"
   ]
  },
  {
   "cell_type": "code",
   "execution_count": null,
   "id": "d2dca2e7-8a84-42eb-bbb8-ff0c10f9029d",
   "metadata": {
    "vscode": {
     "languageId": "r"
    }
   },
   "outputs": [],
   "source": [
    "levels(seu_new)<-c(\n",
    "\"C.0\",\n",
    "\"C.1\",\n",
    "\"C.2\",\n",
    "\"C.3\",\n",
    "\"C.4\",\n",
    "\"C.5\",\n",
    "\"C.6\",\n",
    "\"C.7\")\n",
    "DimPlot(object = seu_new, reduction = 'umap',label = TRUE, \n",
    "        pt.size = 0.1,label.size = 6, repel = T) + theme(aspect.ratio=1)"
   ]
  },
  {
   "cell_type": "code",
   "execution_count": null,
   "id": "48fe0bc8-192a-47ee-a313-09196ac33eaf",
   "metadata": {
    "tags": [],
    "vscode": {
     "languageId": "r"
    }
   },
   "outputs": [],
   "source": [
    "marker_qc<-c(\"nFeature_RNA\",\"nCount_RNA\",\"frac.mito\",\"frac.ribo\",\"CD3_count\")\n",
    "for (n in marker_qc){\n",
    "    print(VlnPlot(object = seu_new, features = n,\n",
    "                  #group.by = \"patient\",\n",
    "                  #split.by = \"cellgroup\",\n",
    "                  #x.lab.rot=T, \n",
    "                  #size.x.use = 5,\n",
    "                  pt.size = 0\n",
    "                       )#+ NoLegend()\n",
    "    )\n",
    "\n",
    "    print(FeaturePlot(object = seu_new,features = n,\n",
    "                  cols = c(\"grey\", \"blue\"),\n",
    "                      order = T,\n",
    "                      reduction = \"umap\",\n",
    "                pt.size=0.1\n",
    "                       ))     \n",
    "    }"
   ]
  },
  {
   "cell_type": "code",
   "execution_count": null,
   "id": "cc7b40ea-eb87-488f-af5e-52839151341c",
   "metadata": {
    "vscode": {
     "languageId": "r"
    }
   },
   "outputs": [],
   "source": [
    "# find markers for every cluster compared to all remaining cells, report only the positive ones\n",
    "seu.markers <- FindAllMarkers(object = seu_new, only.pos = TRUE, \n",
    "                              min.pct = 0.25, logfc.threshold = 0.5)\n",
    "#logfc.threshold=0.25 (default) instead of old version thresh.use=0.25\n",
    "head(seu.markers)\n",
    "dim(seu.markers)"
   ]
  },
  {
   "cell_type": "code",
   "execution_count": null,
   "id": "bdb442a7-5be2-4680-a6c8-9d8f3339ede9",
   "metadata": {
    "vscode": {
     "languageId": "r"
    }
   },
   "outputs": [],
   "source": [
    "top3 <- seu.markers %>% group_by(cluster) %>% top_n(3, avg_log2FC)\n",
    "top5 <- seu.markers %>% group_by(cluster) %>% top_n(5, avg_log2FC)\n",
    "top10 <- seu.markers %>% group_by(cluster) %>% top_n(10, avg_log2FC)"
   ]
  },
  {
   "cell_type": "code",
   "execution_count": null,
   "id": "185aa793-aafc-4592-bb98-ba7031f93c10",
   "metadata": {
    "vscode": {
     "languageId": "r"
    }
   },
   "outputs": [],
   "source": [
    "top10"
   ]
  },
  {
   "cell_type": "code",
   "execution_count": null,
   "id": "254b2c32-0cac-4548-b046-a51b44777291",
   "metadata": {
    "vscode": {
     "languageId": "r"
    }
   },
   "outputs": [],
   "source": [
    "plt1<-DotPlot(seu_new, features = unique(top5$gene),\n",
    "              dot.scale = 5\n",
    "              #scale.by = \"size\"\n",
    "             ) + coord_flip()+\n",
    "theme(#strip.background = element_blank(),\n",
    "    axis.title = element_blank(),\n",
    "    axis.text.x = element_text(size = 12,angle = 45,hjust = 1),\n",
    "    axis.text.y = element_text(size = 12),\n",
    "     legend.position = \"right\",\n",
    "     #legend.spacing = unit(0, \"mm\"),\n",
    "     legend.direction = \"vertical\",\n",
    "        legend.text = element_text(size=5),\n",
    "        legend.key.width = unit(2, \"mm\"),\n",
    "        legend.key.height = unit(2, \"mm\"),\n",
    "        legend.box.spacing = unit(1, \"mm\"),\n",
    "        legend.margin = margin(2),\n",
    "        legend.title = element_text(size = 7,angle = 90)\n",
    ")\n",
    "plt1"
   ]
  },
  {
   "cell_type": "code",
   "execution_count": null,
   "id": "94c7779e-6ba3-457a-8cca-45b0f2205d49",
   "metadata": {
    "vscode": {
     "languageId": "r"
    }
   },
   "outputs": [],
   "source": [
    "myeloid_markers_Covid<-c(\n",
    "'CD68',\n",
    "'MARCO',\n",
    "'MRC1',\n",
    "'APOE',\n",
    "'SPP1',\n",
    "'FABP5',\n",
    "'CCL2',\n",
    "'CCL3',\n",
    "'FCN1',\n",
    "'CD14',\n",
    "'CD302',\n",
    "'FCGR3A',\n",
    "'TREM2',\n",
    "'TMEM176A',\n",
    "'CD86',\n",
    "'TGFBI',\n",
    "'HSPA6',\n",
    "'HSPA1A',\n",
    "'CCR7',\n",
    "'SPINT2',\n",
    "'LAMP3',\n",
    "'FCGR3B',\n",
    "'CXCR2',\n",
    "'SPI1',\n",
    "'CXCR4'\n",
    "    )"
   ]
  },
  {
   "cell_type": "code",
   "execution_count": null,
   "id": "ab8f07e5-acf0-474e-9faa-df365eb1e5b3",
   "metadata": {
    "vscode": {
     "languageId": "r"
    }
   },
   "outputs": [],
   "source": [
    "myeloid_markers_tianran<-c(\n",
    "'S100A8',\n",
    "'S100A9',\n",
    "'SERPINB2',\n",
    "'TNFAIP6',\n",
    "'S100A12',\n",
    "'RNASE1',\n",
    "'LYVE1',\n",
    "'SELENOP',\n",
    "'FOLR2',\n",
    "'EGFL7',\n",
    "'FCGR3A',\n",
    "'CDKN1C',\n",
    "'SMIM25',\n",
    "'LST1',\n",
    "'SERPINA1',\n",
    "'VCAN',\n",
    "'LYZ',\n",
    "'HLA-DQA1',\n",
    "'CD1C',\n",
    "'PKIB',\n",
    "'CLEC10A',\n",
    "'IL1R2',\n",
    "'DNASE1L3',\n",
    "'C1orf54',\n",
    "'HLA-DPA1',\n",
    "'HLA-DPB1',\n",
    "'LRRC26',\n",
    "'PTCRA',\n",
    "'SCT',\n",
    "'JCHAIN',\n",
    "'CLEC4C',\n",
    "'TPSD1',\n",
    "'CPA3',\n",
    "'TPSAB1',\n",
    "'TPSB2',\n",
    "'HDC'\n",
    ")"
   ]
  },
  {
   "cell_type": "code",
   "execution_count": null,
   "id": "76e0d972-5031-4cae-9b44-a8d1c755033b",
   "metadata": {
    "vscode": {
     "languageId": "r"
    }
   },
   "outputs": [],
   "source": [
    "kidney_markers_DKD<-c(\n",
    "\"NPHS2\",\n",
    "\"CDKN1C\",\n",
    "\"WT1\",\n",
    "\"PLAT\",\n",
    "\"EHD3\",\n",
    "\"EMCN\",\n",
    "\"FABP4\",\n",
    "\"PLVAP\",\n",
    "\"RSAD2\",\n",
    "\"CLDN5\",\n",
    "\"PTPRB\",\n",
    "\"VWF\",\n",
    "\"ELN\",\n",
    "\"GATA3\",\n",
    "#\"HOPX\"\n",
    "#\"PTN\",\n",
    "#\"PIEZO2\",\n",
    "\"ITGA8\",\n",
    "\"ADAMTS5\",\n",
    "\"REN1\",\n",
    "\"ACTA2\",\n",
    "\"TAGLN\",\n",
    "\"SLC5A2\",\n",
    "\"SLC5A12\",\n",
    "\"GATM\",\n",
    "\"SLC13A3\",\n",
    "\"CYP4A10\",\n",
    "\"SLC5A8\",\n",
    "#\"SLC7A12\",\n",
    "#\"CYP7B1\",\n",
    "#\"SLC22A7\",\n",
    "#\"SERPINA1F\",\n",
    "#\"SLC22A13\",\n",
    "\"AQP1\",\n",
    "\"BST1\",\n",
    "\"ANGPT2\",\n",
    "\"SLC12A1\",\n",
    "\"CLDN10\",\n",
    "\"UMOD\",\n",
    "\"SLC12A3\",\n",
    "\"PVALB\",\n",
    "\"CALB1\",\n",
    "\"TMEM52B\",\n",
    "\"SLC8A1\",\n",
    "\"HSD11B2\",\n",
    "\"AQP2\",\n",
    "\"FXYD4\",\n",
    "\"ATP6V1G3\",\n",
    "\"ATP6V0D2\",\n",
    "\"AQP6\",\n",
    "\"SLC26A4\")"
   ]
  },
  {
   "cell_type": "code",
   "execution_count": null,
   "id": "83322805-d3dd-4d59-9e96-56aabc0bcbbc",
   "metadata": {
    "vscode": {
     "languageId": "r"
    }
   },
   "outputs": [],
   "source": [
    "Epithelial_markers<-c(\n",
    "\"SCGB1A1\",\n",
    "\"WFDC2\",\n",
    "\"SCGB3A1\")"
   ]
  },
  {
   "cell_type": "code",
   "execution_count": null,
   "id": "abc7daa8-9ad3-42a8-a7e4-6bc61ac5b691",
   "metadata": {
    "vscode": {
     "languageId": "r"
    }
   },
   "outputs": [],
   "source": [
    "plt1<-DotPlot(seu_new, features = myeloid_markers_Covid,\n",
    "              dot.scale = 5\n",
    "              #scale.by = \"size\"\n",
    "             ) + coord_flip()+\n",
    "theme(#strip.background = element_blank(),\n",
    "    axis.title = element_blank(),\n",
    "    axis.text.x = element_text(size = 12,angle = 45,hjust = 1),\n",
    "    axis.text.y = element_text(size = 12),\n",
    "     legend.position = \"right\",\n",
    "     #legend.spacing = unit(0, \"mm\"),\n",
    "     legend.direction = \"vertical\",\n",
    "        legend.text = element_text(size=5),\n",
    "        legend.key.width = unit(2, \"mm\"),\n",
    "        legend.key.height = unit(2, \"mm\"),\n",
    "        legend.box.spacing = unit(1, \"mm\"),\n",
    "        legend.margin = margin(2),\n",
    "        legend.title = element_text(size = 7,angle = 90)\n",
    ")\n",
    "plt1"
   ]
  },
  {
   "cell_type": "code",
   "execution_count": null,
   "id": "683140b2-08d4-4bc6-8ad8-83fda2d723da",
   "metadata": {
    "vscode": {
     "languageId": "r"
    }
   },
   "outputs": [],
   "source": [
    "plt1<-DotPlot(seu_new, features = myeloid_markers_tianran,\n",
    "              dot.scale = 5\n",
    "              #scale.by = \"size\"\n",
    "             ) + coord_flip()+\n",
    "theme(#strip.background = element_blank(),\n",
    "    axis.title = element_blank(),\n",
    "    axis.text.x = element_text(size = 12,angle = 45,hjust = 1),\n",
    "    axis.text.y = element_text(size = 12),\n",
    "     legend.position = \"right\",\n",
    "     #legend.spacing = unit(0, \"mm\"),\n",
    "     legend.direction = \"vertical\",\n",
    "        legend.text = element_text(size=5),\n",
    "        legend.key.width = unit(2, \"mm\"),\n",
    "        legend.key.height = unit(2, \"mm\"),\n",
    "        legend.box.spacing = unit(1, \"mm\"),\n",
    "        legend.margin = margin(2),\n",
    "        legend.title = element_text(size = 7,angle = 90)\n",
    ")\n",
    "plt1"
   ]
  },
  {
   "cell_type": "code",
   "execution_count": null,
   "id": "6d262ad7-432b-42e6-9111-1e78713b6276",
   "metadata": {
    "vscode": {
     "languageId": "r"
    }
   },
   "outputs": [],
   "source": [
    "plt1<-DotPlot(seu_new, features = kidney_markers_DKD,\n",
    "              dot.scale = 6\n",
    "              #scale.by = \"size\"\n",
    "             ) + coord_flip()+\n",
    "theme(#strip.background = element_blank(),\n",
    "    axis.title = element_blank(),\n",
    "    axis.text.x = element_text(size = 12,angle = 45,hjust = 1),\n",
    "    axis.text.y = element_text(size = 12),\n",
    "     legend.position = \"right\",\n",
    "     #legend.spacing = unit(0, \"mm\"),\n",
    "     legend.direction = \"vertical\",\n",
    "        legend.text = element_text(size=5),\n",
    "        legend.key.width = unit(2, \"mm\"),\n",
    "        legend.key.height = unit(2, \"mm\"),\n",
    "        legend.box.spacing = unit(1, \"mm\"),\n",
    "        legend.margin = margin(2),\n",
    "        legend.title = element_text(size = 7,angle = 90)\n",
    ")\n",
    "plt1"
   ]
  },
  {
   "cell_type": "code",
   "execution_count": null,
   "id": "54576829-0b1d-40f0-b998-c610f993e8da",
   "metadata": {
    "vscode": {
     "languageId": "r"
    }
   },
   "outputs": [],
   "source": [
    "plt1<-DotPlot(seu_new, features = Epithelial_markers,\n",
    "              dot.scale = 5\n",
    "              #scale.by = \"size\"\n",
    "             ) + coord_flip()+\n",
    "theme(#strip.background = element_blank(),\n",
    "    axis.title = element_blank(),\n",
    "    axis.text.x = element_text(size = 12,angle = 45,hjust = 1),\n",
    "    axis.text.y = element_text(size = 12),\n",
    "     legend.position = \"right\",\n",
    "     #legend.spacing = unit(0, \"mm\"),\n",
    "     legend.direction = \"vertical\",\n",
    "        legend.text = element_text(size=5),\n",
    "        legend.key.width = unit(2, \"mm\"),\n",
    "        legend.key.height = unit(2, \"mm\"),\n",
    "        legend.box.spacing = unit(1, \"mm\"),\n",
    "        legend.margin = margin(2),\n",
    "        legend.title = element_text(size = 7,angle = 90)\n",
    ")\n",
    "plt1"
   ]
  },
  {
   "cell_type": "code",
   "execution_count": null,
   "id": "791d032e-4f71-4ca2-b4f4-fa8b3be34eb0",
   "metadata": {
    "vscode": {
     "languageId": "r"
    }
   },
   "outputs": [],
   "source": [
    "new.cluster.ids <- c(\n",
    "'T cell',\n",
    "'Proliferating',\n",
    "'B cell',\n",
    "'Macrophage',\n",
    "'ATP_high1',\n",
    "'PT',\n",
    "'ATP_high2',\n",
    "'DCT_PC'\n",
    ")\n",
    "names(new.cluster.ids) <- levels(seu_new)\n",
    "seu_1 <- RenameIdents(seu_new, new.cluster.ids)"
   ]
  },
  {
   "cell_type": "code",
   "execution_count": null,
   "id": "7962885e-a14b-4f51-9744-f0d7aefaac2e",
   "metadata": {
    "vscode": {
     "languageId": "r"
    }
   },
   "outputs": [],
   "source": [
    "DimPlot(object = seu_1, reduction = 'umap',label = TRUE, \n",
    "        pt.size = 0.1,label.size = 6, repel = T) + theme(aspect.ratio=1)"
   ]
  },
  {
   "cell_type": "code",
   "execution_count": null,
   "id": "a02e5894-9270-4695-9883-2c4452d2864b",
   "metadata": {
    "vscode": {
     "languageId": "r"
    }
   },
   "outputs": [],
   "source": [
    "seu_1@meta.data$cell_type<-Idents(seu_1)\n",
    "head(seu_1@meta.data)"
   ]
  },
  {
   "cell_type": "code",
   "execution_count": null,
   "id": "26a493f6-7b69-4ddc-b36f-cc0658a96e60",
   "metadata": {
    "vscode": {
     "languageId": "r"
    }
   },
   "outputs": [],
   "source": [
    "seu_clean<-subset(seu_1, idents=c('ATP_high1','ATP_high2'),invert= T)\n",
    "seu_clean\n",
    "DimPlot(object = seu_clean, reduction = 'umap',label = TRUE, \n",
    "        pt.size = 0.1,label.size = 6, repel = T) + theme(aspect.ratio=1)\n"
   ]
  },
  {
   "cell_type": "code",
   "execution_count": null,
   "id": "be8adb57-4e0f-4a04-986b-b916ce41f2dd",
   "metadata": {
    "vscode": {
     "languageId": "r"
    }
   },
   "outputs": [],
   "source": [
    "Idents(seu_clean)<-\"cell_type\""
   ]
  },
  {
   "cell_type": "code",
   "execution_count": null,
   "id": "fc60b629-4a83-4c62-bbdf-794ce0b08ef9",
   "metadata": {
    "vscode": {
     "languageId": "r"
    }
   },
   "outputs": [],
   "source": [
    "DimPlot(object = seu_clean, reduction = 'umap',label = TRUE, \n",
    "        pt.size = 0.1,label.size = 6, repel = T) + theme(aspect.ratio=1)"
   ]
  },
  {
   "cell_type": "code",
   "execution_count": null,
   "id": "05874167-3d60-44f5-b670-b6acb5161732",
   "metadata": {
    "vscode": {
     "languageId": "r"
    }
   },
   "outputs": [],
   "source": [
    "saveRDS(seu_clean, file = paste0(data_dir, \"/Harmony_ANCA_27PK_annotated.rds\"))"
   ]
  }
 ],
 "metadata": {
  "kernelspec": {
   "display_name": "R",
   "language": "R",
   "name": "ir"
  },
  "language_info": {
   "codemirror_mode": "r",
   "file_extension": ".r",
   "mimetype": "text/x-r-source",
   "name": "R",
   "pygments_lexer": "r",
   "version": "4.1.1"
  }
 },
 "nbformat": 4,
 "nbformat_minor": 5
}
