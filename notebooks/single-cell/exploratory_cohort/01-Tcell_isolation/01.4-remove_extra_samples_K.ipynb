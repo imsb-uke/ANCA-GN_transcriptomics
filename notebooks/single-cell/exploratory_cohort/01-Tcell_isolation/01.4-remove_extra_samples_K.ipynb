{
 "cells": [
  {
   "cell_type": "code",
   "execution_count": null,
   "id": "a8bc9dd0-84a8-469d-8097-613d901938cd",
   "metadata": {
    "vscode": {
     "languageId": "r"
    }
   },
   "outputs": [],
   "source": [
    "setwd(\"../../../../\")"
   ]
  },
  {
   "cell_type": "code",
   "execution_count": null,
   "id": "6e1150e0-5c62-408b-a3b7-e5cc4e629e25",
   "metadata": {
    "vscode": {
     "languageId": "r"
    }
   },
   "outputs": [],
   "source": [
    "RhpcBLASctl::blas_set_num_threads(1)\n",
    "library(Seurat)\n",
    "library(dplyr)\n",
    "#library(tidyverse)\n",
    "library(here)\n",
    "#library(readxl)\n",
    "#library(Matrix)\n",
    "library(IMSBSeuratHelpers)\n",
    "library(ggplot2)\n",
    "#library(sctransform)\n",
    "library(future)\n",
    "library(data.table)\n",
    "library(xlsx)\n",
    "plan(\"multicore\", workers = 1)\n",
    "options(future.globals.maxSize = 20 * 1000 * 1024^2)#20GB\n",
    "options(repr.matrix.max.rows=600, repr.matrix.max.cols=200)"
   ]
  },
  {
   "cell_type": "code",
   "execution_count": null,
   "id": "d1e7b333-ffcc-4a51-9304-0c0fb5177b26",
   "metadata": {
    "vscode": {
     "languageId": "r"
    }
   },
   "outputs": [],
   "source": [
    "#library(devtools)\n",
    "#install_github(\"immunogenomics/harmony\")"
   ]
  },
  {
   "cell_type": "code",
   "execution_count": null,
   "id": "7bcb8cee-e4dd-4e0f-9250-4056ebbb9338",
   "metadata": {
    "vscode": {
     "languageId": "r"
    }
   },
   "outputs": [],
   "source": [
    "library(harmony)"
   ]
  },
  {
   "cell_type": "code",
   "execution_count": null,
   "id": "0d319948-61b3-4f80-805d-e1e798eb43ef",
   "metadata": {
    "vscode": {
     "languageId": "r"
    }
   },
   "outputs": [],
   "source": [
    "samples_ID=\"Harmony_ANCA_28PK28PB_T\""
   ]
  },
  {
   "cell_type": "code",
   "execution_count": null,
   "id": "69057757-361a-482c-b22f-33f0fec77671",
   "metadata": {
    "vscode": {
     "languageId": "r"
    }
   },
   "outputs": [],
   "source": [
    "seu_K<-readRDS(paste0(\"Integrated_objects/Harmony_ANCA_31PK_T.rds\"))\n",
    "seu_K"
   ]
  },
  {
   "cell_type": "code",
   "execution_count": null,
   "id": "6936b77e-9e55-49df-a3d0-d08083b5d870",
   "metadata": {
    "vscode": {
     "languageId": "r"
    }
   },
   "outputs": [],
   "source": [
    "as.data.frame(table(seu_K@meta.data$patient))"
   ]
  },
  {
   "cell_type": "code",
   "execution_count": null,
   "id": "1497817e-53ec-4383-8627-b5847d6c0a7c",
   "metadata": {
    "vscode": {
     "languageId": "r"
    }
   },
   "outputs": [],
   "source": [
    "levels(seu_K)"
   ]
  },
  {
   "cell_type": "code",
   "execution_count": null,
   "id": "41eba6cb-5a54-4ec9-9108-748c2bb1f4ea",
   "metadata": {
    "vscode": {
     "languageId": "r"
    }
   },
   "outputs": [],
   "source": [
    "Idents(seu_K)<-\"patient\"\n",
    "seu_K_sub<-subset(seu_K, idents=c(\"P032\",\"P069\",\"P094\"), invert = TRUE)\n",
    "seu_K_sub\n",
    "as.data.frame(table(seu_K_sub@meta.data$sample))\n"
   ]
  },
  {
   "cell_type": "code",
   "execution_count": null,
   "id": "8cf82b77-fe40-4ceb-8942-9671f8f904ae",
   "metadata": {
    "vscode": {
     "languageId": "r"
    }
   },
   "outputs": [],
   "source": [
    "saveRDS(seu_K_sub, file = paste0(\"Integrated_objects/Harmony_ANCA_28PK_T.rds\"))"
   ]
  },
  {
   "cell_type": "code",
   "execution_count": null,
   "id": "1373c2ed-a2f3-4adc-b1bf-2b4bbcc1c78d",
   "metadata": {
    "vscode": {
     "languageId": "r"
    }
   },
   "outputs": [],
   "source": []
  }
 ],
 "metadata": {
  "kernelspec": {
   "display_name": "R",
   "language": "R",
   "name": "ir"
  },
  "language_info": {
   "codemirror_mode": "r",
   "file_extension": ".r",
   "mimetype": "text/x-r-source",
   "name": "R",
   "pygments_lexer": "r",
   "version": "4.1.1"
  }
 },
 "nbformat": 4,
 "nbformat_minor": 5
}
