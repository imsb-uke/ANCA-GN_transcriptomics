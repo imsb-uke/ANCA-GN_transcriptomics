{
 "cells": [
  {
   "cell_type": "code",
   "execution_count": null,
   "id": "a8bc9dd0-84a8-469d-8097-613d901938cd",
   "metadata": {
    "vscode": {
     "languageId": "r"
    }
   },
   "outputs": [],
   "source": [
    "setwd(\"../../../../\")"
   ]
  },
  {
   "cell_type": "code",
   "execution_count": null,
   "id": "6e1150e0-5c62-408b-a3b7-e5cc4e629e25",
   "metadata": {
    "vscode": {
     "languageId": "r"
    }
   },
   "outputs": [],
   "source": [
    "RhpcBLASctl::blas_set_num_threads(1)\n",
    "library(Seurat)\n",
    "library(dplyr)\n",
    "#library(tidyverse)\n",
    "library(here)\n",
    "#library(readxl)\n",
    "#library(Matrix)\n",
    "library(IMSBSeuratHelpers)\n",
    "library(ggplot2)\n",
    "#library(sctransform)\n",
    "library(future)\n",
    "library(data.table)\n",
    "library(xlsx)\n",
    "plan(\"multicore\", workers = 1)\n",
    "options(future.globals.maxSize = 20 * 1000 * 1024^2)#20GB\n",
    "options(repr.matrix.max.rows=600, repr.matrix.max.cols=200)"
   ]
  },
  {
   "cell_type": "code",
   "execution_count": null,
   "id": "d1e7b333-ffcc-4a51-9304-0c0fb5177b26",
   "metadata": {
    "vscode": {
     "languageId": "r"
    }
   },
   "outputs": [],
   "source": [
    "#library(devtools)\n",
    "#install_github(\"immunogenomics/harmony\")"
   ]
  },
  {
   "cell_type": "code",
   "execution_count": null,
   "id": "0d319948-61b3-4f80-805d-e1e798eb43ef",
   "metadata": {
    "vscode": {
     "languageId": "r"
    }
   },
   "outputs": [],
   "source": [
    "samples_ID=\"Harmony_Ustekinumab_4PK4PB_T_CD4EMRM\""
   ]
  },
  {
   "cell_type": "code",
   "execution_count": null,
   "id": "d61eb231-9668-4699-ae71-a3fb71e0ce36",
   "metadata": {
    "vscode": {
     "languageId": "r"
    }
   },
   "outputs": [],
   "source": [
    "seu<-readRDS(paste0(\"Integrated_objects/Harmony_Ustekinumab_4PK4PB_T_CD4EMRM_clustered.rds\"))"
   ]
  },
  {
   "cell_type": "code",
   "execution_count": null,
   "id": "d74ba212-2fee-480e-84ca-440b496765eb",
   "metadata": {
    "vscode": {
     "languageId": "r"
    }
   },
   "outputs": [],
   "source": [
    "DefaultAssay(seu)<-'RNA'"
   ]
  },
  {
   "cell_type": "code",
   "execution_count": null,
   "id": "9269cae0-5ccf-4e9a-9384-fb4db436318b",
   "metadata": {
    "vscode": {
     "languageId": "r"
    }
   },
   "outputs": [],
   "source": [
    "seu"
   ]
  },
  {
   "cell_type": "code",
   "execution_count": null,
   "id": "8e746945-1597-4204-828b-cf1d9d09a373",
   "metadata": {
    "vscode": {
     "languageId": "r"
    }
   },
   "outputs": [],
   "source": [
    "table(seu@meta.data$tissue)"
   ]
  },
  {
   "cell_type": "code",
   "execution_count": null,
   "id": "51c97528-bff5-45fb-89c0-3bf094700e7d",
   "metadata": {
    "vscode": {
     "languageId": "r"
    }
   },
   "outputs": [],
   "source": [
    "as.data.frame(table(seu@meta.data$sample))"
   ]
  },
  {
   "cell_type": "code",
   "execution_count": null,
   "id": "fe8f533a-658d-4eaf-a3d9-b06c34dd01eb",
   "metadata": {
    "vscode": {
     "languageId": "r"
    }
   },
   "outputs": [],
   "source": [
    "as.data.frame(table(seu@meta.data$patient))"
   ]
  },
  {
   "cell_type": "code",
   "execution_count": null,
   "id": "ec7e4d61-fcf0-4d5c-94e2-968eb73c1cd5",
   "metadata": {
    "vscode": {
     "languageId": "r"
    }
   },
   "outputs": [],
   "source": [
    "#DimPlot(object = seu, reduction = 'tsne',label = F, \n",
    "#        pt.size = 0.1)+ theme(aspect.ratio=1)\n",
    "DimPlot(object = seu, reduction = 'umap',label = T, \n",
    "        pt.size = 0.1)+ theme(aspect.ratio=1)"
   ]
  },
  {
   "cell_type": "code",
   "execution_count": null,
   "id": "42fea0f5-69a8-4f4b-9a39-7248d7770bf8",
   "metadata": {
    "vscode": {
     "languageId": "r"
    }
   },
   "outputs": [],
   "source": [
    "DimPlot(object = seu, reduction = 'umap',label = F, \n",
    "        group.by = \"tissue\",\n",
    "        pt.size = 0.1)+ theme(aspect.ratio=1)"
   ]
  },
  {
   "cell_type": "code",
   "execution_count": null,
   "id": "d4d099a8-9d61-4058-8783-1c0b9546a7f2",
   "metadata": {
    "vscode": {
     "languageId": "r"
    }
   },
   "outputs": [],
   "source": [
    "DimPlot(object = seu, reduction = 'umap',label = F, \n",
    "        group.by = \"patient\",\n",
    "        pt.size = 0.1)+ theme(aspect.ratio=1)"
   ]
  },
  {
   "cell_type": "code",
   "execution_count": null,
   "id": "e66baa1c-2587-4dda-ba32-0f79d33df72e",
   "metadata": {
    "vscode": {
     "languageId": "r"
    }
   },
   "outputs": [],
   "source": [
    "DimPlot(object = seu, reduction = 'umap',label = F, \n",
    "        group.by = \"sample\",\n",
    "        pt.size = 0.1)+ theme(aspect.ratio=1)"
   ]
  },
  {
   "cell_type": "code",
   "execution_count": null,
   "id": "8595a806-1302-4be0-93af-38ae203acf0d",
   "metadata": {
    "vscode": {
     "languageId": "r"
    }
   },
   "outputs": [],
   "source": []
  },
  {
   "cell_type": "code",
   "execution_count": null,
   "id": "23c36fe3-b7d4-4b6f-b783-f6cb6f9f278c",
   "metadata": {
    "vscode": {
     "languageId": "r"
    }
   },
   "outputs": [],
   "source": []
  },
  {
   "cell_type": "code",
   "execution_count": null,
   "id": "dca07f94-f468-4e16-9020-c08c034dd709",
   "metadata": {
    "vscode": {
     "languageId": "r"
    }
   },
   "outputs": [],
   "source": [
    "new.cluster.ids <- c(\n",
    "'CD4TEM',\n",
    "'CD4TEM',\n",
    "'TFH',\n",
    "'TRM1',\n",
    "'TRM17',\n",
    "'TFH'\n",
    ")\n",
    "names(new.cluster.ids) <- levels(seu)\n",
    "seu_1 <- RenameIdents(seu, new.cluster.ids)"
   ]
  },
  {
   "cell_type": "code",
   "execution_count": null,
   "id": "a74c47e7-f306-475f-a647-46ce02d37478",
   "metadata": {
    "vscode": {
     "languageId": "r"
    }
   },
   "outputs": [],
   "source": [
    "DimPlot(object = seu_1, reduction = 'umap',label = TRUE, \n",
    "        pt.size = 0.1,label.size = 6, repel = T\n",
    "       ) + theme(aspect.ratio=1,legend.position = \"right\")"
   ]
  },
  {
   "cell_type": "code",
   "execution_count": null,
   "id": "6786f6f1-c0b6-4a08-ab66-7fa51769a47b",
   "metadata": {
    "vscode": {
     "languageId": "r"
    }
   },
   "outputs": [],
   "source": [
    "DimPlot(object = seu_1, reduction = 'umap',label = TRUE, \n",
    "        pt.size = 0.1,label.size = 6, repel = T\n",
    "       ) + theme(aspect.ratio=1,legend.position = \"right\")+NoLegend()"
   ]
  },
  {
   "cell_type": "code",
   "execution_count": null,
   "id": "40104b4c-fb0b-44ce-a42d-3fb2f3ce8c3c",
   "metadata": {
    "vscode": {
     "languageId": "r"
    }
   },
   "outputs": [],
   "source": [
    "seu_1$cell_type <- Idents(seu_1)\n",
    "head(seu_1@meta.data)\n",
    "Idents(seu_1)<-\"cell_type\"\n",
    "levels(seu_1)"
   ]
  },
  {
   "cell_type": "code",
   "execution_count": null,
   "id": "11464f89-7f44-4b32-b695-55517d57f041",
   "metadata": {
    "vscode": {
     "languageId": "r"
    }
   },
   "outputs": [],
   "source": []
  },
  {
   "cell_type": "code",
   "execution_count": null,
   "id": "b67d1dbd-afe7-4479-9fc0-e790c78694bf",
   "metadata": {
    "vscode": {
     "languageId": "r"
    }
   },
   "outputs": [],
   "source": [
    "my_levels <- c(\n",
    "'TRM17',\n",
    "'TRM1',\n",
    "'CD4TEM',\n",
    "'TFH'\n",
    ")\n",
    "levels(seu_1) <- my_levels"
   ]
  },
  {
   "cell_type": "code",
   "execution_count": null,
   "id": "38c2a885-322c-4c78-a78d-38e7f38a3e24",
   "metadata": {
    "vscode": {
     "languageId": "r"
    }
   },
   "outputs": [],
   "source": [
    "DimPlot(object = seu_1, reduction = 'umap',label = TRUE, \n",
    "        pt.size = 0.1,label.size = 4, repel = T\n",
    "       ) + theme(aspect.ratio=1,legend.position = \"right\")"
   ]
  },
  {
   "cell_type": "code",
   "execution_count": null,
   "id": "73dd52e2-5b0b-4ee6-96d6-75637a672ced",
   "metadata": {
    "vscode": {
     "languageId": "r"
    }
   },
   "outputs": [],
   "source": [
    "levels(seu_1)"
   ]
  },
  {
   "cell_type": "code",
   "execution_count": null,
   "id": "63cb8c81-4830-47bb-a08c-5484a19e53c1",
   "metadata": {
    "vscode": {
     "languageId": "r"
    }
   },
   "outputs": [],
   "source": [
    "cols = c(\n",
    "'orange',#'TRM17',\n",
    "'red',#'TRM1',\n",
    "'#b0afd1',#'CD4TEM',\n",
    "'cadetblue1'#'TFH'\n",
    ")\n",
    "#levels(seu_1) <- my_levels"
   ]
  },
  {
   "cell_type": "code",
   "execution_count": null,
   "id": "f25b81c0-3af9-48ed-b70a-c26c1464219e",
   "metadata": {
    "vscode": {
     "languageId": "r"
    }
   },
   "outputs": [],
   "source": [
    "DimPlot(object = seu_1, reduction = 'umap',label = TRUE,\n",
    "        cols = cols,pt.size = 0.1,label.size = 6, repel = T\n",
    "       ) + theme(aspect.ratio=1,legend.position = \"right\")"
   ]
  },
  {
   "cell_type": "code",
   "execution_count": null,
   "id": "fc61f699-e0b3-4538-bf75-cf4c73885943",
   "metadata": {
    "vscode": {
     "languageId": "r"
    }
   },
   "outputs": [],
   "source": [
    "seu<-seu_1"
   ]
  },
  {
   "cell_type": "code",
   "execution_count": null,
   "id": "5fa594d8-0ad8-4ed0-b79c-02f9c313896c",
   "metadata": {
    "vscode": {
     "languageId": "r"
    }
   },
   "outputs": [],
   "source": [
    "#...#"
   ]
  },
  {
   "cell_type": "code",
   "execution_count": null,
   "id": "12a7eff2-0669-466e-9bed-72380019bc65",
   "metadata": {
    "vscode": {
     "languageId": "r"
    }
   },
   "outputs": [],
   "source": []
  },
  {
   "cell_type": "code",
   "execution_count": null,
   "id": "7bd01a72-7bb2-4661-89af-447c3a14d4c9",
   "metadata": {
    "vscode": {
     "languageId": "r"
    }
   },
   "outputs": [],
   "source": [
    "#saveRDS(seu_1, file = paste0(\"Integrated_objects/\",samples_ID,\"_clean.rds\"))"
   ]
  },
  {
   "cell_type": "code",
   "execution_count": null,
   "id": "6297987a-cb57-4e16-b524-3b3c0cc105a7",
   "metadata": {
    "vscode": {
     "languageId": "r"
    }
   },
   "outputs": [],
   "source": [
    "human_Trm_gene_up<-c(\"CD69\",\"CA10\",\"ITGA1\",\"ITGAE\",\"IL2\",\"IL10\",\"CXCR6\",\"CXCL13\",\"KCNK5\",\"RGS1\",\"CRTAM\",\"DUSP6\",\"PDCD1\",\"IL23R\")    \n",
    "human_Trm_gene_down<-c(\"STK38\",\"TTC16\",\"SELL\",\"KLF3\",\"KLF2\",\"D4S234E\",\"SBK1\",\"FAM65B\",\"TTYH2\",\"NPDC1\",\"KRT72\",\"S1PR1\",\"SOX13\",\"KRT73\",\"TSPAN18\",\"PTGDS\",\"RAP1GAP2\",\"CX3CR1\")\n",
    "human_Trm_gene_up_expressed <- intersect(human_Trm_gene_up, rownames(seu))\n",
    "human_Trm_gene_down_expressed <- intersect(human_Trm_gene_down, rownames(seu))\n",
    "\n",
    "\n",
    "human_CD4_CD69_up<-c(\"CD69\",\"CA10\",\"IL17F\",\"IL2\",\"CDHR1\",\"IL21\",\"IL10\",\"IL23R\",\"CXCL13\",\"CXCR6\",\"KCNK5\",\"ITGA1\",\"JAG2\",\"SRGAP3\",\"TOX2\",\"CH25H\",\"NEK10\",\"TMEM200A\",\"MYO1B\",\"PLXDC1\",\"IKZF3\",\"GFOD1\",\"CRTAM\",\"DUSP6\",\"RGS1\",\"TP53I11\",\"GFI1\",\"IFNG\",\"SLC7A5\",\"GCNT4\")\n",
    "human_CD4_CD69_down<-c(\"FAM65B\",\"STK38\",\"GRASP\",\"KLF3\",\"SAMD3\",\"GABBR1\",\"FRY\",\"ARHGEF11\",\"VIPR1\",\"BAIAP3\",\"MFGE8\",\"SBK1\",\"HAPLN3\",\"TTC16\",\"CX3CR1\",\"USP46\",\"PLXNA4\",\"D4S234E\",\"DSEL\",\"CNTNAP1\",\"VSIG1\",\"RGMB\",\"TTYH2\",\"EPHA4\",\"TNFRSF11A\",\"MUC1\",\"CR1\",\"E2F2\",\"KLF2\",\"EDA\",\"KRT73\",\"ZNF462\",\"RAP1GAP2\",\"S1PR1\",\"NPDC1\",\"FLJ13197\",\"ISM1\",\"TSPAN18\",\"KCTD15\",\"KRT72\",\"SEMA5A\",\"WNT7A\",\"SOX13\",\"FUT7\",\"PTGDS\",\"PI16\",\"SEMA3G\",\"SYT4\")\n",
    "human_CD4_CD69_up_expressed <- intersect(human_CD4_CD69_up, rownames(seu))\n",
    "human_CD4_CD69_down_expressed <- intersect(human_CD4_CD69_down, rownames(seu))\n",
    "\n",
    "\n",
    "human_CD8_CD69_up<-c(\"CD69\",\"CA10\",\"IL17A\",\"CXCL13\",\"SCUBE1\",\"GSG2\",\"ITGA1\",\"CXCR6\",\"ATP8B4\",\"CSF1\",\"ITGAE\",\"CPNE7\",\"IL10\",\"SPRY1\",\"MCAM\",\"RGS1\",\"KCNQ3\",\"DAB2IP\",\"TRPM2\",\"KCNK5\",\"IL23R\",\"PELO\",\"COL5A1\",\"IRF4\",\"FSD1\",\"IL17RE\",\"ADAM12\",\"CRTAM\",\"ARHGAP18\",\"CCR1\",\"AMICA1\",\"ICOS\",\"TMIGD2\",\"TP53INP1\",\"BMF\",\"CD9\",\"RIMS3\",\"DUSP6\",\"CCR6\",\"GZMB\",\"ZNF683\")\n",
    "human_CD8_CD69_down<-c(\"PXN\",\"FLNA\",\"CYB561\",\"CD300A\",\"TSPAN32\",\"RASA3\",\"GPR114\",\"TGFBR3\",\"SAMD3\",\"PELI2\",\"C11orf21\",\"RASGRP2\",\"SYNE1\",\"GK5\",\"SSX2IP\",\"STK38\",\"FGR\",\"SSBP3\",\"CFH\",\"ADAMTS10\",\"MTSS1\",\"KLF3\",\"KLF2\",\"SVIL\",\"CACNA2D2\",\"FAM65B\",\"SBK1\",\"PATL2\",\"TMCC3\",\"KIR2DS4\",\"HPCAL4\",\"VCL\",\"TTC16\",\"PDZD4\",\"DCHS1\",\"EBF4\",\"OSBPL5\",\"FZD4\",\"GNLY\",\"NHSL2\",\"TSPAN18\",\"ME3\",\"MSX2P1\",\"ZNF711\",\"D4S234E\",\"FCGR3A\",\"GPA33\",\"COL6A2\",\"CXCR2\",\"TTYH2\",\"AGPAT4\",\"TKTL1\",\"SELP\",\"LILRB1\",\"ITGAM\",\"LOXL4\",\"FLJ13197\",\"TFCP2L1\",\"C1orf21\",\"SLCO4C1\",\"NUAK1\",\"PALLD\",\"DNAI2\",\"SOX13\",\"S1PR1\",\"SELL\",\"PLEKHG3\",\"GPR56\",\"SPTB\",\"ZNF365\",\"PCDH1\",\"NPDC1\",\"KRT73\",\"KRT72\",\"ASCL2\",\"FAM19A1\",\"SGCD\",\"LAIR2\",\"EFHC2\",\"RAP1GAP2\",\"TXNDC3\",\"PODN\",\"SH3RF2\",\"KIF19\",\"PTGDS\",\"EPHX4\",\"PRSS23\",\"KIR3DX1\",\"CX3CR1\",\"SLC1A7\",\"FGFBP2\",\"LRFN2\",\"DGKK\")\n",
    "human_CD8_CD69_up_expressed <- intersect(human_CD8_CD69_up, rownames(seu))\n",
    "human_CD8_CD69_down_expressed <- intersect(human_CD8_CD69_down, rownames(seu))\n",
    "\n",
    "Proinflam_cytokines_human<-c(\n",
    "    #'IL1',\n",
    "    'IL2',\n",
    "    #'IL6',\n",
    "    #'IL1B',\n",
    "    'TNF',\n",
    "    'IFNG',\n",
    "    'IL17A',\n",
    "    'IL17F',\n",
    "    'IL22')\n",
    "Proinflam_cytokines_human_expressed <- intersect(Proinflam_cytokines_human, rownames(seu))"
   ]
  },
  {
   "cell_type": "code",
   "execution_count": null,
   "id": "1c9760e2-6a4e-4d2b-af35-93b1507239d5",
   "metadata": {
    "vscode": {
     "languageId": "r"
    }
   },
   "outputs": [],
   "source": [
    "Proinflam_cytokines_human_expressed"
   ]
  },
  {
   "cell_type": "code",
   "execution_count": null,
   "id": "c355b977-067b-4be3-a670-de001423d9b3",
   "metadata": {
    "vscode": {
     "languageId": "r"
    }
   },
   "outputs": [],
   "source": [
    "for (n in Proinflam_cytokines_human_expressed){\n",
    "    print(FeaturePlot(object = seu,features = n,\n",
    "                  cols = c(\"lightgrey\", \"blue\"),\n",
    "                      order = T,\n",
    "                      slot = \"data\",\n",
    "                      #min.cutoff = \"q05\", max.cutoff = \"q95\",\n",
    "                      reduction = \"umap\",\n",
    "                pt.size=0.1\n",
    "                       ))   \n",
    "      print(VlnPlot(object = seu, features = n,\n",
    "                 #group.by = \"sample\",\n",
    "                 #x.lab.rot=T, \n",
    "                 #size.x.use = 5,\n",
    "                 pt.size = 0.01\n",
    "                      )+NoLegend()\n",
    "   )\n",
    "          print(VlnPlot(object = seu, features = n,\n",
    "                 #group.by = \"sample\",\n",
    "                 #x.lab.rot=T, \n",
    "                 #size.x.use = 5,\n",
    "                 pt.size = 0\n",
    "                      )+NoLegend()\n",
    "   )\n",
    "   #print(RidgePlot(seu, \n",
    "   #          features = n))\n",
    "\n",
    "    }"
   ]
  },
  {
   "cell_type": "code",
   "execution_count": null,
   "id": "683fa616-faad-4a3d-877c-777135aa9315",
   "metadata": {
    "vscode": {
     "languageId": "r"
    }
   },
   "outputs": [],
   "source": [
    "Proinflam_cytokines_human_expressed"
   ]
  },
  {
   "cell_type": "code",
   "execution_count": null,
   "id": "d2bc7750-a1e9-4f99-8cf3-b77cf9f553d9",
   "metadata": {
    "vscode": {
     "languageId": "r"
    }
   },
   "outputs": [],
   "source": [
    "Trm_genes=list(human_Trm_gene_up_expressed,\n",
    "               human_Trm_gene_down_expressed,\n",
    "               human_CD4_CD69_up_expressed,\n",
    "               human_CD4_CD69_down_expressed,\n",
    "               human_CD8_CD69_up_expressed,\n",
    "               human_CD8_CD69_down_expressed,\n",
    "               Proinflam_cytokines_human_expressed\n",
    "              )\n",
    "\n",
    "#CD4Trm_genes=list(human_CD4_CD69_up_expressed,human_CD4_CD69_down_expressed)\n",
    "\n",
    "#CD4Trm_genes=list(human_Trm_gene_up_expressed,human_Trm_gene_down_expressed)\n",
    "\n",
    "seu<-AddModuleScore(seu, features = Trm_genes, pool = NULL, nbin = 24,\n",
    "  ctrl = 100, k = FALSE, assay = NULL, name = c(\"Trm_score\",\n",
    "                                                \"non_Trm_score\",\n",
    "                                               \"CD4_Trm_score\",\n",
    "                                                \"CD4_non_Trm_score\",\n",
    "                                                \"CD8_Trm_score\",\n",
    "                                                \"CD8_non_Trm_score\",\n",
    "                                                \"Proinflam_cytokines_score\"\n",
    "                                               ), seed = 1)\n",
    "head(seu@meta.data)\n"
   ]
  },
  {
   "cell_type": "code",
   "execution_count": null,
   "id": "0ad475bb-91bd-4a47-addd-ce4b11ace694",
   "metadata": {
    "vscode": {
     "languageId": "r"
    }
   },
   "outputs": [],
   "source": [
    "TRM_scores<-c(\"Trm_score1\",\n",
    " \"non_Trm_score2\",\n",
    "#\"CD4_Trm_score3\",\n",
    "# \"CD4_non_Trm_score4\",\n",
    "# \"CD8_Trm_score5\",\n",
    " #\"CD8_non_Trm_score6\",\n",
    " \"Proinflam_cytokines_score7\")"
   ]
  },
  {
   "cell_type": "code",
   "execution_count": null,
   "id": "8b691641-a14f-4137-9be1-4868e62a7088",
   "metadata": {
    "tags": [],
    "vscode": {
     "languageId": "r"
    }
   },
   "outputs": [],
   "source": [
    "for (n in TRM_scores){\n",
    "    print(FeaturePlot(object = seu,features = n,\n",
    "                  cols = c(\"lightgrey\", \"blue\"),\n",
    "                      order = T,\n",
    "                      slot = \"data\",\n",
    "                      min.cutoff = 0, \n",
    "                      max.cutoff = 0.8, \n",
    "                      #max.cutoff = \"q95\",\n",
    "                      reduction = \"umap\",\n",
    "                pt.size=0.1\n",
    "                       ))   \n",
    "      print(VlnPlot(object = seu, features = n,\n",
    "                 #group.by = \"sample\",\n",
    "                    #cols = cols\n",
    "                    split.by = \"tissue\",\n",
    "                    split.plot = TRUE,\n",
    "                 #x.lab.rot=T, \n",
    "                 #size.x.use = 5,\n",
    "                 pt.size = 0\n",
    "                      )\n",
    "   )\n",
    "    print(VlnPlot(object = seu, features = n,\n",
    "                  cols = cols,\n",
    "                 #group.by = \"sample\",\n",
    "                    #split.by = \"tissue\",\n",
    "                    #split.plot = TRUE,\n",
    "                    y.max = 0.8,\n",
    "                 #x.lab.rot=T, \n",
    "                 #size.x.use = 5,\n",
    "                 pt.size = 0\n",
    "                      )\n",
    "    )\n",
    "        print(VlnPlot(object = seu, features = n,\n",
    "                 group.by = \"tissue\",\n",
    "                 #cols = cols,\n",
    "                 #x.lab.rot=T, \n",
    "                 #size.x.use = 5,\n",
    "                 pt.size = 0\n",
    "                      )+NoLegend()\n",
    "   )\n",
    "    }"
   ]
  },
  {
   "cell_type": "code",
   "execution_count": null,
   "id": "c865e289-dd24-4f0d-9cde-d4c5d774fba7",
   "metadata": {
    "vscode": {
     "languageId": "r"
    }
   },
   "outputs": [],
   "source": []
  },
  {
   "cell_type": "code",
   "execution_count": null,
   "id": "77edc6dc-7f6c-4c78-a1eb-105b90c0ec6d",
   "metadata": {
    "vscode": {
     "languageId": "r"
    }
   },
   "outputs": [],
   "source": [
    "#seu_1<-seu"
   ]
  },
  {
   "cell_type": "code",
   "execution_count": null,
   "id": "94eac59b-36e6-4b0a-8d46-b3b689837096",
   "metadata": {
    "vscode": {
     "languageId": "r"
    }
   },
   "outputs": [],
   "source": [
    "Th1_genes_human<-c(\"CD4\",\"CXCR3\",\"TBX21\",\"IFNG\",\"TNF\")\n",
    "Th17_genes_human<-c(\"CD4\",\"CCR6\",\"IL23R\",\"RORC\",\"RORA\",\"IL17A\",\"IL17F\",\"IL22\")\n",
    "Th2_genes_human<-c(\"CD4\",\n",
    "                   \"GATA3\",\"IL4\",\"IL5\",\"IL13\")\n",
    "Th1_genes_human_expressed <- intersect(Th1_genes_human, rownames(seu))\n",
    "Th17_genes_human_expressed <- intersect(Th17_genes_human, rownames(seu))\n",
    "Th2_genes_human_expressed <- intersect(Th2_genes_human, rownames(seu))"
   ]
  },
  {
   "cell_type": "code",
   "execution_count": null,
   "id": "76656337-8f26-4299-bf15-e08e57e51a1a",
   "metadata": {
    "vscode": {
     "languageId": "r"
    }
   },
   "outputs": [],
   "source": [
    "Th_genes=list(Th1_genes_human_expressed,\n",
    "               Th17_genes_human_expressed,\n",
    "               Th2_genes_human_expressed\n",
    "              )"
   ]
  },
  {
   "cell_type": "code",
   "execution_count": null,
   "id": "449eb713-9129-4975-a3bd-429061e30319",
   "metadata": {
    "vscode": {
     "languageId": "r"
    }
   },
   "outputs": [],
   "source": [
    "seu_1<-AddModuleScore(seu_1, features = Th_genes, pool = NULL, nbin = 24,\n",
    "  ctrl = 100, k = FALSE, assay = NULL, name = c(\"Th1_score\",\n",
    "                                                \"Th17_score\",\n",
    "                                               \"Th2_score\"\n",
    "                                               ), seed = 1)\n",
    "head(seu_1@meta.data)"
   ]
  },
  {
   "cell_type": "code",
   "execution_count": null,
   "id": "73529d69-a6ab-4d72-b340-ae3bf5b59656",
   "metadata": {
    "tags": [],
    "vscode": {
     "languageId": "r"
    }
   },
   "outputs": [],
   "source": [
    "Th_scores<-c(\"Th1_score1\",\n",
    " \"Th17_score2\",\n",
    "\"Th2_score3\")\n",
    "for (n in Th_scores){\n",
    "    print(FeaturePlot(object = seu_1,features = n,\n",
    "                  cols = c(\"lightgrey\", \"blue\"),\n",
    "                      order = T,\n",
    "                      slot = \"data\",\n",
    "                      min.cutoff = 0,\n",
    "                      max.cutoff = 0.8, \n",
    "                      #max.cutoff = \"q95\",\n",
    "                      #max.cutoff = 1,\n",
    "                      reduction = \"umap\",\n",
    "                pt.size=0.1\n",
    "                       ))   \n",
    "      print(VlnPlot(object = seu_1, features = n,\n",
    "                 #group.by = \"sample\",\n",
    "                    split.by = \"tissue\",\n",
    "                    split.plot = TRUE,\n",
    "                    y.max = 0.8,\n",
    "                 #x.lab.rot=T, \n",
    "                 #size.x.use = 5,\n",
    "                 pt.size = 0\n",
    "                      )\n",
    "   )\n",
    "    print(VlnPlot(object = seu_1, features = n,\n",
    "                  cols = cols,\n",
    "                 #group.by = \"sample\",\n",
    "                    #split.by = \"tissue\",\n",
    "                    #split.plot = TRUE,\n",
    "                    y.max = 0.8,\n",
    "                 #x.lab.rot=T, \n",
    "                 #size.x.use = 5,\n",
    "                 pt.size = 0\n",
    "                      )\n",
    "   )\n",
    "        print(VlnPlot(object = seu_1, features = n,\n",
    "                 group.by = \"tissue\",\n",
    "                      y.max = 0.8,\n",
    "                 #x.lab.rot=T, \n",
    "                 #size.x.use = 5,\n",
    "                 pt.size = 0\n",
    "                      )+NoLegend()\n",
    "   )\n",
    "    }"
   ]
  },
  {
   "cell_type": "code",
   "execution_count": null,
   "id": "2a003646-0008-41cd-9922-a8a22edaee21",
   "metadata": {
    "vscode": {
     "languageId": "r"
    }
   },
   "outputs": [],
   "source": []
  },
  {
   "cell_type": "code",
   "execution_count": null,
   "id": "98a7da54-ae0e-4ec3-b701-3e464cdc7cd9",
   "metadata": {
    "vscode": {
     "languageId": "r"
    }
   },
   "outputs": [],
   "source": []
  },
  {
   "cell_type": "code",
   "execution_count": null,
   "id": "2355cadc-a90e-47dc-9587-4266d2f42f46",
   "metadata": {
    "vscode": {
     "languageId": "r"
    }
   },
   "outputs": [],
   "source": [
    "# find markers for every cluster compared to all remaining cells, report only the positive ones\n",
    "seu.markers <- FindAllMarkers(object = seu, only.pos = TRUE, \n",
    "                              min.pct = 0.25, logfc.threshold = 0.25)\n",
    "#logfc.threshold=0.25 (default) instead of old version thresh.use=0.25\n",
    "head(seu.markers)\n",
    "dim(seu.markers)"
   ]
  },
  {
   "cell_type": "code",
   "execution_count": null,
   "id": "b777370e-0f48-4b96-94f6-8d9ba3a7f0ce",
   "metadata": {
    "vscode": {
     "languageId": "r"
    }
   },
   "outputs": [],
   "source": [
    "top3 <- seu.markers %>% group_by(cluster) %>% top_n(3, avg_log2FC)\n",
    "top5 <- seu.markers %>% group_by(cluster) %>% top_n(5, avg_log2FC)\n",
    "top10 <- seu.markers %>% group_by(cluster) %>% top_n(10, avg_log2FC)\n",
    "top10"
   ]
  },
  {
   "cell_type": "code",
   "execution_count": null,
   "id": "7a16f8de-2c94-4b5f-850d-faa2c5fd7f4a",
   "metadata": {
    "vscode": {
     "languageId": "r"
    }
   },
   "outputs": [],
   "source": [
    "plt1<-DotPlot(seu, features = rev(unique(top10$gene)),\n",
    "              dot.scale = 5\n",
    "              #scale.by = \"size\"\n",
    "             ) + coord_flip()+\n",
    "theme(#strip.background = element_blank(),\n",
    "    axis.title = element_blank(),\n",
    "    axis.text.x = element_text(size = 10,angle = 45,hjust = 1),\n",
    "    axis.text.y = element_text(size = 10),\n",
    "     legend.position = \"right\",\n",
    "     #legend.spacing = unit(0, \"mm\"),\n",
    "     legend.direction = \"vertical\",\n",
    "        legend.text = element_text(size=5),\n",
    "        legend.key.width = unit(2, \"mm\"),\n",
    "        legend.key.height = unit(2, \"mm\"),\n",
    "        legend.box.spacing = unit(1, \"mm\"),\n",
    "        legend.margin = margin(2),\n",
    "        legend.title = element_text(size = 7,angle = 90)\n",
    ")\n",
    "plt1"
   ]
  },
  {
   "cell_type": "code",
   "execution_count": null,
   "id": "0893c3f3-82a8-4002-9bfe-62db025a47a9",
   "metadata": {
    "vscode": {
     "languageId": "r"
    }
   },
   "outputs": [],
   "source": [
    "levels(seu)"
   ]
  },
  {
   "cell_type": "code",
   "execution_count": null,
   "id": "5e57f0b3-419a-4d2b-966b-4af0056f8c94",
   "metadata": {
    "vscode": {
     "languageId": "r"
    }
   },
   "outputs": [],
   "source": [
    "df<-seu@meta.data[,c(\"sample\",\"case\",\"tissue\",\"cell_type\")]\n",
    "dim(df)\n",
    "head(df)"
   ]
  },
  {
   "cell_type": "code",
   "execution_count": null,
   "id": "643dea03-340e-4c3b-a034-779ca8754d46",
   "metadata": {
    "vscode": {
     "languageId": "r"
    }
   },
   "outputs": [],
   "source": [
    "df$cell_type <- factor(df$cell_type,levels = rev(my_levels))"
   ]
  },
  {
   "cell_type": "code",
   "execution_count": null,
   "id": "9c33d30b-b7fd-49ea-8c5b-227fb08e81f4",
   "metadata": {
    "vscode": {
     "languageId": "r"
    }
   },
   "outputs": [],
   "source": [
    "#levels(df$cell_type)<-my_levels"
   ]
  },
  {
   "cell_type": "code",
   "execution_count": null,
   "id": "9367733f-3d5f-4f86-973d-a1099191d87d",
   "metadata": {
    "vscode": {
     "languageId": "r"
    }
   },
   "outputs": [],
   "source": [
    "cols"
   ]
  },
  {
   "cell_type": "code",
   "execution_count": null,
   "id": "909b8023-c8eb-4e12-8be6-4f6154ec1367",
   "metadata": {
    "vscode": {
     "languageId": "r"
    }
   },
   "outputs": [],
   "source": [
    "plt<-ggplot(df, aes(x=cell_type, fill=tissue)) +\n",
    "geom_bar(position = \"fill\",linetype = \"solid\", colour = \"black\")+\n",
    "geom_errorbar(data=df, aes(x=cell_type,\n",
    "                           ymax = table(df$tissue)[length(table(df$tissue))]/nrow(df),\n",
    "                           ymin = table(df$tissue)[length(table(df$tissue))]/nrow(df)),\n",
    "               size=0.5, linetype = \"longdash\", \n",
    "              inherit.aes = F, width = 1) +\n",
    "geom_errorbar(data=df, aes(x=cell_type,\n",
    "                           ymax = (1-as.numeric(table(df$tissue)[1]/nrow(df))),\n",
    "                           ymin = (1-as.numeric(table(df$tissue)[1]/nrow(df)))),\n",
    "               size=0.5, linetype = \"longdash\", \n",
    "              inherit.aes = F, width = 1) +\n",
    "#scale_fill_manual(values=c(\"green\",\"red\"),labels=c(\"K\",\"B\"))+\n",
    "coord_flip()\n",
    "plt+theme(axis.text.x = element_text(angle = 0, hjust = 0.5,colour=\"black\", size = 12),\n",
    "     axis.text.y=element_text(colour=\"black\", size = 12),\n",
    "     legend.position=\"bottom\", legend.direction=\"horizontal\", legend.title = element_blank()\n",
    "    )+ labs(x=\"\",y=\"Proportion\")+guides(fill = guide_legend(reverse = TRUE))"
   ]
  },
  {
   "cell_type": "code",
   "execution_count": null,
   "id": "134b87ea-5ce7-438b-8f54-caac69e94bc5",
   "metadata": {
    "vscode": {
     "languageId": "r"
    }
   },
   "outputs": [],
   "source": []
  },
  {
   "cell_type": "code",
   "execution_count": null,
   "id": "aa653eb9-7821-4351-be61-6fa1438fab1c",
   "metadata": {
    "vscode": {
     "languageId": "r"
    }
   },
   "outputs": [],
   "source": [
    "plt<-ggplot(df, aes(x=cell_type, fill=tissue)) +\n",
    "geom_bar(position = \"fill\",linetype = \"solid\", colour = \"black\")+\n",
    "geom_errorbar(data=df, aes(x=cell_type,\n",
    "                           ymax = table(df$tissue)[length(table(df$tissue))]/nrow(df),\n",
    "                           ymin = table(df$tissue)[length(table(df$tissue))]/nrow(df)),\n",
    "               size=0.5, linetype = \"longdash\", \n",
    "              inherit.aes = F, width = 1) +\n",
    "geom_errorbar(data=df, aes(x=cell_type,\n",
    "                           ymax = (1-as.numeric(table(df$tissue)[1]/nrow(df))),\n",
    "                           ymin = (1-as.numeric(table(df$tissue)[1]/nrow(df)))),\n",
    "               size=0.5, linetype = \"longdash\", \n",
    "              inherit.aes = F, width = 1) #+\n",
    "#scale_fill_manual(values=c(\"green\",\"red\"),labels=c(\"DN\",\"Ctrl\"))+\n",
    "#coord_flip()\n",
    "plt+theme(axis.text.x = element_text(angle = 45, hjust = 1,colour=\"black\", size = 12),\n",
    "     axis.text.y=element_text(colour=\"black\", size = 12),\n",
    "     legend.position=\"bottom\", legend.direction=\"horizontal\", legend.title = element_blank()\n",
    "    )+ labs(x=\"\",y=\"Proportion\")+guides(fill = guide_legend(reverse = TRUE))"
   ]
  },
  {
   "cell_type": "code",
   "execution_count": null,
   "id": "df19951f-5bf3-423c-8f21-6372fadeda35",
   "metadata": {
    "vscode": {
     "languageId": "r"
    }
   },
   "outputs": [],
   "source": [
    "#ggplot(df, aes(x=seurat_clusters, fill=tissue))\n",
    "\n",
    "myplot <- ggplot(df, aes(cell_type, \n",
    "                         group = tissue#,\n",
    "                         #fill=cols\n",
    "                        )) + \n",
    "          geom_bar(aes(y = ..prop.., fill = factor(..x..)\n",
    "                      ), stat=\"count\") +\n",
    "coord_flip()+ \n",
    "          scale_y_continuous(labels=scales::percent) +\n",
    "          ylab(\"relative frequencies\") +\n",
    "          scale_fill_manual(values=rev(cols),labels=rev(my_levels))+\n",
    "          theme(axis.text.x = element_text(angle = 0, hjust = 1,colour=\"black\", size = 10),\n",
    "               axis.text.y = element_text(size = 15))+\n",
    "          facet_grid(~tissue)+NoLegend()\n",
    "myplot"
   ]
  },
  {
   "cell_type": "code",
   "execution_count": null,
   "id": "fb055591-4530-4f79-a7c6-287d544da861",
   "metadata": {
    "vscode": {
     "languageId": "r"
    }
   },
   "outputs": [],
   "source": [
    "#saveRDS(seu_sub, file = paste0(\"Integrated_objects/\",samples_ID,\"_CD4EMRM.rds\"))"
   ]
  },
  {
   "cell_type": "code",
   "execution_count": null,
   "id": "835a6424-d997-44c1-94f8-57623bb71e43",
   "metadata": {
    "vscode": {
     "languageId": "r"
    }
   },
   "outputs": [],
   "source": [
    "DimPlot(object = seu, reduction = 'umap',label = TRUE,\n",
    "        cols = cols,\n",
    "        pt.size = 0.1,label.size = 4, repel = T\n",
    "       ) + theme(aspect.ratio=1,legend.position = \"right\")"
   ]
  },
  {
   "cell_type": "code",
   "execution_count": null,
   "id": "96f5a37f-dfd8-43aa-8fcb-cced03baa10a",
   "metadata": {
    "vscode": {
     "languageId": "r"
    }
   },
   "outputs": [],
   "source": [
    "samples_ID"
   ]
  },
  {
   "cell_type": "code",
   "execution_count": null,
   "id": "50b5faaa-7c4d-4999-ac95-0a7fc3e66126",
   "metadata": {
    "vscode": {
     "languageId": "r"
    }
   },
   "outputs": [],
   "source": [
    "saveRDS(seu, file = paste0(\"Integrated_objects/\",samples_ID,\"_celltype.rds\"))"
   ]
  },
  {
   "cell_type": "code",
   "execution_count": null,
   "id": "70caf54a-51ab-463c-92ce-3cb47c09c002",
   "metadata": {
    "vscode": {
     "languageId": "r"
    }
   },
   "outputs": [],
   "source": []
  }
 ],
 "metadata": {
  "kernelspec": {
   "display_name": "R",
   "language": "R",
   "name": "ir"
  },
  "language_info": {
   "codemirror_mode": "r",
   "file_extension": ".r",
   "mimetype": "text/x-r-source",
   "name": "R",
   "pygments_lexer": "r",
   "version": "4.2.2"
  }
 },
 "nbformat": 4,
 "nbformat_minor": 5
}
