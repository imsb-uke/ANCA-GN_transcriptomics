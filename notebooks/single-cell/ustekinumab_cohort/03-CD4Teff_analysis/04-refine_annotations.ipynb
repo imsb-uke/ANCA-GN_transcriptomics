{
 "cells": [
  {
   "cell_type": "code",
   "execution_count": null,
   "metadata": {},
   "outputs": [],
   "source": [
    "%load_ext autoreload\n",
    "%autoreload 2\n",
    "\n",
    "import sys\n",
    "import os\n",
    "\n",
    "os.chdir(\"../../../../\")\n",
    "\n",
    "import yaml\n",
    "import anndata as ad\n",
    "import matplotlib.pyplot as plt\n",
    "import seaborn as sns\n",
    "import mudata as md\n",
    "import muon as mu\n",
    "import numpy as np\n",
    "import scanpy as sc\n",
    "from matplotlib import gridspec\n",
    "import scanpy.external as sce\n",
    "from scipy import sparse\n",
    "from matplotlib.colors import LinearSegmentedColormap\n",
    "\n",
    "from utils.utils import *\n",
    "from utils.plotting import *\n",
    "\n",
    "sc.settings.verbosity = 0\n",
    "sc.settings.set_figure_params(\n",
    "    dpi=100,\n",
    "    facecolor=\"white\",\n",
    "    # color_map=\"YlGnBu\",\n",
    "    frameon=False,\n",
    ")\n",
    "import matplotlib as mpl\n",
    "\n",
    "sc.set_figure_params(dpi=100)\n",
    "sns.set(style=\"white\")"
   ]
  },
  {
   "cell_type": "code",
   "execution_count": null,
   "metadata": {},
   "outputs": [],
   "source": [
    "data_path = \"data/anca/ustekinumab/ANCA_4PK4PB_ustekinumab_subset.h5mu\"\n",
    "anca_data = md.read_h5mu(data_path)"
   ]
  },
  {
   "cell_type": "code",
   "execution_count": null,
   "metadata": {},
   "outputs": [],
   "source": [
    "anca_data"
   ]
  },
  {
   "cell_type": "code",
   "execution_count": null,
   "metadata": {},
   "outputs": [],
   "source": [
    "relevant_obs = [\n",
    "    \"patient\",\n",
    "    \"sample\",\n",
    "    \"tissue\",\n",
    "    \"case\",\n",
    "    \"orig.ident\",\n",
    "    \"cell_type\",\n",
    "    \"RNA_snn_res.0.3\",\n",
    "]\n",
    "anca_data.obs = anca_data.obs[relevant_obs]\n"
   ]
  },
  {
   "cell_type": "code",
   "execution_count": null,
   "metadata": {},
   "outputs": [],
   "source": [
    "mod = \"RNA\"\n",
    "rna_data = ad.AnnData(\n",
    "    anca_data.mod[mod].layers[\"counts\"].copy(),\n",
    "    # obs=anca_data.obs.copy(),\n",
    "    var=anca_data.mod[mod].var[[]],\n",
    "    layers={\"counts\": anca_data.mod[mod].layers[\"counts\"].copy()},\n",
    "    obsm={\n",
    "        \"X_harmony\": anca_data.obsm[\"X_harmony\"].copy(),\n",
    "        \"X_umap\": anca_data.obsm[\"X_umap\"].copy(),\n",
    "    },\n",
    ")"
   ]
  },
  {
   "cell_type": "code",
   "execution_count": null,
   "metadata": {},
   "outputs": [],
   "source": [
    "mod = \"CITE\"\n",
    "cite_data = ad.AnnData(\n",
    "    anca_data.mod[mod].layers[\"counts\"].copy(),\n",
    "    # obs=anca_data.obs.copy(),\n",
    "    var=anca_data.mod[mod].var[[]],\n",
    "    layers={\"counts\": anca_data.mod[mod].layers[\"counts\"].copy()},\n",
    "    obsm={\n",
    "        \"X_harmony\": anca_data.obsm[\"X_harmony\"].copy(),\n",
    "        \"X_umap\": anca_data.obsm[\"X_umap\"].copy(),\n",
    "    },\n",
    ")"
   ]
  },
  {
   "cell_type": "code",
   "execution_count": null,
   "metadata": {},
   "outputs": [],
   "source": [
    "rna_data.obs = anca_data.obs.copy()\n",
    "cite_data.obs = anca_data.obs.copy()"
   ]
  },
  {
   "cell_type": "code",
   "execution_count": null,
   "metadata": {},
   "outputs": [],
   "source": [
    "rna_data.obs[\"RNA_snn_res.0.3\"].unique().tolist()"
   ]
  },
  {
   "cell_type": "code",
   "execution_count": null,
   "metadata": {},
   "outputs": [],
   "source": [
    "rna_data.obs[\"cell_type_fine\"] = rna_data.obs[\"RNA_snn_res.0.3\"].replace(\n",
    "    {\n",
    "        \"0\": \"TH1-like CD4+ EM\",\n",
    "        \"1\": \"other CD4+ EM\",\n",
    "        \"2\": \"TFH\",\n",
    "        \"3\": \"TRM1\",\n",
    "        \"4\": \"TRM17\",\n",
    "        \"5\": \"TFH\",\n",
    "    }\n",
    ")\n"
   ]
  },
  {
   "cell_type": "code",
   "execution_count": null,
   "metadata": {},
   "outputs": [],
   "source": [
    "# sc.pl.umap(rna_data, color=\"cell_type_fine\")\n"
   ]
  },
  {
   "cell_type": "code",
   "execution_count": null,
   "metadata": {},
   "outputs": [],
   "source": []
  },
  {
   "cell_type": "code",
   "execution_count": null,
   "metadata": {},
   "outputs": [],
   "source": [
    "anca_data_clean = md.MuData(\n",
    "    {\n",
    "        \"rna\": rna_data,\n",
    "        \"cite\": cite_data,\n",
    "    }\n",
    ")\n"
   ]
  },
  {
   "cell_type": "code",
   "execution_count": null,
   "metadata": {},
   "outputs": [],
   "source": [
    "# save data\n",
    "anca_data_clean.write_h5mu(\n",
    "    \"data/anca/ustekinumab/ANCA_4PK4PB_ustekinumab_subset_clean.h5mu\"\n",
    ")\n"
   ]
  }
 ],
 "metadata": {
  "kernelspec": {
   "display_name": "scvi-env",
   "language": "python",
   "name": "python3"
  },
  "language_info": {
   "codemirror_mode": {
    "name": "ipython",
    "version": 3
   },
   "file_extension": ".py",
   "mimetype": "text/x-python",
   "name": "python",
   "nbconvert_exporter": "python",
   "pygments_lexer": "ipython3",
   "version": "3.9.15"
  },
  "orig_nbformat": 4
 },
 "nbformat": 4,
 "nbformat_minor": 2
}
