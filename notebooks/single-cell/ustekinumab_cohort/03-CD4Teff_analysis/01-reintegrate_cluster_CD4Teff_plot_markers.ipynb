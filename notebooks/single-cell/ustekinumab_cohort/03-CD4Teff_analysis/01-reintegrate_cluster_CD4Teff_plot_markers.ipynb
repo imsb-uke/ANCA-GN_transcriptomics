{
 "cells": [
  {
   "cell_type": "code",
   "execution_count": null,
   "id": "a8bc9dd0-84a8-469d-8097-613d901938cd",
   "metadata": {
    "vscode": {
     "languageId": "r"
    }
   },
   "outputs": [],
   "source": [
    "setwd(\"../../../../\")"
   ]
  },
  {
   "cell_type": "code",
   "execution_count": null,
   "id": "6e1150e0-5c62-408b-a3b7-e5cc4e629e25",
   "metadata": {
    "vscode": {
     "languageId": "r"
    }
   },
   "outputs": [],
   "source": [
    "RhpcBLASctl::blas_set_num_threads(1)\n",
    "library(Seurat)\n",
    "library(dplyr)\n",
    "#library(tidyverse)\n",
    "library(here)\n",
    "#library(readxl)\n",
    "#library(Matrix)\n",
    "library(IMSBSeuratHelpers)\n",
    "library(ggplot2)\n",
    "#library(sctransform)\n",
    "library(future)\n",
    "library(data.table)\n",
    "library(xlsx)\n",
    "plan(\"multicore\", workers = 1)\n",
    "options(future.globals.maxSize = 20 * 1000 * 1024^2)#20GB\n",
    "options(repr.matrix.max.rows=600, repr.matrix.max.cols=200)"
   ]
  },
  {
   "cell_type": "code",
   "execution_count": null,
   "id": "d1e7b333-ffcc-4a51-9304-0c0fb5177b26",
   "metadata": {
    "vscode": {
     "languageId": "r"
    }
   },
   "outputs": [],
   "source": [
    "#library(devtools)\n",
    "#install_github(\"immunogenomics/harmony\")"
   ]
  },
  {
   "cell_type": "code",
   "execution_count": null,
   "id": "7bcb8cee-e4dd-4e0f-9250-4056ebbb9338",
   "metadata": {
    "vscode": {
     "languageId": "r"
    }
   },
   "outputs": [],
   "source": [
    "library(harmony)"
   ]
  },
  {
   "cell_type": "code",
   "execution_count": null,
   "id": "0d319948-61b3-4f80-805d-e1e798eb43ef",
   "metadata": {
    "vscode": {
     "languageId": "r"
    }
   },
   "outputs": [],
   "source": [
    "samples_ID=\"Harmony_Ustekinumab_4PK4PB_T_CD4EMRM\""
   ]
  },
  {
   "cell_type": "code",
   "execution_count": null,
   "id": "69057757-361a-482c-b22f-33f0fec77671",
   "metadata": {
    "vscode": {
     "languageId": "r"
    }
   },
   "outputs": [],
   "source": [
    "seu<-readRDS(paste0(\"Integrated_objects/Harmony_Ustekinumab_4PK4PB_T_CD4EMRM.rds\"))\n",
    "seu"
   ]
  },
  {
   "cell_type": "code",
   "execution_count": null,
   "id": "fc683b5d-2e92-47a8-a69b-be802a8e121c",
   "metadata": {
    "vscode": {
     "languageId": "r"
    }
   },
   "outputs": [],
   "source": [
    "Idents(seu)<-'patient'\n",
    "levels(seu)"
   ]
  },
  {
   "cell_type": "code",
   "execution_count": null,
   "id": "360cdb10-5b1d-4307-9295-716ca0328da9",
   "metadata": {
    "vscode": {
     "languageId": "r"
    }
   },
   "outputs": [],
   "source": [
    "seu <- FindVariableFeatures(object = seu, \n",
    "                            selection.method = \"vst\",\n",
    "                            nfeatures = 2000)"
   ]
  },
  {
   "cell_type": "code",
   "execution_count": null,
   "id": "fe1083aa-ed9a-4441-aaff-e7f75c4f1b5a",
   "metadata": {
    "vscode": {
     "languageId": "r"
    }
   },
   "outputs": [],
   "source": [
    "seu <- ScaleData(seu, vars.to.regress =c(\"nFeature_RNA\",\"nCount_RNA\",\"frac.mito\")#,\n",
    "                #features = rownames(seu)\n",
    "                )\n",
    "#seu <- ScaleData(seu, features = rownames(seu))\n",
    "#seu <- ScaleData(seu, features = rownames(seu))"
   ]
  },
  {
   "cell_type": "code",
   "execution_count": null,
   "id": "ab299a0c-db2b-412a-a7a1-f1b0b9653434",
   "metadata": {
    "vscode": {
     "languageId": "r"
    }
   },
   "outputs": [],
   "source": [
    "seu <- RunPCA(object = seu, \n",
    "              features = VariableFeatures(object = seu),\n",
    "              verbose = T)"
   ]
  },
  {
   "cell_type": "code",
   "execution_count": null,
   "id": "0cad1366-a5dc-41ab-b9d7-93f58ef2ff2f",
   "metadata": {
    "vscode": {
     "languageId": "r"
    }
   },
   "outputs": [],
   "source": [
    "seu <- seu %>% \n",
    "    RunHarmony(\"patient\", dims.use = 1:30,\n",
    "               plot_convergence = TRUE)"
   ]
  },
  {
   "cell_type": "code",
   "execution_count": null,
   "id": "17e8edb8-36de-469b-9409-120c684c7c1c",
   "metadata": {
    "vscode": {
     "languageId": "r"
    }
   },
   "outputs": [],
   "source": [
    "#seu <- RunTSNE(object = seu,reduction = 'harmony', dims = 1:30)\n",
    "seu <- RunUMAP(object = seu,reduction = 'harmony', dims = 1:30)"
   ]
  },
  {
   "cell_type": "code",
   "execution_count": null,
   "id": "23f2a544-5e76-4aa3-aa80-b187c75d83ff",
   "metadata": {
    "vscode": {
     "languageId": "r"
    }
   },
   "outputs": [],
   "source": [
    "seu"
   ]
  },
  {
   "cell_type": "code",
   "execution_count": null,
   "id": "ec7e4d61-fcf0-4d5c-94e2-968eb73c1cd5",
   "metadata": {
    "vscode": {
     "languageId": "r"
    }
   },
   "outputs": [],
   "source": [
    "#DimPlot(object = seu, reduction = 'tsne',label = F, \n",
    "#        pt.size = 0.1)+ theme(aspect.ratio=1)\n",
    "DimPlot(object = seu, reduction = 'umap',label = F, \n",
    "        pt.size = 0.1)+ theme(aspect.ratio=1)"
   ]
  },
  {
   "cell_type": "code",
   "execution_count": null,
   "id": "8aebc236-fcbc-4493-8039-e63fa82afdb6",
   "metadata": {
    "vscode": {
     "languageId": "r"
    }
   },
   "outputs": [],
   "source": [
    "seu <- FindNeighbors(object = seu,reduction = 'harmony', dims = 1:30)\n",
    "#!!! Essential step to set the reduction to 'harmony', otherwise the default is PCA and will give big difference of clusters and UMAP\n",
    "#seu <- FindNeighbors(object = seu, dims = 1:30)"
   ]
  },
  {
   "cell_type": "code",
   "execution_count": null,
   "id": "8cfcacd8-057d-49db-9c1b-1c691379954c",
   "metadata": {
    "vscode": {
     "languageId": "r"
    }
   },
   "outputs": [],
   "source": [
    "seu <- FindClusters(object = seu, resolution = 0.1)\n",
    "table(Idents(seu))\n",
    "#DimPlot(object = seu, reduction = 'tsne',label = TRUE, \n",
    "#        pt.size = 0.1,label.size = 6, repel = T) + theme(aspect.ratio=1)\n",
    "DimPlot(object = seu, reduction = 'umap',label = TRUE, \n",
    "        pt.size = 0.1,label.size = 6, repel = T) + theme(aspect.ratio=1)"
   ]
  },
  {
   "cell_type": "code",
   "execution_count": null,
   "id": "cc7012da-f451-4650-bd94-9ffcc1a38a47",
   "metadata": {
    "vscode": {
     "languageId": "r"
    }
   },
   "outputs": [],
   "source": [
    "seu <- FindClusters(object = seu, resolution = 0.2)\n",
    "table(Idents(seu))\n",
    "#DimPlot(object = seu, reduction = 'tsne',label = TRUE, \n",
    "#        pt.size = 0.1,label.size = 6, repel = T) + theme(aspect.ratio=1)\n",
    "DimPlot(object = seu, reduction = 'umap',label = TRUE, \n",
    "        pt.size = 0.1,label.size = 6, repel = T) + theme(aspect.ratio=1)"
   ]
  },
  {
   "cell_type": "code",
   "execution_count": null,
   "id": "ff8c8d86-37df-4098-aeda-be74b02ce283",
   "metadata": {
    "vscode": {
     "languageId": "r"
    }
   },
   "outputs": [],
   "source": [
    "seu <- FindClusters(object = seu, resolution = 0.3)\n",
    "table(Idents(seu))\n",
    "#DimPlot(object = seu, reduction = 'tsne',label = TRUE, \n",
    "#        pt.size = 0.1,label.size = 6, repel = T) + theme(aspect.ratio=1)\n",
    "DimPlot(object = seu, reduction = 'umap',label = TRUE, \n",
    "        pt.size = 0.1,label.size = 6, repel = T) + theme(aspect.ratio=1)"
   ]
  },
  {
   "cell_type": "code",
   "execution_count": null,
   "id": "62d94505-7ed9-4eec-a1ef-9392bf31fd3b",
   "metadata": {
    "vscode": {
     "languageId": "r"
    }
   },
   "outputs": [],
   "source": [
    "seu <- FindClusters(object = seu, resolution = 0.4)\n",
    "table(Idents(seu))\n",
    "#DimPlot(object = seu, reduction = 'tsne',label = TRUE, \n",
    "#        pt.size = 0.1,label.size = 6, repel = T) + theme(aspect.ratio=1)\n",
    "DimPlot(object = seu, reduction = 'umap',label = TRUE, \n",
    "        pt.size = 0.1,label.size = 6, repel = T) + theme(aspect.ratio=1)"
   ]
  },
  {
   "cell_type": "code",
   "execution_count": null,
   "id": "926ddb64-2592-4eb3-bff4-2ec2ea47bf65",
   "metadata": {
    "vscode": {
     "languageId": "r"
    }
   },
   "outputs": [],
   "source": [
    "seu <- FindClusters(object = seu, resolution = 0.5)\n",
    "table(Idents(seu))\n",
    "#DimPlot(object = seu, reduction = 'tsne',label = TRUE, \n",
    "#        pt.size = 0.1,label.size = 6, repel = T) + theme(aspect.ratio=1)\n",
    "DimPlot(object = seu, reduction = 'umap',label = TRUE, \n",
    "        pt.size = 0.1,label.size = 6, repel = T) + theme(aspect.ratio=1)"
   ]
  },
  {
   "cell_type": "code",
   "execution_count": null,
   "id": "17c4395c-fc3e-4055-b972-da48f07cfad6",
   "metadata": {
    "vscode": {
     "languageId": "r"
    }
   },
   "outputs": [],
   "source": [
    "seu <- FindClusters(object = seu, resolution = 0.6)\n",
    "table(Idents(seu))\n",
    "#DimPlot(object = seu, reduction = 'tsne',label = TRUE, \n",
    "#        pt.size = 0.1,label.size = 6, repel = T) + theme(aspect.ratio=1)\n",
    "DimPlot(object = seu, reduction = 'umap',label = TRUE, \n",
    "        pt.size = 0.1,label.size = 6, repel = T) + theme(aspect.ratio=1)"
   ]
  },
  {
   "cell_type": "code",
   "execution_count": null,
   "id": "f79b8646-e0fa-479e-90bd-11ff8bdc78d7",
   "metadata": {
    "vscode": {
     "languageId": "r"
    }
   },
   "outputs": [],
   "source": [
    "seu <- FindClusters(object = seu, resolution = 0.7)\n",
    "table(Idents(seu))\n",
    "#DimPlot(object = seu, reduction = 'tsne',label = TRUE, \n",
    "#        pt.size = 0.1,label.size = 6, repel = T) + theme(aspect.ratio=1)\n",
    "DimPlot(object = seu, reduction = 'umap',label = TRUE, \n",
    "        pt.size = 0.1,label.size = 6, repel = T) + theme(aspect.ratio=1)"
   ]
  },
  {
   "cell_type": "code",
   "execution_count": null,
   "id": "3c7574fa-d6f7-49d5-9fe2-276c3521603e",
   "metadata": {
    "vscode": {
     "languageId": "r"
    }
   },
   "outputs": [],
   "source": [
    "seu <- FindClusters(object = seu, resolution = 0.8)\n",
    "table(Idents(seu))\n",
    "#DimPlot(object = seu, reduction = 'tsne',label = TRUE, \n",
    "#        pt.size = 0.1,label.size = 6, repel = T) + theme(aspect.ratio=1)\n",
    "DimPlot(object = seu, reduction = 'umap',label = TRUE, \n",
    "        pt.size = 0.1,label.size = 6, repel = T) + theme(aspect.ratio=1)"
   ]
  },
  {
   "cell_type": "code",
   "execution_count": null,
   "id": "acb5c08a-6726-4304-b8dd-ba7b02ecdff3",
   "metadata": {
    "vscode": {
     "languageId": "r"
    }
   },
   "outputs": [],
   "source": [
    "seu <- FindClusters(object = seu, resolution = 0.9)\n",
    "table(Idents(seu))\n",
    "#DimPlot(object = seu, reduction = 'tsne',label = TRUE, \n",
    "#        pt.size = 0.1,label.size = 6, repel = T) + theme(aspect.ratio=1)\n",
    "DimPlot(object = seu, reduction = 'umap',label = TRUE, \n",
    "        pt.size = 0.1,label.size = 6, repel = T) + theme(aspect.ratio=1)"
   ]
  },
  {
   "cell_type": "code",
   "execution_count": null,
   "id": "5a6aa6bc-1a00-4fc3-bbbe-06c650069bd4",
   "metadata": {
    "vscode": {
     "languageId": "r"
    }
   },
   "outputs": [],
   "source": [
    "seu <- FindClusters(object = seu, resolution = 1.0)\n",
    "table(Idents(seu))\n",
    "#DimPlot(object = seu, reduction = 'tsne',label = TRUE, \n",
    "#        pt.size = 0.1,label.size = 6, repel = T) + theme(aspect.ratio=1)\n",
    "DimPlot(object = seu, reduction = 'umap',label = TRUE, \n",
    "        pt.size = 0.1,label.size = 6, repel = T) + theme(aspect.ratio=1)"
   ]
  },
  {
   "cell_type": "code",
   "execution_count": null,
   "id": "90020a4d-cfdf-4b60-ba85-89003d3fc1ea",
   "metadata": {
    "vscode": {
     "languageId": "r"
    }
   },
   "outputs": [],
   "source": []
  },
  {
   "cell_type": "code",
   "execution_count": null,
   "id": "793d500e-4c27-4383-9ed3-1d9a79840606",
   "metadata": {
    "vscode": {
     "languageId": "r"
    }
   },
   "outputs": [],
   "source": []
  },
  {
   "cell_type": "code",
   "execution_count": null,
   "id": "8e9d9b3c-d2ae-43a1-86c4-efd5ad78b5dd",
   "metadata": {
    "vscode": {
     "languageId": "r"
    }
   },
   "outputs": [],
   "source": []
  },
  {
   "cell_type": "code",
   "execution_count": null,
   "id": "ee3d2b82-e7b0-4f6f-8baf-2f8b0792cea7",
   "metadata": {
    "vscode": {
     "languageId": "r"
    }
   },
   "outputs": [],
   "source": []
  },
  {
   "cell_type": "code",
   "execution_count": null,
   "id": "4e0936f4-35ad-454b-ad3e-ddfe29cbd225",
   "metadata": {
    "vscode": {
     "languageId": "r"
    }
   },
   "outputs": [],
   "source": []
  },
  {
   "cell_type": "code",
   "execution_count": null,
   "id": "420ee84e-55de-43e7-a5e1-949fee71da8e",
   "metadata": {
    "vscode": {
     "languageId": "r"
    }
   },
   "outputs": [],
   "source": []
  },
  {
   "cell_type": "code",
   "execution_count": null,
   "id": "008f6aae-5c12-4820-bbaf-da892e89f37f",
   "metadata": {
    "vscode": {
     "languageId": "r"
    }
   },
   "outputs": [],
   "source": []
  },
  {
   "cell_type": "code",
   "execution_count": null,
   "id": "716fc51f-4bb8-489a-bc64-8d3df99e17af",
   "metadata": {
    "vscode": {
     "languageId": "r"
    }
   },
   "outputs": [],
   "source": []
  },
  {
   "cell_type": "code",
   "execution_count": null,
   "id": "22399e88-e517-4990-a916-539c16a39323",
   "metadata": {
    "vscode": {
     "languageId": "r"
    }
   },
   "outputs": [],
   "source": []
  },
  {
   "cell_type": "code",
   "execution_count": null,
   "id": "2f460c62-6558-48bc-b5a6-9fae3b3ac8d1",
   "metadata": {
    "vscode": {
     "languageId": "r"
    }
   },
   "outputs": [],
   "source": []
  },
  {
   "cell_type": "code",
   "execution_count": null,
   "id": "045600ff-e7c6-40b7-8f94-18948e605e9e",
   "metadata": {
    "vscode": {
     "languageId": "r"
    }
   },
   "outputs": [],
   "source": []
  },
  {
   "cell_type": "code",
   "execution_count": null,
   "id": "9eb1ef9c-14de-4b9d-93d2-80db51733577",
   "metadata": {
    "vscode": {
     "languageId": "r"
    }
   },
   "outputs": [],
   "source": []
  },
  {
   "cell_type": "code",
   "execution_count": null,
   "id": "42fea0f5-69a8-4f4b-9a39-7248d7770bf8",
   "metadata": {
    "vscode": {
     "languageId": "r"
    }
   },
   "outputs": [],
   "source": [
    "Idents(seu)<-'tissue'\n",
    "DimPlot(object = seu, reduction = 'umap',label = F, \n",
    "        #split.by = \"case\",\n",
    "        pt.size = 0.1)+ theme(aspect.ratio=1)"
   ]
  },
  {
   "cell_type": "code",
   "execution_count": null,
   "id": "eae1aa50-2ee4-405f-be76-99fa8a530e20",
   "metadata": {
    "vscode": {
     "languageId": "r"
    }
   },
   "outputs": [],
   "source": [
    "#DimPlot(object = seu, reduction = 'tsne',label = F, \n",
    "#        pt.size = 0.1)+ theme(aspect.ratio=1)\n",
    "DimPlot(object = seu, reduction = 'umap',label = F, \n",
    "        split.by = \"case\",\n",
    "        pt.size = 0.1)+ theme(aspect.ratio=1)"
   ]
  },
  {
   "cell_type": "code",
   "execution_count": null,
   "id": "80306d20-e5b0-4bca-9c12-da849600e00f",
   "metadata": {
    "vscode": {
     "languageId": "r"
    }
   },
   "outputs": [],
   "source": [
    "#seu\n",
    "#seu_1<-subset(seu, ident=c('14'), invert = TRUE)\n",
    "#seu_1"
   ]
  },
  {
   "cell_type": "code",
   "execution_count": null,
   "id": "56c1a76d-8a98-4cf0-96a0-c29a5c5caa1f",
   "metadata": {
    "vscode": {
     "languageId": "r"
    }
   },
   "outputs": [],
   "source": [
    "#table(Idents(seu_1))\n",
    "##DimPlot(object = seu, reduction = 'tsne',label = TRUE, \n",
    "##        pt.size = 0.1,label.size = 6, repel = T) + theme(aspect.ratio=1)\n",
    "#DimPlot(object = seu_1, reduction = 'umap',label = TRUE, \n",
    "#        pt.size = 0.1,label.size = 6, repel = T) + theme(aspect.ratio=1)"
   ]
  },
  {
   "cell_type": "code",
   "execution_count": null,
   "id": "369f21e0-e01a-4791-829a-2067f1131ff4",
   "metadata": {
    "vscode": {
     "languageId": "r"
    }
   },
   "outputs": [],
   "source": [
    "#seu<-seu_1"
   ]
  },
  {
   "cell_type": "code",
   "execution_count": null,
   "id": "cc7b1456-9418-40cc-bd01-7c9767ddc97b",
   "metadata": {
    "vscode": {
     "languageId": "r"
    }
   },
   "outputs": [],
   "source": []
  },
  {
   "cell_type": "code",
   "execution_count": null,
   "id": "55786db5-f61e-46f0-b203-912f0a0b4623",
   "metadata": {
    "vscode": {
     "languageId": "r"
    }
   },
   "outputs": [],
   "source": []
  },
  {
   "cell_type": "code",
   "execution_count": null,
   "id": "1ed32697-f645-4e4b-8ec1-bf6930ebce99",
   "metadata": {
    "vscode": {
     "languageId": "r"
    }
   },
   "outputs": [],
   "source": []
  },
  {
   "cell_type": "code",
   "execution_count": null,
   "id": "df1d6f89-891f-41b3-90f9-3d6906017ce8",
   "metadata": {
    "vscode": {
     "languageId": "r"
    }
   },
   "outputs": [],
   "source": []
  },
  {
   "cell_type": "code",
   "execution_count": null,
   "id": "6e6bdfc1-11db-4614-b58f-772e3df7bdd2",
   "metadata": {
    "vscode": {
     "languageId": "r"
    }
   },
   "outputs": [],
   "source": []
  },
  {
   "cell_type": "code",
   "execution_count": null,
   "id": "6f1a2bd1-41a6-4085-8511-972c01fd4414",
   "metadata": {
    "vscode": {
     "languageId": "r"
    }
   },
   "outputs": [],
   "source": []
  },
  {
   "cell_type": "code",
   "execution_count": null,
   "id": "9f93980a-286f-4b50-96a5-f6c2f731c7f7",
   "metadata": {
    "vscode": {
     "languageId": "r"
    }
   },
   "outputs": [],
   "source": []
  },
  {
   "cell_type": "code",
   "execution_count": null,
   "id": "38928d9a-7fac-45b7-92ec-0f781251b876",
   "metadata": {
    "vscode": {
     "languageId": "r"
    }
   },
   "outputs": [],
   "source": [
    "##################stop"
   ]
  },
  {
   "cell_type": "code",
   "execution_count": null,
   "id": "255f3404-ca64-4adf-884c-1ba679299d87",
   "metadata": {
    "vscode": {
     "languageId": "r"
    }
   },
   "outputs": [],
   "source": [
    "seu <- FindClusters(object = seu, resolution = 0.3)\n",
    "table(Idents(seu))\n",
    "#DimPlot(object = seu, reduction = 'tsne',label = TRUE, \n",
    "#        pt.size = 0.1,label.size = 6, repel = T) + theme(aspect.ratio=1)\n",
    "DimPlot(object = seu, reduction = 'umap',label = TRUE, \n",
    "        pt.size = 0.1,label.size = 6, repel = T) + theme(aspect.ratio=1)"
   ]
  },
  {
   "cell_type": "code",
   "execution_count": null,
   "id": "e69311ee-b4f0-4e2b-9812-78ea94bb9275",
   "metadata": {
    "vscode": {
     "languageId": "r"
    }
   },
   "outputs": [],
   "source": []
  },
  {
   "cell_type": "code",
   "execution_count": null,
   "id": "40b73085-d766-4229-8bd7-09349a18e40f",
   "metadata": {
    "tags": [],
    "vscode": {
     "languageId": "r"
    }
   },
   "outputs": [],
   "source": [
    "marker_qc<-c(\"nFeature_RNA\",\"nCount_RNA\",\"frac.mito\",\"frac.ribo\",\"CD3_count\")\n",
    "for (n in marker_qc){\n",
    "    print(VlnPlot(object = seu, features = n,\n",
    "                  #group.by = \"patient\",\n",
    "                  #split.by = \"cellgroup\",\n",
    "                  #x.lab.rot=T, \n",
    "                  #size.x.use = 5,\n",
    "                  pt.size = 0\n",
    "                       )#+ NoLegend()\n",
    "    )\n",
    "\n",
    "    print(FeaturePlot(object = seu,features = n,\n",
    "                  cols = c(\"grey\", \"blue\"),\n",
    "                      order = T,\n",
    "                      reduction = \"umap\",\n",
    "                pt.size=0.1\n",
    "                       ))     \n",
    "    }"
   ]
  },
  {
   "cell_type": "code",
   "execution_count": null,
   "id": "b2080848-4f3b-4c92-a684-42f257d2eb8e",
   "metadata": {
    "vscode": {
     "languageId": "r"
    }
   },
   "outputs": [],
   "source": []
  },
  {
   "cell_type": "code",
   "execution_count": null,
   "id": "6ea6453e-4019-49f1-9a89-059359e7a7ba",
   "metadata": {
    "vscode": {
     "languageId": "r"
    }
   },
   "outputs": [],
   "source": [
    "#seu <- FindClusters(object = seu, resolution = 0.01)\n",
    "#table(Idents(seu))\n",
    "##DimPlot(object = seu, reduction = 'tsne',label = TRUE, \n",
    "##        pt.size = 0.1,label.size = 6, repel = T) + theme(aspect.ratio=1)\n",
    "#DimPlot(object = seu, reduction = 'umap',label = TRUE, \n",
    "#        pt.size = 0.1,label.size = 6, repel = T) + theme(aspect.ratio=1)"
   ]
  },
  {
   "cell_type": "code",
   "execution_count": null,
   "id": "38679c66-7de3-4398-825d-932654f43bf6",
   "metadata": {
    "vscode": {
     "languageId": "r"
    }
   },
   "outputs": [],
   "source": [
    "DefaultAssay(seu)<-'RNA'"
   ]
  },
  {
   "cell_type": "code",
   "execution_count": null,
   "id": "19ff4a6a-fb9d-4fe9-bb50-1f92d9ddd1ec",
   "metadata": {
    "vscode": {
     "languageId": "r"
    }
   },
   "outputs": [],
   "source": [
    "# find markers for every cluster compared to all remaining cells, report only the positive ones\n",
    "seu.markers <- FindAllMarkers(object = seu, only.pos = TRUE, \n",
    "                              min.pct = 0.25, logfc.threshold = 0.5)\n",
    "#logfc.threshold=0.25 (default) instead of old version thresh.use=0.25\n",
    "head(seu.markers)\n",
    "dim(seu.markers)"
   ]
  },
  {
   "cell_type": "code",
   "execution_count": null,
   "id": "0627c5aa-cc42-4a73-9af8-42322a01f05e",
   "metadata": {
    "vscode": {
     "languageId": "r"
    }
   },
   "outputs": [],
   "source": [
    "top3 <- seu.markers %>% group_by(cluster) %>% top_n(3, avg_log2FC)\n",
    "top5 <- seu.markers %>% group_by(cluster) %>% top_n(5, avg_log2FC)\n",
    "top10 <- seu.markers %>% group_by(cluster) %>% top_n(10, avg_log2FC)"
   ]
  },
  {
   "cell_type": "code",
   "execution_count": null,
   "id": "3c247e8c-01f7-492a-a4b2-1abd1dce9bda",
   "metadata": {
    "vscode": {
     "languageId": "r"
    }
   },
   "outputs": [],
   "source": [
    "top10"
   ]
  },
  {
   "cell_type": "code",
   "execution_count": null,
   "id": "787b2a32-cd0e-4369-ad78-72c38eb35ffc",
   "metadata": {
    "vscode": {
     "languageId": "r"
    }
   },
   "outputs": [],
   "source": [
    "DefaultAssay(seu)<-'RNA'"
   ]
  },
  {
   "cell_type": "code",
   "execution_count": null,
   "id": "9adfe61f-8a0b-45ce-9886-baa82e1790a6",
   "metadata": {
    "tags": [],
    "vscode": {
     "languageId": "r"
    }
   },
   "outputs": [],
   "source": [
    "plt1<-DotPlot(seu, features = unique(top5$gene),\n",
    "              dot.scale = 4\n",
    "              #scale.by = \"size\"\n",
    "             ) + coord_flip()+\n",
    "theme(#strip.background = element_blank(),\n",
    "    axis.title = element_blank(),\n",
    "    axis.text.x = element_text(size = 10,angle = 45,hjust = 1),\n",
    "    axis.text.y = element_text(size = 10),\n",
    "     legend.position = \"right\",\n",
    "     #legend.spacing = unit(0, \"mm\"),\n",
    "     legend.direction = \"vertical\",\n",
    "        legend.text = element_text(size=5),\n",
    "        legend.key.width = unit(2, \"mm\"),\n",
    "        legend.key.height = unit(2, \"mm\"),\n",
    "        legend.box.spacing = unit(1, \"mm\"),\n",
    "        legend.margin = margin(2),\n",
    "        legend.title = element_text(size = 7,angle = 90)\n",
    ")\n",
    "plt1"
   ]
  },
  {
   "cell_type": "code",
   "execution_count": null,
   "id": "653bfb51-1749-4026-91cc-1e064c32cc3c",
   "metadata": {
    "vscode": {
     "languageId": "r"
    }
   },
   "outputs": [],
   "source": []
  },
  {
   "cell_type": "code",
   "execution_count": null,
   "id": "b15ad07d-b41d-47f5-ace7-2555d579b66f",
   "metadata": {
    "vscode": {
     "languageId": "r"
    }
   },
   "outputs": [],
   "source": []
  },
  {
   "cell_type": "code",
   "execution_count": null,
   "id": "6aec9202-7f77-4906-9bbe-f113231115d0",
   "metadata": {
    "vscode": {
     "languageId": "r"
    }
   },
   "outputs": [],
   "source": [
    "DefaultAssay(seu)<-'RNA'\n",
    "# Search for known marker genes in seu\n",
    "leukos <- c(\"PTPRC\") \n",
    "Tcells <- c(\"CD3G\",\"CD3D\",\"CD3E\")\n",
    "CD4<-c(\"CD4\")\n",
    "CD8 <- c(\"CD8A\", \"CD8B\")\n",
    "Naive<-c(\"LEF1\",\"TCF7\",\"LTB\")\n",
    "CM<-c(\"CCR7\",\"SELL\",\"KLF2\",\"S1PR1\")\n",
    "RM<-c(\"CXCR6\",\"CD69\",\"ITGAE\",\"RGS1\")\n",
    "Th1 <- c(\"CXCR3\",\"TBX21\", \"IFNG\", \"TNF\",\"CSF2\")\n",
    "Th2 <- c(\"GATA3\", \"IL4\", \"IL5\", \"IL13\") \n",
    "Th17 <- c(\"CCR6\",\"RORC\",\"IL17A\",\"IL17F\", \"IL23R\") \n",
    "Tr1<-c(\"IL10\",\"ITGA2\",\"LAG3\",\"HAVCR2\")#,\"Ahr\",\"Irf4\",\"Prdm1\",\"Maf\")\n",
    "Tregs <- c(\"FOXP3\", \"IL2RA\", \"CTLA4\",\"IKZF2\",\"TIGIT\")\n",
    "Tfh<-c('IL21','POU2AF1','CXCR5','BCL6','ASCL2','CD200','ID3','ICOS','ICOSLG')\n",
    "CTL<-c(\"PRF1\", \"GZMB\",\"GZMK\",\"GZMA\",\"GZMH\",\"GNLY\")\n",
    "NK <- c(\"NKG7\",\"KLRC1\",\"KLRD1\",\"KLRF1\",\"KLRB1\",\"NCR1\",\"NCAM1\",\"FGFBP2\",\"XCL1\",\"XCL2\")\n",
    "Tgd<- c(\"TRDV2\",\"TRGV9\")\n",
    "MAIT<-c(\"TRAV1-2\")\n",
    "Prolif<-c(\"STMN1\",\"MKI67\",\"TOP2A\")\n",
    "\n",
    "known_markers<-list(\n",
    "leukos,\n",
    "Tcells,\n",
    "CD4,\n",
    "CD8,\n",
    "CTL,\n",
    "NK,\n",
    "Naive,\n",
    "CM,\n",
    "RM,\n",
    "Th1,\n",
    "Tr1,\n",
    "Th2,\n",
    "Th17,\n",
    "MAIT,\n",
    "Tgd,\n",
    "Tregs,\n",
    "Tfh,\n",
    "Prolif\n",
    ")\n",
    "known_markers\n",
    "\n",
    "marker_gene_list<-known_markers\n",
    "length(unlist(marker_gene_list))\n",
    "marker_gene_list_expressed <- intersect(unlist(marker_gene_list), rownames(GetAssayData(seu)))\n",
    "length(marker_gene_list_expressed)\n",
    "setdiff(unlist(marker_gene_list),marker_gene_list_expressed)"
   ]
  },
  {
   "cell_type": "code",
   "execution_count": null,
   "id": "c1c2f89a-80a0-4d30-a167-9f0f755e254d",
   "metadata": {
    "collapsed": true,
    "jupyter": {
     "outputs_hidden": true
    },
    "tags": [],
    "vscode": {
     "languageId": "r"
    }
   },
   "outputs": [],
   "source": [
    "for (n in marker_gene_list_expressed){\n",
    "    print(FeaturePlot(object = seu,features = n,\n",
    "                  cols = c(\"lightgrey\", \"blue\"),\n",
    "                      order = T,\n",
    "                      slot = \"data\",\n",
    "                      #min.cutoff = \"q05\", max.cutoff = \"q95\",\n",
    "                      reduction = \"umap\",\n",
    "                pt.size=0.1\n",
    "                       ))   \n",
    "      print(VlnPlot(object = seu, features = n,\n",
    "                 #group.by = \"sample\",\n",
    "                 #x.lab.rot=T, \n",
    "                 #size.x.use = 5,\n",
    "                 pt.size = 0.01\n",
    "                      )+NoLegend()\n",
    "   )\n",
    "          print(VlnPlot(object = seu, features = n,\n",
    "                 #group.by = \"sample\",\n",
    "                 #x.lab.rot=T, \n",
    "                 #size.x.use = 5,\n",
    "                 pt.size = 0\n",
    "                      )+NoLegend()\n",
    "   )\n",
    "   #print(RidgePlot(seu, \n",
    "   #          features = n))\n",
    "\n",
    "    }"
   ]
  },
  {
   "cell_type": "code",
   "execution_count": null,
   "id": "cbe48d28-d787-4a89-998e-e5b7c1a39b9a",
   "metadata": {
    "vscode": {
     "languageId": "r"
    }
   },
   "outputs": [],
   "source": [
    "DimPlot(object = seu, reduction = 'umap',label = TRUE, \n",
    "        pt.size = 0.1,label.size = 6, repel = T) + theme(aspect.ratio=1)"
   ]
  },
  {
   "cell_type": "code",
   "execution_count": null,
   "id": "042253df-b6c1-498b-80df-ab36acc0ff17",
   "metadata": {
    "tags": [],
    "vscode": {
     "languageId": "r"
    }
   },
   "outputs": [],
   "source": [
    "for (n in unique(top3$gene)){\n",
    "    print(FeaturePlot(object = seu,features = n,\n",
    "                  cols = c(\"lightgrey\", \"blue\"),\n",
    "                      order = T,\n",
    "                      slot = \"data\",\n",
    "                      #min.cutoff = \"q05\", max.cutoff = \"q95\",\n",
    "                      reduction = \"umap\",\n",
    "                pt.size=0.1\n",
    "                       ))   \n",
    "      print(VlnPlot(object = seu, features = n,\n",
    "                 #group.by = \"sample\",\n",
    "                 #x.lab.rot=T, \n",
    "                 #size.x.use = 5,\n",
    "                 pt.size = 0.01\n",
    "                      )+NoLegend()\n",
    "   )\n",
    "          print(VlnPlot(object = seu, features = n,\n",
    "                 #group.by = \"sample\",\n",
    "                 #x.lab.rot=T, \n",
    "                 #size.x.use = 5,\n",
    "                 pt.size = 0\n",
    "                      )+NoLegend()\n",
    "   )\n",
    "   #print(RidgePlot(seu, \n",
    "   #          features = n))\n",
    "\n",
    "    }"
   ]
  },
  {
   "cell_type": "code",
   "execution_count": null,
   "id": "21a2e38c-2ba3-4544-9880-bbf382a0f2a4",
   "metadata": {
    "vscode": {
     "languageId": "r"
    }
   },
   "outputs": [],
   "source": [
    "DefaultAssay(seu)<-'RNA'"
   ]
  },
  {
   "cell_type": "code",
   "execution_count": null,
   "id": "c12c67a4-13e1-47ed-bed2-3da87958cbb6",
   "metadata": {
    "vscode": {
     "languageId": "r"
    }
   },
   "outputs": [],
   "source": [
    "for (n in c(\"ICA1\")){\n",
    "    print(FeaturePlot(object = seu,features = n,\n",
    "                  cols = c(\"lightgrey\", \"blue\"),\n",
    "                      order = T,\n",
    "                      slot = \"data\",\n",
    "                      #min.cutoff = \"q05\", max.cutoff = \"q95\",\n",
    "                      reduction = \"umap\",\n",
    "                pt.size=0.1\n",
    "                       ))   \n",
    "      print(VlnPlot(object = seu, features = n,\n",
    "                 #group.by = \"sample\",\n",
    "                 #x.lab.rot=T, \n",
    "                 #size.x.use = 5,\n",
    "                 pt.size = 0.01\n",
    "                      )+NoLegend()\n",
    "   )\n",
    "          print(VlnPlot(object = seu, features = n,\n",
    "                 #group.by = \"sample\",\n",
    "                 #x.lab.rot=T, \n",
    "                 #size.x.use = 5,\n",
    "                 pt.size = 0\n",
    "                      )+NoLegend()\n",
    "   )\n",
    "   #print(RidgePlot(seu, \n",
    "   #          features = n))\n",
    "\n",
    "    }"
   ]
  },
  {
   "cell_type": "code",
   "execution_count": null,
   "id": "9c8bc100-7af5-48b4-9273-72526c225d79",
   "metadata": {
    "vscode": {
     "languageId": "r"
    }
   },
   "outputs": [],
   "source": []
  },
  {
   "cell_type": "code",
   "execution_count": null,
   "id": "f7f8674b-0726-4b0d-9dde-e953890bfbc2",
   "metadata": {
    "tags": [],
    "vscode": {
     "languageId": "r"
    }
   },
   "outputs": [],
   "source": [
    "#DefaultAssay(seu)<-'RNA'\n",
    "DefaultAssay(seu)<-'CITE'\n",
    "CITE_list<-rownames(seu@assays$CITE@data)\n",
    "as.data.frame(CITE_list)"
   ]
  },
  {
   "cell_type": "code",
   "execution_count": null,
   "id": "d71705fb-4bd9-4cc4-9866-4df9cb6b8194",
   "metadata": {
    "vscode": {
     "languageId": "r"
    }
   },
   "outputs": [],
   "source": [
    "CITE_list_select<-c(\n",
    "'CD3',\n",
    "'CD4',\n",
    "'CD8',\n",
    "'CD45',\n",
    "'CD45RA',\n",
    "'CCR7',\n",
    "'CD62L',\n",
    "'CD45RO',\n",
    "'CD49a',\n",
    "'CD103',\n",
    "'CD69',\n",
    "'TCRab',\n",
    "'TCRgd',\n",
    "'TCRVa7.2',\n",
    "'TCRVb13.1',\n",
    "'TCRVa24Ja18',\n",
    "'TCRVd2',\n",
    "'TCRVg9',\n",
    "'CD44',\n",
    "'CTLA4',\n",
    "'PDL1',\n",
    "'LAG3',\n",
    "'ICOS',\n",
    "'CD25',\n",
    "'TIGIT',\n",
    "'CD154',\n",
    "'CD161',\n",
    "'CD27',\n",
    "'CD127',\n",
    "'CD169',\n",
    "'CD40',\n",
    "'CCR4',\n",
    "'CXCR3',\n",
    "'CCR5',\n",
    "'CCR6',\n",
    "'CXCR5',\n",
    "'CX3CR1',\n",
    "'XCR1',\n",
    "'ITGB7',\n",
    "'IFNGR1',\n",
    "'CD106',\n",
    "'IL2R',\n",
    "'CXCR4',\n",
    "'CD2',\n",
    "'CD49b',\n",
    "'CD28',\n",
    "'IL7R',\n",
    "'KIR2DL2',\n",
    "'KIR3DL1',\n",
    "'KIR2DL5',\n",
    "'KIR2DL1',\n",
    "'NKG2D',\n",
    "'NKp30',\n",
    "'NKp44',\n",
    "'NKp46')"
   ]
  },
  {
   "cell_type": "code",
   "execution_count": null,
   "id": "7c0420db-66f8-4913-b89b-d541f188e8d6",
   "metadata": {
    "vscode": {
     "languageId": "r"
    }
   },
   "outputs": [],
   "source": [
    "plt1<-DotPlot(seu, features = rev(CITE_list_select),\n",
    "              dot.scale = 2\n",
    "              #scale.by = \"size\"\n",
    "             ) + coord_flip()+\n",
    "theme(#strip.background = element_blank(),\n",
    "    axis.title = element_blank(),\n",
    "    axis.text.x = element_text(size = 8,angle = 45,hjust = 1),\n",
    "    axis.text.y = element_text(size = 6),\n",
    "     legend.position = \"right\",\n",
    "     #legend.spacing = unit(0, \"mm\"),\n",
    "     legend.direction = \"vertical\",\n",
    "        legend.text = element_text(size=5),\n",
    "        legend.key.width = unit(2, \"mm\"),\n",
    "        legend.key.height = unit(2, \"mm\"),\n",
    "        legend.box.spacing = unit(1, \"mm\"),\n",
    "        legend.margin = margin(2),\n",
    "        legend.title = element_text(size = 7,angle = 90)\n",
    ")\n",
    "plt1"
   ]
  },
  {
   "cell_type": "code",
   "execution_count": null,
   "id": "0519a691-48fd-4126-b85f-39b5eaa9548d",
   "metadata": {
    "vscode": {
     "languageId": "r"
    }
   },
   "outputs": [],
   "source": []
  },
  {
   "cell_type": "code",
   "execution_count": null,
   "id": "c8289579-7e2a-4c43-ae65-26ef3f5bd1cc",
   "metadata": {
    "collapsed": true,
    "jupyter": {
     "outputs_hidden": true
    },
    "tags": [],
    "vscode": {
     "languageId": "r"
    }
   },
   "outputs": [],
   "source": [
    "for (n in CITE_list_select){\n",
    "    print(FeaturePlot(object = seu,features = n,\n",
    "                  cols = c(\"lightgrey\", \"blue\"),\n",
    "                      order = T,\n",
    "                      slot = \"data\",\n",
    "                      #min.cutoff = \"q05\", max.cutoff = \"q95\",\n",
    "                      reduction = \"umap\",\n",
    "                pt.size=0.1\n",
    "                       ))   \n",
    "      print(VlnPlot(object = seu, features = n,\n",
    "                 #group.by = \"sample\",\n",
    "                 #x.lab.rot=T, \n",
    "                 #size.x.use = 5,\n",
    "                 pt.size = 0.01\n",
    "                      )+NoLegend()\n",
    "   )\n",
    "          print(VlnPlot(object = seu, features = n,\n",
    "                 #group.by = \"sample\",\n",
    "                 #x.lab.rot=T, \n",
    "                 #size.x.use = 5,\n",
    "                 pt.size = 0\n",
    "                      )+NoLegend()\n",
    "   )\n",
    "   #print(RidgePlot(seu, \n",
    "   #          features = n))\n",
    "\n",
    "    }"
   ]
  },
  {
   "cell_type": "code",
   "execution_count": null,
   "id": "af7188d4-99e9-4ebc-a7ea-65c9a540d3a1",
   "metadata": {
    "vscode": {
     "languageId": "r"
    }
   },
   "outputs": [],
   "source": [
    "DimPlot(object = seu, reduction = 'umap',label = F, \n",
    "        group.by = \"tissue\",\n",
    "        pt.size = 0.1)+ theme(aspect.ratio=1)"
   ]
  },
  {
   "cell_type": "code",
   "execution_count": null,
   "id": "217470b1-ac27-458d-9e4e-6bcd6c641442",
   "metadata": {
    "vscode": {
     "languageId": "r"
    }
   },
   "outputs": [],
   "source": [
    "##seu\n",
    "#seu_hq<-subset(seu, idents=c(\"5\",\"7\"),invert=TRUE)\n",
    "#seu_hq"
   ]
  },
  {
   "cell_type": "code",
   "execution_count": null,
   "id": "7bd01a72-7bb2-4661-89af-447c3a14d4c9",
   "metadata": {
    "vscode": {
     "languageId": "r"
    }
   },
   "outputs": [],
   "source": [
    "#saveRDS(seu_hq, file = paste0(\"Integrated_objects/\",samples_ID,\"_hq.rds\"))"
   ]
  },
  {
   "cell_type": "code",
   "execution_count": null,
   "id": "e1a35025-bee3-468b-874a-1f417cfd9f8f",
   "metadata": {
    "vscode": {
     "languageId": "r"
    }
   },
   "outputs": [],
   "source": []
  },
  {
   "cell_type": "code",
   "execution_count": null,
   "id": "ba770045-6c6a-4e22-8b3b-60c668e4003b",
   "metadata": {
    "vscode": {
     "languageId": "r"
    }
   },
   "outputs": [],
   "source": [
    "samples_ID"
   ]
  },
  {
   "cell_type": "code",
   "execution_count": null,
   "id": "dee75af1-2591-4cb1-9d4f-f656d5e60c65",
   "metadata": {
    "vscode": {
     "languageId": "r"
    }
   },
   "outputs": [],
   "source": [
    "as.data.frame(table(seu@meta.data$patient))"
   ]
  },
  {
   "cell_type": "code",
   "execution_count": null,
   "id": "cce0838a-e0e0-42d4-a65b-9edda34c5d81",
   "metadata": {
    "vscode": {
     "languageId": "r"
    }
   },
   "outputs": [],
   "source": [
    "as.data.frame(table(seu@meta.data$sample))"
   ]
  },
  {
   "cell_type": "code",
   "execution_count": null,
   "id": "eb076c0c-7071-45e1-8b16-6036bd83b9ad",
   "metadata": {
    "vscode": {
     "languageId": "r"
    }
   },
   "outputs": [],
   "source": [
    "saveRDS(seu, file = paste0(\"Integrated_objects/\",samples_ID,\"_clustered.rds\"))"
   ]
  },
  {
   "cell_type": "code",
   "execution_count": null,
   "id": "6a5333d2-add5-4e58-babb-43f3505c2f02",
   "metadata": {
    "vscode": {
     "languageId": "r"
    }
   },
   "outputs": [],
   "source": [
    "samples_ID"
   ]
  },
  {
   "cell_type": "code",
   "execution_count": null,
   "id": "af07dd0c-25f8-45eb-81a8-62d85b35454a",
   "metadata": {
    "vscode": {
     "languageId": "r"
    }
   },
   "outputs": [],
   "source": []
  }
 ],
 "metadata": {
  "kernelspec": {
   "display_name": "R",
   "language": "R",
   "name": "ir"
  },
  "language_info": {
   "codemirror_mode": "r",
   "file_extension": ".r",
   "mimetype": "text/x-r-source",
   "name": "R",
   "pygments_lexer": "r",
   "version": "4.2.2"
  }
 },
 "nbformat": 4,
 "nbformat_minor": 5
}
