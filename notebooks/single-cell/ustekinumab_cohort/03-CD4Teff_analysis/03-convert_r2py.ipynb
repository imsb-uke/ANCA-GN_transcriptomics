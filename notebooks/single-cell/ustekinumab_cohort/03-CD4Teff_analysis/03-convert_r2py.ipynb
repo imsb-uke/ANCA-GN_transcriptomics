{
 "cells": [
  {
   "cell_type": "code",
   "execution_count": 3,
   "metadata": {
    "vscode": {
     "languageId": "r"
    }
   },
   "outputs": [],
   "source": [
    "working_dir <- \"/data/projects/dschaub/ANCA-GN_transcriptomics\"\n",
    "data_dir <- \"/data/projects/dschaub/ANCA-GN_transcriptomics/data/single-cell/ustekinumab/integrated_objects\"\n",
    "save_dir <- \"/data/projects/dschaub/ANCA-GN_transcriptomics/data/single-cell/ustekinumab\""
   ]
  },
  {
   "cell_type": "code",
   "execution_count": null,
   "metadata": {
    "vscode": {
     "languageId": "r"
    }
   },
   "outputs": [],
   "source": [
    "setwd(working_dir)\n",
    "RhpcBLASctl::blas_set_num_threads(1)\n",
    "library(Seurat)\n",
    "library(dplyr)\n",
    "# library(tidyverse)\n",
    "library(here)\n",
    "# library(readxl)\n",
    "# library(Matrix)\n",
    "library(IMSBSeuratHelpers)\n",
    "library(ggplot2)\n",
    "library(MuDataSeurat)\n",
    "# library(sctransform)\n",
    "library(future)\n",
    "library(data.table)\n",
    "library(xlsx)\n",
    "plan(\"multicore\", workers = 1)\n",
    "options(future.globals.maxSize = 20 * 1000 * 1024^2) # 20GB\n",
    "options(repr.matrix.max.rows = 600, repr.matrix.max.cols = 200)"
   ]
  },
  {
   "cell_type": "code",
   "execution_count": null,
   "metadata": {
    "vscode": {
     "languageId": "r"
    }
   },
   "outputs": [],
   "source": [
    "path = paste0(data_dir, \"/Harmony_Ustekinumab_4PK4PB_T_CD4EMRM_celltype.rds\")\n",
    "seu <- readRDS(path)"
   ]
  },
  {
   "cell_type": "code",
   "execution_count": null,
   "metadata": {
    "vscode": {
     "languageId": "r"
    }
   },
   "outputs": [],
   "source": [
    "DefaultAssay(seu) <- \"RNA\""
   ]
  },
  {
   "cell_type": "code",
   "execution_count": null,
   "metadata": {
    "vscode": {
     "languageId": "r"
    }
   },
   "outputs": [],
   "source": [
    "str(seu)"
   ]
  },
  {
   "cell_type": "code",
   "execution_count": null,
   "metadata": {
    "vscode": {
     "languageId": "r"
    }
   },
   "outputs": [],
   "source": [
    "seu@assays$RNA@scale.data <- matrix(numeric(), nrow = 0, ncol = 0)\n",
    "seu@assays$RNA@var.features <- character()\n",
    "seu@assays$RNA@meta.features <- data.frame(row.names = row.names(seu@assays$RNA@meta.features))\n",
    "# seu@assays$RNA@key <- \"RNA_\"\n",
    "seu@commands <- list()\n",
    "seu@graphs <- list()\n",
    "# seu@reductions <- list()\n",
    "seu@reductions$pca@feature.loadings <- matrix(numeric(), nrow = 0, ncol = 0)\n",
    "seu@reductions$harmony@feature.loadings <- matrix(numeric(), nrow = 0, ncol = 0)\n",
    "seu@reductions$harmony@feature.loadings.projected <- matrix(numeric(), nrow = 0, ncol = 0)"
   ]
  },
  {
   "cell_type": "code",
   "execution_count": null,
   "metadata": {
    "vscode": {
     "languageId": "r"
    }
   },
   "outputs": [],
   "source": [
    "save_path = paste0(save_dir, \"/ANCA_ustekinumab_4PK4PB_CD4Teff.h5mu\")\n",
    "WriteH5MU(seu, save_path)"
   ]
  }
 ],
 "metadata": {
  "kernelspec": {
   "display_name": "R",
   "language": "R",
   "name": "ir"
  },
  "language_info": {
   "codemirror_mode": "r",
   "file_extension": ".r",
   "mimetype": "text/x-r-source",
   "name": "R",
   "pygments_lexer": "r",
   "version": "4.1.1"
  },
  "orig_nbformat": 4
 },
 "nbformat": 4,
 "nbformat_minor": 2
}
