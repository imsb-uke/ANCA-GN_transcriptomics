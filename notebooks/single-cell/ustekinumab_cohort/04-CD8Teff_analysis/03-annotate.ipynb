{
 "cells": [
  {
   "cell_type": "code",
   "execution_count": null,
   "metadata": {},
   "outputs": [],
   "source": [
    "%load_ext autoreload\n",
    "%autoreload 2\n",
    "\n",
    "import sys\n",
    "import os\n",
    "\n",
    "os.chdir(\"../../../../\")\n",
    "\n",
    "import yaml\n",
    "import anndata as ad\n",
    "import matplotlib.pyplot as plt\n",
    "import seaborn as sns\n",
    "import mudata as md\n",
    "import muon as mu\n",
    "import numpy as np\n",
    "import scanpy as sc\n",
    "from matplotlib import gridspec\n",
    "import scanpy.external as sce\n",
    "from scipy import sparse\n",
    "import celltypist\n",
    "from matplotlib.colors import LinearSegmentedColormap\n",
    "\n",
    "from utils.utils import *\n",
    "from utils.plotting import *\n",
    "\n",
    "sc.settings.verbosity = 0\n",
    "sc.settings.set_figure_params(\n",
    "    dpi=100,\n",
    "    facecolor=\"white\",\n",
    "    # color_map=\"YlGnBu\",\n",
    "    frameon=False,\n",
    ")\n",
    "import matplotlib as mpl\n",
    "\n",
    "sc.set_figure_params(dpi=100)\n",
    "sns.set(style=\"white\")"
   ]
  },
  {
   "cell_type": "markdown",
   "metadata": {},
   "source": [
    "## Load data"
   ]
  },
  {
   "cell_type": "code",
   "execution_count": null,
   "metadata": {},
   "outputs": [],
   "source": [
    "mudata = md.read_h5mu(\n",
    "    \"data/anca/ustekinumab/R_ANCA_4PK4PB_ustekinumab_cd8emrm_clean.h5mu\"\n",
    ")\n",
    "mudata"
   ]
  },
  {
   "cell_type": "markdown",
   "metadata": {},
   "source": [
    "## Prepare data"
   ]
  },
  {
   "cell_type": "code",
   "execution_count": null,
   "metadata": {},
   "outputs": [],
   "source": [
    "mod_rna = mudata.mod[\"rna\"]\n",
    "mod_cite = mudata.mod[\"cite\"]"
   ]
  },
  {
   "cell_type": "code",
   "execution_count": null,
   "metadata": {},
   "outputs": [],
   "source": [
    "sc.pl.umap(mod_rna, color=\"RNA_snn_res.0.75\")"
   ]
  },
  {
   "cell_type": "markdown",
   "metadata": {},
   "source": [
    "## Visualizations"
   ]
  },
  {
   "cell_type": "code",
   "execution_count": null,
   "metadata": {},
   "outputs": [],
   "source": [
    "trm_up = [\n",
    "    \"CD69\",\n",
    "    \"CA10\",\n",
    "    \"ITGA1\",\n",
    "    \"ITGAE\",\n",
    "    \"IL2\",\n",
    "    \"IL10\",\n",
    "    \"CXCR6\",\n",
    "    \"CXCL13\",\n",
    "    \"KCNK5\",\n",
    "    \"RGS1\",\n",
    "    \"CRTAM\",\n",
    "    \"DUSP6\",\n",
    "    \"PDCD1\",\n",
    "    \"IL23R\",\n",
    "]\n",
    "mod_rna.layers[\"log1p\"] = mod_rna.X.copy()\n",
    "sc.pp.scale(mod_rna)\n",
    "sc.tl.score_genes(\n",
    "    mod_rna,\n",
    "    gene_list=trm_up,\n",
    "    score_name=\"trm_up_score\",\n",
    "    ctrl_size=50,\n",
    "    use_raw=False,\n",
    ")\n",
    "mod_rna.X = mod_rna.layers[\"log1p\"].copy()"
   ]
  },
  {
   "cell_type": "code",
   "execution_count": null,
   "metadata": {},
   "outputs": [],
   "source": [
    "sc.pl.umap(\n",
    "    mod_rna,\n",
    "    color=[\"trm_up_score\"],\n",
    "    color_map=\"RdBu_r\",\n",
    "    vmin=-0.4,\n",
    "    vmax=0.4,\n",
    "    size=30,\n",
    "    title=\"TRM score\",\n",
    "    ncols=1,\n",
    ")"
   ]
  },
  {
   "cell_type": "code",
   "execution_count": null,
   "metadata": {},
   "outputs": [],
   "source": [
    "marker_df = pd.read_excel(\"data/markers/T cell markers.xlsx\")\n",
    "marker_df = marker_df.set_index(\"Cell type\")\n",
    "\n",
    "# extract positive markers\n",
    "marker_db = {}\n",
    "for index, row in marker_df.iterrows():\n",
    "    pos_markers_1 = (\n",
    "        row[\"positive markers 1\"].replace(\" \", \"\").split(\",\")\n",
    "        if row[\"positive markers 1\"] is not np.nan\n",
    "        else []\n",
    "    )\n",
    "    pos_markers_2 = (\n",
    "        row[\"positive markers 2\"].replace(\" \", \"\").split(\",\")\n",
    "        if row[\"positive markers 2\"] is not np.nan\n",
    "        else []\n",
    "    )\n",
    "    marker_db[index] = list(set(pos_markers_1 + pos_markers_2))\n",
    "\n",
    "marker_plotter = MarkerPlotter(mod_rna, mod_cite, marker_db, cluster_key=None)"
   ]
  },
  {
   "cell_type": "code",
   "execution_count": null,
   "metadata": {},
   "outputs": [],
   "source": [
    "fig = marker_plotter.visualize_markers(\n",
    "    markers=[\n",
    "        \"NKG7\",\n",
    "        \"KLRC1\",\n",
    "        \"KLRD1\",\n",
    "        \"KLRF1\",\n",
    "        \"KLRB1\",\n",
    "        \"NCR1\",\n",
    "        \"NCAM1\",\n",
    "        \"FGFBP2\",\n",
    "        \"XCL1\",\n",
    "        \"XCL2\",\n",
    "    ],\n",
    "    dtype=\"rna\",\n",
    "    ncols=3,\n",
    "    use_default_plot=True,\n",
    "    # marker_plot=False\n",
    "    dotplot=False,\n",
    ")"
   ]
  },
  {
   "cell_type": "code",
   "execution_count": null,
   "metadata": {},
   "outputs": [],
   "source": [
    "fig = marker_plotter.visualize_markers(\n",
    "    markers=[\n",
    "        \"CD4\",\n",
    "        \"CD3D\",\n",
    "        \"CD3E\",\n",
    "        \"CD8A\",\n",
    "    ],\n",
    "    dtype=\"rna\",\n",
    "    ncols=3,\n",
    "    use_default_plot=True,\n",
    "    # marker_plot=False\n",
    "    dotplot=False,\n",
    ")"
   ]
  },
  {
   "cell_type": "code",
   "execution_count": null,
   "metadata": {},
   "outputs": [],
   "source": [
    "for cell_type in marker_db.keys():\n",
    "    fig = marker_plotter.visualize_markers(\n",
    "        cell_type=cell_type,\n",
    "        dtype=\"rna\",\n",
    "        ncols=3,\n",
    "        use_default_plot=True,\n",
    "        # marker_plot=False\n",
    "        dotplot=False,\n",
    "    )"
   ]
  },
  {
   "cell_type": "code",
   "execution_count": null,
   "metadata": {},
   "outputs": [],
   "source": [
    "for cell_type in marker_db.keys():\n",
    "    fig = marker_plotter.visualize_markers(\n",
    "        cell_type=cell_type,\n",
    "        dtype=\"protein\",\n",
    "        ncols=3,\n",
    "        use_default_plot=True,\n",
    "        # marker_plot=False\n",
    "        dotplot=False,\n",
    "    )"
   ]
  },
  {
   "cell_type": "markdown",
   "metadata": {},
   "source": [
    "## Annotations"
   ]
  },
  {
   "cell_type": "code",
   "execution_count": null,
   "metadata": {},
   "outputs": [],
   "source": [
    "cluster_key = \"RNA_snn_res.0.75\""
   ]
  },
  {
   "cell_type": "code",
   "execution_count": null,
   "metadata": {},
   "outputs": [],
   "source": [
    "get_cluster_names(mod_rna, cluster_key)"
   ]
  },
  {
   "cell_type": "code",
   "execution_count": null,
   "metadata": {},
   "outputs": [],
   "source": [
    "annotations = {\n",
    "    \"0\": \"CD8+ Tcm\",\n",
    "    \"1\": \"Tc1-like\",\n",
    "    \"2\": \"Tc1-like\",\n",
    "    \"3\": \"Tc1-like\",\n",
    "    \"4\": \"CD8+ Tem/naive\",\n",
    "    \"5\": \"NKT\",\n",
    "    \"6\": \"Tc1\",\n",
    "}"
   ]
  },
  {
   "cell_type": "code",
   "execution_count": null,
   "metadata": {},
   "outputs": [],
   "source": [
    "# apply annotations\n",
    "mod_rna.obs[\"cell_type_fine\"] = mod_rna.obs[cluster_key].replace(annotations)"
   ]
  },
  {
   "cell_type": "markdown",
   "metadata": {},
   "source": [
    "## Final visualizations"
   ]
  },
  {
   "cell_type": "code",
   "execution_count": null,
   "metadata": {},
   "outputs": [],
   "source": [
    "cell_type_key = \"cell_type_fine\""
   ]
  },
  {
   "cell_type": "code",
   "execution_count": null,
   "metadata": {},
   "outputs": [],
   "source": [
    "# cell_type_order = [\n",
    "#     \"Tc1-like RM\",\n",
    "#     \"CD8+ EM/CM\",\n",
    "#     \"prolif. CD8+ RM\",\n",
    "#     \"NKT\",\n",
    "#     \"NKT/gdT\",\n",
    "# ]\n",
    "# mod_rna.obs[\"cell_type_fine\"] = pd.Categorical(\n",
    "#     mod_rna.obs[\"cell_type_fine\"], categories=cell_type_order, ordered=True\n",
    "# )"
   ]
  },
  {
   "cell_type": "code",
   "execution_count": null,
   "metadata": {},
   "outputs": [],
   "source": [
    "selected_markers = {\n",
    "    \"general\": [\"CD3E\", \"CD4\", \"CD8A\"],\n",
    "    \"Tc1\": [\"IFNG\", \"TNF\", \"CXCR3\"],\n",
    "    \"Tc17\": [\"RORC\", \"CCR6\"],\n",
    "    \"gdT\": [\"TRDV2\", \"TRGV9\"],\n",
    "    \"NKT\": [\"KLRB1\", \"NCAM1\", \"XCL1\"],\n",
    "    \"cytotoxic\": [\"GZMB\", \"PRF1\"],\n",
    "    \"CM/naive\": [\"CCR7\", \"SELL\", \"KLF2\", \"S1PR1\"],\n",
    "    \"prolif.\": [\"STMN1\"],\n",
    "}\n",
    "# convert to ordered dict\n",
    "selected_markers = collections.OrderedDict(selected_markers.items())\n",
    "\n",
    "sc.pl.dotplot(\n",
    "    mod_rna,\n",
    "    var_names=selected_markers,\n",
    "    groupby=cell_type_key,\n",
    "    standard_scale=\"var\",\n",
    "    # color_map=\"Reds\",\n",
    "    # swap_axes=True,\n",
    "    var_group_rotation=25,\n",
    ")"
   ]
  },
  {
   "cell_type": "code",
   "execution_count": null,
   "metadata": {},
   "outputs": [],
   "source": [
    "mod_cite.obs[cell_type_key] = mod_rna.obs[cell_type_key]\n",
    "selected_markers = [\n",
    "    \"CD3\",\n",
    "    \"CD8\",\n",
    "    \"CD4\",\n",
    "    \"CD69\",\n",
    "    \"CD27\",\n",
    "    \"CCR7\",\n",
    "    \"CD45RO\",\n",
    "    \"CD45RA\",\n",
    "    \"CCR6\",\n",
    "    \"CXCR3\",\n",
    "]\n",
    "\n",
    "sc.pl.dotplot(\n",
    "    mod_cite,\n",
    "    var_names=selected_markers,\n",
    "    groupby=cell_type_key,\n",
    "    standard_scale=\"var\",\n",
    "    # color_map=\"Reds\",\n",
    "    # swap_axes=True,\n",
    "    var_group_rotation=25,\n",
    ")"
   ]
  },
  {
   "cell_type": "code",
   "execution_count": null,
   "metadata": {},
   "outputs": [],
   "source": [
    "plot_umap(mod_rna, color=\"cell_type_fine\", title=\"CD8+ EM/RM subsets\", figsize=(5, 5))\n"
   ]
  },
  {
   "cell_type": "code",
   "execution_count": null,
   "metadata": {},
   "outputs": [],
   "source": [
    "sc.pl.umap(\n",
    "    mod_rna,\n",
    "    color=[\"trm_up_score\"],\n",
    "    color_map=\"RdBu_r\",\n",
    "    vmin=-0.4,\n",
    "    vmax=0.4,\n",
    "    size=30,\n",
    "    title=\"TRM score\",\n",
    "    ncols=1,\n",
    ")"
   ]
  },
  {
   "cell_type": "code",
   "execution_count": null,
   "metadata": {},
   "outputs": [],
   "source": [
    "all_marker_results, filtered_marker_results, best_markers = run_de_pipeline(\n",
    "    mod_rna,\n",
    "    cell_type_key,\n",
    "    mod=\"rna\",\n",
    "    top_n=5,\n",
    "    min_expression=0.1,\n",
    ")\n"
   ]
  },
  {
   "cell_type": "code",
   "execution_count": null,
   "metadata": {},
   "outputs": [],
   "source": [
    "top_markers = get_top_n_markers(best_markers, n=10)\n",
    "top_markers = {k: top_markers[k] for k in cell_type_order}\n",
    "sc.pl.dotplot(\n",
    "    mod_rna,\n",
    "    var_names=top_markers,\n",
    "    groupby=cell_type_key,\n",
    "    standard_scale=\"var\",\n",
    "    # color_map=\"Reds\",\n",
    "    # swap_axes=True,\n",
    "    var_group_rotation=25,\n",
    ")\n"
   ]
  },
  {
   "cell_type": "code",
   "execution_count": null,
   "metadata": {},
   "outputs": [],
   "source": [
    "# remove hashb and hashk\n",
    "var_names = [name for name in mod_cite.var_names if not name.startswith(\"Hash\")]\n",
    "mod_cite = mod_cite[:, var_names].copy()\n",
    "\n",
    "mod_cite.obs[cell_type_key] = mod_rna.obs[cell_type_key].copy()\n",
    "all_marker_results, filtered_marker_results, best_markers = run_de_pipeline(\n",
    "    mod_cite,\n",
    "    cell_type_key,\n",
    "    mod=\"cite\",\n",
    "    top_n=5,\n",
    "    min_expression=0.1,\n",
    ")\n",
    "\n",
    "top_markers = get_top_n_markers(best_markers, n=10)\n",
    "top_markers = {k: top_markers[k] for k in cell_type_order}\n",
    "sc.pl.dotplot(\n",
    "    mod_cite,\n",
    "    var_names=top_markers,\n",
    "    groupby=cell_type_key,\n",
    "    standard_scale=\"var\",\n",
    "    # color_map=\"Reds\",\n",
    "    # swap_axes=True,\n",
    "    var_group_rotation=25,\n",
    ")"
   ]
  },
  {
   "cell_type": "code",
   "execution_count": null,
   "metadata": {},
   "outputs": [],
   "source": [
    "color_map = {\n",
    "    cell_type: mod_rna.uns[\"cell_type_fine_colors\"][k]\n",
    "    for k, cell_type in enumerate(cell_type_order)\n",
    "}\n",
    "donut_plot(\n",
    "    adata=mod_rna,\n",
    "    cell_type_col=\"cell_type_fine\",\n",
    "    color_map=color_map,\n",
    "    label_order=cell_type_order,\n",
    ")\n"
   ]
  },
  {
   "cell_type": "code",
   "execution_count": null,
   "metadata": {},
   "outputs": [],
   "source": [
    "fig = marker_plotter.visualize_markers(\n",
    "    markers=[\n",
    "        \"IFNG\",\n",
    "        \"TNF\",\n",
    "        \"RORC\",\n",
    "        \"CCR6\",\n",
    "        \"TRDV2\",\n",
    "        \"TRGV9\",\n",
    "        \"KLRB1\",\n",
    "        \"NCAM1\",\n",
    "        \"XCL1\",\n",
    "        \"GZMB\",\n",
    "        \"PRF1\",\n",
    "        \"CCR7\",\n",
    "        \"SELL\",\n",
    "        \"KLF2\",\n",
    "        \"S1PR1\",\n",
    "    ],\n",
    "    dtype=\"rna\",\n",
    "    ncols=4,\n",
    "    use_default_plot=True,\n",
    "    # marker_plot=False\n",
    "    dotplot=False,\n",
    "    vmax=None,\n",
    ")\n"
   ]
  },
  {
   "cell_type": "code",
   "execution_count": null,
   "metadata": {},
   "outputs": [],
   "source": [
    "fig = marker_plotter.visualize_markers(\n",
    "    markers=[\"CCR6\", \"CCR7\", \"CXCR3\", \"CCR4\", \"CD45RA\", \"CD45RO\"],\n",
    "    dtype=\"protein\",\n",
    "    ncols=3,\n",
    "    use_default_plot=True,\n",
    "    # marker_plot=False\n",
    "    dotplot=False,\n",
    "    # vmax=None,\n",
    "    vmax=[\"p99\", \"p99\", \"p99\", \"p99\", \"p99\", \"p99\"],\n",
    ")\n"
   ]
  },
  {
   "cell_type": "markdown",
   "metadata": {},
   "source": [
    "## Save annotations"
   ]
  },
  {
   "cell_type": "code",
   "execution_count": null,
   "metadata": {},
   "outputs": [],
   "source": [
    "mudata.mod[\"rna\"] = mod_rna\n",
    "mudata.mod[\"cite\"] = mod_cite\n",
    "mudata = md.MuData(\n",
    "    {\n",
    "        \"rna\": mod_rna,\n",
    "        \"cite\": mod_cite,\n",
    "    }\n",
    ")"
   ]
  },
  {
   "cell_type": "code",
   "execution_count": null,
   "metadata": {},
   "outputs": [],
   "source": [
    "mod_rna.obs.cell_type_fine.value_counts()"
   ]
  },
  {
   "cell_type": "code",
   "execution_count": null,
   "metadata": {},
   "outputs": [],
   "source": [
    "mudata.obs"
   ]
  },
  {
   "cell_type": "code",
   "execution_count": null,
   "metadata": {},
   "outputs": [],
   "source": [
    "save_path = \"data/anca/ustekinumab/R_ANCA_4PK4PB_ustekinumab_cd8emrm_annotated.h5mu\"\n",
    "mudata.write_h5mu(save_path)"
   ]
  },
  {
   "cell_type": "markdown",
   "metadata": {},
   "source": [
    "## Prepare for celltypist"
   ]
  },
  {
   "cell_type": "code",
   "execution_count": null,
   "metadata": {},
   "outputs": [],
   "source": [
    "mod_rna\n"
   ]
  },
  {
   "cell_type": "code",
   "execution_count": null,
   "metadata": {},
   "outputs": [],
   "source": [
    "run_celltypist(mod_rna)\n"
   ]
  },
  {
   "cell_type": "code",
   "execution_count": null,
   "metadata": {},
   "outputs": [],
   "source": [
    "sc.pl.umap(\n",
    "    mod_rna, color=[\"celltypist_cell_label_coarse\", \"celltypist_cell_label_fine\"]\n",
    ")"
   ]
  }
 ],
 "metadata": {
  "kernelspec": {
   "display_name": "scvi-env",
   "language": "python",
   "name": "python3"
  },
  "language_info": {
   "codemirror_mode": {
    "name": "ipython",
    "version": 3
   },
   "file_extension": ".py",
   "mimetype": "text/x-python",
   "name": "python",
   "nbconvert_exporter": "python",
   "pygments_lexer": "ipython3",
   "version": "3.9.15"
  }
 },
 "nbformat": 4,
 "nbformat_minor": 2
}
