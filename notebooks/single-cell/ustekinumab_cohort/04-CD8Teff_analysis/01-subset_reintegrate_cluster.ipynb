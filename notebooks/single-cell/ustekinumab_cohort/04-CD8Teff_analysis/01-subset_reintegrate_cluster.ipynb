{
 "cells": [
  {
   "cell_type": "code",
   "execution_count": 1,
   "metadata": {
    "vscode": {
     "languageId": "r"
    }
   },
   "outputs": [],
   "source": [
    "working_dir <- \"/data/projects/dschaub/ANCA-GN_transcriptomics\"\n",
    "data_dir <- \"/data/projects/dschaub/ANCA-GN_transcriptomics/data/single-cell/ustekinumab/integrated_objects\"\n",
    "save_dir <- \"/data/projects/dschaub/ANCA-GN_transcriptomics/data/single-cell/ustekinumab\""
   ]
  },
  {
   "cell_type": "code",
   "execution_count": null,
   "metadata": {
    "vscode": {
     "languageId": "r"
    }
   },
   "outputs": [],
   "source": [
    "RhpcBLASctl::blas_set_num_threads(1)\n",
    "library(Seurat)\n",
    "library(dplyr)\n",
    "# library(tidyverse)\n",
    "library(here)\n",
    "# library(readxl)\n",
    "# library(Matrix)\n",
    "library(IMSBSeuratHelpers)\n",
    "library(harmony)\n",
    "library(ggplot2)\n",
    "# library(sctransform)\n",
    "library(future)\n",
    "library(data.table)\n",
    "library(xlsx)\n",
    "plan(\"multicore\", workers = 1)\n",
    "options(future.globals.maxSize = 20 * 1000 * 1024^2) # 20GB\n",
    "options(repr.matrix.max.rows = 600, repr.matrix.max.cols = 200)"
   ]
  },
  {
   "cell_type": "code",
   "execution_count": null,
   "metadata": {
    "vscode": {
     "languageId": "r"
    }
   },
   "outputs": [],
   "source": [
    "path <- paste0(data_dir, \"/Harmony_Ustekinumab_4PK4PB_T_celltype.rds\")\n",
    "seu <- readRDS(path)"
   ]
  },
  {
   "cell_type": "code",
   "execution_count": null,
   "metadata": {
    "vscode": {
     "languageId": "r"
    }
   },
   "outputs": [],
   "source": [
    "DefaultAssay(seu) <- \"RNA\""
   ]
  },
  {
   "cell_type": "code",
   "execution_count": null,
   "metadata": {
    "vscode": {
     "languageId": "r"
    }
   },
   "outputs": [],
   "source": [
    "# DimPlot(object = seu, reduction = 'tsne',label = F,\n",
    "#        pt.size = 0.1)+ theme(aspect.ratio=1)\n",
    "DimPlot(\n",
    "    object = seu, reduction = \"umap\", label = T,\n",
    "    pt.size = 0.1\n",
    ") + theme(aspect.ratio = 1)"
   ]
  },
  {
   "cell_type": "code",
   "execution_count": null,
   "metadata": {
    "vscode": {
     "languageId": "r"
    }
   },
   "outputs": [],
   "source": [
    "seu <- subset(seu, idents = c(\"CD8_EM/RM\"))\n",
    "seu"
   ]
  },
  {
   "cell_type": "code",
   "execution_count": null,
   "metadata": {
    "vscode": {
     "languageId": "r"
    }
   },
   "outputs": [],
   "source": [
    "DimPlot(\n",
    "    object = seu, reduction = \"umap\", label = TRUE,\n",
    "    # cols = cols,\n",
    "    pt.size = 0.1, label.size = 4, repel = T\n",
    ") + theme(aspect.ratio = 1, legend.position = \"right\")"
   ]
  },
  {
   "cell_type": "code",
   "execution_count": null,
   "metadata": {
    "vscode": {
     "languageId": "r"
    }
   },
   "outputs": [],
   "source": [
    "# str(seu)\n",
    "# seu@assays$RNA@scale.data"
   ]
  },
  {
   "cell_type": "code",
   "execution_count": null,
   "metadata": {
    "vscode": {
     "languageId": "r"
    }
   },
   "outputs": [],
   "source": [
    "Idents(seu) <- \"patient\"\n",
    "levels(seu)"
   ]
  },
  {
   "cell_type": "code",
   "execution_count": null,
   "metadata": {
    "vscode": {
     "languageId": "r"
    }
   },
   "outputs": [],
   "source": [
    "seu <- FindVariableFeatures(\n",
    "    object = seu,\n",
    "    selection.method = \"vst\",\n",
    "    nfeatures = 2000\n",
    ")"
   ]
  },
  {
   "cell_type": "code",
   "execution_count": null,
   "metadata": {
    "vscode": {
     "languageId": "r"
    }
   },
   "outputs": [],
   "source": [
    "seu <- ScaleData(seu,\n",
    "    vars.to.regress = c(\"nFeature_RNA\", \"nCount_RNA\", \"frac.mito\") # ,\n",
    "    # features = rownames(seu)\n",
    ")\n",
    "# seu <- ScaleData(seu, features = rownames(seu))\n",
    "# seu <- ScaleData(seu, features = rownames(seu))"
   ]
  },
  {
   "cell_type": "code",
   "execution_count": null,
   "metadata": {
    "vscode": {
     "languageId": "r"
    }
   },
   "outputs": [],
   "source": [
    "seu <- RunPCA(\n",
    "    object = seu,\n",
    "    features = VariableFeatures(object = seu),\n",
    "    verbose = T\n",
    ")"
   ]
  },
  {
   "cell_type": "code",
   "execution_count": null,
   "metadata": {
    "vscode": {
     "languageId": "r"
    }
   },
   "outputs": [],
   "source": [
    "seu <- seu %>%\n",
    "    RunHarmony(\"patient\",\n",
    "        dims.use = 1:30,\n",
    "        plot_convergence = TRUE\n",
    "    )"
   ]
  },
  {
   "cell_type": "code",
   "execution_count": null,
   "metadata": {
    "vscode": {
     "languageId": "r"
    }
   },
   "outputs": [],
   "source": [
    "# seu <- RunTSNE(object = seu,reduction = 'harmony', dims = 1:30)\n",
    "seu <- RunUMAP(object = seu, reduction = \"harmony\", dims = 1:30)"
   ]
  },
  {
   "cell_type": "code",
   "execution_count": null,
   "metadata": {
    "vscode": {
     "languageId": "r"
    }
   },
   "outputs": [],
   "source": [
    "# DimPlot(object = seu, reduction = 'tsne',label = F,\n",
    "#        pt.size = 0.1)+ theme(aspect.ratio=1)\n",
    "DimPlot(\n",
    "    object = seu, reduction = \"umap\", label = F,\n",
    "    pt.size = 0.1\n",
    ") + theme(aspect.ratio = 1)"
   ]
  },
  {
   "cell_type": "code",
   "execution_count": null,
   "metadata": {
    "vscode": {
     "languageId": "r"
    }
   },
   "outputs": [],
   "source": [
    "seu <- FindNeighbors(object = seu, reduction = \"harmony\", dims = 1:30)\n",
    "# !!! Essential step to set the reduction to 'harmony', otherwise the default is PCA and will give big difference of clusters and UMAP\n",
    "# seu <- FindNeighbors(object = seu, dims = 1:30)"
   ]
  },
  {
   "cell_type": "code",
   "execution_count": null,
   "metadata": {
    "vscode": {
     "languageId": "r"
    }
   },
   "outputs": [],
   "source": [
    "seu <- FindClusters(object = seu, resolution = 0.75)\n",
    "table(Idents(seu))\n",
    "# DimPlot(object = seu, reduction = 'tsne',label = TRUE,\n",
    "#        pt.size = 0.1,label.size = 6, repel = T) + theme(aspect.ratio=1)\n",
    "DimPlot(\n",
    "    object = seu, reduction = \"umap\", label = TRUE,\n",
    "    pt.size = 0.1, label.size = 6, repel = T\n",
    ") + theme(aspect.ratio = 1)"
   ]
  },
  {
   "cell_type": "code",
   "execution_count": null,
   "metadata": {
    "vscode": {
     "languageId": "r"
    }
   },
   "outputs": [],
   "source": [
    "Idents(seu) <- \"tissue\"\n",
    "DimPlot(\n",
    "    object = seu, reduction = \"umap\", label = F,\n",
    "    # split.by = \"case\",\n",
    "    pt.size = 0.1\n",
    ") + theme(aspect.ratio = 1)"
   ]
  },
  {
   "cell_type": "code",
   "execution_count": null,
   "metadata": {
    "vscode": {
     "languageId": "r"
    }
   },
   "outputs": [],
   "source": [
    "seu <- FindClusters(object = seu, resolution = 0.75)\n",
    "table(Idents(seu))\n",
    "# DimPlot(object = seu, reduction = 'tsne',label = TRUE,\n",
    "#        pt.size = 0.1,label.size = 6, repel = T) + theme(aspect.ratio=1)\n",
    "DimPlot(\n",
    "    object = seu, reduction = \"umap\", label = TRUE,\n",
    "    pt.size = 0.1, label.size = 6, repel = T\n",
    ") + theme(aspect.ratio = 1)"
   ]
  },
  {
   "cell_type": "code",
   "execution_count": null,
   "metadata": {
    "vscode": {
     "languageId": "r"
    }
   },
   "outputs": [],
   "source": [
    "marker_qc <- c(\"nFeature_RNA\", \"nCount_RNA\", \"frac.mito\", \"frac.ribo\", \"CD3_count\")\n",
    "for (n in marker_qc) {\n",
    "    print(\n",
    "        VlnPlot(\n",
    "            object = seu, features = n,\n",
    "            # group.by = \"patient\",\n",
    "            # split.by = \"cellgroup\",\n",
    "            # x.lab.rot=T,\n",
    "            # size.x.use = 5,\n",
    "            pt.size = 0\n",
    "        ) #+ NoLegend()\n",
    "    )\n",
    "\n",
    "    print(FeaturePlot(\n",
    "        object = seu, features = n,\n",
    "        cols = c(\"grey\", \"blue\"),\n",
    "        order = T,\n",
    "        reduction = \"umap\",\n",
    "        pt.size = 0.1\n",
    "    ))\n",
    "}"
   ]
  },
  {
   "cell_type": "code",
   "execution_count": null,
   "metadata": {
    "vscode": {
     "languageId": "r"
    }
   },
   "outputs": [],
   "source": [
    "DefaultAssay(seu) <- \"RNA\""
   ]
  },
  {
   "cell_type": "code",
   "execution_count": null,
   "metadata": {
    "vscode": {
     "languageId": "r"
    }
   },
   "outputs": [],
   "source": [
    "# find markers for every cluster compared to all remaining cells, report only the positive ones\n",
    "seu.markers <- FindAllMarkers(\n",
    "    object = seu, only.pos = TRUE,\n",
    "    min.pct = 0.25, logfc.threshold = 0.5\n",
    ")\n",
    "# logfc.threshold=0.25 (default) instead of old version thresh.use=0.25\n",
    "head(seu.markers)\n",
    "dim(seu.markers)"
   ]
  },
  {
   "cell_type": "code",
   "execution_count": null,
   "metadata": {
    "vscode": {
     "languageId": "r"
    }
   },
   "outputs": [],
   "source": [
    "top3 <- seu.markers %>%\n",
    "    group_by(cluster) %>%\n",
    "    top_n(3, avg_log2FC)\n",
    "top5 <- seu.markers %>%\n",
    "    group_by(cluster) %>%\n",
    "    top_n(5, avg_log2FC)\n",
    "top10 <- seu.markers %>%\n",
    "    group_by(cluster) %>%\n",
    "    top_n(10, avg_log2FC)"
   ]
  },
  {
   "cell_type": "markdown",
   "metadata": {},
   "source": [
    "## DEGs"
   ]
  },
  {
   "cell_type": "code",
   "execution_count": null,
   "metadata": {
    "vscode": {
     "languageId": "r"
    }
   },
   "outputs": [],
   "source": [
    "options(repr.plot.width = 9, repr.plot.height = 20)\n",
    "plt1 <- DotPlot(seu,\n",
    "    features = unique(top10$gene),\n",
    "    dot.scale = 4\n",
    "    # scale.by = \"size\"\n",
    ") + coord_flip() +\n",
    "    theme( # strip.background = element_blank(),\n",
    "        axis.title = element_blank(),\n",
    "        axis.text.x = element_text(size = 12, angle = 45, hjust = 1), # Increased size from 10 to 12\n",
    "        axis.text.y = element_text(size = 12), # Increased size from 10 to 12\n",
    "        legend.position = \"right\",\n",
    "        # legend.spacing = unit(0, \"mm\"),\n",
    "        legend.direction = \"vertical\",\n",
    "        legend.text = element_text(size = 7), # Increased size from 5 to 7\n",
    "        legend.key.width = unit(2.5, \"mm\"), # Increased width slightly\n",
    "        legend.key.height = unit(2.5, \"mm\"), # Increased height slightly\n",
    "        legend.box.spacing = unit(1, \"mm\"),\n",
    "        legend.margin = margin(2),\n",
    "        legend.title = element_text(size = 9, angle = 90) # Increased size from 7 to 9\n",
    "    )\n",
    "plt1"
   ]
  },
  {
   "cell_type": "code",
   "execution_count": null,
   "metadata": {
    "vscode": {
     "languageId": "r"
    }
   },
   "outputs": [],
   "source": [
    "DefaultAssay(seu) <- \"RNA\"\n",
    "# Search for known marker genes in seu\n",
    "leukos <- c(\"PTPRC\")\n",
    "Tcells <- c(\"CD3G\", \"CD3D\", \"CD3E\")\n",
    "CD4 <- c(\"CD4\")\n",
    "CD8 <- c(\"CD8A\", \"CD8B\")\n",
    "Naive <- c(\"LEF1\", \"TCF7\", \"LTB\")\n",
    "CM <- c(\"CCR7\", \"SELL\", \"KLF2\", \"S1PR1\")\n",
    "RM <- c(\"CXCR6\", \"CD69\", \"ITGAE\", \"RGS1\")\n",
    "Th1 <- c(\"CXCR3\", \"TBX21\", \"IFNG\", \"TNF\", \"CSF2\")\n",
    "Th2 <- c(\"GATA3\", \"IL4\", \"IL5\", \"IL13\")\n",
    "Th17 <- c(\"CCR6\", \"RORC\", \"IL17A\", \"IL17F\", \"IL23R\")\n",
    "Tr1 <- c(\"IL10\", \"ITGA2\", \"LAG3\", \"HAVCR2\") # ,\"Ahr\",\"Irf4\",\"Prdm1\",\"Maf\")\n",
    "Tregs <- c(\"FOXP3\", \"IL2RA\", \"CTLA4\", \"IKZF2\", \"TIGIT\")\n",
    "Tfh <- c(\"IL21\", \"POU2AF1\", \"CXCR5\", \"BCL6\", \"ASCL2\", \"CD200\", \"ID3\", \"ICOS\", \"ICOSLG\")\n",
    "CTL <- c(\"PRF1\", \"GZMB\", \"GZMK\", \"GZMA\", \"GZMH\", \"GNLY\")\n",
    "NK <- c(\"NKG7\", \"KLRC1\", \"KLRD1\", \"KLRF1\", \"KLRB1\", \"NCR1\", \"NCAM1\", \"FGFBP2\", \"XCL1\", \"XCL2\")\n",
    "Tgd <- c(\"TRDV2\", \"TRGV9\")\n",
    "MAIT <- c(\"TRAV1-2\")\n",
    "Prolif <- c(\"STMN1\", \"MKI67\", \"TOP2A\")\n",
    "\n",
    "known_markers <- list(\n",
    "    leukos,\n",
    "    Tcells,\n",
    "    CD4,\n",
    "    CD8,\n",
    "    CTL,\n",
    "    NK,\n",
    "    Naive,\n",
    "    CM,\n",
    "    RM,\n",
    "    Th1,\n",
    "    Tr1,\n",
    "    Th2,\n",
    "    Th17,\n",
    "    MAIT,\n",
    "    Tgd,\n",
    "    Tregs,\n",
    "    Tfh,\n",
    "    Prolif\n",
    ")\n",
    "known_markers\n",
    "\n",
    "marker_gene_list <- known_markers\n",
    "length(unlist(marker_gene_list))\n",
    "marker_gene_list_expressed <- intersect(unlist(marker_gene_list), rownames(GetAssayData(seu)))\n",
    "length(marker_gene_list_expressed)\n",
    "setdiff(unlist(marker_gene_list), marker_gene_list_expressed)"
   ]
  },
  {
   "cell_type": "markdown",
   "metadata": {},
   "source": [
    "## Yu marker genes"
   ]
  },
  {
   "cell_type": "code",
   "execution_count": null,
   "metadata": {
    "vscode": {
     "languageId": "r"
    }
   },
   "outputs": [],
   "source": [
    "options(repr.plot.width = 5, repr.plot.height = 5)\n",
    "for (n in marker_gene_list_expressed) {\n",
    "       print(FeaturePlot(\n",
    "              object = seu, features = n,\n",
    "              cols = c(\"lightgrey\", \"blue\"),\n",
    "              order = T,\n",
    "              slot = \"data\",\n",
    "              # min.cutoff = \"q05\", max.cutoff = \"q95\",\n",
    "              reduction = \"umap\",\n",
    "              pt.size = 0.1\n",
    "       ))\n",
    "       print(VlnPlot(\n",
    "              object = seu, features = n,\n",
    "              # group.by = \"sample\",\n",
    "              # x.lab.rot=T,\n",
    "              # size.x.use = 5,\n",
    "              pt.size = 0.01\n",
    "       ) + NoLegend())\n",
    "       print(VlnPlot(\n",
    "              object = seu, features = n,\n",
    "              # group.by = \"sample\",\n",
    "              # x.lab.rot=T,\n",
    "              # size.x.use = 5,\n",
    "              pt.size = 0\n",
    "       ) + NoLegend())\n",
    "       # print(RidgePlot(seu,\n",
    "       #          features = n))\n",
    "}"
   ]
  },
  {
   "cell_type": "markdown",
   "metadata": {},
   "source": [
    "## Marker proteins Yu"
   ]
  },
  {
   "cell_type": "code",
   "execution_count": null,
   "metadata": {
    "vscode": {
     "languageId": "r"
    }
   },
   "outputs": [],
   "source": [
    "CITE_list_select <- c(\n",
    "    \"CD3\",\n",
    "    \"CD4\",\n",
    "    \"CD8\",\n",
    "    \"CD45\",\n",
    "    \"CD45RA\",\n",
    "    \"CCR7\",\n",
    "    \"CD62L\",\n",
    "    \"CD45RO\",\n",
    "    \"CD49a\",\n",
    "    \"CD103\",\n",
    "    \"CD69\",\n",
    "    \"TCRab\",\n",
    "    \"TCRgd\",\n",
    "    \"TCRVa7.2\",\n",
    "    \"TCRVb13.1\",\n",
    "    \"TCRVa24Ja18\",\n",
    "    \"TCRVd2\",\n",
    "    \"TCRVg9\",\n",
    "    \"CD44\",\n",
    "    \"CTLA4\",\n",
    "    \"PDL1\",\n",
    "    \"LAG3\",\n",
    "    \"ICOS\",\n",
    "    \"CD25\",\n",
    "    \"TIGIT\",\n",
    "    \"CD154\",\n",
    "    \"CD161\",\n",
    "    \"CD27\",\n",
    "    \"CD127\",\n",
    "    \"CD169\",\n",
    "    \"CD40\",\n",
    "    \"CCR4\",\n",
    "    \"CXCR3\",\n",
    "    \"CCR5\",\n",
    "    \"CCR6\",\n",
    "    \"CXCR5\",\n",
    "    \"CX3CR1\",\n",
    "    \"XCR1\",\n",
    "    \"ITGB7\",\n",
    "    \"IFNGR1\",\n",
    "    \"CD106\",\n",
    "    \"IL2R\",\n",
    "    \"CXCR4\",\n",
    "    \"CD2\",\n",
    "    \"CD49b\",\n",
    "    \"CD28\",\n",
    "    \"IL7R\",\n",
    "    \"KIR2DL2\",\n",
    "    \"KIR3DL1\",\n",
    "    \"KIR2DL5\",\n",
    "    \"KIR2DL1\",\n",
    "    \"NKG2D\",\n",
    "    \"NKp30\",\n",
    "    \"NKp44\",\n",
    "    \"NKp46\"\n",
    ")"
   ]
  },
  {
   "cell_type": "code",
   "execution_count": null,
   "metadata": {
    "vscode": {
     "languageId": "r"
    }
   },
   "outputs": [],
   "source": [
    "options(repr.plot.width = 9, repr.plot.height = 14)\n",
    "DefaultAssay(seu) <- \"CITE\"\n",
    "plt1 <- DotPlot(seu,\n",
    "    features = rev(CITE_list_select),\n",
    "    dot.scale = 2\n",
    "    # scale.by = \"size\"\n",
    ") + coord_flip() +\n",
    "    theme( # strip.background = element_blank(),\n",
    "        axis.title = element_blank(),\n",
    "        axis.text.x = element_text(size = 8, angle = 45, hjust = 1),\n",
    "        axis.text.y = element_text(size = 6),\n",
    "        legend.position = \"right\",\n",
    "        # legend.spacing = unit(0, \"mm\"),\n",
    "        legend.direction = \"vertical\",\n",
    "        legend.text = element_text(size = 5),\n",
    "        legend.key.width = unit(2, \"mm\"),\n",
    "        legend.key.height = unit(2, \"mm\"),\n",
    "        legend.box.spacing = unit(1, \"mm\"),\n",
    "        legend.margin = margin(2),\n",
    "        legend.title = element_text(size = 7, angle = 90)\n",
    "    )\n",
    "plt1"
   ]
  },
  {
   "cell_type": "code",
   "execution_count": null,
   "metadata": {
    "vscode": {
     "languageId": "r"
    }
   },
   "outputs": [],
   "source": [
    "options(repr.plot.width = 5, repr.plot.height = 5)\n",
    "for (n in CITE_list_select) {\n",
    "    print(FeaturePlot(\n",
    "        object = seu, features = n,\n",
    "        cols = c(\"lightgrey\", \"blue\"),\n",
    "        order = T,\n",
    "        slot = \"data\",\n",
    "        # min.cutoff = \"q05\", max.cutoff = \"q95\",\n",
    "        reduction = \"umap\",\n",
    "        pt.size = 0.1\n",
    "    ))\n",
    "    print(VlnPlot(\n",
    "        object = seu, features = n,\n",
    "        # group.by = \"sample\",\n",
    "        # x.lab.rot=T,\n",
    "        # size.x.use = 5,\n",
    "        pt.size = 0.01\n",
    "    ) + NoLegend())\n",
    "    print(VlnPlot(\n",
    "        object = seu, features = n,\n",
    "        # group.by = \"sample\",\n",
    "        # x.lab.rot=T,\n",
    "        # size.x.use = 5,\n",
    "        pt.size = 0\n",
    "    ) + NoLegend())\n",
    "    # print(RidgePlot(seu,\n",
    "    #          features = n))\n",
    "}"
   ]
  },
  {
   "cell_type": "markdown",
   "metadata": {},
   "source": [
    "## Convert to h5mu"
   ]
  },
  {
   "cell_type": "code",
   "execution_count": null,
   "metadata": {
    "vscode": {
     "languageId": "r"
    }
   },
   "outputs": [],
   "source": [
    "library(MuDataSeurat)\n",
    "library(data.table)"
   ]
  },
  {
   "cell_type": "code",
   "execution_count": null,
   "metadata": {
    "vscode": {
     "languageId": "r"
    }
   },
   "outputs": [],
   "source": [
    "seu_copy <- copy(seu)"
   ]
  },
  {
   "cell_type": "code",
   "execution_count": null,
   "metadata": {
    "vscode": {
     "languageId": "r"
    }
   },
   "outputs": [],
   "source": [
    "str(seu_copy)"
   ]
  },
  {
   "cell_type": "code",
   "execution_count": null,
   "metadata": {
    "vscode": {
     "languageId": "r"
    }
   },
   "outputs": [],
   "source": [
    "seu_copy@assays$RNA@scale.data <- matrix(numeric(), nrow = 0, ncol = 0)\n",
    "seu_copy@assays$RNA@var.features <- character()\n",
    "seu_copy@assays$RNA@meta.features <- data.frame(row.names = row.names(seu_copy@assays$RNA@meta.features))\n",
    "# seu_copy@assays$RNA@key <- \"RNA_\"\n",
    "seu_copy@commands <- list()\n",
    "seu_copy@graphs <- list()\n",
    "# seu_copy@reductions <- list()\n",
    "seu_copy@reductions$pca@feature.loadings <- matrix(numeric(), nrow = 0, ncol = 0)\n",
    "seu_copy@reductions$harmony@feature.loadings <- matrix(numeric(), nrow = 0, ncol = 0)\n",
    "seu_copy@reductions$harmony@feature.loadings.projected <- matrix(numeric(), nrow = 0, ncol = 0)"
   ]
  },
  {
   "cell_type": "code",
   "execution_count": null,
   "metadata": {
    "vscode": {
     "languageId": "r"
    }
   },
   "outputs": [],
   "source": [
    "save_dir = paste0(data_dir, \"/ANCA_ustekinumab_4PK4PB_CD8Teff.h5mu\")\n",
    "WriteH5MU(seu_copy, save_dir)"
   ]
  }
 ],
 "metadata": {
  "kernelspec": {
   "display_name": "R",
   "language": "R",
   "name": "ir"
  },
  "language_info": {
   "codemirror_mode": "r",
   "file_extension": ".r",
   "mimetype": "text/x-r-source",
   "name": "R",
   "pygments_lexer": "r",
   "version": "4.1.1"
  }
 },
 "nbformat": 4,
 "nbformat_minor": 2
}
