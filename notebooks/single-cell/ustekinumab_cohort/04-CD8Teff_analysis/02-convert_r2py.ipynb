{
 "cells": [
  {
   "cell_type": "code",
   "execution_count": null,
   "metadata": {},
   "outputs": [],
   "source": [
    "%load_ext autoreload\n",
    "%autoreload 2\n",
    "\n",
    "import sys\n",
    "import os\n",
    "\n",
    "os.chdir(\"../../../../\")\n",
    "\n",
    "import yaml\n",
    "import anndata as ad\n",
    "import matplotlib.pyplot as plt\n",
    "import seaborn as sns\n",
    "import mudata as md\n",
    "import muon as mu\n",
    "import numpy as np\n",
    "import scanpy as sc\n",
    "from matplotlib import gridspec\n",
    "import scanpy.external as sce\n",
    "from scipy import sparse\n",
    "import celltypist\n",
    "from matplotlib.colors import LinearSegmentedColormap\n",
    "\n",
    "from utils.utils import *\n",
    "from utils.plotting import *\n",
    "\n",
    "sc.settings.verbosity = 0\n",
    "sc.settings.set_figure_params(\n",
    "    dpi=100,\n",
    "    facecolor=\"white\",\n",
    "    # color_map=\"YlGnBu\",\n",
    "    frameon=False,\n",
    ")\n",
    "import matplotlib as mpl\n",
    "\n",
    "sc.set_figure_params(dpi=100)\n",
    "sns.set(style=\"white\")"
   ]
  },
  {
   "cell_type": "markdown",
   "metadata": {},
   "source": [
    "## Load data"
   ]
  },
  {
   "cell_type": "code",
   "execution_count": null,
   "metadata": {},
   "outputs": [],
   "source": [
    "mudata = md.read_h5mu(\"data/anca/ustekinumab/R_ANCA_4PK4PB_ustekinumab_cd8emrm.h5mu\")\n",
    "mudata.mod[\"rna\"] = mudata.mod[\"RNA\"].copy()\n",
    "mudata.mod[\"cite\"] = mudata.mod[\"CITE\"].copy()\n",
    "del mudata.mod[\"RNA\"]\n",
    "del mudata.mod[\"CITE\"]\n",
    "del mudata.mod[\"HTO\"]\n",
    "mudata.update()\n",
    "mudata"
   ]
  },
  {
   "cell_type": "markdown",
   "metadata": {},
   "source": [
    "## Prepare data"
   ]
  },
  {
   "cell_type": "code",
   "execution_count": null,
   "metadata": {},
   "outputs": [],
   "source": [
    "obs = mudata.obs[\n",
    "    [\"orig.ident\", \"RNA_snn_res.0.75\", \"patient\", \"sample\", \"case\", \"tissue\"]\n",
    "]\n",
    "obsm = {\n",
    "    \"X_umap\": mudata.obsm[\"X_umap\"],\n",
    "    \"X_pca\": mudata.obsm[\"X_pca\"],\n",
    "    \"X_harmony\": mudata.obsm[\"X_harmony\"],\n",
    "}\n",
    "mod_rna = mudata.mod[\"rna\"]\n",
    "mod_cite = mudata.mod[\"cite\"]\n",
    "\n",
    "mod_rna.obs = obs.copy()\n",
    "mod_cite.obs = obs.copy()\n",
    "\n",
    "mod_rna.obsm = obsm.copy()\n",
    "mod_cite.obsm = obsm.copy()\n",
    "\n",
    "mod_rna.X = mod_rna.layers[\"counts\"].copy()\n",
    "mod_cite.X = mod_cite.layers[\"counts\"].copy()\n",
    "\n",
    "log_normalize(mod_rna)\n",
    "protein_clr(mod_cite)\n",
    "\n",
    "mudata = md.MuData({\"rna\": mod_rna, \"cite\": mod_cite})\n",
    "mudata"
   ]
  },
  {
   "cell_type": "code",
   "execution_count": null,
   "metadata": {},
   "outputs": [],
   "source": [
    "mod_rna = mudata.mod[\"rna\"]\n",
    "mod_cite = mudata.mod[\"cite\"]"
   ]
  },
  {
   "cell_type": "code",
   "execution_count": null,
   "metadata": {},
   "outputs": [],
   "source": [
    "mudata.write_h5mu(\"data/anca/ustekinumab/R_ANCA_4PK4PB_ustekinumab_cd8emrm_clean.h5mu\")\n"
   ]
  }
 ],
 "metadata": {
  "kernelspec": {
   "display_name": "scvi",
   "language": "python",
   "name": "python3"
  },
  "language_info": {
   "codemirror_mode": {
    "name": "ipython",
    "version": 3
   },
   "file_extension": ".py",
   "mimetype": "text/x-python",
   "name": "python",
   "nbconvert_exporter": "python",
   "pygments_lexer": "ipython3",
   "version": "3.9.15"
  }
 },
 "nbformat": 4,
 "nbformat_minor": 2
}
