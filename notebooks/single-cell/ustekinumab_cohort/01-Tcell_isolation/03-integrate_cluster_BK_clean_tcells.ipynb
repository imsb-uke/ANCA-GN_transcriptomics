{
 "cells": [
  {
   "cell_type": "code",
   "execution_count": null,
   "id": "a8bc9dd0-84a8-469d-8097-613d901938cd",
   "metadata": {
    "vscode": {
     "languageId": "r"
    }
   },
   "outputs": [],
   "source": [
    "working_dir <- \"/data/projects/dschaub/ANCA-GN_transcriptomics\"\n",
    "data_dir <- \"/data/projects/dschaub/ANCA-GN_transcriptomics/data/single-cell/ustekinumab/integrated_objects\""
   ]
  },
  {
   "cell_type": "code",
   "execution_count": null,
   "id": "6e1150e0-5c62-408b-a3b7-e5cc4e629e25",
   "metadata": {
    "vscode": {
     "languageId": "r"
    }
   },
   "outputs": [],
   "source": [
    "setwd(working_dir)\n",
    "RhpcBLASctl::blas_set_num_threads(1)\n",
    "library(Seurat)\n",
    "library(dplyr)\n",
    "# library(tidyverse)\n",
    "library(here)\n",
    "# library(readxl)\n",
    "# library(Matrix)\n",
    "library(IMSBSeuratHelpers)\n",
    "library(ggplot2)\n",
    "# library(sctransform)\n",
    "library(future)\n",
    "library(data.table)\n",
    "library(xlsx)\n",
    "plan(\"multicore\", workers = 1)\n",
    "options(future.globals.maxSize = 20 * 1000 * 1024^2) # 20GB\n",
    "options(repr.matrix.max.rows = 600, repr.matrix.max.cols = 200)"
   ]
  },
  {
   "cell_type": "code",
   "execution_count": null,
   "id": "7bcb8cee-e4dd-4e0f-9250-4056ebbb9338",
   "metadata": {
    "vscode": {
     "languageId": "r"
    }
   },
   "outputs": [],
   "source": [
    "library(harmony)"
   ]
  },
  {
   "cell_type": "code",
   "execution_count": null,
   "id": "0d319948-61b3-4f80-805d-e1e798eb43ef",
   "metadata": {
    "vscode": {
     "languageId": "r"
    }
   },
   "outputs": [],
   "source": [
    "samples_ID <- \"Harmony_Ustekinumab_4PK4PB\""
   ]
  },
  {
   "cell_type": "code",
   "execution_count": null,
   "id": "69057757-361a-482c-b22f-33f0fec77671",
   "metadata": {
    "vscode": {
     "languageId": "r"
    }
   },
   "outputs": [],
   "source": [
    "path <- paste0(data_dir, \"/Harmony_Ustekinumab_4PK_T.rds\")\n",
    "seu_K <- readRDS(path)\n",
    "seu_K\n",
    "path <- paste0(data_dir, \"/Harmony_Ustekinumab_4PB_T.rds\")\n",
    "seu_B <- readRDS(path)\n",
    "seu_B\n",
    "seu <- merge(seu_K, seu_B)\n",
    "seu"
   ]
  },
  {
   "cell_type": "code",
   "execution_count": null,
   "id": "fc683b5d-2e92-47a8-a69b-be802a8e121c",
   "metadata": {
    "vscode": {
     "languageId": "r"
    }
   },
   "outputs": [],
   "source": [
    "Idents(seu) <- \"patient\"\n",
    "levels(seu)"
   ]
  },
  {
   "cell_type": "code",
   "execution_count": null,
   "id": "360cdb10-5b1d-4307-9295-716ca0328da9",
   "metadata": {
    "vscode": {
     "languageId": "r"
    }
   },
   "outputs": [],
   "source": [
    "seu <- FindVariableFeatures(\n",
    "    object = seu,\n",
    "    selection.method = \"vst\",\n",
    "    nfeatures = 2000\n",
    ")"
   ]
  },
  {
   "cell_type": "code",
   "execution_count": null,
   "id": "fe1083aa-ed9a-4441-aaff-e7f75c4f1b5a",
   "metadata": {
    "vscode": {
     "languageId": "r"
    }
   },
   "outputs": [],
   "source": [
    "seu <- ScaleData(seu)\n",
    "# seu <- ScaleData(seu, features = rownames(seu))"
   ]
  },
  {
   "cell_type": "code",
   "execution_count": null,
   "id": "ab299a0c-db2b-412a-a7a1-f1b0b9653434",
   "metadata": {
    "vscode": {
     "languageId": "r"
    }
   },
   "outputs": [],
   "source": [
    "seu <- RunPCA(\n",
    "    object = seu,\n",
    "    features = VariableFeatures(object = seu),\n",
    "    verbose = T\n",
    ")"
   ]
  },
  {
   "cell_type": "code",
   "execution_count": null,
   "id": "0cad1366-a5dc-41ab-b9d7-93f58ef2ff2f",
   "metadata": {
    "vscode": {
     "languageId": "r"
    }
   },
   "outputs": [],
   "source": [
    "seu <- seu %>%\n",
    "    RunHarmony(\"patient\",\n",
    "        dims.use = 1:30,\n",
    "        plot_convergence = TRUE\n",
    "    )"
   ]
  },
  {
   "cell_type": "code",
   "execution_count": null,
   "id": "17e8edb8-36de-469b-9409-120c684c7c1c",
   "metadata": {
    "vscode": {
     "languageId": "r"
    }
   },
   "outputs": [],
   "source": [
    "# seu <- RunTSNE(object = seu,reduction = 'harmony', dims = 1:30)\n",
    "seu <- RunUMAP(object = seu, reduction = \"harmony\", dims = 1:30)"
   ]
  },
  {
   "cell_type": "code",
   "execution_count": null,
   "id": "23f2a544-5e76-4aa3-aa80-b187c75d83ff",
   "metadata": {
    "vscode": {
     "languageId": "r"
    }
   },
   "outputs": [],
   "source": [
    "seu"
   ]
  },
  {
   "cell_type": "code",
   "execution_count": null,
   "id": "ec7e4d61-fcf0-4d5c-94e2-968eb73c1cd5",
   "metadata": {
    "vscode": {
     "languageId": "r"
    }
   },
   "outputs": [],
   "source": [
    "# DimPlot(object = seu, reduction = 'tsne',label = F,\n",
    "#        pt.size = 0.1)+ theme(aspect.ratio=1)\n",
    "DimPlot(\n",
    "        object = seu, reduction = \"umap\", label = F,\n",
    "        pt.size = 0.1\n",
    ") + theme(aspect.ratio = 1)"
   ]
  },
  {
   "cell_type": "code",
   "execution_count": null,
   "id": "8aebc236-fcbc-4493-8039-e63fa82afdb6",
   "metadata": {
    "vscode": {
     "languageId": "r"
    }
   },
   "outputs": [],
   "source": [
    "seu <- FindNeighbors(object = seu, reduction = \"harmony\", dims = 1:30)\n",
    "# !!! Essential step to set the reduction to 'harmony', otherwise the default is PCA and will give big difference of clusters and UMAP\n",
    "# seu <- FindNeighbors(object = seu, dims = 1:30)"
   ]
  },
  {
   "cell_type": "code",
   "execution_count": null,
   "id": "8cfcacd8-057d-49db-9c1b-1c691379954c",
   "metadata": {
    "vscode": {
     "languageId": "r"
    }
   },
   "outputs": [],
   "source": [
    "seu <- FindClusters(object = seu, resolution = 0.1)\n",
    "table(Idents(seu))\n",
    "# DimPlot(object = seu, reduction = 'tsne',label = TRUE,\n",
    "#        pt.size = 0.1,label.size = 6, repel = T) + theme(aspect.ratio=1)\n",
    "DimPlot(\n",
    "        object = seu, reduction = \"umap\", label = TRUE,\n",
    "        pt.size = 0.1, label.size = 6, repel = T\n",
    ") + theme(aspect.ratio = 1)"
   ]
  },
  {
   "cell_type": "code",
   "execution_count": null,
   "id": "cc7012da-f451-4650-bd94-9ffcc1a38a47",
   "metadata": {
    "vscode": {
     "languageId": "r"
    }
   },
   "outputs": [],
   "source": [
    "seu <- FindClusters(object = seu, resolution = 0.2)\n",
    "table(Idents(seu))\n",
    "# DimPlot(object = seu, reduction = 'tsne',label = TRUE,\n",
    "#        pt.size = 0.1,label.size = 6, repel = T) + theme(aspect.ratio=1)\n",
    "DimPlot(\n",
    "        object = seu, reduction = \"umap\", label = TRUE,\n",
    "        pt.size = 0.1, label.size = 6, repel = T\n",
    ") + theme(aspect.ratio = 1)"
   ]
  },
  {
   "cell_type": "code",
   "execution_count": null,
   "id": "ff8c8d86-37df-4098-aeda-be74b02ce283",
   "metadata": {
    "vscode": {
     "languageId": "r"
    }
   },
   "outputs": [],
   "source": [
    "seu <- FindClusters(object = seu, resolution = 0.3)\n",
    "table(Idents(seu))\n",
    "# DimPlot(object = seu, reduction = 'tsne',label = TRUE,\n",
    "#        pt.size = 0.1,label.size = 6, repel = T) + theme(aspect.ratio=1)\n",
    "DimPlot(\n",
    "        object = seu, reduction = \"umap\", label = TRUE,\n",
    "        pt.size = 0.1, label.size = 6, repel = T\n",
    ") + theme(aspect.ratio = 1)"
   ]
  },
  {
   "cell_type": "code",
   "execution_count": null,
   "id": "f6a1e21e-c8a1-48af-9e0c-b623bead54f0",
   "metadata": {
    "vscode": {
     "languageId": "r"
    }
   },
   "outputs": [],
   "source": [
    "seu <- FindClusters(object = seu, resolution = 0.4)\n",
    "table(Idents(seu))\n",
    "# DimPlot(object = seu, reduction = 'tsne',label = TRUE,\n",
    "#        pt.size = 0.1,label.size = 6, repel = T) + theme(aspect.ratio=1)\n",
    "DimPlot(\n",
    "        object = seu, reduction = \"umap\", label = TRUE,\n",
    "        pt.size = 0.1, label.size = 6, repel = T\n",
    ") + theme(aspect.ratio = 1)"
   ]
  },
  {
   "cell_type": "code",
   "execution_count": null,
   "id": "572d9b3b-ff49-428e-933d-c53d340edbf3",
   "metadata": {
    "vscode": {
     "languageId": "r"
    }
   },
   "outputs": [],
   "source": [
    "seu <- FindClusters(object = seu, resolution = 0.5)\n",
    "table(Idents(seu))\n",
    "# DimPlot(object = seu, reduction = 'tsne',label = TRUE,\n",
    "#        pt.size = 0.1,label.size = 6, repel = T) + theme(aspect.ratio=1)\n",
    "DimPlot(\n",
    "        object = seu, reduction = \"umap\", label = TRUE,\n",
    "        pt.size = 0.1, label.size = 6, repel = T\n",
    ") + theme(aspect.ratio = 1)"
   ]
  },
  {
   "cell_type": "code",
   "execution_count": null,
   "id": "94deef80-9948-4be8-8fb4-d6c65d0e4b0a",
   "metadata": {
    "vscode": {
     "languageId": "r"
    }
   },
   "outputs": [],
   "source": [
    "seu <- FindClusters(object = seu, resolution = 0.6)\n",
    "table(Idents(seu))\n",
    "# DimPlot(object = seu, reduction = 'tsne',label = TRUE,\n",
    "#        pt.size = 0.1,label.size = 6, repel = T) + theme(aspect.ratio=1)\n",
    "DimPlot(\n",
    "        object = seu, reduction = \"umap\", label = TRUE,\n",
    "        pt.size = 0.1, label.size = 6, repel = T\n",
    ") + theme(aspect.ratio = 1)"
   ]
  },
  {
   "cell_type": "code",
   "execution_count": null,
   "id": "03044f80-5fb0-4f62-b774-0be77ee3158e",
   "metadata": {
    "vscode": {
     "languageId": "r"
    }
   },
   "outputs": [],
   "source": [
    "seu <- FindClusters(object = seu, resolution = 0.7)\n",
    "table(Idents(seu))\n",
    "# DimPlot(object = seu, reduction = 'tsne',label = TRUE,\n",
    "#        pt.size = 0.1,label.size = 6, repel = T) + theme(aspect.ratio=1)\n",
    "DimPlot(\n",
    "        object = seu, reduction = \"umap\", label = TRUE,\n",
    "        pt.size = 0.1, label.size = 6, repel = T\n",
    ") + theme(aspect.ratio = 1)"
   ]
  },
  {
   "cell_type": "code",
   "execution_count": null,
   "id": "0e0d5781-8f42-4e74-ba6b-72d5bdee07c8",
   "metadata": {
    "vscode": {
     "languageId": "r"
    }
   },
   "outputs": [],
   "source": [
    "seu <- FindClusters(object = seu, resolution = 0.8)\n",
    "table(Idents(seu))\n",
    "# DimPlot(object = seu, reduction = 'tsne',label = TRUE,\n",
    "#        pt.size = 0.1,label.size = 6, repel = T) + theme(aspect.ratio=1)\n",
    "DimPlot(\n",
    "        object = seu, reduction = \"umap\", label = TRUE,\n",
    "        pt.size = 0.1, label.size = 6, repel = T\n",
    ") + theme(aspect.ratio = 1)"
   ]
  },
  {
   "cell_type": "code",
   "execution_count": null,
   "id": "11025de8-6cc9-4d3b-a4e3-d2eb2c7d76e3",
   "metadata": {
    "vscode": {
     "languageId": "r"
    }
   },
   "outputs": [],
   "source": [
    "seu <- FindClusters(object = seu, resolution = 0.9)\n",
    "table(Idents(seu))\n",
    "# DimPlot(object = seu, reduction = 'tsne',label = TRUE,\n",
    "#        pt.size = 0.1,label.size = 6, repel = T) + theme(aspect.ratio=1)\n",
    "DimPlot(\n",
    "        object = seu, reduction = \"umap\", label = TRUE,\n",
    "        pt.size = 0.1, label.size = 6, repel = T\n",
    ") + theme(aspect.ratio = 1)"
   ]
  },
  {
   "cell_type": "code",
   "execution_count": null,
   "id": "abeb1c48-d345-416c-9e83-0a17e4caf38f",
   "metadata": {
    "vscode": {
     "languageId": "r"
    }
   },
   "outputs": [],
   "source": [
    "seu <- FindClusters(object = seu, resolution = 1.0)\n",
    "table(Idents(seu))\n",
    "# DimPlot(object = seu, reduction = 'tsne',label = TRUE,\n",
    "#        pt.size = 0.1,label.size = 6, repel = T) + theme(aspect.ratio=1)\n",
    "DimPlot(\n",
    "        object = seu, reduction = \"umap\", label = TRUE,\n",
    "        pt.size = 0.1, label.size = 6, repel = T\n",
    ") + theme(aspect.ratio = 1)"
   ]
  },
  {
   "cell_type": "code",
   "execution_count": null,
   "id": "2863af1f-3f65-4aa7-9362-272fd04e0644",
   "metadata": {
    "vscode": {
     "languageId": "r"
    }
   },
   "outputs": [],
   "source": []
  },
  {
   "cell_type": "code",
   "execution_count": null,
   "id": "3a095449-40c9-4cb6-a349-4594a1e31a59",
   "metadata": {
    "vscode": {
     "languageId": "r"
    }
   },
   "outputs": [],
   "source": [
    "#############################"
   ]
  },
  {
   "cell_type": "code",
   "execution_count": null,
   "id": "39324f93-df19-4e6d-8df0-da577738a900",
   "metadata": {
    "vscode": {
     "languageId": "r"
    }
   },
   "outputs": [],
   "source": []
  },
  {
   "cell_type": "code",
   "execution_count": null,
   "id": "42fea0f5-69a8-4f4b-9a39-7248d7770bf8",
   "metadata": {
    "vscode": {
     "languageId": "r"
    }
   },
   "outputs": [],
   "source": [
    "Idents(seu) <- \"tissue\"\n",
    "DimPlot(\n",
    "        object = seu, reduction = \"umap\", label = F,\n",
    "        # split.by = \"case\",\n",
    "        pt.size = 0.1\n",
    ") + theme(aspect.ratio = 1)"
   ]
  },
  {
   "cell_type": "code",
   "execution_count": null,
   "id": "eae1aa50-2ee4-405f-be76-99fa8a530e20",
   "metadata": {
    "vscode": {
     "languageId": "r"
    }
   },
   "outputs": [],
   "source": [
    "# DimPlot(object = seu, reduction = 'tsne',label = F,\n",
    "#        pt.size = 0.1)+ theme(aspect.ratio=1)\n",
    "DimPlot(\n",
    "        object = seu, reduction = \"umap\", label = F,\n",
    "        split.by = \"case\",\n",
    "        pt.size = 0.1\n",
    ") + theme(aspect.ratio = 1)"
   ]
  },
  {
   "cell_type": "code",
   "execution_count": null,
   "id": "f3781fdb-b06c-465e-a726-d3cc50e92a2b",
   "metadata": {
    "vscode": {
     "languageId": "r"
    }
   },
   "outputs": [],
   "source": []
  },
  {
   "cell_type": "code",
   "execution_count": null,
   "id": "6650143b-4b57-41df-b9f7-f21acf635931",
   "metadata": {
    "vscode": {
     "languageId": "r"
    }
   },
   "outputs": [],
   "source": []
  },
  {
   "cell_type": "code",
   "execution_count": null,
   "id": "80306d20-e5b0-4bca-9c12-da849600e00f",
   "metadata": {
    "vscode": {
     "languageId": "r"
    }
   },
   "outputs": [],
   "source": [
    "# seu\n",
    "# seu_1<-subset(seu, ident=c('14'), invert = TRUE)\n",
    "# seu_1"
   ]
  },
  {
   "cell_type": "code",
   "execution_count": null,
   "id": "56c1a76d-8a98-4cf0-96a0-c29a5c5caa1f",
   "metadata": {
    "vscode": {
     "languageId": "r"
    }
   },
   "outputs": [],
   "source": [
    "# table(Idents(seu_1))\n",
    "## DimPlot(object = seu, reduction = 'tsne',label = TRUE,\n",
    "##        pt.size = 0.1,label.size = 6, repel = T) + theme(aspect.ratio=1)\n",
    "# DimPlot(object = seu_1, reduction = 'umap',label = TRUE,\n",
    "#        pt.size = 0.1,label.size = 6, repel = T) + theme(aspect.ratio=1)"
   ]
  },
  {
   "cell_type": "code",
   "execution_count": null,
   "id": "369f21e0-e01a-4791-829a-2067f1131ff4",
   "metadata": {
    "vscode": {
     "languageId": "r"
    }
   },
   "outputs": [],
   "source": [
    "# seu<-seu_1"
   ]
  },
  {
   "cell_type": "code",
   "execution_count": null,
   "id": "38928d9a-7fac-45b7-92ec-0f781251b876",
   "metadata": {
    "vscode": {
     "languageId": "r"
    }
   },
   "outputs": [],
   "source": [
    "################## stop"
   ]
  },
  {
   "cell_type": "code",
   "execution_count": null,
   "id": "255f3404-ca64-4adf-884c-1ba679299d87",
   "metadata": {
    "vscode": {
     "languageId": "r"
    }
   },
   "outputs": [],
   "source": [
    "seu <- FindClusters(object = seu, resolution = 0.6)\n",
    "table(Idents(seu))\n",
    "# DimPlot(object = seu, reduction = 'tsne',label = TRUE,\n",
    "#        pt.size = 0.1,label.size = 6, repel = T) + theme(aspect.ratio=1)\n",
    "DimPlot(\n",
    "        object = seu, reduction = \"umap\", label = TRUE,\n",
    "        pt.size = 0.1, label.size = 6, repel = T\n",
    ") + theme(aspect.ratio = 1)"
   ]
  },
  {
   "cell_type": "code",
   "execution_count": null,
   "id": "40b73085-d766-4229-8bd7-09349a18e40f",
   "metadata": {
    "tags": [],
    "vscode": {
     "languageId": "r"
    }
   },
   "outputs": [],
   "source": [
    "marker_qc <- c(\"nFeature_RNA\", \"nCount_RNA\", \"frac.mito\", \"frac.ribo\", \"CD3_count\")\n",
    "for (n in marker_qc) {\n",
    "    print(\n",
    "        VlnPlot(\n",
    "            object = seu, features = n,\n",
    "            # group.by = \"patient\",\n",
    "            # split.by = \"cellgroup\",\n",
    "            # x.lab.rot=T,\n",
    "            # size.x.use = 5,\n",
    "            pt.size = 0\n",
    "        ) #+ NoLegend()\n",
    "    )\n",
    "\n",
    "    print(FeaturePlot(\n",
    "        object = seu, features = n,\n",
    "        cols = c(\"grey\", \"blue\"),\n",
    "        order = T,\n",
    "        reduction = \"umap\",\n",
    "        pt.size = 0.1\n",
    "    ))\n",
    "}"
   ]
  },
  {
   "cell_type": "code",
   "execution_count": null,
   "id": "b2080848-4f3b-4c92-a684-42f257d2eb8e",
   "metadata": {
    "vscode": {
     "languageId": "r"
    }
   },
   "outputs": [],
   "source": []
  },
  {
   "cell_type": "code",
   "execution_count": null,
   "id": "6ea6453e-4019-49f1-9a89-059359e7a7ba",
   "metadata": {
    "vscode": {
     "languageId": "r"
    }
   },
   "outputs": [],
   "source": [
    "# seu <- FindClusters(object = seu, resolution = 0.01)\n",
    "# table(Idents(seu))\n",
    "## DimPlot(object = seu, reduction = 'tsne',label = TRUE,\n",
    "##        pt.size = 0.1,label.size = 6, repel = T) + theme(aspect.ratio=1)\n",
    "# DimPlot(object = seu, reduction = 'umap',label = TRUE,\n",
    "#        pt.size = 0.1,label.size = 6, repel = T) + theme(aspect.ratio=1)"
   ]
  },
  {
   "cell_type": "code",
   "execution_count": null,
   "id": "19ff4a6a-fb9d-4fe9-bb50-1f92d9ddd1ec",
   "metadata": {
    "vscode": {
     "languageId": "r"
    }
   },
   "outputs": [],
   "source": [
    "# find markers for every cluster compared to all remaining cells, report only the positive ones\n",
    "seu.markers <- FindAllMarkers(\n",
    "    object = seu, only.pos = TRUE,\n",
    "    min.pct = 0.25, logfc.threshold = 0.5\n",
    ")\n",
    "# logfc.threshold=0.25 (default) instead of old version thresh.use=0.25\n",
    "head(seu.markers)\n",
    "dim(seu.markers)"
   ]
  },
  {
   "cell_type": "code",
   "execution_count": null,
   "id": "0627c5aa-cc42-4a73-9af8-42322a01f05e",
   "metadata": {
    "vscode": {
     "languageId": "r"
    }
   },
   "outputs": [],
   "source": [
    "top3 <- seu.markers %>%\n",
    "    group_by(cluster) %>%\n",
    "    top_n(3, avg_log2FC)\n",
    "top5 <- seu.markers %>%\n",
    "    group_by(cluster) %>%\n",
    "    top_n(5, avg_log2FC)\n",
    "top10 <- seu.markers %>%\n",
    "    group_by(cluster) %>%\n",
    "    top_n(10, avg_log2FC)"
   ]
  },
  {
   "cell_type": "code",
   "execution_count": null,
   "id": "3c247e8c-01f7-492a-a4b2-1abd1dce9bda",
   "metadata": {
    "vscode": {
     "languageId": "r"
    }
   },
   "outputs": [],
   "source": [
    "top10"
   ]
  },
  {
   "cell_type": "code",
   "execution_count": null,
   "id": "9adfe61f-8a0b-45ce-9886-baa82e1790a6",
   "metadata": {
    "tags": [],
    "vscode": {
     "languageId": "r"
    }
   },
   "outputs": [],
   "source": [
    "plt1 <- DotPlot(seu,\n",
    "    features = unique(top3$gene),\n",
    "    dot.scale = 2\n",
    "    # scale.by = \"size\"\n",
    ") + coord_flip() +\n",
    "    theme( # strip.background = element_blank(),\n",
    "        axis.title = element_blank(),\n",
    "        axis.text.x = element_text(size = 8, angle = 45, hjust = 1),\n",
    "        axis.text.y = element_text(size = 8),\n",
    "        legend.position = \"right\",\n",
    "        # legend.spacing = unit(0, \"mm\"),\n",
    "        legend.direction = \"vertical\",\n",
    "        legend.text = element_text(size = 5),\n",
    "        legend.key.width = unit(2, \"mm\"),\n",
    "        legend.key.height = unit(2, \"mm\"),\n",
    "        legend.box.spacing = unit(1, \"mm\"),\n",
    "        legend.margin = margin(2),\n",
    "        legend.title = element_text(size = 7, angle = 90)\n",
    "    )\n",
    "plt1"
   ]
  },
  {
   "cell_type": "code",
   "execution_count": null,
   "id": "653bfb51-1749-4026-91cc-1e064c32cc3c",
   "metadata": {
    "vscode": {
     "languageId": "r"
    }
   },
   "outputs": [],
   "source": []
  },
  {
   "cell_type": "code",
   "execution_count": null,
   "id": "b15ad07d-b41d-47f5-ace7-2555d579b66f",
   "metadata": {
    "vscode": {
     "languageId": "r"
    }
   },
   "outputs": [],
   "source": [
    "DefaultAssay(seu) <- \"RNA\""
   ]
  },
  {
   "cell_type": "code",
   "execution_count": null,
   "id": "6aec9202-7f77-4906-9bbe-f113231115d0",
   "metadata": {
    "vscode": {
     "languageId": "r"
    }
   },
   "outputs": [],
   "source": [
    "DefaultAssay(seu) <- \"RNA\"\n",
    "# Search for known marker genes in seu\n",
    "leukos <- c(\"PTPRC\")\n",
    "Tcells <- c(\"CD3G\", \"CD3D\", \"CD3E\")\n",
    "CD4 <- c(\"CD4\")\n",
    "CD8 <- c(\"CD8A\", \"CD8B\")\n",
    "Naive <- c(\"LEF1\", \"TCF7\", \"LTB\")\n",
    "CM <- c(\"CCR7\", \"SELL\", \"KLF2\", \"S1PR1\")\n",
    "RM <- c(\"CXCR6\", \"CD69\", \"ITGAE\", \"RGS1\")\n",
    "Th1 <- c(\"CXCR3\", \"TBX21\", \"IFNG\", \"TNF\", \"CSF2\")\n",
    "Th2 <- c(\"GATA3\", \"IL4\", \"IL5\", \"IL13\")\n",
    "Th17 <- c(\"CCR6\", \"RORC\", \"IL17A\", \"IL17F\", \"IL23R\")\n",
    "Tr1 <- c(\"IL10\", \"ITGA2\", \"LAG3\", \"HAVCR2\") # ,\"Ahr\",\"Irf4\",\"Prdm1\",\"Maf\")\n",
    "Tregs <- c(\"FOXP3\", \"IL2RA\", \"CTLA4\", \"IKZF2\", \"TIGIT\")\n",
    "Tfh <- c(\"IL21\", \"POU2AF1\", \"CXCR5\", \"BCL6\", \"ASCL2\", \"CD200\", \"ID3\", \"ICOS\", \"ICOSLG\")\n",
    "CTL <- c(\"PRF1\", \"GZMB\", \"GZMK\", \"GZMA\", \"GZMH\", \"GNLY\")\n",
    "NK <- c(\"NKG7\", \"KLRC1\", \"KLRD1\", \"KLRF1\", \"KLRB1\", \"NCR1\", \"NCAM1\", \"FGFBP2\", \"XCL1\", \"XCL2\")\n",
    "Tgd <- c(\"TRDV2\", \"TRGV9\")\n",
    "MAIT <- c(\"TRAV1-2\")\n",
    "Prolif <- c(\"STMN1\", \"MKI67\", \"TOP2A\")\n",
    "\n",
    "known_markers <- list(\n",
    "    leukos,\n",
    "    Tcells,\n",
    "    CD4,\n",
    "    CD8,\n",
    "    CTL,\n",
    "    NK,\n",
    "    Naive,\n",
    "    CM,\n",
    "    RM,\n",
    "    Th1,\n",
    "    Tr1,\n",
    "    Th2,\n",
    "    Th17,\n",
    "    MAIT,\n",
    "    Tgd,\n",
    "    Tregs,\n",
    "    Tfh,\n",
    "    Prolif\n",
    ")\n",
    "known_markers\n",
    "\n",
    "marker_gene_list <- known_markers\n",
    "length(unlist(marker_gene_list))\n",
    "marker_gene_list_expressed <- intersect(unlist(marker_gene_list), rownames(GetAssayData(seu)))\n",
    "length(marker_gene_list_expressed)\n",
    "setdiff(unlist(marker_gene_list), marker_gene_list_expressed)"
   ]
  },
  {
   "cell_type": "code",
   "execution_count": null,
   "id": "c1c2f89a-80a0-4d30-a167-9f0f755e254d",
   "metadata": {
    "tags": [],
    "vscode": {
     "languageId": "r"
    }
   },
   "outputs": [],
   "source": [
    "for (n in marker_gene_list_expressed) {\n",
    "       print(FeaturePlot(\n",
    "              object = seu, features = n,\n",
    "              cols = c(\"lightgrey\", \"blue\"),\n",
    "              order = T,\n",
    "              slot = \"data\",\n",
    "              # min.cutoff = \"q05\", max.cutoff = \"q95\",\n",
    "              reduction = \"umap\",\n",
    "              pt.size = 0.1\n",
    "       ))\n",
    "       print(VlnPlot(\n",
    "              object = seu, features = n,\n",
    "              # group.by = \"sample\",\n",
    "              # x.lab.rot=T,\n",
    "              # size.x.use = 5,\n",
    "              pt.size = 0.01\n",
    "       ) + NoLegend())\n",
    "       print(VlnPlot(\n",
    "              object = seu, features = n,\n",
    "              # group.by = \"sample\",\n",
    "              # x.lab.rot=T,\n",
    "              # size.x.use = 5,\n",
    "              pt.size = 0\n",
    "       ) + NoLegend())\n",
    "       # print(RidgePlot(seu,\n",
    "       #          features = n))\n",
    "}"
   ]
  },
  {
   "cell_type": "code",
   "execution_count": null,
   "id": "cbe48d28-d787-4a89-998e-e5b7c1a39b9a",
   "metadata": {
    "vscode": {
     "languageId": "r"
    }
   },
   "outputs": [],
   "source": [
    "DimPlot(\n",
    "        object = seu, reduction = \"umap\", label = TRUE,\n",
    "        pt.size = 0.1, label.size = 6, repel = T\n",
    ") + theme(aspect.ratio = 1)"
   ]
  },
  {
   "cell_type": "code",
   "execution_count": null,
   "id": "042253df-b6c1-498b-80df-ab36acc0ff17",
   "metadata": {
    "tags": [],
    "vscode": {
     "languageId": "r"
    }
   },
   "outputs": [],
   "source": [
    "for (n in unique(top3$gene)) {\n",
    "       print(FeaturePlot(\n",
    "              object = seu, features = n,\n",
    "              cols = c(\"lightgrey\", \"blue\"),\n",
    "              order = T,\n",
    "              slot = \"data\",\n",
    "              # min.cutoff = \"q05\", max.cutoff = \"q95\",\n",
    "              reduction = \"umap\",\n",
    "              pt.size = 0.1\n",
    "       ))\n",
    "       print(VlnPlot(\n",
    "              object = seu, features = n,\n",
    "              # group.by = \"sample\",\n",
    "              # x.lab.rot=T,\n",
    "              # size.x.use = 5,\n",
    "              pt.size = 0.01\n",
    "       ) + NoLegend())\n",
    "       print(VlnPlot(\n",
    "              object = seu, features = n,\n",
    "              # group.by = \"sample\",\n",
    "              # x.lab.rot=T,\n",
    "              # size.x.use = 5,\n",
    "              pt.size = 0\n",
    "       ) + NoLegend())\n",
    "       # print(RidgePlot(seu,\n",
    "       #          features = n))\n",
    "}"
   ]
  },
  {
   "cell_type": "code",
   "execution_count": null,
   "id": "3ff7aec2-19e6-4a75-9dbb-5020b6638520",
   "metadata": {
    "vscode": {
     "languageId": "r"
    }
   },
   "outputs": [],
   "source": [
    "DimPlot(\n",
    "        object = seu, reduction = \"umap\", label = F,\n",
    "        group.by = \"tissue\",\n",
    "        pt.size = 0.1\n",
    ") + theme(aspect.ratio = 1)"
   ]
  },
  {
   "cell_type": "code",
   "execution_count": null,
   "id": "217470b1-ac27-458d-9e4e-6bcd6c641442",
   "metadata": {
    "vscode": {
     "languageId": "r"
    }
   },
   "outputs": [],
   "source": [
    "seu\n",
    "seu_T_clean <- subset(seu, idents = c(\"4\", \"7\"), invert = TRUE)\n",
    "seu_T_clean"
   ]
  },
  {
   "cell_type": "code",
   "execution_count": null,
   "id": "e1a35025-bee3-468b-874a-1f417cfd9f8f",
   "metadata": {
    "vscode": {
     "languageId": "r"
    }
   },
   "outputs": [],
   "source": [
    "save_path <- paste0(data_dir, \"/\", samples_ID, \"_T_clean.rds\")\n",
    "saveRDS(seu_T_clean, file = save_path)"
   ]
  }
 ],
 "metadata": {
  "kernelspec": {
   "display_name": "R",
   "language": "R",
   "name": "ir"
  },
  "language_info": {
   "codemirror_mode": "r",
   "file_extension": ".r",
   "mimetype": "text/x-r-source",
   "name": "R",
   "pygments_lexer": "r",
   "version": "4.1.1"
  }
 },
 "nbformat": 4,
 "nbformat_minor": 5
}
