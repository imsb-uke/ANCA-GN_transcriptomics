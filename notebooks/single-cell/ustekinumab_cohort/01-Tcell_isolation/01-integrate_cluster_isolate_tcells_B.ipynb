{
 "cells": [
  {
   "cell_type": "code",
   "execution_count": 1,
   "id": "a8bc9dd0-84a8-469d-8097-613d901938cd",
   "metadata": {
    "vscode": {
     "languageId": "r"
    }
   },
   "outputs": [],
   "source": [
    "working_dir <- \"/data/projects/dschaub/ANCA-GN_transcriptomics\"\n",
    "data_dir <- \"/data/projects/dschaub/ANCA-GN_transcriptomics/data/single-cell/ustekinumab/prefiltering_objects\"\n",
    "save_dir <- \"/data/projects/dschaub/ANCA-GN_transcriptomics/data/single-cell/ustekinumab/integrated_objects\""
   ]
  },
  {
   "cell_type": "code",
   "execution_count": 2,
   "id": "6e1150e0-5c62-408b-a3b7-e5cc4e629e25",
   "metadata": {
    "vscode": {
     "languageId": "r"
    }
   },
   "outputs": [
    {
     "name": "stderr",
     "output_type": "stream",
     "text": [
      "Attaching SeuratObject\n",
      "\n",
      "\n",
      "Attaching package: ‘dplyr’\n",
      "\n",
      "\n",
      "The following objects are masked from ‘package:stats’:\n",
      "\n",
      "    filter, lag\n",
      "\n",
      "\n",
      "The following objects are masked from ‘package:base’:\n",
      "\n",
      "    intersect, setdiff, setequal, union\n",
      "\n",
      "\n",
      "here() starts at /data/projects/dschaub/ANCA-GN_transcriptomics\n",
      "\n",
      "\n",
      "Attaching package: ‘data.table’\n",
      "\n",
      "\n",
      "The following objects are masked from ‘package:dplyr’:\n",
      "\n",
      "    between, first, last\n",
      "\n",
      "\n"
     ]
    }
   ],
   "source": [
    "setwd(working_dir)\n",
    "RhpcBLASctl::blas_set_num_threads(1)\n",
    "library(Seurat)\n",
    "library(dplyr)\n",
    "# library(tidyverse)\n",
    "library(here)\n",
    "# library(readxl)\n",
    "# library(Matrix)\n",
    "library(IMSBSeuratHelpers)\n",
    "library(ggplot2)\n",
    "# library(sctransform)\n",
    "library(future)\n",
    "library(data.table)\n",
    "library(xlsx)\n",
    "# plan(\"multiprocess\", workers = 20)\n",
    "options(future.globals.maxSize = 20 * 1000 * 1024^2) # 20GB\n",
    "options(repr.matrix.max.rows = 600, repr.matrix.max.cols = 200)"
   ]
  },
  {
   "cell_type": "code",
   "execution_count": 3,
   "id": "7bcb8cee-e4dd-4e0f-9250-4056ebbb9338",
   "metadata": {
    "vscode": {
     "languageId": "r"
    }
   },
   "outputs": [
    {
     "name": "stderr",
     "output_type": "stream",
     "text": [
      "Loading required package: Rcpp\n",
      "\n"
     ]
    }
   ],
   "source": [
    "library(harmony)"
   ]
  },
  {
   "cell_type": "code",
   "execution_count": 4,
   "id": "2814de6b",
   "metadata": {
    "vscode": {
     "languageId": "r"
    }
   },
   "outputs": [
    {
     "data": {
      "text/plain": [
       "R version 4.1.1 (2021-08-10)\n",
       "Platform: x86_64-pc-linux-gnu (64-bit)\n",
       "Running under: Ubuntu 20.04.6 LTS\n",
       "\n",
       "Matrix products: default\n",
       "BLAS/LAPACK: /usr/lib/x86_64-linux-gnu/openblas-openmp/libopenblasp-r0.3.8.so\n",
       "\n",
       "locale:\n",
       " [1] LC_CTYPE=en_US.UTF-8          LC_NUMERIC=C                 \n",
       " [3] LC_TIME=en_US.UTF-8           LC_COLLATE=en_US.UTF-8       \n",
       " [5] LC_MONETARY=en_US.UTF-8       LC_MESSAGES=C                \n",
       " [7] LC_PAPER=en_US.UTF-8          LC_NAME=en_US.UTF-8          \n",
       " [9] LC_ADDRESS=en_US.UTF-8        LC_TELEPHONE=en_US.UTF-8     \n",
       "[11] LC_MEASUREMENT=en_US.UTF-8    LC_IDENTIFICATION=en_US.UTF-8\n",
       "\n",
       "attached base packages:\n",
       "[1] stats     graphics  grDevices utils     datasets  methods   base     \n",
       "\n",
       "other attached packages:\n",
       " [1] harmony_0.1.0                Rcpp_1.0.7                  \n",
       " [3] xlsx_0.6.5                   data.table_1.14.2           \n",
       " [5] future_1.22.1                ggplot2_3.3.5               \n",
       " [7] IMSBSeuratHelpers_0.0.0.9002 here_1.0.1                  \n",
       " [9] dplyr_1.0.7                  SeuratObject_4.0.2          \n",
       "[11] Seurat_4.0.4                \n",
       "\n",
       "loaded via a namespace (and not attached):\n",
       "  [1] Rtsne_0.15            colorspace_2.0-2      deldir_1.0-5         \n",
       "  [4] ellipsis_0.3.2        ggridges_0.5.3        rprojroot_2.0.2      \n",
       "  [7] IRdisplay_1.0         base64enc_0.1-3       spatstat.data_2.1-0  \n",
       " [10] leiden_0.3.9          listenv_0.8.0         ggrepel_0.9.1        \n",
       " [13] fansi_0.5.0           codetools_0.2-18      splines_4.1.1        \n",
       " [16] polyclip_1.10-0       IRkernel_1.2          jsonlite_1.7.2       \n",
       " [19] RhpcBLASctl_0.21-247  rJava_1.0-5           ica_1.0-2            \n",
       " [22] cluster_2.1.2         png_0.1-7             uwot_0.1.10          \n",
       " [25] shiny_1.7.1           sctransform_0.3.2     spatstat.sparse_2.0-0\n",
       " [28] compiler_4.1.1        httr_1.4.2            assertthat_0.2.1     \n",
       " [31] Matrix_1.3-4          fastmap_1.1.0         lazyeval_0.2.2       \n",
       " [34] later_1.3.0           htmltools_0.5.2       tools_4.1.1          \n",
       " [37] igraph_1.2.6          gtable_0.3.0          glue_1.4.2           \n",
       " [40] RANN_2.6.1            reshape2_1.4.4        scattermore_0.7      \n",
       " [43] vctrs_0.3.8           nlme_3.1-153          lmtest_0.9-38        \n",
       " [46] stringr_1.4.0         xlsxjars_0.6.1        globals_0.14.0       \n",
       " [49] mime_0.12             miniUI_0.1.1.1        lifecycle_1.0.1      \n",
       " [52] irlba_2.3.3           goftest_1.2-3         getPass_0.2-2        \n",
       " [55] MASS_7.3-54           zoo_1.8-9             scales_1.1.1         \n",
       " [58] spatstat.core_2.3-0   promises_1.2.0.1      spatstat.utils_2.2-0 \n",
       " [61] parallel_4.1.1        RColorBrewer_1.1-2    reticulate_1.22      \n",
       " [64] pbapply_1.5-0         gridExtra_2.3         rpart_4.1-15         \n",
       " [67] stringi_1.7.5         repr_1.1.3            rlang_0.4.11         \n",
       " [70] pkgconfig_2.0.3       matrixStats_0.61.0    evaluate_0.14        \n",
       " [73] lattice_0.20-45       ROCR_1.0-11           purrr_0.3.4          \n",
       " [76] tensor_1.5            patchwork_1.1.1       htmlwidgets_1.5.4    \n",
       " [79] cowplot_1.1.1         tidyselect_1.1.1      parallelly_1.28.1    \n",
       " [82] RcppAnnoy_0.0.19      plyr_1.8.6            magrittr_2.0.1       \n",
       " [85] R6_2.5.1              generics_0.1.0        pbdZMQ_0.3-5         \n",
       " [88] DBI_1.1.1             pillar_1.6.3          withr_2.4.2          \n",
       " [91] mgcv_1.8-38           fitdistrplus_1.1-6    survival_3.2-13      \n",
       " [94] abind_1.4-5           tibble_3.1.5          future.apply_1.8.1   \n",
       " [97] crayon_1.4.1          uuid_0.1-4            KernSmooth_2.23-20   \n",
       "[100] utf8_1.2.2            spatstat.geom_2.3-0   plotly_4.10.0        \n",
       "[103] grid_4.1.1            digest_0.6.28         xtable_1.8-4         \n",
       "[106] tidyr_1.1.4           httpuv_1.6.3          munsell_0.5.0        \n",
       "[109] viridisLite_0.4.0    "
      ]
     },
     "metadata": {},
     "output_type": "display_data"
    }
   ],
   "source": [
    "sessionInfo()"
   ]
  },
  {
   "cell_type": "code",
   "execution_count": 5,
   "id": "0d319948-61b3-4f80-805d-e1e798eb43ef",
   "metadata": {
    "vscode": {
     "languageId": "r"
    }
   },
   "outputs": [],
   "source": [
    "samples_ID <- \"Harmony_Ustekinumab_4PB\""
   ]
  },
  {
   "cell_type": "code",
   "execution_count": 6,
   "id": "06795d6b-7913-4d2a-b6ba-603b8ee9be2b",
   "metadata": {
    "vscode": {
     "languageId": "r"
    }
   },
   "outputs": [
    {
     "name": "stdout",
     "output_type": "stream",
     "text": [
      "[1] \"/data/projects/dschaub/ANCA-GN_transcriptomics/data/single-cell/ustekinumab/prefiltering_objects/T001B.rds\"\n",
      "[1] \"/data/projects/dschaub/ANCA-GN_transcriptomics/data/single-cell/ustekinumab/prefiltering_objects/T002B.rds\"\n",
      "[1] \"/data/projects/dschaub/ANCA-GN_transcriptomics/data/single-cell/ustekinumab/prefiltering_objects/T003B.rds\"\n",
      "[1] \"/data/projects/dschaub/ANCA-GN_transcriptomics/data/single-cell/ustekinumab/prefiltering_objects/T004B.rds\"\n"
     ]
    },
    {
     "data": {
      "text/plain": [
       "[[1]]\n",
       "An object of class Seurat \n",
       "36899 features across 898 samples within 2 assays \n",
       "Active assay: RNA (36601 features, 2000 variable features)\n",
       " 1 other assay present: CITE\n",
       "\n",
       "[[2]]\n",
       "An object of class Seurat \n",
       "36809 features across 460 samples within 3 assays \n",
       "Active assay: RNA (36601 features, 2000 variable features)\n",
       " 2 other assays present: CITE, HTO\n",
       " 2 dimensional reductions calculated: pca, umap\n",
       "\n",
       "[[3]]\n",
       "An object of class Seurat \n",
       "33581 features across 6624 samples within 3 assays \n",
       "Active assay: RNA (33538 features, 2000 variable features)\n",
       " 2 other assays present: CITE, HTO\n",
       " 2 dimensional reductions calculated: pca, umap\n",
       "\n",
       "[[4]]\n",
       "An object of class Seurat \n",
       "36899 features across 14888 samples within 2 assays \n",
       "Active assay: RNA (36601 features, 2000 variable features)\n",
       " 1 other assay present: CITE\n"
      ]
     },
     "metadata": {},
     "output_type": "display_data"
    }
   ],
   "source": [
    "ob.list <- list()\n",
    "addlist <-\n",
    "    c(\n",
    "        \"T001\",\n",
    "        \"T002\",\n",
    "        \"T003\",\n",
    "        \"T004\"\n",
    "    )\n",
    "\n",
    "samplelist <-\n",
    "    c(\n",
    "        \"T001B\",\n",
    "        \"T002B\",\n",
    "        \"T003B\",\n",
    "        \"T004B\"\n",
    "    )\n",
    "\n",
    "\n",
    "# hvg_names<-c()\n",
    "for (i in 1:length(addlist)) {\n",
    "    patient_ID <- addlist[[i]]\n",
    "    sample_ID <- samplelist[[i]]\n",
    "    path <- paste0(data_dir, \"/\", sample_ID, \".rds\")\n",
    "    print(path)\n",
    "    ob.list[[i]] <- readRDS(path)\n",
    "    ob.list[[i]] <- RenameCells(ob.list[[i]],\n",
    "        add.cell.id = paste0(patient_ID, \"B\")\n",
    "    )\n",
    "    ob.list[[i]]@meta.data$patient <- patient_ID\n",
    "    ob.list[[i]]@meta.data$orig.ident <- sample_ID\n",
    "    ob.list[[i]]@meta.data$sample <- paste0(ob.list[[i]]@meta.data$patient, \"B\")\n",
    "    ob.list[[i]]@meta.data$case <- substr(ob.list[[i]]@meta.data$sample[1], 1, 1)\n",
    "    ob.list[[i]]@meta.data$tissue <- substr(ob.list[[i]]@meta.data$sample[1], 5, 5)\n",
    "    DefaultAssay(object = ob.list[[i]]) <- \"RNA\"\n",
    "    ob.list[[i]] <- NormalizeData(\n",
    "        object = ob.list[[i]],\n",
    "        normalization.method = \"LogNormalize\",\n",
    "        scale.factor = 10000\n",
    "    )\n",
    "    ob.list[[i]] <- FindVariableFeatures(\n",
    "        object = ob.list[[i]],\n",
    "        selection.method = \"vst\", nfeatures = 2000, verbose = FALSE\n",
    "    )\n",
    "}\n",
    "ob.list"
   ]
  },
  {
   "cell_type": "code",
   "execution_count": 7,
   "id": "59b9442a-7c6d-444e-9039-0a661532df38",
   "metadata": {
    "vscode": {
     "languageId": "r"
    }
   },
   "outputs": [
    {
     "data": {
      "text/html": [
       "<table class=\"dataframe\">\n",
       "<caption>A data.frame: 6 × 27</caption>\n",
       "<thead>\n",
       "\t<tr><th></th><th scope=col>orig.ident</th><th scope=col>nCount_RNA</th><th scope=col>nFeature_RNA</th><th scope=col>nCount_CITE</th><th scope=col>nFeature_CITE</th><th scope=col>frac.mito</th><th scope=col>frac.ribo</th><th scope=col>Feature_Count_ratio</th><th scope=col>CD3_count</th><th scope=col>patient</th><th scope=col>sample</th><th scope=col>case</th><th scope=col>tissue</th><th scope=col>RNA_snn_res.0.1</th><th scope=col>seurat_clusters</th><th scope=col>RNA_snn_res.0.2</th><th scope=col>RNA_snn_res.0.3</th><th scope=col>RNA_snn_res.0.4</th><th scope=col>RNA_snn_res.0.6</th><th scope=col>nCount_HTO</th><th scope=col>nFeature_HTO</th><th scope=col>HTO_maxID</th><th scope=col>HTO_secondID</th><th scope=col>HTO_margin</th><th scope=col>HTO_classification</th><th scope=col>HTO_classification.global</th><th scope=col>hash.ID</th></tr>\n",
       "\t<tr><th></th><th scope=col>&lt;chr&gt;</th><th scope=col>&lt;dbl&gt;</th><th scope=col>&lt;int&gt;</th><th scope=col>&lt;dbl&gt;</th><th scope=col>&lt;int&gt;</th><th scope=col>&lt;dbl&gt;</th><th scope=col>&lt;dbl&gt;</th><th scope=col>&lt;dbl&gt;</th><th scope=col>&lt;dbl&gt;</th><th scope=col>&lt;chr&gt;</th><th scope=col>&lt;chr&gt;</th><th scope=col>&lt;chr&gt;</th><th scope=col>&lt;chr&gt;</th><th scope=col>&lt;chr&gt;</th><th scope=col>&lt;chr&gt;</th><th scope=col>&lt;chr&gt;</th><th scope=col>&lt;chr&gt;</th><th scope=col>&lt;chr&gt;</th><th scope=col>&lt;chr&gt;</th><th scope=col>&lt;dbl&gt;</th><th scope=col>&lt;int&gt;</th><th scope=col>&lt;chr&gt;</th><th scope=col>&lt;chr&gt;</th><th scope=col>&lt;dbl&gt;</th><th scope=col>&lt;chr&gt;</th><th scope=col>&lt;chr&gt;</th><th scope=col>&lt;chr&gt;</th></tr>\n",
       "</thead>\n",
       "<tbody>\n",
       "\t<tr><th scope=row>T001B_AAACCTGCAATGTTGC-1</th><td>T001B</td><td>4781</td><td>1693</td><td>3257</td><td>101</td><td>0.01547793</td><td>0.3532734</td><td>0.3541100</td><td>12</td><td>T001</td><td>T001B</td><td>T</td><td>B</td><td>NA</td><td>NA</td><td>NA</td><td>NA</td><td>NA</td><td>NA</td><td>NA</td><td>NA</td><td>NA</td><td>NA</td><td>NA</td><td>NA</td><td>NA</td><td>NA</td></tr>\n",
       "\t<tr><th scope=row>T001B_AAACCTGTCGGAAACG-1</th><td>T001B</td><td>4294</td><td>1509</td><td>2888</td><td> 93</td><td>0.02119236</td><td>0.3635305</td><td>0.3514206</td><td> 6</td><td>T001</td><td>T001B</td><td>T</td><td>B</td><td>NA</td><td>NA</td><td>NA</td><td>NA</td><td>NA</td><td>NA</td><td>NA</td><td>NA</td><td>NA</td><td>NA</td><td>NA</td><td>NA</td><td>NA</td><td>NA</td></tr>\n",
       "\t<tr><th scope=row>T001B_AAACCTGTCTGGGCCA-1</th><td>T001B</td><td>2841</td><td>1223</td><td>3020</td><td> 88</td><td>0.03484688</td><td>0.3072862</td><td>0.4304822</td><td> 4</td><td>T001</td><td>T001B</td><td>T</td><td>B</td><td>NA</td><td>NA</td><td>NA</td><td>NA</td><td>NA</td><td>NA</td><td>NA</td><td>NA</td><td>NA</td><td>NA</td><td>NA</td><td>NA</td><td>NA</td><td>NA</td></tr>\n",
       "\t<tr><th scope=row>T001B_AAAGATGCACCTCGTT-1</th><td>T001B</td><td>5226</td><td>1712</td><td>2334</td><td> 87</td><td>0.02181401</td><td>0.3754305</td><td>0.3275928</td><td> 9</td><td>T001</td><td>T001B</td><td>T</td><td>B</td><td>NA</td><td>NA</td><td>NA</td><td>NA</td><td>NA</td><td>NA</td><td>NA</td><td>NA</td><td>NA</td><td>NA</td><td>NA</td><td>NA</td><td>NA</td><td>NA</td></tr>\n",
       "\t<tr><th scope=row>T001B_AAAGATGTCTCATTCA-1</th><td>T001B</td><td>4430</td><td>1521</td><td>1952</td><td> 83</td><td>0.03137698</td><td>0.3742664</td><td>0.3433409</td><td> 7</td><td>T001</td><td>T001B</td><td>T</td><td>B</td><td>NA</td><td>NA</td><td>NA</td><td>NA</td><td>NA</td><td>NA</td><td>NA</td><td>NA</td><td>NA</td><td>NA</td><td>NA</td><td>NA</td><td>NA</td><td>NA</td></tr>\n",
       "\t<tr><th scope=row>T001B_AAAGCAACAAGTTAAG-1</th><td>T001B</td><td>3183</td><td>1245</td><td> 934</td><td> 79</td><td>0.02576186</td><td>0.3565818</td><td>0.3911404</td><td> 5</td><td>T001</td><td>T001B</td><td>T</td><td>B</td><td>NA</td><td>NA</td><td>NA</td><td>NA</td><td>NA</td><td>NA</td><td>NA</td><td>NA</td><td>NA</td><td>NA</td><td>NA</td><td>NA</td><td>NA</td><td>NA</td></tr>\n",
       "</tbody>\n",
       "</table>\n"
      ],
      "text/latex": [
       "A data.frame: 6 × 27\n",
       "\\begin{tabular}{r|lllllllllllllllllllllllllll}\n",
       "  & orig.ident & nCount\\_RNA & nFeature\\_RNA & nCount\\_CITE & nFeature\\_CITE & frac.mito & frac.ribo & Feature\\_Count\\_ratio & CD3\\_count & patient & sample & case & tissue & RNA\\_snn\\_res.0.1 & seurat\\_clusters & RNA\\_snn\\_res.0.2 & RNA\\_snn\\_res.0.3 & RNA\\_snn\\_res.0.4 & RNA\\_snn\\_res.0.6 & nCount\\_HTO & nFeature\\_HTO & HTO\\_maxID & HTO\\_secondID & HTO\\_margin & HTO\\_classification & HTO\\_classification.global & hash.ID\\\\\n",
       "  & <chr> & <dbl> & <int> & <dbl> & <int> & <dbl> & <dbl> & <dbl> & <dbl> & <chr> & <chr> & <chr> & <chr> & <chr> & <chr> & <chr> & <chr> & <chr> & <chr> & <dbl> & <int> & <chr> & <chr> & <dbl> & <chr> & <chr> & <chr>\\\\\n",
       "\\hline\n",
       "\tT001B\\_AAACCTGCAATGTTGC-1 & T001B & 4781 & 1693 & 3257 & 101 & 0.01547793 & 0.3532734 & 0.3541100 & 12 & T001 & T001B & T & B & NA & NA & NA & NA & NA & NA & NA & NA & NA & NA & NA & NA & NA & NA\\\\\n",
       "\tT001B\\_AAACCTGTCGGAAACG-1 & T001B & 4294 & 1509 & 2888 &  93 & 0.02119236 & 0.3635305 & 0.3514206 &  6 & T001 & T001B & T & B & NA & NA & NA & NA & NA & NA & NA & NA & NA & NA & NA & NA & NA & NA\\\\\n",
       "\tT001B\\_AAACCTGTCTGGGCCA-1 & T001B & 2841 & 1223 & 3020 &  88 & 0.03484688 & 0.3072862 & 0.4304822 &  4 & T001 & T001B & T & B & NA & NA & NA & NA & NA & NA & NA & NA & NA & NA & NA & NA & NA & NA\\\\\n",
       "\tT001B\\_AAAGATGCACCTCGTT-1 & T001B & 5226 & 1712 & 2334 &  87 & 0.02181401 & 0.3754305 & 0.3275928 &  9 & T001 & T001B & T & B & NA & NA & NA & NA & NA & NA & NA & NA & NA & NA & NA & NA & NA & NA\\\\\n",
       "\tT001B\\_AAAGATGTCTCATTCA-1 & T001B & 4430 & 1521 & 1952 &  83 & 0.03137698 & 0.3742664 & 0.3433409 &  7 & T001 & T001B & T & B & NA & NA & NA & NA & NA & NA & NA & NA & NA & NA & NA & NA & NA & NA\\\\\n",
       "\tT001B\\_AAAGCAACAAGTTAAG-1 & T001B & 3183 & 1245 &  934 &  79 & 0.02576186 & 0.3565818 & 0.3911404 &  5 & T001 & T001B & T & B & NA & NA & NA & NA & NA & NA & NA & NA & NA & NA & NA & NA & NA & NA\\\\\n",
       "\\end{tabular}\n"
      ],
      "text/markdown": [
       "\n",
       "A data.frame: 6 × 27\n",
       "\n",
       "| <!--/--> | orig.ident &lt;chr&gt; | nCount_RNA &lt;dbl&gt; | nFeature_RNA &lt;int&gt; | nCount_CITE &lt;dbl&gt; | nFeature_CITE &lt;int&gt; | frac.mito &lt;dbl&gt; | frac.ribo &lt;dbl&gt; | Feature_Count_ratio &lt;dbl&gt; | CD3_count &lt;dbl&gt; | patient &lt;chr&gt; | sample &lt;chr&gt; | case &lt;chr&gt; | tissue &lt;chr&gt; | RNA_snn_res.0.1 &lt;chr&gt; | seurat_clusters &lt;chr&gt; | RNA_snn_res.0.2 &lt;chr&gt; | RNA_snn_res.0.3 &lt;chr&gt; | RNA_snn_res.0.4 &lt;chr&gt; | RNA_snn_res.0.6 &lt;chr&gt; | nCount_HTO &lt;dbl&gt; | nFeature_HTO &lt;int&gt; | HTO_maxID &lt;chr&gt; | HTO_secondID &lt;chr&gt; | HTO_margin &lt;dbl&gt; | HTO_classification &lt;chr&gt; | HTO_classification.global &lt;chr&gt; | hash.ID &lt;chr&gt; |\n",
       "|---|---|---|---|---|---|---|---|---|---|---|---|---|---|---|---|---|---|---|---|---|---|---|---|---|---|---|---|\n",
       "| T001B_AAACCTGCAATGTTGC-1 | T001B | 4781 | 1693 | 3257 | 101 | 0.01547793 | 0.3532734 | 0.3541100 | 12 | T001 | T001B | T | B | NA | NA | NA | NA | NA | NA | NA | NA | NA | NA | NA | NA | NA | NA |\n",
       "| T001B_AAACCTGTCGGAAACG-1 | T001B | 4294 | 1509 | 2888 |  93 | 0.02119236 | 0.3635305 | 0.3514206 |  6 | T001 | T001B | T | B | NA | NA | NA | NA | NA | NA | NA | NA | NA | NA | NA | NA | NA | NA |\n",
       "| T001B_AAACCTGTCTGGGCCA-1 | T001B | 2841 | 1223 | 3020 |  88 | 0.03484688 | 0.3072862 | 0.4304822 |  4 | T001 | T001B | T | B | NA | NA | NA | NA | NA | NA | NA | NA | NA | NA | NA | NA | NA | NA |\n",
       "| T001B_AAAGATGCACCTCGTT-1 | T001B | 5226 | 1712 | 2334 |  87 | 0.02181401 | 0.3754305 | 0.3275928 |  9 | T001 | T001B | T | B | NA | NA | NA | NA | NA | NA | NA | NA | NA | NA | NA | NA | NA | NA |\n",
       "| T001B_AAAGATGTCTCATTCA-1 | T001B | 4430 | 1521 | 1952 |  83 | 0.03137698 | 0.3742664 | 0.3433409 |  7 | T001 | T001B | T | B | NA | NA | NA | NA | NA | NA | NA | NA | NA | NA | NA | NA | NA | NA |\n",
       "| T001B_AAAGCAACAAGTTAAG-1 | T001B | 3183 | 1245 |  934 |  79 | 0.02576186 | 0.3565818 | 0.3911404 |  5 | T001 | T001B | T | B | NA | NA | NA | NA | NA | NA | NA | NA | NA | NA | NA | NA | NA | NA |\n",
       "\n"
      ],
      "text/plain": [
       "                         orig.ident nCount_RNA nFeature_RNA nCount_CITE\n",
       "T001B_AAACCTGCAATGTTGC-1 T001B      4781       1693         3257       \n",
       "T001B_AAACCTGTCGGAAACG-1 T001B      4294       1509         2888       \n",
       "T001B_AAACCTGTCTGGGCCA-1 T001B      2841       1223         3020       \n",
       "T001B_AAAGATGCACCTCGTT-1 T001B      5226       1712         2334       \n",
       "T001B_AAAGATGTCTCATTCA-1 T001B      4430       1521         1952       \n",
       "T001B_AAAGCAACAAGTTAAG-1 T001B      3183       1245          934       \n",
       "                         nFeature_CITE frac.mito  frac.ribo Feature_Count_ratio\n",
       "T001B_AAACCTGCAATGTTGC-1 101           0.01547793 0.3532734 0.3541100          \n",
       "T001B_AAACCTGTCGGAAACG-1  93           0.02119236 0.3635305 0.3514206          \n",
       "T001B_AAACCTGTCTGGGCCA-1  88           0.03484688 0.3072862 0.4304822          \n",
       "T001B_AAAGATGCACCTCGTT-1  87           0.02181401 0.3754305 0.3275928          \n",
       "T001B_AAAGATGTCTCATTCA-1  83           0.03137698 0.3742664 0.3433409          \n",
       "T001B_AAAGCAACAAGTTAAG-1  79           0.02576186 0.3565818 0.3911404          \n",
       "                         CD3_count patient sample case tissue RNA_snn_res.0.1\n",
       "T001B_AAACCTGCAATGTTGC-1 12        T001    T001B  T    B      NA             \n",
       "T001B_AAACCTGTCGGAAACG-1  6        T001    T001B  T    B      NA             \n",
       "T001B_AAACCTGTCTGGGCCA-1  4        T001    T001B  T    B      NA             \n",
       "T001B_AAAGATGCACCTCGTT-1  9        T001    T001B  T    B      NA             \n",
       "T001B_AAAGATGTCTCATTCA-1  7        T001    T001B  T    B      NA             \n",
       "T001B_AAAGCAACAAGTTAAG-1  5        T001    T001B  T    B      NA             \n",
       "                         seurat_clusters RNA_snn_res.0.2 RNA_snn_res.0.3\n",
       "T001B_AAACCTGCAATGTTGC-1 NA              NA              NA             \n",
       "T001B_AAACCTGTCGGAAACG-1 NA              NA              NA             \n",
       "T001B_AAACCTGTCTGGGCCA-1 NA              NA              NA             \n",
       "T001B_AAAGATGCACCTCGTT-1 NA              NA              NA             \n",
       "T001B_AAAGATGTCTCATTCA-1 NA              NA              NA             \n",
       "T001B_AAAGCAACAAGTTAAG-1 NA              NA              NA             \n",
       "                         RNA_snn_res.0.4 RNA_snn_res.0.6 nCount_HTO\n",
       "T001B_AAACCTGCAATGTTGC-1 NA              NA              NA        \n",
       "T001B_AAACCTGTCGGAAACG-1 NA              NA              NA        \n",
       "T001B_AAACCTGTCTGGGCCA-1 NA              NA              NA        \n",
       "T001B_AAAGATGCACCTCGTT-1 NA              NA              NA        \n",
       "T001B_AAAGATGTCTCATTCA-1 NA              NA              NA        \n",
       "T001B_AAAGCAACAAGTTAAG-1 NA              NA              NA        \n",
       "                         nFeature_HTO HTO_maxID HTO_secondID HTO_margin\n",
       "T001B_AAACCTGCAATGTTGC-1 NA           NA        NA           NA        \n",
       "T001B_AAACCTGTCGGAAACG-1 NA           NA        NA           NA        \n",
       "T001B_AAACCTGTCTGGGCCA-1 NA           NA        NA           NA        \n",
       "T001B_AAAGATGCACCTCGTT-1 NA           NA        NA           NA        \n",
       "T001B_AAAGATGTCTCATTCA-1 NA           NA        NA           NA        \n",
       "T001B_AAAGCAACAAGTTAAG-1 NA           NA        NA           NA        \n",
       "                         HTO_classification HTO_classification.global hash.ID\n",
       "T001B_AAACCTGCAATGTTGC-1 NA                 NA                        NA     \n",
       "T001B_AAACCTGTCGGAAACG-1 NA                 NA                        NA     \n",
       "T001B_AAACCTGTCTGGGCCA-1 NA                 NA                        NA     \n",
       "T001B_AAAGATGCACCTCGTT-1 NA                 NA                        NA     \n",
       "T001B_AAAGATGTCTCATTCA-1 NA                 NA                        NA     \n",
       "T001B_AAAGCAACAAGTTAAG-1 NA                 NA                        NA     "
      ]
     },
     "metadata": {},
     "output_type": "display_data"
    },
    {
     "data": {
      "text/html": [
       "<table class=\"dataframe\">\n",
       "<caption>A data.frame: 6 × 27</caption>\n",
       "<thead>\n",
       "\t<tr><th></th><th scope=col>orig.ident</th><th scope=col>nCount_RNA</th><th scope=col>nFeature_RNA</th><th scope=col>nCount_CITE</th><th scope=col>nFeature_CITE</th><th scope=col>frac.mito</th><th scope=col>frac.ribo</th><th scope=col>Feature_Count_ratio</th><th scope=col>CD3_count</th><th scope=col>patient</th><th scope=col>sample</th><th scope=col>case</th><th scope=col>tissue</th><th scope=col>RNA_snn_res.0.1</th><th scope=col>seurat_clusters</th><th scope=col>RNA_snn_res.0.2</th><th scope=col>RNA_snn_res.0.3</th><th scope=col>RNA_snn_res.0.4</th><th scope=col>RNA_snn_res.0.6</th><th scope=col>nCount_HTO</th><th scope=col>nFeature_HTO</th><th scope=col>HTO_maxID</th><th scope=col>HTO_secondID</th><th scope=col>HTO_margin</th><th scope=col>HTO_classification</th><th scope=col>HTO_classification.global</th><th scope=col>hash.ID</th></tr>\n",
       "\t<tr><th></th><th scope=col>&lt;chr&gt;</th><th scope=col>&lt;dbl&gt;</th><th scope=col>&lt;int&gt;</th><th scope=col>&lt;dbl&gt;</th><th scope=col>&lt;int&gt;</th><th scope=col>&lt;dbl&gt;</th><th scope=col>&lt;dbl&gt;</th><th scope=col>&lt;dbl&gt;</th><th scope=col>&lt;dbl&gt;</th><th scope=col>&lt;chr&gt;</th><th scope=col>&lt;chr&gt;</th><th scope=col>&lt;chr&gt;</th><th scope=col>&lt;chr&gt;</th><th scope=col>&lt;chr&gt;</th><th scope=col>&lt;chr&gt;</th><th scope=col>&lt;chr&gt;</th><th scope=col>&lt;chr&gt;</th><th scope=col>&lt;chr&gt;</th><th scope=col>&lt;chr&gt;</th><th scope=col>&lt;dbl&gt;</th><th scope=col>&lt;int&gt;</th><th scope=col>&lt;chr&gt;</th><th scope=col>&lt;chr&gt;</th><th scope=col>&lt;dbl&gt;</th><th scope=col>&lt;chr&gt;</th><th scope=col>&lt;chr&gt;</th><th scope=col>&lt;chr&gt;</th></tr>\n",
       "</thead>\n",
       "<tbody>\n",
       "\t<tr><th scope=row>T004B_TTTGTCATCCTAGGGC-1</th><td>T004B</td><td>4393</td><td>1459</td><td> 919</td><td> 63</td><td>0.01730025</td><td>0.4165718</td><td>0.3321193</td><td> 9</td><td>T004</td><td>T004B</td><td>T</td><td>B</td><td>NA</td><td>NA</td><td>NA</td><td>NA</td><td>NA</td><td>NA</td><td>NA</td><td>NA</td><td>NA</td><td>NA</td><td>NA</td><td>NA</td><td>NA</td><td>NA</td></tr>\n",
       "\t<tr><th scope=row>T004B_TTTGTCATCGGCGCAT-1</th><td>T004B</td><td>5804</td><td>1870</td><td>1263</td><td> 75</td><td>0.02153687</td><td>0.3687112</td><td>0.3221916</td><td>10</td><td>T004</td><td>T004B</td><td>T</td><td>B</td><td>NA</td><td>NA</td><td>NA</td><td>NA</td><td>NA</td><td>NA</td><td>NA</td><td>NA</td><td>NA</td><td>NA</td><td>NA</td><td>NA</td><td>NA</td><td>NA</td></tr>\n",
       "\t<tr><th scope=row>T004B_TTTGTCATCGGCGGTT-1</th><td>T004B</td><td>4394</td><td>1605</td><td>1053</td><td> 65</td><td>0.01638598</td><td>0.3363678</td><td>0.3652708</td><td> 9</td><td>T004</td><td>T004B</td><td>T</td><td>B</td><td>NA</td><td>NA</td><td>NA</td><td>NA</td><td>NA</td><td>NA</td><td>NA</td><td>NA</td><td>NA</td><td>NA</td><td>NA</td><td>NA</td><td>NA</td><td>NA</td></tr>\n",
       "\t<tr><th scope=row>T004B_TTTGTCATCGTGACAT-1</th><td>T004B</td><td>4145</td><td>1772</td><td>1197</td><td>102</td><td>0.03184560</td><td>0.2287093</td><td>0.4275030</td><td> 8</td><td>T004</td><td>T004B</td><td>T</td><td>B</td><td>NA</td><td>NA</td><td>NA</td><td>NA</td><td>NA</td><td>NA</td><td>NA</td><td>NA</td><td>NA</td><td>NA</td><td>NA</td><td>NA</td><td>NA</td><td>NA</td></tr>\n",
       "\t<tr><th scope=row>T004B_TTTGTCATCTAACTCT-1</th><td>T004B</td><td>4567</td><td>1851</td><td>1005</td><td> 74</td><td>0.03722356</td><td>0.2910007</td><td>0.4052989</td><td> 8</td><td>T004</td><td>T004B</td><td>T</td><td>B</td><td>NA</td><td>NA</td><td>NA</td><td>NA</td><td>NA</td><td>NA</td><td>NA</td><td>NA</td><td>NA</td><td>NA</td><td>NA</td><td>NA</td><td>NA</td><td>NA</td></tr>\n",
       "\t<tr><th scope=row>T004B_TTTGTCATCTTACCGC-1</th><td>T004B</td><td>4207</td><td>1715</td><td>1451</td><td> 82</td><td>0.03399097</td><td>0.2800095</td><td>0.4076539</td><td>10</td><td>T004</td><td>T004B</td><td>T</td><td>B</td><td>NA</td><td>NA</td><td>NA</td><td>NA</td><td>NA</td><td>NA</td><td>NA</td><td>NA</td><td>NA</td><td>NA</td><td>NA</td><td>NA</td><td>NA</td><td>NA</td></tr>\n",
       "</tbody>\n",
       "</table>\n"
      ],
      "text/latex": [
       "A data.frame: 6 × 27\n",
       "\\begin{tabular}{r|lllllllllllllllllllllllllll}\n",
       "  & orig.ident & nCount\\_RNA & nFeature\\_RNA & nCount\\_CITE & nFeature\\_CITE & frac.mito & frac.ribo & Feature\\_Count\\_ratio & CD3\\_count & patient & sample & case & tissue & RNA\\_snn\\_res.0.1 & seurat\\_clusters & RNA\\_snn\\_res.0.2 & RNA\\_snn\\_res.0.3 & RNA\\_snn\\_res.0.4 & RNA\\_snn\\_res.0.6 & nCount\\_HTO & nFeature\\_HTO & HTO\\_maxID & HTO\\_secondID & HTO\\_margin & HTO\\_classification & HTO\\_classification.global & hash.ID\\\\\n",
       "  & <chr> & <dbl> & <int> & <dbl> & <int> & <dbl> & <dbl> & <dbl> & <dbl> & <chr> & <chr> & <chr> & <chr> & <chr> & <chr> & <chr> & <chr> & <chr> & <chr> & <dbl> & <int> & <chr> & <chr> & <dbl> & <chr> & <chr> & <chr>\\\\\n",
       "\\hline\n",
       "\tT004B\\_TTTGTCATCCTAGGGC-1 & T004B & 4393 & 1459 &  919 &  63 & 0.01730025 & 0.4165718 & 0.3321193 &  9 & T004 & T004B & T & B & NA & NA & NA & NA & NA & NA & NA & NA & NA & NA & NA & NA & NA & NA\\\\\n",
       "\tT004B\\_TTTGTCATCGGCGCAT-1 & T004B & 5804 & 1870 & 1263 &  75 & 0.02153687 & 0.3687112 & 0.3221916 & 10 & T004 & T004B & T & B & NA & NA & NA & NA & NA & NA & NA & NA & NA & NA & NA & NA & NA & NA\\\\\n",
       "\tT004B\\_TTTGTCATCGGCGGTT-1 & T004B & 4394 & 1605 & 1053 &  65 & 0.01638598 & 0.3363678 & 0.3652708 &  9 & T004 & T004B & T & B & NA & NA & NA & NA & NA & NA & NA & NA & NA & NA & NA & NA & NA & NA\\\\\n",
       "\tT004B\\_TTTGTCATCGTGACAT-1 & T004B & 4145 & 1772 & 1197 & 102 & 0.03184560 & 0.2287093 & 0.4275030 &  8 & T004 & T004B & T & B & NA & NA & NA & NA & NA & NA & NA & NA & NA & NA & NA & NA & NA & NA\\\\\n",
       "\tT004B\\_TTTGTCATCTAACTCT-1 & T004B & 4567 & 1851 & 1005 &  74 & 0.03722356 & 0.2910007 & 0.4052989 &  8 & T004 & T004B & T & B & NA & NA & NA & NA & NA & NA & NA & NA & NA & NA & NA & NA & NA & NA\\\\\n",
       "\tT004B\\_TTTGTCATCTTACCGC-1 & T004B & 4207 & 1715 & 1451 &  82 & 0.03399097 & 0.2800095 & 0.4076539 & 10 & T004 & T004B & T & B & NA & NA & NA & NA & NA & NA & NA & NA & NA & NA & NA & NA & NA & NA\\\\\n",
       "\\end{tabular}\n"
      ],
      "text/markdown": [
       "\n",
       "A data.frame: 6 × 27\n",
       "\n",
       "| <!--/--> | orig.ident &lt;chr&gt; | nCount_RNA &lt;dbl&gt; | nFeature_RNA &lt;int&gt; | nCount_CITE &lt;dbl&gt; | nFeature_CITE &lt;int&gt; | frac.mito &lt;dbl&gt; | frac.ribo &lt;dbl&gt; | Feature_Count_ratio &lt;dbl&gt; | CD3_count &lt;dbl&gt; | patient &lt;chr&gt; | sample &lt;chr&gt; | case &lt;chr&gt; | tissue &lt;chr&gt; | RNA_snn_res.0.1 &lt;chr&gt; | seurat_clusters &lt;chr&gt; | RNA_snn_res.0.2 &lt;chr&gt; | RNA_snn_res.0.3 &lt;chr&gt; | RNA_snn_res.0.4 &lt;chr&gt; | RNA_snn_res.0.6 &lt;chr&gt; | nCount_HTO &lt;dbl&gt; | nFeature_HTO &lt;int&gt; | HTO_maxID &lt;chr&gt; | HTO_secondID &lt;chr&gt; | HTO_margin &lt;dbl&gt; | HTO_classification &lt;chr&gt; | HTO_classification.global &lt;chr&gt; | hash.ID &lt;chr&gt; |\n",
       "|---|---|---|---|---|---|---|---|---|---|---|---|---|---|---|---|---|---|---|---|---|---|---|---|---|---|---|---|\n",
       "| T004B_TTTGTCATCCTAGGGC-1 | T004B | 4393 | 1459 |  919 |  63 | 0.01730025 | 0.4165718 | 0.3321193 |  9 | T004 | T004B | T | B | NA | NA | NA | NA | NA | NA | NA | NA | NA | NA | NA | NA | NA | NA |\n",
       "| T004B_TTTGTCATCGGCGCAT-1 | T004B | 5804 | 1870 | 1263 |  75 | 0.02153687 | 0.3687112 | 0.3221916 | 10 | T004 | T004B | T | B | NA | NA | NA | NA | NA | NA | NA | NA | NA | NA | NA | NA | NA | NA |\n",
       "| T004B_TTTGTCATCGGCGGTT-1 | T004B | 4394 | 1605 | 1053 |  65 | 0.01638598 | 0.3363678 | 0.3652708 |  9 | T004 | T004B | T | B | NA | NA | NA | NA | NA | NA | NA | NA | NA | NA | NA | NA | NA | NA |\n",
       "| T004B_TTTGTCATCGTGACAT-1 | T004B | 4145 | 1772 | 1197 | 102 | 0.03184560 | 0.2287093 | 0.4275030 |  8 | T004 | T004B | T | B | NA | NA | NA | NA | NA | NA | NA | NA | NA | NA | NA | NA | NA | NA |\n",
       "| T004B_TTTGTCATCTAACTCT-1 | T004B | 4567 | 1851 | 1005 |  74 | 0.03722356 | 0.2910007 | 0.4052989 |  8 | T004 | T004B | T | B | NA | NA | NA | NA | NA | NA | NA | NA | NA | NA | NA | NA | NA | NA |\n",
       "| T004B_TTTGTCATCTTACCGC-1 | T004B | 4207 | 1715 | 1451 |  82 | 0.03399097 | 0.2800095 | 0.4076539 | 10 | T004 | T004B | T | B | NA | NA | NA | NA | NA | NA | NA | NA | NA | NA | NA | NA | NA | NA |\n",
       "\n"
      ],
      "text/plain": [
       "                         orig.ident nCount_RNA nFeature_RNA nCount_CITE\n",
       "T004B_TTTGTCATCCTAGGGC-1 T004B      4393       1459          919       \n",
       "T004B_TTTGTCATCGGCGCAT-1 T004B      5804       1870         1263       \n",
       "T004B_TTTGTCATCGGCGGTT-1 T004B      4394       1605         1053       \n",
       "T004B_TTTGTCATCGTGACAT-1 T004B      4145       1772         1197       \n",
       "T004B_TTTGTCATCTAACTCT-1 T004B      4567       1851         1005       \n",
       "T004B_TTTGTCATCTTACCGC-1 T004B      4207       1715         1451       \n",
       "                         nFeature_CITE frac.mito  frac.ribo Feature_Count_ratio\n",
       "T004B_TTTGTCATCCTAGGGC-1  63           0.01730025 0.4165718 0.3321193          \n",
       "T004B_TTTGTCATCGGCGCAT-1  75           0.02153687 0.3687112 0.3221916          \n",
       "T004B_TTTGTCATCGGCGGTT-1  65           0.01638598 0.3363678 0.3652708          \n",
       "T004B_TTTGTCATCGTGACAT-1 102           0.03184560 0.2287093 0.4275030          \n",
       "T004B_TTTGTCATCTAACTCT-1  74           0.03722356 0.2910007 0.4052989          \n",
       "T004B_TTTGTCATCTTACCGC-1  82           0.03399097 0.2800095 0.4076539          \n",
       "                         CD3_count patient sample case tissue RNA_snn_res.0.1\n",
       "T004B_TTTGTCATCCTAGGGC-1  9        T004    T004B  T    B      NA             \n",
       "T004B_TTTGTCATCGGCGCAT-1 10        T004    T004B  T    B      NA             \n",
       "T004B_TTTGTCATCGGCGGTT-1  9        T004    T004B  T    B      NA             \n",
       "T004B_TTTGTCATCGTGACAT-1  8        T004    T004B  T    B      NA             \n",
       "T004B_TTTGTCATCTAACTCT-1  8        T004    T004B  T    B      NA             \n",
       "T004B_TTTGTCATCTTACCGC-1 10        T004    T004B  T    B      NA             \n",
       "                         seurat_clusters RNA_snn_res.0.2 RNA_snn_res.0.3\n",
       "T004B_TTTGTCATCCTAGGGC-1 NA              NA              NA             \n",
       "T004B_TTTGTCATCGGCGCAT-1 NA              NA              NA             \n",
       "T004B_TTTGTCATCGGCGGTT-1 NA              NA              NA             \n",
       "T004B_TTTGTCATCGTGACAT-1 NA              NA              NA             \n",
       "T004B_TTTGTCATCTAACTCT-1 NA              NA              NA             \n",
       "T004B_TTTGTCATCTTACCGC-1 NA              NA              NA             \n",
       "                         RNA_snn_res.0.4 RNA_snn_res.0.6 nCount_HTO\n",
       "T004B_TTTGTCATCCTAGGGC-1 NA              NA              NA        \n",
       "T004B_TTTGTCATCGGCGCAT-1 NA              NA              NA        \n",
       "T004B_TTTGTCATCGGCGGTT-1 NA              NA              NA        \n",
       "T004B_TTTGTCATCGTGACAT-1 NA              NA              NA        \n",
       "T004B_TTTGTCATCTAACTCT-1 NA              NA              NA        \n",
       "T004B_TTTGTCATCTTACCGC-1 NA              NA              NA        \n",
       "                         nFeature_HTO HTO_maxID HTO_secondID HTO_margin\n",
       "T004B_TTTGTCATCCTAGGGC-1 NA           NA        NA           NA        \n",
       "T004B_TTTGTCATCGGCGCAT-1 NA           NA        NA           NA        \n",
       "T004B_TTTGTCATCGGCGGTT-1 NA           NA        NA           NA        \n",
       "T004B_TTTGTCATCGTGACAT-1 NA           NA        NA           NA        \n",
       "T004B_TTTGTCATCTAACTCT-1 NA           NA        NA           NA        \n",
       "T004B_TTTGTCATCTTACCGC-1 NA           NA        NA           NA        \n",
       "                         HTO_classification HTO_classification.global hash.ID\n",
       "T004B_TTTGTCATCCTAGGGC-1 NA                 NA                        NA     \n",
       "T004B_TTTGTCATCGGCGCAT-1 NA                 NA                        NA     \n",
       "T004B_TTTGTCATCGGCGGTT-1 NA                 NA                        NA     \n",
       "T004B_TTTGTCATCGTGACAT-1 NA                 NA                        NA     \n",
       "T004B_TTTGTCATCTAACTCT-1 NA                 NA                        NA     \n",
       "T004B_TTTGTCATCTTACCGC-1 NA                 NA                        NA     "
      ]
     },
     "metadata": {},
     "output_type": "display_data"
    }
   ],
   "source": [
    "seurat.combined <- merge(\n",
    "    ob.list[[1]], ob.list[-1] # ,\n",
    "    # add.cell.ids = addlist\n",
    ")\n",
    "head(seurat.combined@meta.data)\n",
    "tail(seurat.combined@meta.data)"
   ]
  },
  {
   "cell_type": "code",
   "execution_count": null,
   "id": "d85fa347-51e0-4fbe-8590-e76e81e106e6",
   "metadata": {
    "vscode": {
     "languageId": "r"
    }
   },
   "outputs": [],
   "source": [
    "Idents(seurat.combined)<-'patient'\n",
    "levels(seurat.combined)"
   ]
  },
  {
   "cell_type": "code",
   "execution_count": null,
   "id": "bde40c51-d520-47cc-beaf-619ab98624d3",
   "metadata": {
    "vscode": {
     "languageId": "r"
    }
   },
   "outputs": [],
   "source": [
    "# nCells in total \n",
    "paste0(length(ob.list),\" samples,\", nrow(seurat.combined@meta.data),\" cells in total\")\n",
    "sample_nCell<-as.data.frame(table(seurat.combined@meta.data$sample))\n",
    "colnames(sample_nCell)<- c(\"sample\",\"nCells\")\n",
    "rbind(sample_nCell, data.frame(sample='Total', nCells = sum(sample_nCell$nCells)))"
   ]
  },
  {
   "cell_type": "code",
   "execution_count": null,
   "id": "698e72ad-f096-4cf3-bd4e-73118c2cb6e3",
   "metadata": {
    "vscode": {
     "languageId": "r"
    }
   },
   "outputs": [],
   "source": [
    "seu<-seurat.combined\n",
    "seu"
   ]
  },
  {
   "cell_type": "code",
   "execution_count": null,
   "id": "d246c5ba-837a-4712-a034-6471abb2893d",
   "metadata": {
    "vscode": {
     "languageId": "r"
    }
   },
   "outputs": [],
   "source": [
    "seu <- count_fractions(seu,species = \"human\")"
   ]
  },
  {
   "cell_type": "code",
   "execution_count": null,
   "id": "f7d8e721-27b4-47f5-a6d2-562489d957df",
   "metadata": {
    "vscode": {
     "languageId": "r"
    }
   },
   "outputs": [],
   "source": [
    "head(seu@meta.data)\n",
    "tail(seu@meta.data)"
   ]
  },
  {
   "cell_type": "code",
   "execution_count": null,
   "id": "c52d7c2b-9b6e-4494-8721-62d6f737ed7a",
   "metadata": {
    "vscode": {
     "languageId": "r"
    }
   },
   "outputs": [],
   "source": [
    "seu <- ScaleData(seu, features = rownames(seu))"
   ]
  },
  {
   "cell_type": "code",
   "execution_count": null,
   "id": "7f52dc1d-7145-488c-8abc-8dd9e3e3e534",
   "metadata": {
    "vscode": {
     "languageId": "r"
    }
   },
   "outputs": [],
   "source": [
    "seu <- FindVariableFeatures(object = seu, \n",
    "                            selection.method = \"vst\",\n",
    "                            nfeatures = 2000)"
   ]
  },
  {
   "cell_type": "code",
   "execution_count": null,
   "id": "d9e51a18-a048-4338-ae15-f588a89c13f0",
   "metadata": {
    "vscode": {
     "languageId": "r"
    }
   },
   "outputs": [],
   "source": [
    "seu <- RunPCA(object = seu, \n",
    "              features = VariableFeatures(object = seu),\n",
    "              verbose = T)"
   ]
  },
  {
   "cell_type": "code",
   "execution_count": null,
   "id": "65e72666-a220-44c7-95ed-f8b14170dbc6",
   "metadata": {
    "vscode": {
     "languageId": "r"
    }
   },
   "outputs": [],
   "source": [
    "seu <- seu %>% \n",
    "    RunHarmony(\"patient\", dims.use = 1:30,\n",
    "               plot_convergence = TRUE)"
   ]
  },
  {
   "cell_type": "code",
   "execution_count": null,
   "id": "9f1162bc-8233-4b9e-bbbb-e9cff5af2095",
   "metadata": {
    "vscode": {
     "languageId": "r"
    }
   },
   "outputs": [],
   "source": [
    "#seu <- RunTSNE(object = seu,reduction = 'harmony', dims = 1:30)\n",
    "seu <- RunUMAP(object = seu,reduction = 'harmony', dims = 1:30)"
   ]
  },
  {
   "cell_type": "code",
   "execution_count": null,
   "id": "ec7e4d61-fcf0-4d5c-94e2-968eb73c1cd5",
   "metadata": {
    "vscode": {
     "languageId": "r"
    }
   },
   "outputs": [],
   "source": [
    "#DimPlot(object = seu, reduction = 'tsne',label = F, \n",
    "#        pt.size = 0.1)+ theme(aspect.ratio=1)\n",
    "DimPlot(object = seu, reduction = 'umap',label = F, \n",
    "        pt.size = 0.1)+ theme(aspect.ratio=1)"
   ]
  },
  {
   "cell_type": "code",
   "execution_count": null,
   "id": "fae4a56f-5ff7-4a4f-8489-5f34cbbd33c8",
   "metadata": {
    "vscode": {
     "languageId": "r"
    }
   },
   "outputs": [],
   "source": [
    "sample_names<-unique(seu@meta.data$patient)\n",
    "for (i in c(1:length(sample_names))){\n",
    "    highlightcells <- list(WhichCells(object = seu, \n",
    "                                      idents = sample_names[i]))\n",
    "    names(highlightcells) <- sample_names[i]\n",
    "    print(\n",
    "        DimPlot(object = seu, pt.size = 1,reduction = 'umap',\n",
    "                label = F, \n",
    "         cells.highlight = highlightcells,\n",
    "         cols.highlight = scales::hue_pal()(length(sample_names))[i],\n",
    "         sizes.highlight = 1,\n",
    "         #plot.title=sample_names[i]#,\n",
    "                )+ theme(aspect.ratio=1)\n",
    "         ) \n",
    "    \n",
    "}"
   ]
  },
  {
   "cell_type": "code",
   "execution_count": null,
   "id": "25b2221f-1b7f-45b5-939f-92917f65715c",
   "metadata": {
    "vscode": {
     "languageId": "r"
    }
   },
   "outputs": [],
   "source": [
    "marker_qc<-c(\"nFeature_RNA\",\"nCount_RNA\",\"frac.mito\",\"frac.ribo\",\"CD3_count\")\n",
    "for (n in marker_qc){\n",
    "    print(VlnPlot(object = seu, features = n,\n",
    "                  group.by = \"patient\",\n",
    "                  #split.by = \"cellgroup\",\n",
    "                  #x.lab.rot=T, \n",
    "                  #size.x.use = 5,\n",
    "                  pt.size = 0\n",
    "                       )#+ NoLegend()\n",
    "    )\n",
    "\n",
    "    print(FeaturePlot(object = seu,features = n,\n",
    "                  cols = c(\"grey\", \"blue\"),\n",
    "                      order = T,\n",
    "                      reduction = \"umap\",\n",
    "                pt.size=0.1\n",
    "                       ))     \n",
    "    }"
   ]
  },
  {
   "cell_type": "code",
   "execution_count": null,
   "id": "8aebc236-fcbc-4493-8039-e63fa82afdb6",
   "metadata": {
    "vscode": {
     "languageId": "r"
    }
   },
   "outputs": [],
   "source": [
    "seu <- FindNeighbors(object = seu,reduction = 'harmony', dims = 1:30)\n",
    "#!!! Essential step to set the reduction to 'harmony', otherwise the default is PCA and will give big difference of clusters and UMAP\n",
    "#seu <- FindNeighbors(object = seu, dims = 1:30)"
   ]
  },
  {
   "cell_type": "code",
   "execution_count": null,
   "id": "dd7a95d1-4a7b-4113-985a-f917ab2ee63a",
   "metadata": {
    "vscode": {
     "languageId": "r"
    }
   },
   "outputs": [],
   "source": [
    "seu <- FindClusters(object = seu, resolution = 0.1)\n",
    "table(Idents(seu))\n",
    "#DimPlot(object = seu, reduction = 'tsne',label = TRUE, \n",
    "#        pt.size = 0.1,label.size = 6, repel = T) + theme(aspect.ratio=1)\n",
    "DimPlot(object = seu, reduction = 'umap',label = TRUE, \n",
    "        pt.size = 0.1,label.size = 6, repel = T) + theme(aspect.ratio=1)"
   ]
  },
  {
   "cell_type": "code",
   "execution_count": null,
   "id": "b91b06fd-4911-416a-af47-ba4760ccc344",
   "metadata": {
    "vscode": {
     "languageId": "r"
    }
   },
   "outputs": [],
   "source": [
    "seu <- FindClusters(object = seu, resolution = 0.2)\n",
    "table(Idents(seu))\n",
    "#DimPlot(object = seu, reduction = 'tsne',label = TRUE, \n",
    "#        pt.size = 0.1,label.size = 6, repel = T) + theme(aspect.ratio=1)\n",
    "DimPlot(object = seu, reduction = 'umap',label = TRUE, \n",
    "        pt.size = 0.1,label.size = 6, repel = T) + theme(aspect.ratio=1)"
   ]
  },
  {
   "cell_type": "code",
   "execution_count": null,
   "id": "ff8c8d86-37df-4098-aeda-be74b02ce283",
   "metadata": {
    "vscode": {
     "languageId": "r"
    }
   },
   "outputs": [],
   "source": [
    "seu <- FindClusters(object = seu, resolution = 0.3)\n",
    "table(Idents(seu))\n",
    "#DimPlot(object = seu, reduction = 'tsne',label = TRUE, \n",
    "#        pt.size = 0.1,label.size = 6, repel = T) + theme(aspect.ratio=1)\n",
    "DimPlot(object = seu, reduction = 'umap',label = TRUE, \n",
    "        pt.size = 0.1,label.size = 6, repel = T) + theme(aspect.ratio=1)"
   ]
  },
  {
   "cell_type": "code",
   "execution_count": null,
   "id": "ac6d964b-76d0-4f2c-a459-ad174a8735fb",
   "metadata": {
    "vscode": {
     "languageId": "r"
    }
   },
   "outputs": [],
   "source": [
    "seu <- FindClusters(object = seu, resolution = 0.4)\n",
    "table(Idents(seu))\n",
    "#DimPlot(object = seu, reduction = 'tsne',label = TRUE, \n",
    "#        pt.size = 0.1,label.size = 6, repel = T) + theme(aspect.ratio=1)\n",
    "DimPlot(object = seu, reduction = 'umap',label = TRUE, \n",
    "        pt.size = 0.1,label.size = 6, repel = T) + theme(aspect.ratio=1)"
   ]
  },
  {
   "cell_type": "code",
   "execution_count": null,
   "id": "cc531f8d-eca8-42bd-95d2-4c4f7aa64040",
   "metadata": {
    "vscode": {
     "languageId": "r"
    }
   },
   "outputs": [],
   "source": [
    "seu <- FindClusters(object = seu, resolution = 0.5)\n",
    "table(Idents(seu))\n",
    "#DimPlot(object = seu, reduction = 'tsne',label = TRUE, \n",
    "#        pt.size = 0.1,label.size = 6, repel = T) + theme(aspect.ratio=1)\n",
    "DimPlot(object = seu, reduction = 'umap',label = TRUE, \n",
    "        pt.size = 0.1,label.size = 6, repel = T) + theme(aspect.ratio=1)"
   ]
  },
  {
   "cell_type": "code",
   "execution_count": null,
   "id": "ce03f4ac-4648-47de-9473-933df31e9987",
   "metadata": {
    "vscode": {
     "languageId": "r"
    }
   },
   "outputs": [],
   "source": [
    "seu <- FindClusters(object = seu, resolution = 0.6)\n",
    "table(Idents(seu))\n",
    "#DimPlot(object = seu, reduction = 'tsne',label = TRUE, \n",
    "#        pt.size = 0.1,label.size = 6, repel = T) + theme(aspect.ratio=1)\n",
    "DimPlot(object = seu, reduction = 'umap',label = TRUE, \n",
    "        pt.size = 0.1,label.size = 6, repel = T) + theme(aspect.ratio=1)"
   ]
  },
  {
   "cell_type": "code",
   "execution_count": null,
   "id": "808a94d0-399d-46de-b177-624b34bb92ad",
   "metadata": {
    "vscode": {
     "languageId": "r"
    }
   },
   "outputs": [],
   "source": [
    "########################"
   ]
  },
  {
   "cell_type": "code",
   "execution_count": null,
   "id": "7f7c8966-5a8f-432f-ad33-9d29e3134121",
   "metadata": {
    "vscode": {
     "languageId": "r"
    }
   },
   "outputs": [],
   "source": []
  },
  {
   "cell_type": "code",
   "execution_count": null,
   "id": "5d5480bb-786f-4a31-a7b7-bcf022de3852",
   "metadata": {
    "vscode": {
     "languageId": "r"
    }
   },
   "outputs": [],
   "source": []
  },
  {
   "cell_type": "code",
   "execution_count": null,
   "id": "5e1c500b-7394-4755-b30a-963ac42ddf0f",
   "metadata": {
    "vscode": {
     "languageId": "r"
    }
   },
   "outputs": [],
   "source": [
    "seu <- FindClusters(object = seu, resolution = 0.1)\n",
    "table(Idents(seu))\n",
    "#DimPlot(object = seu, reduction = 'tsne',label = TRUE, \n",
    "#        pt.size = 0.1,label.size = 6, repel = T) + theme(aspect.ratio=1)\n",
    "DimPlot(object = seu, reduction = 'umap',label = TRUE, \n",
    "        pt.size = 0.1,label.size = 6, repel = T) + theme(aspect.ratio=1)"
   ]
  },
  {
   "cell_type": "code",
   "execution_count": null,
   "id": "19ff4a6a-fb9d-4fe9-bb50-1f92d9ddd1ec",
   "metadata": {
    "vscode": {
     "languageId": "r"
    }
   },
   "outputs": [],
   "source": [
    "# find markers for every cluster compared to all remaining cells, report only the positive ones\n",
    "seu.markers <- FindAllMarkers(object = seu, only.pos = TRUE, \n",
    "                              min.pct = 0.25, logfc.threshold = 0.5)\n",
    "#logfc.threshold=0.25 (default) instead of old version thresh.use=0.25\n",
    "head(seu.markers)\n",
    "dim(seu.markers)"
   ]
  },
  {
   "cell_type": "code",
   "execution_count": null,
   "id": "0627c5aa-cc42-4a73-9af8-42322a01f05e",
   "metadata": {
    "vscode": {
     "languageId": "r"
    }
   },
   "outputs": [],
   "source": [
    "top3 <- seu.markers %>% group_by(cluster) %>% top_n(3, avg_log2FC)\n",
    "top5 <- seu.markers %>% group_by(cluster) %>% top_n(5, avg_log2FC)\n",
    "top10 <- seu.markers %>% group_by(cluster) %>% top_n(10, avg_log2FC)"
   ]
  },
  {
   "cell_type": "code",
   "execution_count": null,
   "id": "9adfe61f-8a0b-45ce-9886-baa82e1790a6",
   "metadata": {
    "tags": [],
    "vscode": {
     "languageId": "r"
    }
   },
   "outputs": [],
   "source": [
    "plt1<-DotPlot(seu, features = unique(top5$gene),\n",
    "              dot.scale = 2\n",
    "              #scale.by = \"size\"\n",
    "             ) + coord_flip()+\n",
    "theme(#strip.background = element_blank(),\n",
    "    axis.title = element_blank(),\n",
    "    axis.text.x = element_text(size = 8,angle = 45,hjust = 1),\n",
    "    axis.text.y = element_text(size = 8),\n",
    "     legend.position = \"right\",\n",
    "     #legend.spacing = unit(0, \"mm\"),\n",
    "     legend.direction = \"vertical\",\n",
    "        legend.text = element_text(size=5),\n",
    "        legend.key.width = unit(2, \"mm\"),\n",
    "        legend.key.height = unit(2, \"mm\"),\n",
    "        legend.box.spacing = unit(1, \"mm\"),\n",
    "        legend.margin = margin(2),\n",
    "        legend.title = element_text(size = 7,angle = 90)\n",
    ")\n",
    "plt1"
   ]
  },
  {
   "cell_type": "code",
   "execution_count": null,
   "id": "653bfb51-1749-4026-91cc-1e064c32cc3c",
   "metadata": {
    "vscode": {
     "languageId": "r"
    }
   },
   "outputs": [],
   "source": [
    "top10"
   ]
  },
  {
   "cell_type": "code",
   "execution_count": null,
   "id": "f5cc2a52-9280-49a3-958f-019f37c6bcde",
   "metadata": {
    "vscode": {
     "languageId": "r"
    }
   },
   "outputs": [],
   "source": [
    "DefaultAssay(seu) <- \"CITE\"\n",
    "seu<- NormalizeData(object = seu,\n",
    "                     normalization.method = \"LogNormalize\",\n",
    "                     scale.factor = 10000)"
   ]
  },
  {
   "cell_type": "code",
   "execution_count": null,
   "id": "7ba7db03-05fe-4f9a-b798-79e9a3bf004e",
   "metadata": {
    "vscode": {
     "languageId": "r"
    }
   },
   "outputs": [],
   "source": [
    "#FeatureScatter(seu, feature1 = \"cite_CD4\", feature2 = \"cite_CD8\")\n",
    "#FeatureScatter(seu, feature1 = \"cite_CD4\", feature2 = \"cite_CD8\",\n",
    "#              slot = \"counts\")"
   ]
  },
  {
   "cell_type": "code",
   "execution_count": null,
   "id": "2559a4b9-1f31-41a6-8d62-62662b66f5fc",
   "metadata": {
    "vscode": {
     "languageId": "r"
    }
   },
   "outputs": [],
   "source": [
    "CITE_gene<-\n",
    "c(\n",
    "\"cite_CD45\",\n",
    "\"cite_CD3\",\n",
    "\"cite_CD4\",\n",
    "\"cite_CD8\",\n",
    "\"cite_TCRab\",\n",
    "\"cite_TCRgd\",\n",
    "\"cite_TCRVa7.2\",\n",
    "\"cite_TCRVa24Ja18\",\n",
    "\"cite_CD45RA\",\n",
    "\"cite_CD45RO\",\n",
    "\"cite_PDL1\",\n",
    "\"cite_CD154\",\n",
    "\"cite_CD56\",\n",
    "\"cite_CD14\",\n",
    "\"cite_CD19\",\n",
    "\"cite_HLAABC\",\n",
    "\"cite_CD7\",\n",
    "\"cite_CD49f\",\n",
    "\"cite_CD25\",\n",
    "\"cite_TIGIT\",\n",
    "\"cite_CTLA4\",\n",
    "\"cite_CD31\",\n",
    "\"cite_CD44\",\n",
    "\"cite_PDPN\",\n",
    "\"cite_CD103\",\n",
    "\"cite_CD69\",\n",
    "\"cite_CD62L\",\n",
    "\"cite_CD161\",\n",
    "\"cite_LAG3\",\n",
    "\"cite_CD27\",\n",
    "\"cite_LAMP1\",\n",
    "\"cite_HLADR\",\n",
    "\"cite_NKG2D\",\n",
    "\"cite_CD57\",\n",
    "\"cite_KLRG1\",\n",
    "\"cite_CD38\",\n",
    "\"cite_CD127\",\n",
    "\"cite_CD169\")"
   ]
  },
  {
   "cell_type": "code",
   "execution_count": null,
   "id": "b3aa726f-c934-4479-afa6-9c0ed18a4372",
   "metadata": {
    "vscode": {
     "languageId": "r"
    }
   },
   "outputs": [],
   "source": [
    "cite_gene<-\n",
    "c(\n",
    "\"CD45\",\n",
    "\"CD3\",\n",
    "\"CD4\",\n",
    "\"CD8\",\n",
    "\"TCRab\",\n",
    "\"TCRgd\",\n",
    "\"TCRVa7.2\",\n",
    "\"TCRVa24Ja18\",\n",
    "\"CD45RA\",\n",
    "\"CD45RO\",\n",
    "\"PDL1\",\n",
    "\"CD154\",\n",
    "\"CD56\",\n",
    "\"CD14\",\n",
    "\"CD19\",\n",
    "\"HLAABC\",\n",
    "\"CD7\",\n",
    "\"CD49f\",\n",
    "\"CD25\",\n",
    "\"TIGIT\",\n",
    "\"CTLA4\",\n",
    "\"CD31\",\n",
    "\"CD44\",\n",
    "\"PDPN\",\n",
    "\"CD103\",\n",
    "\"CD69\",\n",
    "\"CD62L\",\n",
    "\"CD161\",\n",
    "\"LAG3\",\n",
    "\"CD27\",\n",
    "\"LAMP1\",\n",
    "\"HLADR\",\n",
    "\"NKG2D\",\n",
    "\"CD57\",\n",
    "\"KLRG1\",\n",
    "\"CD38\",\n",
    "\"CD127\",\n",
    "\"CD169\")"
   ]
  },
  {
   "cell_type": "code",
   "execution_count": null,
   "id": "fb7561af-6058-4b77-bbb7-b918ce5a53a4",
   "metadata": {
    "vscode": {
     "languageId": "r"
    }
   },
   "outputs": [],
   "source": [
    "seu@assays"
   ]
  },
  {
   "cell_type": "code",
   "execution_count": null,
   "id": "658aa44c-7f60-4da8-af4d-44aab4d81ed4",
   "metadata": {
    "vscode": {
     "languageId": "r"
    }
   },
   "outputs": [],
   "source": [
    "#DefaultAssay(seu) <- \"CITE\"\n",
    "#seu<- NormalizeData(object = seu,\n",
    "#                     normalization.method = \"LogNormalize\",\n",
    "#                     scale.factor = 10000)"
   ]
  },
  {
   "cell_type": "code",
   "execution_count": null,
   "id": "59c5c480-32a7-4ca8-8d26-0e0246d664bd",
   "metadata": {
    "collapsed": true,
    "jupyter": {
     "outputs_hidden": true
    },
    "tags": [],
    "vscode": {
     "languageId": "r"
    }
   },
   "outputs": [],
   "source": [
    "for (n in cite_gene){\n",
    "    print(FeaturePlot(object = seu,features = n,\n",
    "                  cols = c(\"lightgrey\", \"blue\"),\n",
    "                      order = T,\n",
    "                      slot = \"data\",\n",
    "                      #min.cutoff = \"q05\", max.cutoff = \"q95\",\n",
    "                      reduction = \"umap\",\n",
    "                pt.size=1\n",
    "                       ))   \n",
    "      print(VlnPlot(object = seu, features = n,\n",
    "                 #group.by = \"sample\",\n",
    "                 #x.lab.rot=T, \n",
    "                 #size.x.use = 5,\n",
    "                 pt.size = 0.01\n",
    "                      )+NoLegend()\n",
    "   )\n",
    "   #print(RidgePlot(seu, \n",
    "   #          features = n))\n",
    "\n",
    "    }"
   ]
  },
  {
   "cell_type": "code",
   "execution_count": null,
   "id": "b15ad07d-b41d-47f5-ace7-2555d579b66f",
   "metadata": {
    "vscode": {
     "languageId": "r"
    }
   },
   "outputs": [],
   "source": [
    "DefaultAssay(seu)<-'RNA'"
   ]
  },
  {
   "cell_type": "code",
   "execution_count": null,
   "id": "6aec9202-7f77-4906-9bbe-f113231115d0",
   "metadata": {
    "vscode": {
     "languageId": "r"
    }
   },
   "outputs": [],
   "source": [
    "DefaultAssay(seu)<-'RNA'\n",
    "# Search for known marker genes in seu\n",
    "leukos <- c(\"PTPRC\") \n",
    "Tcells <- c(\"CD3G\",\"CD3D\",\"CD3E\")\n",
    "CD4<-c(\"CD4\")\n",
    "CD8 <- c(\"CD8A\", \"CD8B\")\n",
    "Naive<-c(\"LEF1\",\"TCF7\",\"LTB\")\n",
    "CM<-c(\"CCR7\",\"SELL\",\"KLF2\",\"S1PR1\")\n",
    "RM<-c(\"CXCR6\",\"CD69\",\"ITGAE\",\"RGS1\")\n",
    "Th1 <- c(\"CXCR3\",\"TBX21\", \"IFNG\", \"TNF\",\"CSF2\")\n",
    "Th2 <- c(\"GATA3\", \"IL4\", \"IL5\", \"IL13\") \n",
    "Th17 <- c(\"CCR6\",\"RORC\",\"IL17A\",\"IL17F\", \"IL23R\") \n",
    "Tr1<-c(\"IL10\",\"ITGA2\",\"LAG3\",\"HAVCR2\")#,\"Ahr\",\"Irf4\",\"Prdm1\",\"Maf\")\n",
    "Tregs <- c(\"FOXP3\", \"IL2RA\", \"CTLA4\",\"IKZF2\",\"TIGIT\")\n",
    "Tfh<-c('IL21','POU2AF1','CXCR5','BCL6','ASCL2','CD200','ID3','ICOS','ICOSLG')\n",
    "CTL<-c(\"PRF1\", \"GZMB\",\"GZMK\",\"GZMA\",\"GZMH\",\"GNLY\")\n",
    "NK <- c(\"NKG7\",\"KLRC1\",\"KLRD1\",\"KLRF1\",\"KLRB1\",\"NCR1\",\"NCAM1\",\"FGFBP2\",\"XCL1\",\"XCL2\")\n",
    "Tgd<- c(\"TRDV2\",\"TRGV9\")\n",
    "MAIT<-c(\"TRAV1-2\")\n",
    "Prolif<-c(\"STMN1\",\"MKI67\",\"TOP2A\")\n",
    "\n",
    "known_markers<-list(\n",
    "leukos,\n",
    "Tcells,\n",
    "CD4,\n",
    "CD8,\n",
    "CTL,\n",
    "NK,\n",
    "Naive,\n",
    "CM,\n",
    "RM,\n",
    "Th1,\n",
    "Tr1,\n",
    "Th2,\n",
    "Th17,\n",
    "MAIT,\n",
    "Tgd,\n",
    "Tregs,\n",
    "Tfh,\n",
    "Prolif\n",
    ")\n",
    "known_markers\n",
    "\n",
    "marker_gene_list<-known_markers\n",
    "length(unlist(marker_gene_list))\n",
    "marker_gene_list_expressed <- intersect(unlist(marker_gene_list), rownames(GetAssayData(seu)))\n",
    "length(marker_gene_list_expressed)\n",
    "setdiff(unlist(marker_gene_list),marker_gene_list_expressed)"
   ]
  },
  {
   "cell_type": "code",
   "execution_count": null,
   "id": "c1c2f89a-80a0-4d30-a167-9f0f755e254d",
   "metadata": {
    "tags": [],
    "vscode": {
     "languageId": "r"
    }
   },
   "outputs": [],
   "source": [
    "for (n in marker_gene_list_expressed){\n",
    "    print(FeaturePlot(object = seu,features = n,\n",
    "                  cols = c(\"lightgrey\", \"blue\"),\n",
    "                      order = T,\n",
    "                      slot = \"data\",\n",
    "                      #min.cutoff = \"q05\", max.cutoff = \"q95\",\n",
    "                      reduction = \"umap\",\n",
    "                pt.size=1\n",
    "                       ))   \n",
    "      print(VlnPlot(object = seu, features = n,\n",
    "                 #group.by = \"sample\",\n",
    "                 #x.lab.rot=T, \n",
    "                 #size.x.use = 5,\n",
    "                 pt.size = 0.01\n",
    "                      )+NoLegend()\n",
    "   )\n",
    "          print(VlnPlot(object = seu, features = n,\n",
    "                 #group.by = \"sample\",\n",
    "                 #x.lab.rot=T, \n",
    "                 #size.x.use = 5,\n",
    "                 pt.size = 0\n",
    "                      )+NoLegend()\n",
    "   )\n",
    "   #print(RidgePlot(seu, \n",
    "   #          features = n))\n",
    "\n",
    "    }"
   ]
  },
  {
   "cell_type": "code",
   "execution_count": null,
   "id": "cbe48d28-d787-4a89-998e-e5b7c1a39b9a",
   "metadata": {
    "vscode": {
     "languageId": "r"
    }
   },
   "outputs": [],
   "source": [
    "DimPlot(object = seu, reduction = 'umap',label = TRUE, \n",
    "        pt.size = 0.1,label.size = 6, repel = T) + theme(aspect.ratio=1)"
   ]
  },
  {
   "cell_type": "code",
   "execution_count": null,
   "id": "7bd01a72-7bb2-4661-89af-447c3a14d4c9",
   "metadata": {
    "vscode": {
     "languageId": "r"
    }
   },
   "outputs": [],
   "source": []
  },
  {
   "cell_type": "code",
   "execution_count": null,
   "id": "f6185527-e7b2-4527-810b-db692a712d6d",
   "metadata": {
    "vscode": {
     "languageId": "r"
    }
   },
   "outputs": [],
   "source": [
    "seu_T<-subset(seu, subset = UMAP_1 < 8 & UMAP_2 < 5)\n",
    "seu_T"
   ]
  },
  {
   "cell_type": "code",
   "execution_count": null,
   "id": "4c7c2bad-a1ee-4ba7-add9-36cc2783bfe1",
   "metadata": {
    "vscode": {
     "languageId": "r"
    }
   },
   "outputs": [],
   "source": [
    "DimPlot(object = seu_T, reduction = 'umap',label = TRUE, \n",
    "        pt.size = 0.1,label.size = 6, repel = T) + theme(aspect.ratio=1)"
   ]
  },
  {
   "cell_type": "code",
   "execution_count": null,
   "id": "b24d3dbb-dc73-489e-942e-bbf5cd783b6c",
   "metadata": {
    "vscode": {
     "languageId": "r"
    }
   },
   "outputs": [],
   "source": [
    "save_path = paste0(save_dir,\"/\",samples_ID, \"_T.rds\")\n",
    "saveRDS(seu_T, file = save_path)"
   ]
  }
 ],
 "metadata": {
  "kernelspec": {
   "display_name": "R",
   "language": "R",
   "name": "ir"
  },
  "language_info": {
   "codemirror_mode": "r",
   "file_extension": ".r",
   "mimetype": "text/x-r-source",
   "name": "R",
   "pygments_lexer": "r",
   "version": "4.1.1"
  }
 },
 "nbformat": 4,
 "nbformat_minor": 5
}
