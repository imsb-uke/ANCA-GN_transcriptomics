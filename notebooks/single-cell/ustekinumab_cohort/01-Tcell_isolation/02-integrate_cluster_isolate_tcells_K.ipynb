{
 "cells": [
  {
   "cell_type": "code",
   "execution_count": null,
   "id": "a8bc9dd0-84a8-469d-8097-613d901938cd",
   "metadata": {
    "vscode": {
     "languageId": "r"
    }
   },
   "outputs": [],
   "source": [
    "setwd(\"../../../../\")"
   ]
  },
  {
   "cell_type": "code",
   "execution_count": null,
   "id": "6e1150e0-5c62-408b-a3b7-e5cc4e629e25",
   "metadata": {
    "vscode": {
     "languageId": "r"
    }
   },
   "outputs": [],
   "source": [
    "RhpcBLASctl::blas_set_num_threads(1)\n",
    "library(Seurat)\n",
    "library(dplyr)\n",
    "#library(tidyverse)\n",
    "library(here)\n",
    "#library(readxl)\n",
    "#library(Matrix)\n",
    "library(IMSBSeuratHelpers)\n",
    "library(ggplot2)\n",
    "#library(sctransform)\n",
    "library(future)\n",
    "library(data.table)\n",
    "library(xlsx)\n",
    "#plan(\"multiprocess\", workers = 20)\n",
    "options(future.globals.maxSize = 20 * 1000 * 1024^2)#20GB\n",
    "options(repr.matrix.max.rows=600, repr.matrix.max.cols=200)"
   ]
  },
  {
   "cell_type": "code",
   "execution_count": null,
   "id": "d1e7b333-ffcc-4a51-9304-0c0fb5177b26",
   "metadata": {
    "vscode": {
     "languageId": "r"
    }
   },
   "outputs": [],
   "source": [
    "#library(devtools)\n",
    "#install_github(\"immunogenomics/harmony\")"
   ]
  },
  {
   "cell_type": "code",
   "execution_count": null,
   "id": "7bcb8cee-e4dd-4e0f-9250-4056ebbb9338",
   "metadata": {
    "vscode": {
     "languageId": "r"
    }
   },
   "outputs": [],
   "source": [
    "library(harmony)"
   ]
  },
  {
   "cell_type": "code",
   "execution_count": null,
   "id": "0d319948-61b3-4f80-805d-e1e798eb43ef",
   "metadata": {
    "vscode": {
     "languageId": "r"
    }
   },
   "outputs": [],
   "source": [
    "samples_ID=\"Harmony_Ustekinumab_4PK\""
   ]
  },
  {
   "cell_type": "code",
   "execution_count": null,
   "id": "06795d6b-7913-4d2a-b6ba-603b8ee9be2b",
   "metadata": {
    "vscode": {
     "languageId": "r"
    }
   },
   "outputs": [],
   "source": [
    "ob.list<-list()\n",
    "addlist <- \n",
    "c(\n",
    "'P069',\n",
    "'P094',\n",
    "'P140',\n",
    "'P162')\n",
    "\n",
    "samplelist <- \n",
    "c(\n",
    "'P069_K',\n",
    "'P094_fullCITE_K',\n",
    "'P140K_filtered',\n",
    "'P162K_filtered'\n",
    ")\n",
    "\n",
    "\n",
    "#hvg_names<-c()\n",
    "for (i in 1:length(addlist)) {\n",
    "    patient_ID <- addlist[[i]]\n",
    "    sample_ID <- samplelist[[i]]\n",
    "    ob.list[[i]]<-readRDS(here(\"Prefiltering_objects\",paste0(sample_ID,\".rds\")))\n",
    "    ob.list[[i]]<-RenameCells(ob.list[[i]],\n",
    "                              add.cell.id = paste0(patient_ID,\"K\"))\n",
    "    #ob.list[[i]]@meta.data$patient<-ob.list[[i]]@meta.data$orig.ident\n",
    "    ob.list[[i]]@meta.data$patient<-patient_ID\n",
    "    ob.list[[i]]@meta.data$sample<-paste0(ob.list[[i]]@meta.data$patient,'K')\n",
    "    ob.list[[i]]@meta.data$case<-substr(ob.list[[i]]@meta.data$sample[1], 1,1)\n",
    "    ob.list[[i]]@meta.data$tissue<-substr(ob.list[[i]]@meta.data$sample[1], 5,5)\n",
    "        DefaultAssay(object = ob.list[[i]]) <- \"RNA\"\n",
    "    ob.list[[i]] <- NormalizeData(object = ob.list[[i]],\n",
    "                     normalization.method = \"LogNormalize\",\n",
    "                     scale.factor = 10000)\n",
    "    ob.list[[i]] <- FindVariableFeatures(object = ob.list[[i]], \n",
    "        selection.method = \"vst\", nfeatures = 2000, verbose = FALSE)\n",
    "}\n",
    "ob.list"
   ]
  },
  {
   "cell_type": "code",
   "execution_count": null,
   "id": "59b9442a-7c6d-444e-9039-0a661532df38",
   "metadata": {
    "vscode": {
     "languageId": "r"
    }
   },
   "outputs": [],
   "source": [
    "seurat.combined<-merge(ob.list[[1]],ob.list[-1]#,\n",
    "                       #add.cell.ids = addlist\n",
    "                      )\n",
    "head(seurat.combined@meta.data)\n",
    "tail(seurat.combined@meta.data)"
   ]
  },
  {
   "cell_type": "code",
   "execution_count": null,
   "id": "d85fa347-51e0-4fbe-8590-e76e81e106e6",
   "metadata": {
    "vscode": {
     "languageId": "r"
    }
   },
   "outputs": [],
   "source": [
    "Idents(seurat.combined)<-'patient'\n",
    "levels(seurat.combined)"
   ]
  },
  {
   "cell_type": "code",
   "execution_count": null,
   "id": "bde40c51-d520-47cc-beaf-619ab98624d3",
   "metadata": {
    "vscode": {
     "languageId": "r"
    }
   },
   "outputs": [],
   "source": [
    "# nCells in total \n",
    "paste0(length(ob.list),\" samples,\", nrow(seurat.combined@meta.data),\" cells in total\")\n",
    "sample_nCell<-as.data.frame(table(seurat.combined@meta.data$sample))\n",
    "colnames(sample_nCell)<- c(\"sample\",\"nCells\")\n",
    "rbind(sample_nCell, data.frame(sample='Total', nCells = sum(sample_nCell$nCells)))"
   ]
  },
  {
   "cell_type": "code",
   "execution_count": null,
   "id": "698e72ad-f096-4cf3-bd4e-73118c2cb6e3",
   "metadata": {
    "vscode": {
     "languageId": "r"
    }
   },
   "outputs": [],
   "source": [
    "seu<-seurat.combined\n",
    "seu"
   ]
  },
  {
   "cell_type": "code",
   "execution_count": null,
   "id": "d246c5ba-837a-4712-a034-6471abb2893d",
   "metadata": {
    "vscode": {
     "languageId": "r"
    }
   },
   "outputs": [],
   "source": [
    "seu <- count_fractions(seu,species = \"human\")"
   ]
  },
  {
   "cell_type": "code",
   "execution_count": null,
   "id": "f7d8e721-27b4-47f5-a6d2-562489d957df",
   "metadata": {
    "vscode": {
     "languageId": "r"
    }
   },
   "outputs": [],
   "source": [
    "head(seu@meta.data)\n",
    "tail(seu@meta.data)"
   ]
  },
  {
   "cell_type": "code",
   "execution_count": null,
   "id": "c52d7c2b-9b6e-4494-8721-62d6f737ed7a",
   "metadata": {
    "vscode": {
     "languageId": "r"
    }
   },
   "outputs": [],
   "source": [
    "seu <- ScaleData(seu, features = rownames(seu))"
   ]
  },
  {
   "cell_type": "code",
   "execution_count": null,
   "id": "7f52dc1d-7145-488c-8abc-8dd9e3e3e534",
   "metadata": {
    "vscode": {
     "languageId": "r"
    }
   },
   "outputs": [],
   "source": [
    "seu <- FindVariableFeatures(object = seu, \n",
    "                            selection.method = \"vst\",\n",
    "                            nfeatures = 2000)"
   ]
  },
  {
   "cell_type": "code",
   "execution_count": null,
   "id": "d9e51a18-a048-4338-ae15-f588a89c13f0",
   "metadata": {
    "vscode": {
     "languageId": "r"
    }
   },
   "outputs": [],
   "source": [
    "seu <- RunPCA(object = seu, \n",
    "              features = VariableFeatures(object = seu),\n",
    "              verbose = T)"
   ]
  },
  {
   "cell_type": "code",
   "execution_count": null,
   "id": "65e72666-a220-44c7-95ed-f8b14170dbc6",
   "metadata": {
    "vscode": {
     "languageId": "r"
    }
   },
   "outputs": [],
   "source": [
    "seu <- seu %>% \n",
    "    RunHarmony(\"patient\", dims.use = 1:30,\n",
    "               plot_convergence = TRUE)"
   ]
  },
  {
   "cell_type": "code",
   "execution_count": null,
   "id": "9f1162bc-8233-4b9e-bbbb-e9cff5af2095",
   "metadata": {
    "vscode": {
     "languageId": "r"
    }
   },
   "outputs": [],
   "source": [
    "#seu <- RunTSNE(object = seu,reduction = 'harmony', dims = 1:30)\n",
    "seu <- RunUMAP(object = seu,reduction = 'harmony', dims = 1:30)"
   ]
  },
  {
   "cell_type": "code",
   "execution_count": null,
   "id": "ec7e4d61-fcf0-4d5c-94e2-968eb73c1cd5",
   "metadata": {
    "vscode": {
     "languageId": "r"
    }
   },
   "outputs": [],
   "source": [
    "#DimPlot(object = seu, reduction = 'tsne',label = F, \n",
    "#        pt.size = 0.1)+ theme(aspect.ratio=1)\n",
    "DimPlot(object = seu, reduction = 'umap',label = F, \n",
    "        pt.size = 0.1)+ theme(aspect.ratio=1)"
   ]
  },
  {
   "cell_type": "code",
   "execution_count": null,
   "id": "fae4a56f-5ff7-4a4f-8489-5f34cbbd33c8",
   "metadata": {
    "vscode": {
     "languageId": "r"
    }
   },
   "outputs": [],
   "source": [
    "sample_names<-unique(seu@meta.data$patient)\n",
    "for (i in c(1:length(sample_names))){\n",
    "    highlightcells <- list(WhichCells(object = seu, \n",
    "                                      idents = sample_names[i]))\n",
    "    names(highlightcells) <- sample_names[i]\n",
    "    print(\n",
    "        DimPlot(object = seu, pt.size = 1,reduction = 'umap',\n",
    "                label = F, \n",
    "         cells.highlight = highlightcells,\n",
    "         cols.highlight = scales::hue_pal()(length(sample_names))[i],\n",
    "         sizes.highlight = 1,\n",
    "         #plot.title=sample_names[i]#,\n",
    "                )+ theme(aspect.ratio=1)\n",
    "         ) \n",
    "    \n",
    "}"
   ]
  },
  {
   "cell_type": "code",
   "execution_count": null,
   "id": "25b2221f-1b7f-45b5-939f-92917f65715c",
   "metadata": {
    "vscode": {
     "languageId": "r"
    }
   },
   "outputs": [],
   "source": [
    "marker_qc<-c(\"nFeature_RNA\",\"nCount_RNA\",\"frac.mito\",\"frac.ribo\",\"CD3_count\")\n",
    "for (n in marker_qc){\n",
    "    print(VlnPlot(object = seu, features = n,\n",
    "                  group.by = \"patient\",\n",
    "                  #split.by = \"cellgroup\",\n",
    "                  #x.lab.rot=T, \n",
    "                  #size.x.use = 5,\n",
    "                  pt.size = 0\n",
    "                       )#+ NoLegend()\n",
    "    )\n",
    "\n",
    "    print(FeaturePlot(object = seu,features = n,\n",
    "                  cols = c(\"grey\", \"blue\"),\n",
    "                      order = T,\n",
    "                      reduction = \"umap\",\n",
    "                pt.size=0.1\n",
    "                       ))     \n",
    "    }"
   ]
  },
  {
   "cell_type": "code",
   "execution_count": null,
   "id": "8aebc236-fcbc-4493-8039-e63fa82afdb6",
   "metadata": {
    "vscode": {
     "languageId": "r"
    }
   },
   "outputs": [],
   "source": [
    "seu <- FindNeighbors(object = seu,reduction = 'harmony', dims = 1:30)\n",
    "#!!! Essential step to set the reduction to 'harmony', otherwise the default is PCA and will give big difference of clusters and UMAP\n",
    "#seu <- FindNeighbors(object = seu, dims = 1:30)"
   ]
  },
  {
   "cell_type": "code",
   "execution_count": null,
   "id": "dd7a95d1-4a7b-4113-985a-f917ab2ee63a",
   "metadata": {
    "vscode": {
     "languageId": "r"
    }
   },
   "outputs": [],
   "source": [
    "seu <- FindClusters(object = seu, resolution = 0.1)\n",
    "table(Idents(seu))\n",
    "#DimPlot(object = seu, reduction = 'tsne',label = TRUE, \n",
    "#        pt.size = 0.1,label.size = 6, repel = T) + theme(aspect.ratio=1)\n",
    "DimPlot(object = seu, reduction = 'umap',label = TRUE, \n",
    "        pt.size = 0.1,label.size = 6, repel = T) + theme(aspect.ratio=1)"
   ]
  },
  {
   "cell_type": "code",
   "execution_count": null,
   "id": "b91b06fd-4911-416a-af47-ba4760ccc344",
   "metadata": {
    "vscode": {
     "languageId": "r"
    }
   },
   "outputs": [],
   "source": [
    "seu <- FindClusters(object = seu, resolution = 0.2)\n",
    "table(Idents(seu))\n",
    "#DimPlot(object = seu, reduction = 'tsne',label = TRUE, \n",
    "#        pt.size = 0.1,label.size = 6, repel = T) + theme(aspect.ratio=1)\n",
    "DimPlot(object = seu, reduction = 'umap',label = TRUE, \n",
    "        pt.size = 0.1,label.size = 6, repel = T) + theme(aspect.ratio=1)"
   ]
  },
  {
   "cell_type": "code",
   "execution_count": null,
   "id": "ff8c8d86-37df-4098-aeda-be74b02ce283",
   "metadata": {
    "vscode": {
     "languageId": "r"
    }
   },
   "outputs": [],
   "source": [
    "seu <- FindClusters(object = seu, resolution = 0.3)\n",
    "table(Idents(seu))\n",
    "#DimPlot(object = seu, reduction = 'tsne',label = TRUE, \n",
    "#        pt.size = 0.1,label.size = 6, repel = T) + theme(aspect.ratio=1)\n",
    "DimPlot(object = seu, reduction = 'umap',label = TRUE, \n",
    "        pt.size = 0.1,label.size = 6, repel = T) + theme(aspect.ratio=1)"
   ]
  },
  {
   "cell_type": "code",
   "execution_count": null,
   "id": "ac6d964b-76d0-4f2c-a459-ad174a8735fb",
   "metadata": {
    "vscode": {
     "languageId": "r"
    }
   },
   "outputs": [],
   "source": [
    "seu <- FindClusters(object = seu, resolution = 0.4)\n",
    "table(Idents(seu))\n",
    "#DimPlot(object = seu, reduction = 'tsne',label = TRUE, \n",
    "#        pt.size = 0.1,label.size = 6, repel = T) + theme(aspect.ratio=1)\n",
    "DimPlot(object = seu, reduction = 'umap',label = TRUE, \n",
    "        pt.size = 0.1,label.size = 6, repel = T) + theme(aspect.ratio=1)"
   ]
  },
  {
   "cell_type": "code",
   "execution_count": null,
   "id": "cc531f8d-eca8-42bd-95d2-4c4f7aa64040",
   "metadata": {
    "vscode": {
     "languageId": "r"
    }
   },
   "outputs": [],
   "source": [
    "seu <- FindClusters(object = seu, resolution = 0.5)\n",
    "table(Idents(seu))\n",
    "#DimPlot(object = seu, reduction = 'tsne',label = TRUE, \n",
    "#        pt.size = 0.1,label.size = 6, repel = T) + theme(aspect.ratio=1)\n",
    "DimPlot(object = seu, reduction = 'umap',label = TRUE, \n",
    "        pt.size = 0.1,label.size = 6, repel = T) + theme(aspect.ratio=1)"
   ]
  },
  {
   "cell_type": "code",
   "execution_count": null,
   "id": "ce03f4ac-4648-47de-9473-933df31e9987",
   "metadata": {
    "vscode": {
     "languageId": "r"
    }
   },
   "outputs": [],
   "source": [
    "seu <- FindClusters(object = seu, resolution = 0.6)\n",
    "table(Idents(seu))\n",
    "#DimPlot(object = seu, reduction = 'tsne',label = TRUE, \n",
    "#        pt.size = 0.1,label.size = 6, repel = T) + theme(aspect.ratio=1)\n",
    "DimPlot(object = seu, reduction = 'umap',label = TRUE, \n",
    "        pt.size = 0.1,label.size = 6, repel = T) + theme(aspect.ratio=1)"
   ]
  },
  {
   "cell_type": "code",
   "execution_count": null,
   "id": "808a94d0-399d-46de-b177-624b34bb92ad",
   "metadata": {
    "vscode": {
     "languageId": "r"
    }
   },
   "outputs": [],
   "source": []
  },
  {
   "cell_type": "code",
   "execution_count": null,
   "id": "7f7c8966-5a8f-432f-ad33-9d29e3134121",
   "metadata": {
    "vscode": {
     "languageId": "r"
    }
   },
   "outputs": [],
   "source": []
  },
  {
   "cell_type": "code",
   "execution_count": null,
   "id": "5d5480bb-786f-4a31-a7b7-bcf022de3852",
   "metadata": {
    "vscode": {
     "languageId": "r"
    }
   },
   "outputs": [],
   "source": []
  },
  {
   "cell_type": "code",
   "execution_count": null,
   "id": "5e1c500b-7394-4755-b30a-963ac42ddf0f",
   "metadata": {
    "vscode": {
     "languageId": "r"
    }
   },
   "outputs": [],
   "source": [
    "seu <- FindClusters(object = seu, resolution = 0.6)\n",
    "table(Idents(seu))\n",
    "#DimPlot(object = seu, reduction = 'tsne',label = TRUE, \n",
    "#        pt.size = 0.1,label.size = 6, repel = T) + theme(aspect.ratio=1)\n",
    "DimPlot(object = seu, reduction = 'umap',label = TRUE, \n",
    "        pt.size = 0.1,label.size = 6, repel = T) + theme(aspect.ratio=1)"
   ]
  },
  {
   "cell_type": "code",
   "execution_count": null,
   "id": "19ff4a6a-fb9d-4fe9-bb50-1f92d9ddd1ec",
   "metadata": {
    "vscode": {
     "languageId": "r"
    }
   },
   "outputs": [],
   "source": [
    "# find markers for every cluster compared to all remaining cells, report only the positive ones\n",
    "seu.markers <- FindAllMarkers(object = seu, only.pos = TRUE, \n",
    "                              min.pct = 0.25, logfc.threshold = 0.5)\n",
    "#logfc.threshold=0.25 (default) instead of old version thresh.use=0.25\n",
    "head(seu.markers)\n",
    "dim(seu.markers)"
   ]
  },
  {
   "cell_type": "code",
   "execution_count": null,
   "id": "0627c5aa-cc42-4a73-9af8-42322a01f05e",
   "metadata": {
    "vscode": {
     "languageId": "r"
    }
   },
   "outputs": [],
   "source": [
    "top3 <- seu.markers %>% group_by(cluster) %>% top_n(3, avg_log2FC)\n",
    "top5 <- seu.markers %>% group_by(cluster) %>% top_n(5, avg_log2FC)\n",
    "top10 <- seu.markers %>% group_by(cluster) %>% top_n(10, avg_log2FC)"
   ]
  },
  {
   "cell_type": "code",
   "execution_count": null,
   "id": "5d7bb49e-c66f-4bd5-95e5-3f35ade6b04c",
   "metadata": {
    "vscode": {
     "languageId": "r"
    }
   },
   "outputs": [],
   "source": [
    "top10"
   ]
  },
  {
   "cell_type": "code",
   "execution_count": null,
   "id": "9adfe61f-8a0b-45ce-9886-baa82e1790a6",
   "metadata": {
    "tags": [],
    "vscode": {
     "languageId": "r"
    }
   },
   "outputs": [],
   "source": [
    "plt1<-DotPlot(seu, features = unique(top5$gene),\n",
    "              dot.scale = 2\n",
    "              #scale.by = \"size\"\n",
    "             ) + coord_flip()+\n",
    "theme(#strip.background = element_blank(),\n",
    "    axis.title = element_blank(),\n",
    "    axis.text.x = element_text(size = 8,angle = 45,hjust = 1),\n",
    "    axis.text.y = element_text(size = 8),\n",
    "     legend.position = \"right\",\n",
    "     #legend.spacing = unit(0, \"mm\"),\n",
    "     legend.direction = \"vertical\",\n",
    "        legend.text = element_text(size=5),\n",
    "        legend.key.width = unit(2, \"mm\"),\n",
    "        legend.key.height = unit(2, \"mm\"),\n",
    "        legend.box.spacing = unit(1, \"mm\"),\n",
    "        legend.margin = margin(2),\n",
    "        legend.title = element_text(size = 7,angle = 90)\n",
    ")\n",
    "plt1"
   ]
  },
  {
   "cell_type": "code",
   "execution_count": null,
   "id": "653bfb51-1749-4026-91cc-1e064c32cc3c",
   "metadata": {
    "vscode": {
     "languageId": "r"
    }
   },
   "outputs": [],
   "source": []
  },
  {
   "cell_type": "code",
   "execution_count": null,
   "id": "f5cc2a52-9280-49a3-958f-019f37c6bcde",
   "metadata": {
    "vscode": {
     "languageId": "r"
    }
   },
   "outputs": [],
   "source": [
    "DefaultAssay(seu) <- \"CITE\"\n",
    "seu<- NormalizeData(object = seu,\n",
    "                     normalization.method = \"LogNormalize\",\n",
    "                     scale.factor = 10000)"
   ]
  },
  {
   "cell_type": "code",
   "execution_count": null,
   "id": "7ba7db03-05fe-4f9a-b798-79e9a3bf004e",
   "metadata": {
    "vscode": {
     "languageId": "r"
    }
   },
   "outputs": [],
   "source": [
    "#FeatureScatter(seu, feature1 = \"cite_CD4\", feature2 = \"cite_CD8\")\n",
    "#FeatureScatter(seu, feature1 = \"cite_CD4\", feature2 = \"cite_CD8\",\n",
    "#              slot = \"counts\")"
   ]
  },
  {
   "cell_type": "code",
   "execution_count": null,
   "id": "2559a4b9-1f31-41a6-8d62-62662b66f5fc",
   "metadata": {
    "vscode": {
     "languageId": "r"
    }
   },
   "outputs": [],
   "source": [
    "CITE_gene<-\n",
    "c(\n",
    "\"cite_CD45\",\n",
    "\"cite_CD3\",\n",
    "\"cite_CD4\",\n",
    "\"cite_CD8\",\n",
    "\"cite_TCRab\",\n",
    "\"cite_TCRgd\",\n",
    "\"cite_TCRVa7.2\",\n",
    "\"cite_TCRVa24Ja18\",\n",
    "\"cite_CD45RA\",\n",
    "\"cite_CD45RO\",\n",
    "\"cite_PDL1\",\n",
    "\"cite_CD154\",\n",
    "\"cite_CD56\",\n",
    "\"cite_CD14\",\n",
    "\"cite_CD19\",\n",
    "\"cite_HLAABC\",\n",
    "\"cite_CD7\",\n",
    "\"cite_CD49f\",\n",
    "\"cite_CD25\",\n",
    "\"cite_TIGIT\",\n",
    "\"cite_CTLA4\",\n",
    "\"cite_CD31\",\n",
    "\"cite_CD44\",\n",
    "\"cite_PDPN\",\n",
    "\"cite_CD103\",\n",
    "\"cite_CD69\",\n",
    "\"cite_CD62L\",\n",
    "\"cite_CD161\",\n",
    "\"cite_LAG3\",\n",
    "\"cite_CD27\",\n",
    "\"cite_LAMP1\",\n",
    "\"cite_HLADR\",\n",
    "\"cite_NKG2D\",\n",
    "\"cite_CD57\",\n",
    "\"cite_KLRG1\",\n",
    "\"cite_CD38\",\n",
    "\"cite_CD127\",\n",
    "\"cite_CD169\")"
   ]
  },
  {
   "cell_type": "code",
   "execution_count": null,
   "id": "b3aa726f-c934-4479-afa6-9c0ed18a4372",
   "metadata": {
    "vscode": {
     "languageId": "r"
    }
   },
   "outputs": [],
   "source": [
    "cite_gene<-\n",
    "c(\n",
    "\"CD45\",\n",
    "\"CD3\",\n",
    "\"CD4\",\n",
    "\"CD8\",\n",
    "\"TCRab\",\n",
    "\"TCRgd\",\n",
    "\"TCRVa7.2\",\n",
    "\"TCRVa24Ja18\",\n",
    "\"CD45RA\",\n",
    "\"CD45RO\",\n",
    "\"PDL1\",\n",
    "\"CD154\",\n",
    "\"CD56\",\n",
    "\"CD14\",\n",
    "\"CD19\",\n",
    "\"HLAABC\",\n",
    "\"CD7\",\n",
    "\"CD49f\",\n",
    "\"CD25\",\n",
    "\"TIGIT\",\n",
    "\"CTLA4\",\n",
    "\"CD31\",\n",
    "\"CD44\",\n",
    "\"PDPN\",\n",
    "\"CD103\",\n",
    "\"CD69\",\n",
    "\"CD62L\",\n",
    "\"CD161\",\n",
    "\"LAG3\",\n",
    "\"CD27\",\n",
    "\"LAMP1\",\n",
    "\"HLADR\",\n",
    "\"NKG2D\",\n",
    "\"CD57\",\n",
    "\"KLRG1\",\n",
    "\"CD38\",\n",
    "\"CD127\",\n",
    "\"CD169\")"
   ]
  },
  {
   "cell_type": "code",
   "execution_count": null,
   "id": "fb7561af-6058-4b77-bbb7-b918ce5a53a4",
   "metadata": {
    "vscode": {
     "languageId": "r"
    }
   },
   "outputs": [],
   "source": [
    "seu@assays"
   ]
  },
  {
   "cell_type": "code",
   "execution_count": null,
   "id": "658aa44c-7f60-4da8-af4d-44aab4d81ed4",
   "metadata": {
    "vscode": {
     "languageId": "r"
    }
   },
   "outputs": [],
   "source": [
    "#DefaultAssay(seu) <- \"CITE\"\n",
    "#seu<- NormalizeData(object = seu,\n",
    "#                     normalization.method = \"LogNormalize\",\n",
    "#                     scale.factor = 10000)"
   ]
  },
  {
   "cell_type": "code",
   "execution_count": null,
   "id": "59c5c480-32a7-4ca8-8d26-0e0246d664bd",
   "metadata": {
    "tags": [],
    "vscode": {
     "languageId": "r"
    }
   },
   "outputs": [],
   "source": [
    "for (n in cite_gene){\n",
    "    print(FeaturePlot(object = seu,features = n,\n",
    "                  cols = c(\"lightgrey\", \"blue\"),\n",
    "                      order = T,\n",
    "                      slot = \"data\",\n",
    "                      #min.cutoff = \"q05\", max.cutoff = \"q95\",\n",
    "                      reduction = \"umap\",\n",
    "                pt.size=1\n",
    "                       ))   \n",
    "      print(VlnPlot(object = seu, features = n,\n",
    "                 #group.by = \"sample\",\n",
    "                 #x.lab.rot=T, \n",
    "                 #size.x.use = 5,\n",
    "                 pt.size = 0.01\n",
    "                      )+NoLegend()\n",
    "   )\n",
    "   #print(RidgePlot(seu, \n",
    "   #          features = n))\n",
    "\n",
    "    }"
   ]
  },
  {
   "cell_type": "code",
   "execution_count": null,
   "id": "b15ad07d-b41d-47f5-ace7-2555d579b66f",
   "metadata": {
    "vscode": {
     "languageId": "r"
    }
   },
   "outputs": [],
   "source": [
    "DefaultAssay(seu)<-'RNA'"
   ]
  },
  {
   "cell_type": "code",
   "execution_count": null,
   "id": "6aec9202-7f77-4906-9bbe-f113231115d0",
   "metadata": {
    "vscode": {
     "languageId": "r"
    }
   },
   "outputs": [],
   "source": [
    "DefaultAssay(seu)<-'RNA'\n",
    "# Search for known marker genes in seu\n",
    "leukos <- c(\"PTPRC\") \n",
    "Tcells <- c(\"CD3G\",\"CD3D\",\"CD3E\")\n",
    "CD4<-c(\"CD4\")\n",
    "CD8 <- c(\"CD8A\", \"CD8B\")\n",
    "Naive<-c(\"LEF1\",\"TCF7\",\"LTB\")\n",
    "CM<-c(\"CCR7\",\"SELL\",\"KLF2\",\"S1PR1\")\n",
    "RM<-c(\"CXCR6\",\"CD69\",\"ITGAE\",\"RGS1\")\n",
    "Th1 <- c(\"CXCR3\",\"TBX21\", \"IFNG\", \"TNF\",\"CSF2\")\n",
    "Th2 <- c(\"GATA3\", \"IL4\", \"IL5\", \"IL13\") \n",
    "Th17 <- c(\"CCR6\",\"RORC\",\"IL17A\",\"IL17F\", \"IL23R\") \n",
    "Tr1<-c(\"IL10\",\"ITGA2\",\"LAG3\",\"HAVCR2\")#,\"Ahr\",\"Irf4\",\"Prdm1\",\"Maf\")\n",
    "Tregs <- c(\"FOXP3\", \"IL2RA\", \"CTLA4\",\"IKZF2\",\"TIGIT\")\n",
    "Tfh<-c('IL21','POU2AF1','CXCR5','BCL6','ASCL2','CD200','ID3','ICOS','ICOSLG')\n",
    "CTL<-c(\"PRF1\", \"GZMB\",\"GZMK\",\"GZMA\",\"GZMH\",\"GNLY\")\n",
    "NK <- c(\"NKG7\",\"KLRC1\",\"KLRD1\",\"KLRF1\",\"KLRB1\",\"NCR1\",\"NCAM1\",\"FGFBP2\",\"XCL1\",\"XCL2\")\n",
    "Tgd<- c(\"TRDV2\",\"TRGV9\")\n",
    "MAIT<-c(\"TRAV1-2\")\n",
    "Prolif<-c(\"STMN1\",\"MKI67\",\"TOP2A\")\n",
    "\n",
    "known_markers<-list(\n",
    "leukos,\n",
    "Tcells,\n",
    "CD4,\n",
    "CD8,\n",
    "CTL,\n",
    "NK,\n",
    "Naive,\n",
    "CM,\n",
    "RM,\n",
    "Th1,\n",
    "Tr1,\n",
    "Th2,\n",
    "Th17,\n",
    "MAIT,\n",
    "Tgd,\n",
    "Tregs,\n",
    "Tfh,\n",
    "Prolif\n",
    ")\n",
    "known_markers\n",
    "\n",
    "marker_gene_list<-known_markers\n",
    "length(unlist(marker_gene_list))\n",
    "marker_gene_list_expressed <- intersect(unlist(marker_gene_list), rownames(GetAssayData(seu)))\n",
    "length(marker_gene_list_expressed)\n",
    "setdiff(unlist(marker_gene_list),marker_gene_list_expressed)"
   ]
  },
  {
   "cell_type": "code",
   "execution_count": null,
   "id": "c1c2f89a-80a0-4d30-a167-9f0f755e254d",
   "metadata": {
    "tags": [],
    "vscode": {
     "languageId": "r"
    }
   },
   "outputs": [],
   "source": [
    "for (n in marker_gene_list_expressed){\n",
    "    print(FeaturePlot(object = seu,features = n,\n",
    "                  cols = c(\"lightgrey\", \"blue\"),\n",
    "                      order = T,\n",
    "                      slot = \"data\",\n",
    "                      #min.cutoff = \"q05\", max.cutoff = \"q95\",\n",
    "                      reduction = \"umap\",\n",
    "                pt.size=1\n",
    "                       ))   \n",
    "      print(VlnPlot(object = seu, features = n,\n",
    "                 #group.by = \"sample\",\n",
    "                 #x.lab.rot=T, \n",
    "                 #size.x.use = 5,\n",
    "                 pt.size = 0.01\n",
    "                      )+NoLegend()\n",
    "   )\n",
    "          print(VlnPlot(object = seu, features = n,\n",
    "                 #group.by = \"sample\",\n",
    "                 #x.lab.rot=T, \n",
    "                 #size.x.use = 5,\n",
    "                 pt.size = 0\n",
    "                      )+NoLegend()\n",
    "   )\n",
    "   #print(RidgePlot(seu, \n",
    "   #          features = n))\n",
    "\n",
    "    }"
   ]
  },
  {
   "cell_type": "code",
   "execution_count": null,
   "id": "cbe48d28-d787-4a89-998e-e5b7c1a39b9a",
   "metadata": {
    "vscode": {
     "languageId": "r"
    }
   },
   "outputs": [],
   "source": [
    "DimPlot(object = seu, reduction = 'umap',label = TRUE, \n",
    "        pt.size = 0.1,label.size = 6, repel = T) + theme(aspect.ratio=1)"
   ]
  },
  {
   "cell_type": "code",
   "execution_count": null,
   "id": "7bd01a72-7bb2-4661-89af-447c3a14d4c9",
   "metadata": {
    "vscode": {
     "languageId": "r"
    }
   },
   "outputs": [],
   "source": []
  },
  {
   "cell_type": "code",
   "execution_count": null,
   "id": "029a9773-f441-4458-b1b9-2a3e008d3b96",
   "metadata": {
    "vscode": {
     "languageId": "r"
    }
   },
   "outputs": [],
   "source": [
    "seu_T1<-subset(seu, subset = UMAP_1 > -8 & UMAP_2 > -8)\n",
    "seu_T1"
   ]
  },
  {
   "cell_type": "code",
   "execution_count": null,
   "id": "cd27cbed-76bd-4f56-8f24-0eec8224ad9d",
   "metadata": {
    "vscode": {
     "languageId": "r"
    }
   },
   "outputs": [],
   "source": [
    "DimPlot(object = seu_T1, reduction = 'umap',label = TRUE, \n",
    "        pt.size = 0.1,label.size = 6, repel = T) + theme(aspect.ratio=1)"
   ]
  },
  {
   "cell_type": "code",
   "execution_count": null,
   "id": "f6185527-e7b2-4527-810b-db692a712d6d",
   "metadata": {
    "vscode": {
     "languageId": "r"
    }
   },
   "outputs": [],
   "source": [
    "#seu\n",
    "seu_T<-subset(seu, idents=c(\"7\",\"8\",\"11\",\"12\",\"14\"),invert=TRUE)\n",
    "seu_T"
   ]
  },
  {
   "cell_type": "code",
   "execution_count": null,
   "id": "4c7c2bad-a1ee-4ba7-add9-36cc2783bfe1",
   "metadata": {
    "vscode": {
     "languageId": "r"
    }
   },
   "outputs": [],
   "source": [
    "DimPlot(object = seu_T, reduction = 'umap',label = TRUE, \n",
    "        pt.size = 0.1,label.size = 6, repel = T) + theme(aspect.ratio=1)"
   ]
  },
  {
   "cell_type": "code",
   "execution_count": null,
   "id": "b24d3dbb-dc73-489e-942e-bbf5cd783b6c",
   "metadata": {
    "vscode": {
     "languageId": "r"
    }
   },
   "outputs": [],
   "source": [
    "saveRDS(seu_T1, file = paste0(\"Integrated_objects/\",samples_ID,\"_T.rds\"))"
   ]
  },
  {
   "cell_type": "code",
   "execution_count": null,
   "id": "2de99a9a-c8c2-444c-acdc-39cbc0886b10",
   "metadata": {
    "vscode": {
     "languageId": "r"
    }
   },
   "outputs": [],
   "source": [
    "saveRDS(seu, file = paste0(\"Integrated_objects/\",samples_ID,\"_all.rds\"))"
   ]
  },
  {
   "cell_type": "code",
   "execution_count": null,
   "id": "6779dce5-9c5c-48e6-befe-6f7f5e19cf14",
   "metadata": {
    "vscode": {
     "languageId": "r"
    }
   },
   "outputs": [],
   "source": []
  }
 ],
 "metadata": {
  "kernelspec": {
   "display_name": "R",
   "language": "R",
   "name": "ir"
  },
  "language_info": {
   "codemirror_mode": "r",
   "file_extension": ".r",
   "mimetype": "text/x-r-source",
   "name": "R",
   "pygments_lexer": "r",
   "version": "4.2.2"
  }
 },
 "nbformat": 4,
 "nbformat_minor": 5
}
