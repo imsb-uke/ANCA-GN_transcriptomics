{
 "cells": [
  {
   "cell_type": "code",
   "execution_count": 1,
   "id": "a8bc9dd0-84a8-469d-8097-613d901938cd",
   "metadata": {
    "vscode": {
     "languageId": "r"
    }
   },
   "outputs": [],
   "source": [
    "working_dir <- \"/data/projects/dschaub/ANCA-GN_transcriptomics\"\n",
    "data_dir <- \"/data/projects/dschaub/ANCA-GN_transcriptomics/data/single-cell/ustekinumab/prefiltering_objects\"\n",
    "save_dir <- \"/data/projects/dschaub/ANCA-GN_transcriptomics/data/single-cell/ustekinumab/integrated_objects\""
   ]
  },
  {
   "cell_type": "code",
   "execution_count": 2,
   "id": "6e1150e0-5c62-408b-a3b7-e5cc4e629e25",
   "metadata": {
    "vscode": {
     "languageId": "r"
    }
   },
   "outputs": [
    {
     "name": "stderr",
     "output_type": "stream",
     "text": [
      "Attaching SeuratObject\n",
      "\n",
      "\n",
      "Attaching package: ‘dplyr’\n",
      "\n",
      "\n",
      "The following objects are masked from ‘package:stats’:\n",
      "\n",
      "    filter, lag\n",
      "\n",
      "\n",
      "The following objects are masked from ‘package:base’:\n",
      "\n",
      "    intersect, setdiff, setequal, union\n",
      "\n",
      "\n",
      "here() starts at /data/projects/dschaub/ANCA-GN_transcriptomics\n",
      "\n",
      "\n",
      "Attaching package: ‘data.table’\n",
      "\n",
      "\n",
      "The following objects are masked from ‘package:dplyr’:\n",
      "\n",
      "    between, first, last\n",
      "\n",
      "\n"
     ]
    }
   ],
   "source": [
    "setwd(working_dir)\n",
    "RhpcBLASctl::blas_set_num_threads(1)\n",
    "library(Seurat)\n",
    "library(dplyr)\n",
    "# library(tidyverse)\n",
    "library(here)\n",
    "# library(readxl)\n",
    "# library(Matrix)\n",
    "library(IMSBSeuratHelpers)\n",
    "library(ggplot2)\n",
    "# library(sctransform)\n",
    "library(future)\n",
    "library(data.table)\n",
    "library(xlsx)\n",
    "# plan(\"multiprocess\", workers = 20)\n",
    "options(future.globals.maxSize = 20 * 1000 * 1024^2) # 20GB\n",
    "options(repr.matrix.max.rows = 600, repr.matrix.max.cols = 200)"
   ]
  },
  {
   "cell_type": "code",
   "execution_count": 3,
   "id": "7bcb8cee-e4dd-4e0f-9250-4056ebbb9338",
   "metadata": {
    "vscode": {
     "languageId": "r"
    }
   },
   "outputs": [
    {
     "name": "stderr",
     "output_type": "stream",
     "text": [
      "Loading required package: Rcpp\n",
      "\n"
     ]
    }
   ],
   "source": [
    "library(harmony)"
   ]
  },
  {
   "cell_type": "code",
   "execution_count": 4,
   "id": "0d319948-61b3-4f80-805d-e1e798eb43ef",
   "metadata": {
    "vscode": {
     "languageId": "r"
    }
   },
   "outputs": [],
   "source": [
    "samples_ID <- \"Harmony_Ustekinumab_4PK\""
   ]
  },
  {
   "cell_type": "code",
   "execution_count": 5,
   "id": "06795d6b-7913-4d2a-b6ba-603b8ee9be2b",
   "metadata": {
    "vscode": {
     "languageId": "r"
    }
   },
   "outputs": [
    {
     "name": "stdout",
     "output_type": "stream",
     "text": [
      "[1] \"/data/projects/dschaub/ANCA-GN_transcriptomics/data/single-cell/ustekinumab/prefiltering_objects/T001K.rds\"\n",
      "[1] \"/data/projects/dschaub/ANCA-GN_transcriptomics/data/single-cell/ustekinumab/prefiltering_objects/T002K.rds\"\n",
      "[1] \"/data/projects/dschaub/ANCA-GN_transcriptomics/data/single-cell/ustekinumab/prefiltering_objects/T003K.rds\"\n",
      "[1] \"/data/projects/dschaub/ANCA-GN_transcriptomics/data/single-cell/ustekinumab/prefiltering_objects/T004K.rds\"\n"
     ]
    },
    {
     "data": {
      "text/plain": [
       "[[1]]\n",
       "An object of class Seurat \n",
       "36899 features across 13754 samples within 2 assays \n",
       "Active assay: RNA (36601 features, 2000 variable features)\n",
       " 1 other assay present: CITE\n",
       "\n",
       "[[2]]\n",
       "An object of class Seurat \n",
       "36809 features across 997 samples within 3 assays \n",
       "Active assay: RNA (36601 features, 2000 variable features)\n",
       " 2 other assays present: CITE, HTO\n",
       " 2 dimensional reductions calculated: pca, umap\n",
       "\n",
       "[[3]]\n",
       "An object of class Seurat \n",
       "33581 features across 5568 samples within 3 assays \n",
       "Active assay: RNA (33538 features, 2000 variable features)\n",
       " 2 other assays present: CITE, HTO\n",
       " 2 dimensional reductions calculated: pca, umap\n",
       "\n",
       "[[4]]\n",
       "An object of class Seurat \n",
       "36899 features across 942 samples within 2 assays \n",
       "Active assay: RNA (36601 features, 2000 variable features)\n",
       " 1 other assay present: CITE\n"
      ]
     },
     "metadata": {},
     "output_type": "display_data"
    }
   ],
   "source": [
    "ob.list <- list()\n",
    "addlist <-\n",
    "    c(\n",
    "        \"T001\",\n",
    "        \"T002\",\n",
    "        \"T003\",\n",
    "        \"T004\"\n",
    "    )\n",
    "\n",
    "samplelist <-\n",
    "    c(\n",
    "        \"T001K\",\n",
    "        \"T002K\",\n",
    "        \"T003K\",\n",
    "        \"T004K\"\n",
    "    )\n",
    "\n",
    "\n",
    "# hvg_names<-c()\n",
    "for (i in 1:length(addlist)) {\n",
    "    patient_ID <- addlist[[i]]\n",
    "    sample_ID <- samplelist[[i]]\n",
    "    path <- paste0(data_dir, \"/\", sample_ID, \".rds\")\n",
    "    print(path)\n",
    "    ob.list[[i]] <- readRDS(path)\n",
    "    ob.list[[i]] <- RenameCells(ob.list[[i]],\n",
    "        add.cell.id = paste0(patient_ID, \"K\")\n",
    "    )\n",
    "    ob.list[[i]]@meta.data$patient <- patient_ID\n",
    "    ob.list[[i]]@meta.data$orig.ident <- sample_ID\n",
    "    ob.list[[i]]@meta.data$sample <- paste0(ob.list[[i]]@meta.data$patient, \"K\")\n",
    "    ob.list[[i]]@meta.data$case <- substr(ob.list[[i]]@meta.data$sample[1], 1, 1)\n",
    "    ob.list[[i]]@meta.data$tissue <- substr(ob.list[[i]]@meta.data$sample[1], 5, 5)\n",
    "    DefaultAssay(object = ob.list[[i]]) <- \"RNA\"\n",
    "    ob.list[[i]] <- NormalizeData(\n",
    "        object = ob.list[[i]],\n",
    "        normalization.method = \"LogNormalize\",\n",
    "        scale.factor = 10000\n",
    "    )\n",
    "    ob.list[[i]] <- FindVariableFeatures(\n",
    "        object = ob.list[[i]],\n",
    "        selection.method = \"vst\", nfeatures = 2000, verbose = FALSE\n",
    "    )\n",
    "}\n",
    "ob.list"
   ]
  },
  {
   "cell_type": "code",
   "execution_count": 6,
   "id": "59b9442a-7c6d-444e-9039-0a661532df38",
   "metadata": {
    "vscode": {
     "languageId": "r"
    }
   },
   "outputs": [
    {
     "data": {
      "text/html": [
       "<table class=\"dataframe\">\n",
       "<caption>A data.frame: 6 × 27</caption>\n",
       "<thead>\n",
       "\t<tr><th></th><th scope=col>orig.ident</th><th scope=col>nCount_RNA</th><th scope=col>nFeature_RNA</th><th scope=col>nCount_CITE</th><th scope=col>nFeature_CITE</th><th scope=col>frac.mito</th><th scope=col>frac.ribo</th><th scope=col>Feature_Count_ratio</th><th scope=col>CD3_count</th><th scope=col>patient</th><th scope=col>sample</th><th scope=col>case</th><th scope=col>tissue</th><th scope=col>RNA_snn_res.0.1</th><th scope=col>seurat_clusters</th><th scope=col>RNA_snn_res.0.2</th><th scope=col>RNA_snn_res.0.3</th><th scope=col>RNA_snn_res.0.4</th><th scope=col>RNA_snn_res.0.6</th><th scope=col>nCount_HTO</th><th scope=col>nFeature_HTO</th><th scope=col>HTO_maxID</th><th scope=col>HTO_secondID</th><th scope=col>HTO_margin</th><th scope=col>HTO_classification</th><th scope=col>HTO_classification.global</th><th scope=col>hash.ID</th></tr>\n",
       "\t<tr><th></th><th scope=col>&lt;chr&gt;</th><th scope=col>&lt;dbl&gt;</th><th scope=col>&lt;int&gt;</th><th scope=col>&lt;dbl&gt;</th><th scope=col>&lt;int&gt;</th><th scope=col>&lt;dbl&gt;</th><th scope=col>&lt;dbl&gt;</th><th scope=col>&lt;dbl&gt;</th><th scope=col>&lt;dbl&gt;</th><th scope=col>&lt;chr&gt;</th><th scope=col>&lt;chr&gt;</th><th scope=col>&lt;chr&gt;</th><th scope=col>&lt;chr&gt;</th><th scope=col>&lt;chr&gt;</th><th scope=col>&lt;chr&gt;</th><th scope=col>&lt;chr&gt;</th><th scope=col>&lt;chr&gt;</th><th scope=col>&lt;chr&gt;</th><th scope=col>&lt;chr&gt;</th><th scope=col>&lt;dbl&gt;</th><th scope=col>&lt;int&gt;</th><th scope=col>&lt;chr&gt;</th><th scope=col>&lt;chr&gt;</th><th scope=col>&lt;dbl&gt;</th><th scope=col>&lt;chr&gt;</th><th scope=col>&lt;chr&gt;</th><th scope=col>&lt;chr&gt;</th></tr>\n",
       "</thead>\n",
       "<tbody>\n",
       "\t<tr><th scope=row>T001K_AAACCTGAGACGCAAC-1</th><td>T001K</td><td>2531</td><td>1504</td><td>965</td><td>94</td><td>0.04543659</td><td>0.05175820</td><td>0.5942315</td><td> 1</td><td>T001</td><td>T001K</td><td>T</td><td>K</td><td>NA</td><td>NA</td><td>NA</td><td>NA</td><td>NA</td><td>NA</td><td>NA</td><td>NA</td><td>NA</td><td>NA</td><td>NA</td><td>NA</td><td>NA</td><td>NA</td></tr>\n",
       "\t<tr><th scope=row>T001K_AAACCTGAGACGCACA-1</th><td>T001K</td><td> 739</td><td> 511</td><td>437</td><td>65</td><td>0.06630582</td><td>0.00811908</td><td>0.6914750</td><td> 0</td><td>T001</td><td>T001K</td><td>T</td><td>K</td><td>NA</td><td>NA</td><td>NA</td><td>NA</td><td>NA</td><td>NA</td><td>NA</td><td>NA</td><td>NA</td><td>NA</td><td>NA</td><td>NA</td><td>NA</td><td>NA</td></tr>\n",
       "\t<tr><th scope=row>T001K_AAACCTGAGAGCTGGT-1</th><td>T001K</td><td>3600</td><td>1578</td><td>860</td><td>89</td><td>0.01666667</td><td>0.25694444</td><td>0.4383333</td><td>10</td><td>T001</td><td>T001K</td><td>T</td><td>K</td><td>NA</td><td>NA</td><td>NA</td><td>NA</td><td>NA</td><td>NA</td><td>NA</td><td>NA</td><td>NA</td><td>NA</td><td>NA</td><td>NA</td><td>NA</td><td>NA</td></tr>\n",
       "\t<tr><th scope=row>T001K_AAACCTGAGATCGATA-1</th><td>T001K</td><td>2142</td><td>1105</td><td>354</td><td>75</td><td>0.01774043</td><td>0.25303455</td><td>0.5158730</td><td> 6</td><td>T001</td><td>T001K</td><td>T</td><td>K</td><td>NA</td><td>NA</td><td>NA</td><td>NA</td><td>NA</td><td>NA</td><td>NA</td><td>NA</td><td>NA</td><td>NA</td><td>NA</td><td>NA</td><td>NA</td><td>NA</td></tr>\n",
       "\t<tr><th scope=row>T001K_AAACCTGAGTCGTACT-1</th><td>T001K</td><td>1484</td><td> 839</td><td>406</td><td>71</td><td>0.03638814</td><td>0.15498652</td><td>0.5653639</td><td> 7</td><td>T001</td><td>T001K</td><td>T</td><td>K</td><td>NA</td><td>NA</td><td>NA</td><td>NA</td><td>NA</td><td>NA</td><td>NA</td><td>NA</td><td>NA</td><td>NA</td><td>NA</td><td>NA</td><td>NA</td><td>NA</td></tr>\n",
       "\t<tr><th scope=row>T001K_AAACCTGCAAGCCGTC-1</th><td>T001K</td><td>2188</td><td>1147</td><td>443</td><td>75</td><td>0.02010969</td><td>0.23537477</td><td>0.5242230</td><td> 3</td><td>T001</td><td>T001K</td><td>T</td><td>K</td><td>NA</td><td>NA</td><td>NA</td><td>NA</td><td>NA</td><td>NA</td><td>NA</td><td>NA</td><td>NA</td><td>NA</td><td>NA</td><td>NA</td><td>NA</td><td>NA</td></tr>\n",
       "</tbody>\n",
       "</table>\n"
      ],
      "text/latex": [
       "A data.frame: 6 × 27\n",
       "\\begin{tabular}{r|lllllllllllllllllllllllllll}\n",
       "  & orig.ident & nCount\\_RNA & nFeature\\_RNA & nCount\\_CITE & nFeature\\_CITE & frac.mito & frac.ribo & Feature\\_Count\\_ratio & CD3\\_count & patient & sample & case & tissue & RNA\\_snn\\_res.0.1 & seurat\\_clusters & RNA\\_snn\\_res.0.2 & RNA\\_snn\\_res.0.3 & RNA\\_snn\\_res.0.4 & RNA\\_snn\\_res.0.6 & nCount\\_HTO & nFeature\\_HTO & HTO\\_maxID & HTO\\_secondID & HTO\\_margin & HTO\\_classification & HTO\\_classification.global & hash.ID\\\\\n",
       "  & <chr> & <dbl> & <int> & <dbl> & <int> & <dbl> & <dbl> & <dbl> & <dbl> & <chr> & <chr> & <chr> & <chr> & <chr> & <chr> & <chr> & <chr> & <chr> & <chr> & <dbl> & <int> & <chr> & <chr> & <dbl> & <chr> & <chr> & <chr>\\\\\n",
       "\\hline\n",
       "\tT001K\\_AAACCTGAGACGCAAC-1 & T001K & 2531 & 1504 & 965 & 94 & 0.04543659 & 0.05175820 & 0.5942315 &  1 & T001 & T001K & T & K & NA & NA & NA & NA & NA & NA & NA & NA & NA & NA & NA & NA & NA & NA\\\\\n",
       "\tT001K\\_AAACCTGAGACGCACA-1 & T001K &  739 &  511 & 437 & 65 & 0.06630582 & 0.00811908 & 0.6914750 &  0 & T001 & T001K & T & K & NA & NA & NA & NA & NA & NA & NA & NA & NA & NA & NA & NA & NA & NA\\\\\n",
       "\tT001K\\_AAACCTGAGAGCTGGT-1 & T001K & 3600 & 1578 & 860 & 89 & 0.01666667 & 0.25694444 & 0.4383333 & 10 & T001 & T001K & T & K & NA & NA & NA & NA & NA & NA & NA & NA & NA & NA & NA & NA & NA & NA\\\\\n",
       "\tT001K\\_AAACCTGAGATCGATA-1 & T001K & 2142 & 1105 & 354 & 75 & 0.01774043 & 0.25303455 & 0.5158730 &  6 & T001 & T001K & T & K & NA & NA & NA & NA & NA & NA & NA & NA & NA & NA & NA & NA & NA & NA\\\\\n",
       "\tT001K\\_AAACCTGAGTCGTACT-1 & T001K & 1484 &  839 & 406 & 71 & 0.03638814 & 0.15498652 & 0.5653639 &  7 & T001 & T001K & T & K & NA & NA & NA & NA & NA & NA & NA & NA & NA & NA & NA & NA & NA & NA\\\\\n",
       "\tT001K\\_AAACCTGCAAGCCGTC-1 & T001K & 2188 & 1147 & 443 & 75 & 0.02010969 & 0.23537477 & 0.5242230 &  3 & T001 & T001K & T & K & NA & NA & NA & NA & NA & NA & NA & NA & NA & NA & NA & NA & NA & NA\\\\\n",
       "\\end{tabular}\n"
      ],
      "text/markdown": [
       "\n",
       "A data.frame: 6 × 27\n",
       "\n",
       "| <!--/--> | orig.ident &lt;chr&gt; | nCount_RNA &lt;dbl&gt; | nFeature_RNA &lt;int&gt; | nCount_CITE &lt;dbl&gt; | nFeature_CITE &lt;int&gt; | frac.mito &lt;dbl&gt; | frac.ribo &lt;dbl&gt; | Feature_Count_ratio &lt;dbl&gt; | CD3_count &lt;dbl&gt; | patient &lt;chr&gt; | sample &lt;chr&gt; | case &lt;chr&gt; | tissue &lt;chr&gt; | RNA_snn_res.0.1 &lt;chr&gt; | seurat_clusters &lt;chr&gt; | RNA_snn_res.0.2 &lt;chr&gt; | RNA_snn_res.0.3 &lt;chr&gt; | RNA_snn_res.0.4 &lt;chr&gt; | RNA_snn_res.0.6 &lt;chr&gt; | nCount_HTO &lt;dbl&gt; | nFeature_HTO &lt;int&gt; | HTO_maxID &lt;chr&gt; | HTO_secondID &lt;chr&gt; | HTO_margin &lt;dbl&gt; | HTO_classification &lt;chr&gt; | HTO_classification.global &lt;chr&gt; | hash.ID &lt;chr&gt; |\n",
       "|---|---|---|---|---|---|---|---|---|---|---|---|---|---|---|---|---|---|---|---|---|---|---|---|---|---|---|---|\n",
       "| T001K_AAACCTGAGACGCAAC-1 | T001K | 2531 | 1504 | 965 | 94 | 0.04543659 | 0.05175820 | 0.5942315 |  1 | T001 | T001K | T | K | NA | NA | NA | NA | NA | NA | NA | NA | NA | NA | NA | NA | NA | NA |\n",
       "| T001K_AAACCTGAGACGCACA-1 | T001K |  739 |  511 | 437 | 65 | 0.06630582 | 0.00811908 | 0.6914750 |  0 | T001 | T001K | T | K | NA | NA | NA | NA | NA | NA | NA | NA | NA | NA | NA | NA | NA | NA |\n",
       "| T001K_AAACCTGAGAGCTGGT-1 | T001K | 3600 | 1578 | 860 | 89 | 0.01666667 | 0.25694444 | 0.4383333 | 10 | T001 | T001K | T | K | NA | NA | NA | NA | NA | NA | NA | NA | NA | NA | NA | NA | NA | NA |\n",
       "| T001K_AAACCTGAGATCGATA-1 | T001K | 2142 | 1105 | 354 | 75 | 0.01774043 | 0.25303455 | 0.5158730 |  6 | T001 | T001K | T | K | NA | NA | NA | NA | NA | NA | NA | NA | NA | NA | NA | NA | NA | NA |\n",
       "| T001K_AAACCTGAGTCGTACT-1 | T001K | 1484 |  839 | 406 | 71 | 0.03638814 | 0.15498652 | 0.5653639 |  7 | T001 | T001K | T | K | NA | NA | NA | NA | NA | NA | NA | NA | NA | NA | NA | NA | NA | NA |\n",
       "| T001K_AAACCTGCAAGCCGTC-1 | T001K | 2188 | 1147 | 443 | 75 | 0.02010969 | 0.23537477 | 0.5242230 |  3 | T001 | T001K | T | K | NA | NA | NA | NA | NA | NA | NA | NA | NA | NA | NA | NA | NA | NA |\n",
       "\n"
      ],
      "text/plain": [
       "                         orig.ident nCount_RNA nFeature_RNA nCount_CITE\n",
       "T001K_AAACCTGAGACGCAAC-1 T001K      2531       1504         965        \n",
       "T001K_AAACCTGAGACGCACA-1 T001K       739        511         437        \n",
       "T001K_AAACCTGAGAGCTGGT-1 T001K      3600       1578         860        \n",
       "T001K_AAACCTGAGATCGATA-1 T001K      2142       1105         354        \n",
       "T001K_AAACCTGAGTCGTACT-1 T001K      1484        839         406        \n",
       "T001K_AAACCTGCAAGCCGTC-1 T001K      2188       1147         443        \n",
       "                         nFeature_CITE frac.mito  frac.ribo \n",
       "T001K_AAACCTGAGACGCAAC-1 94            0.04543659 0.05175820\n",
       "T001K_AAACCTGAGACGCACA-1 65            0.06630582 0.00811908\n",
       "T001K_AAACCTGAGAGCTGGT-1 89            0.01666667 0.25694444\n",
       "T001K_AAACCTGAGATCGATA-1 75            0.01774043 0.25303455\n",
       "T001K_AAACCTGAGTCGTACT-1 71            0.03638814 0.15498652\n",
       "T001K_AAACCTGCAAGCCGTC-1 75            0.02010969 0.23537477\n",
       "                         Feature_Count_ratio CD3_count patient sample case\n",
       "T001K_AAACCTGAGACGCAAC-1 0.5942315            1        T001    T001K  T   \n",
       "T001K_AAACCTGAGACGCACA-1 0.6914750            0        T001    T001K  T   \n",
       "T001K_AAACCTGAGAGCTGGT-1 0.4383333           10        T001    T001K  T   \n",
       "T001K_AAACCTGAGATCGATA-1 0.5158730            6        T001    T001K  T   \n",
       "T001K_AAACCTGAGTCGTACT-1 0.5653639            7        T001    T001K  T   \n",
       "T001K_AAACCTGCAAGCCGTC-1 0.5242230            3        T001    T001K  T   \n",
       "                         tissue RNA_snn_res.0.1 seurat_clusters RNA_snn_res.0.2\n",
       "T001K_AAACCTGAGACGCAAC-1 K      NA              NA              NA             \n",
       "T001K_AAACCTGAGACGCACA-1 K      NA              NA              NA             \n",
       "T001K_AAACCTGAGAGCTGGT-1 K      NA              NA              NA             \n",
       "T001K_AAACCTGAGATCGATA-1 K      NA              NA              NA             \n",
       "T001K_AAACCTGAGTCGTACT-1 K      NA              NA              NA             \n",
       "T001K_AAACCTGCAAGCCGTC-1 K      NA              NA              NA             \n",
       "                         RNA_snn_res.0.3 RNA_snn_res.0.4 RNA_snn_res.0.6\n",
       "T001K_AAACCTGAGACGCAAC-1 NA              NA              NA             \n",
       "T001K_AAACCTGAGACGCACA-1 NA              NA              NA             \n",
       "T001K_AAACCTGAGAGCTGGT-1 NA              NA              NA             \n",
       "T001K_AAACCTGAGATCGATA-1 NA              NA              NA             \n",
       "T001K_AAACCTGAGTCGTACT-1 NA              NA              NA             \n",
       "T001K_AAACCTGCAAGCCGTC-1 NA              NA              NA             \n",
       "                         nCount_HTO nFeature_HTO HTO_maxID HTO_secondID\n",
       "T001K_AAACCTGAGACGCAAC-1 NA         NA           NA        NA          \n",
       "T001K_AAACCTGAGACGCACA-1 NA         NA           NA        NA          \n",
       "T001K_AAACCTGAGAGCTGGT-1 NA         NA           NA        NA          \n",
       "T001K_AAACCTGAGATCGATA-1 NA         NA           NA        NA          \n",
       "T001K_AAACCTGAGTCGTACT-1 NA         NA           NA        NA          \n",
       "T001K_AAACCTGCAAGCCGTC-1 NA         NA           NA        NA          \n",
       "                         HTO_margin HTO_classification\n",
       "T001K_AAACCTGAGACGCAAC-1 NA         NA                \n",
       "T001K_AAACCTGAGACGCACA-1 NA         NA                \n",
       "T001K_AAACCTGAGAGCTGGT-1 NA         NA                \n",
       "T001K_AAACCTGAGATCGATA-1 NA         NA                \n",
       "T001K_AAACCTGAGTCGTACT-1 NA         NA                \n",
       "T001K_AAACCTGCAAGCCGTC-1 NA         NA                \n",
       "                         HTO_classification.global hash.ID\n",
       "T001K_AAACCTGAGACGCAAC-1 NA                        NA     \n",
       "T001K_AAACCTGAGACGCACA-1 NA                        NA     \n",
       "T001K_AAACCTGAGAGCTGGT-1 NA                        NA     \n",
       "T001K_AAACCTGAGATCGATA-1 NA                        NA     \n",
       "T001K_AAACCTGAGTCGTACT-1 NA                        NA     \n",
       "T001K_AAACCTGCAAGCCGTC-1 NA                        NA     "
      ]
     },
     "metadata": {},
     "output_type": "display_data"
    },
    {
     "data": {
      "text/html": [
       "<table class=\"dataframe\">\n",
       "<caption>A data.frame: 6 × 27</caption>\n",
       "<thead>\n",
       "\t<tr><th></th><th scope=col>orig.ident</th><th scope=col>nCount_RNA</th><th scope=col>nFeature_RNA</th><th scope=col>nCount_CITE</th><th scope=col>nFeature_CITE</th><th scope=col>frac.mito</th><th scope=col>frac.ribo</th><th scope=col>Feature_Count_ratio</th><th scope=col>CD3_count</th><th scope=col>patient</th><th scope=col>sample</th><th scope=col>case</th><th scope=col>tissue</th><th scope=col>RNA_snn_res.0.1</th><th scope=col>seurat_clusters</th><th scope=col>RNA_snn_res.0.2</th><th scope=col>RNA_snn_res.0.3</th><th scope=col>RNA_snn_res.0.4</th><th scope=col>RNA_snn_res.0.6</th><th scope=col>nCount_HTO</th><th scope=col>nFeature_HTO</th><th scope=col>HTO_maxID</th><th scope=col>HTO_secondID</th><th scope=col>HTO_margin</th><th scope=col>HTO_classification</th><th scope=col>HTO_classification.global</th><th scope=col>hash.ID</th></tr>\n",
       "\t<tr><th></th><th scope=col>&lt;chr&gt;</th><th scope=col>&lt;dbl&gt;</th><th scope=col>&lt;int&gt;</th><th scope=col>&lt;dbl&gt;</th><th scope=col>&lt;int&gt;</th><th scope=col>&lt;dbl&gt;</th><th scope=col>&lt;dbl&gt;</th><th scope=col>&lt;dbl&gt;</th><th scope=col>&lt;dbl&gt;</th><th scope=col>&lt;chr&gt;</th><th scope=col>&lt;chr&gt;</th><th scope=col>&lt;chr&gt;</th><th scope=col>&lt;chr&gt;</th><th scope=col>&lt;chr&gt;</th><th scope=col>&lt;chr&gt;</th><th scope=col>&lt;chr&gt;</th><th scope=col>&lt;chr&gt;</th><th scope=col>&lt;chr&gt;</th><th scope=col>&lt;chr&gt;</th><th scope=col>&lt;dbl&gt;</th><th scope=col>&lt;int&gt;</th><th scope=col>&lt;chr&gt;</th><th scope=col>&lt;chr&gt;</th><th scope=col>&lt;dbl&gt;</th><th scope=col>&lt;chr&gt;</th><th scope=col>&lt;chr&gt;</th><th scope=col>&lt;chr&gt;</th></tr>\n",
       "</thead>\n",
       "<tbody>\n",
       "\t<tr><th scope=row>T004K_TTTGCGCCAAGGTTTC-1</th><td>T004K</td><td>5875</td><td>1875</td><td>1378</td><td>84</td><td>0.02842553</td><td>0.306042553</td><td>0.3191489</td><td>14</td><td>T004</td><td>T004K</td><td>T</td><td>K</td><td>NA</td><td>NA</td><td>NA</td><td>NA</td><td>NA</td><td>NA</td><td>NA</td><td>NA</td><td>NA</td><td>NA</td><td>NA</td><td>NA</td><td>NA</td><td>NA</td></tr>\n",
       "\t<tr><th scope=row>T004K_TTTGGTTAGACAAAGG-1</th><td>T004K</td><td>4536</td><td>1892</td><td>1089</td><td>69</td><td>0.03108466</td><td>0.156084656</td><td>0.4171076</td><td>19</td><td>T004</td><td>T004K</td><td>T</td><td>K</td><td>NA</td><td>NA</td><td>NA</td><td>NA</td><td>NA</td><td>NA</td><td>NA</td><td>NA</td><td>NA</td><td>NA</td><td>NA</td><td>NA</td><td>NA</td><td>NA</td></tr>\n",
       "\t<tr><th scope=row>T004K_TTTGGTTGTAAACCTC-1</th><td>T004K</td><td>1154</td><td> 775</td><td> 843</td><td>55</td><td>0.05979203</td><td>0.003466205</td><td>0.6715771</td><td> 1</td><td>T004</td><td>T004K</td><td>T</td><td>K</td><td>NA</td><td>NA</td><td>NA</td><td>NA</td><td>NA</td><td>NA</td><td>NA</td><td>NA</td><td>NA</td><td>NA</td><td>NA</td><td>NA</td><td>NA</td><td>NA</td></tr>\n",
       "\t<tr><th scope=row>T004K_TTTGGTTTCTCGATGA-1</th><td>T004K</td><td>4776</td><td>1926</td><td>1743</td><td>97</td><td>0.02491625</td><td>0.142378559</td><td>0.4032663</td><td>16</td><td>T004</td><td>T004K</td><td>T</td><td>K</td><td>NA</td><td>NA</td><td>NA</td><td>NA</td><td>NA</td><td>NA</td><td>NA</td><td>NA</td><td>NA</td><td>NA</td><td>NA</td><td>NA</td><td>NA</td><td>NA</td></tr>\n",
       "\t<tr><th scope=row>T004K_TTTGTCACACAGATTC-1</th><td>T004K</td><td>2894</td><td>1278</td><td>1437</td><td>83</td><td>0.04422944</td><td>0.256392536</td><td>0.4416033</td><td> 5</td><td>T004</td><td>T004K</td><td>T</td><td>K</td><td>NA</td><td>NA</td><td>NA</td><td>NA</td><td>NA</td><td>NA</td><td>NA</td><td>NA</td><td>NA</td><td>NA</td><td>NA</td><td>NA</td><td>NA</td><td>NA</td></tr>\n",
       "\t<tr><th scope=row>T004K_TTTGTCAGTTCCGGCA-1</th><td>T004K</td><td>2359</td><td>1091</td><td>1145</td><td>70</td><td>0.04281475</td><td>0.282323018</td><td>0.4624841</td><td> 2</td><td>T004</td><td>T004K</td><td>T</td><td>K</td><td>NA</td><td>NA</td><td>NA</td><td>NA</td><td>NA</td><td>NA</td><td>NA</td><td>NA</td><td>NA</td><td>NA</td><td>NA</td><td>NA</td><td>NA</td><td>NA</td></tr>\n",
       "</tbody>\n",
       "</table>\n"
      ],
      "text/latex": [
       "A data.frame: 6 × 27\n",
       "\\begin{tabular}{r|lllllllllllllllllllllllllll}\n",
       "  & orig.ident & nCount\\_RNA & nFeature\\_RNA & nCount\\_CITE & nFeature\\_CITE & frac.mito & frac.ribo & Feature\\_Count\\_ratio & CD3\\_count & patient & sample & case & tissue & RNA\\_snn\\_res.0.1 & seurat\\_clusters & RNA\\_snn\\_res.0.2 & RNA\\_snn\\_res.0.3 & RNA\\_snn\\_res.0.4 & RNA\\_snn\\_res.0.6 & nCount\\_HTO & nFeature\\_HTO & HTO\\_maxID & HTO\\_secondID & HTO\\_margin & HTO\\_classification & HTO\\_classification.global & hash.ID\\\\\n",
       "  & <chr> & <dbl> & <int> & <dbl> & <int> & <dbl> & <dbl> & <dbl> & <dbl> & <chr> & <chr> & <chr> & <chr> & <chr> & <chr> & <chr> & <chr> & <chr> & <chr> & <dbl> & <int> & <chr> & <chr> & <dbl> & <chr> & <chr> & <chr>\\\\\n",
       "\\hline\n",
       "\tT004K\\_TTTGCGCCAAGGTTTC-1 & T004K & 5875 & 1875 & 1378 & 84 & 0.02842553 & 0.306042553 & 0.3191489 & 14 & T004 & T004K & T & K & NA & NA & NA & NA & NA & NA & NA & NA & NA & NA & NA & NA & NA & NA\\\\\n",
       "\tT004K\\_TTTGGTTAGACAAAGG-1 & T004K & 4536 & 1892 & 1089 & 69 & 0.03108466 & 0.156084656 & 0.4171076 & 19 & T004 & T004K & T & K & NA & NA & NA & NA & NA & NA & NA & NA & NA & NA & NA & NA & NA & NA\\\\\n",
       "\tT004K\\_TTTGGTTGTAAACCTC-1 & T004K & 1154 &  775 &  843 & 55 & 0.05979203 & 0.003466205 & 0.6715771 &  1 & T004 & T004K & T & K & NA & NA & NA & NA & NA & NA & NA & NA & NA & NA & NA & NA & NA & NA\\\\\n",
       "\tT004K\\_TTTGGTTTCTCGATGA-1 & T004K & 4776 & 1926 & 1743 & 97 & 0.02491625 & 0.142378559 & 0.4032663 & 16 & T004 & T004K & T & K & NA & NA & NA & NA & NA & NA & NA & NA & NA & NA & NA & NA & NA & NA\\\\\n",
       "\tT004K\\_TTTGTCACACAGATTC-1 & T004K & 2894 & 1278 & 1437 & 83 & 0.04422944 & 0.256392536 & 0.4416033 &  5 & T004 & T004K & T & K & NA & NA & NA & NA & NA & NA & NA & NA & NA & NA & NA & NA & NA & NA\\\\\n",
       "\tT004K\\_TTTGTCAGTTCCGGCA-1 & T004K & 2359 & 1091 & 1145 & 70 & 0.04281475 & 0.282323018 & 0.4624841 &  2 & T004 & T004K & T & K & NA & NA & NA & NA & NA & NA & NA & NA & NA & NA & NA & NA & NA & NA\\\\\n",
       "\\end{tabular}\n"
      ],
      "text/markdown": [
       "\n",
       "A data.frame: 6 × 27\n",
       "\n",
       "| <!--/--> | orig.ident &lt;chr&gt; | nCount_RNA &lt;dbl&gt; | nFeature_RNA &lt;int&gt; | nCount_CITE &lt;dbl&gt; | nFeature_CITE &lt;int&gt; | frac.mito &lt;dbl&gt; | frac.ribo &lt;dbl&gt; | Feature_Count_ratio &lt;dbl&gt; | CD3_count &lt;dbl&gt; | patient &lt;chr&gt; | sample &lt;chr&gt; | case &lt;chr&gt; | tissue &lt;chr&gt; | RNA_snn_res.0.1 &lt;chr&gt; | seurat_clusters &lt;chr&gt; | RNA_snn_res.0.2 &lt;chr&gt; | RNA_snn_res.0.3 &lt;chr&gt; | RNA_snn_res.0.4 &lt;chr&gt; | RNA_snn_res.0.6 &lt;chr&gt; | nCount_HTO &lt;dbl&gt; | nFeature_HTO &lt;int&gt; | HTO_maxID &lt;chr&gt; | HTO_secondID &lt;chr&gt; | HTO_margin &lt;dbl&gt; | HTO_classification &lt;chr&gt; | HTO_classification.global &lt;chr&gt; | hash.ID &lt;chr&gt; |\n",
       "|---|---|---|---|---|---|---|---|---|---|---|---|---|---|---|---|---|---|---|---|---|---|---|---|---|---|---|---|\n",
       "| T004K_TTTGCGCCAAGGTTTC-1 | T004K | 5875 | 1875 | 1378 | 84 | 0.02842553 | 0.306042553 | 0.3191489 | 14 | T004 | T004K | T | K | NA | NA | NA | NA | NA | NA | NA | NA | NA | NA | NA | NA | NA | NA |\n",
       "| T004K_TTTGGTTAGACAAAGG-1 | T004K | 4536 | 1892 | 1089 | 69 | 0.03108466 | 0.156084656 | 0.4171076 | 19 | T004 | T004K | T | K | NA | NA | NA | NA | NA | NA | NA | NA | NA | NA | NA | NA | NA | NA |\n",
       "| T004K_TTTGGTTGTAAACCTC-1 | T004K | 1154 |  775 |  843 | 55 | 0.05979203 | 0.003466205 | 0.6715771 |  1 | T004 | T004K | T | K | NA | NA | NA | NA | NA | NA | NA | NA | NA | NA | NA | NA | NA | NA |\n",
       "| T004K_TTTGGTTTCTCGATGA-1 | T004K | 4776 | 1926 | 1743 | 97 | 0.02491625 | 0.142378559 | 0.4032663 | 16 | T004 | T004K | T | K | NA | NA | NA | NA | NA | NA | NA | NA | NA | NA | NA | NA | NA | NA |\n",
       "| T004K_TTTGTCACACAGATTC-1 | T004K | 2894 | 1278 | 1437 | 83 | 0.04422944 | 0.256392536 | 0.4416033 |  5 | T004 | T004K | T | K | NA | NA | NA | NA | NA | NA | NA | NA | NA | NA | NA | NA | NA | NA |\n",
       "| T004K_TTTGTCAGTTCCGGCA-1 | T004K | 2359 | 1091 | 1145 | 70 | 0.04281475 | 0.282323018 | 0.4624841 |  2 | T004 | T004K | T | K | NA | NA | NA | NA | NA | NA | NA | NA | NA | NA | NA | NA | NA | NA |\n",
       "\n"
      ],
      "text/plain": [
       "                         orig.ident nCount_RNA nFeature_RNA nCount_CITE\n",
       "T004K_TTTGCGCCAAGGTTTC-1 T004K      5875       1875         1378       \n",
       "T004K_TTTGGTTAGACAAAGG-1 T004K      4536       1892         1089       \n",
       "T004K_TTTGGTTGTAAACCTC-1 T004K      1154        775          843       \n",
       "T004K_TTTGGTTTCTCGATGA-1 T004K      4776       1926         1743       \n",
       "T004K_TTTGTCACACAGATTC-1 T004K      2894       1278         1437       \n",
       "T004K_TTTGTCAGTTCCGGCA-1 T004K      2359       1091         1145       \n",
       "                         nFeature_CITE frac.mito  frac.ribo  \n",
       "T004K_TTTGCGCCAAGGTTTC-1 84            0.02842553 0.306042553\n",
       "T004K_TTTGGTTAGACAAAGG-1 69            0.03108466 0.156084656\n",
       "T004K_TTTGGTTGTAAACCTC-1 55            0.05979203 0.003466205\n",
       "T004K_TTTGGTTTCTCGATGA-1 97            0.02491625 0.142378559\n",
       "T004K_TTTGTCACACAGATTC-1 83            0.04422944 0.256392536\n",
       "T004K_TTTGTCAGTTCCGGCA-1 70            0.04281475 0.282323018\n",
       "                         Feature_Count_ratio CD3_count patient sample case\n",
       "T004K_TTTGCGCCAAGGTTTC-1 0.3191489           14        T004    T004K  T   \n",
       "T004K_TTTGGTTAGACAAAGG-1 0.4171076           19        T004    T004K  T   \n",
       "T004K_TTTGGTTGTAAACCTC-1 0.6715771            1        T004    T004K  T   \n",
       "T004K_TTTGGTTTCTCGATGA-1 0.4032663           16        T004    T004K  T   \n",
       "T004K_TTTGTCACACAGATTC-1 0.4416033            5        T004    T004K  T   \n",
       "T004K_TTTGTCAGTTCCGGCA-1 0.4624841            2        T004    T004K  T   \n",
       "                         tissue RNA_snn_res.0.1 seurat_clusters RNA_snn_res.0.2\n",
       "T004K_TTTGCGCCAAGGTTTC-1 K      NA              NA              NA             \n",
       "T004K_TTTGGTTAGACAAAGG-1 K      NA              NA              NA             \n",
       "T004K_TTTGGTTGTAAACCTC-1 K      NA              NA              NA             \n",
       "T004K_TTTGGTTTCTCGATGA-1 K      NA              NA              NA             \n",
       "T004K_TTTGTCACACAGATTC-1 K      NA              NA              NA             \n",
       "T004K_TTTGTCAGTTCCGGCA-1 K      NA              NA              NA             \n",
       "                         RNA_snn_res.0.3 RNA_snn_res.0.4 RNA_snn_res.0.6\n",
       "T004K_TTTGCGCCAAGGTTTC-1 NA              NA              NA             \n",
       "T004K_TTTGGTTAGACAAAGG-1 NA              NA              NA             \n",
       "T004K_TTTGGTTGTAAACCTC-1 NA              NA              NA             \n",
       "T004K_TTTGGTTTCTCGATGA-1 NA              NA              NA             \n",
       "T004K_TTTGTCACACAGATTC-1 NA              NA              NA             \n",
       "T004K_TTTGTCAGTTCCGGCA-1 NA              NA              NA             \n",
       "                         nCount_HTO nFeature_HTO HTO_maxID HTO_secondID\n",
       "T004K_TTTGCGCCAAGGTTTC-1 NA         NA           NA        NA          \n",
       "T004K_TTTGGTTAGACAAAGG-1 NA         NA           NA        NA          \n",
       "T004K_TTTGGTTGTAAACCTC-1 NA         NA           NA        NA          \n",
       "T004K_TTTGGTTTCTCGATGA-1 NA         NA           NA        NA          \n",
       "T004K_TTTGTCACACAGATTC-1 NA         NA           NA        NA          \n",
       "T004K_TTTGTCAGTTCCGGCA-1 NA         NA           NA        NA          \n",
       "                         HTO_margin HTO_classification\n",
       "T004K_TTTGCGCCAAGGTTTC-1 NA         NA                \n",
       "T004K_TTTGGTTAGACAAAGG-1 NA         NA                \n",
       "T004K_TTTGGTTGTAAACCTC-1 NA         NA                \n",
       "T004K_TTTGGTTTCTCGATGA-1 NA         NA                \n",
       "T004K_TTTGTCACACAGATTC-1 NA         NA                \n",
       "T004K_TTTGTCAGTTCCGGCA-1 NA         NA                \n",
       "                         HTO_classification.global hash.ID\n",
       "T004K_TTTGCGCCAAGGTTTC-1 NA                        NA     \n",
       "T004K_TTTGGTTAGACAAAGG-1 NA                        NA     \n",
       "T004K_TTTGGTTGTAAACCTC-1 NA                        NA     \n",
       "T004K_TTTGGTTTCTCGATGA-1 NA                        NA     \n",
       "T004K_TTTGTCACACAGATTC-1 NA                        NA     \n",
       "T004K_TTTGTCAGTTCCGGCA-1 NA                        NA     "
      ]
     },
     "metadata": {},
     "output_type": "display_data"
    }
   ],
   "source": [
    "seurat.combined <- merge(\n",
    "    ob.list[[1]], ob.list[-1] # ,\n",
    "    # add.cell.ids = addlist\n",
    ")\n",
    "head(seurat.combined@meta.data)\n",
    "tail(seurat.combined@meta.data)"
   ]
  },
  {
   "cell_type": "code",
   "execution_count": 7,
   "id": "d85fa347-51e0-4fbe-8590-e76e81e106e6",
   "metadata": {
    "vscode": {
     "languageId": "r"
    }
   },
   "outputs": [
    {
     "data": {
      "text/html": [
       "<style>\n",
       ".list-inline {list-style: none; margin:0; padding: 0}\n",
       ".list-inline>li {display: inline-block}\n",
       ".list-inline>li:not(:last-child)::after {content: \"\\00b7\"; padding: 0 .5ex}\n",
       "</style>\n",
       "<ol class=list-inline><li>'T001'</li><li>'T002'</li><li>'T003'</li><li>'T004'</li></ol>\n"
      ],
      "text/latex": [
       "\\begin{enumerate*}\n",
       "\\item 'T001'\n",
       "\\item 'T002'\n",
       "\\item 'T003'\n",
       "\\item 'T004'\n",
       "\\end{enumerate*}\n"
      ],
      "text/markdown": [
       "1. 'T001'\n",
       "2. 'T002'\n",
       "3. 'T003'\n",
       "4. 'T004'\n",
       "\n",
       "\n"
      ],
      "text/plain": [
       "[1] \"T001\" \"T002\" \"T003\" \"T004\""
      ]
     },
     "metadata": {},
     "output_type": "display_data"
    }
   ],
   "source": [
    "Idents(seurat.combined) <- \"patient\"\n",
    "levels(seurat.combined)"
   ]
  },
  {
   "cell_type": "code",
   "execution_count": null,
   "id": "bde40c51-d520-47cc-beaf-619ab98624d3",
   "metadata": {
    "vscode": {
     "languageId": "r"
    }
   },
   "outputs": [],
   "source": [
    "# nCells in total \n",
    "paste0(length(ob.list),\" samples,\", nrow(seurat.combined@meta.data),\" cells in total\")\n",
    "sample_nCell<-as.data.frame(table(seurat.combined@meta.data$sample))\n",
    "colnames(sample_nCell)<- c(\"sample\",\"nCells\")\n",
    "rbind(sample_nCell, data.frame(sample='Total', nCells = sum(sample_nCell$nCells)))"
   ]
  },
  {
   "cell_type": "code",
   "execution_count": null,
   "id": "698e72ad-f096-4cf3-bd4e-73118c2cb6e3",
   "metadata": {
    "vscode": {
     "languageId": "r"
    }
   },
   "outputs": [],
   "source": [
    "seu<-seurat.combined\n",
    "seu"
   ]
  },
  {
   "cell_type": "code",
   "execution_count": null,
   "id": "d246c5ba-837a-4712-a034-6471abb2893d",
   "metadata": {
    "vscode": {
     "languageId": "r"
    }
   },
   "outputs": [],
   "source": [
    "seu <- count_fractions(seu,species = \"human\")"
   ]
  },
  {
   "cell_type": "code",
   "execution_count": null,
   "id": "f7d8e721-27b4-47f5-a6d2-562489d957df",
   "metadata": {
    "vscode": {
     "languageId": "r"
    }
   },
   "outputs": [],
   "source": [
    "head(seu@meta.data)\n",
    "tail(seu@meta.data)"
   ]
  },
  {
   "cell_type": "code",
   "execution_count": null,
   "id": "c52d7c2b-9b6e-4494-8721-62d6f737ed7a",
   "metadata": {
    "vscode": {
     "languageId": "r"
    }
   },
   "outputs": [],
   "source": [
    "seu <- ScaleData(seu, features = rownames(seu))"
   ]
  },
  {
   "cell_type": "code",
   "execution_count": null,
   "id": "7f52dc1d-7145-488c-8abc-8dd9e3e3e534",
   "metadata": {
    "vscode": {
     "languageId": "r"
    }
   },
   "outputs": [],
   "source": [
    "seu <- FindVariableFeatures(object = seu, \n",
    "                            selection.method = \"vst\",\n",
    "                            nfeatures = 2000)"
   ]
  },
  {
   "cell_type": "code",
   "execution_count": null,
   "id": "d9e51a18-a048-4338-ae15-f588a89c13f0",
   "metadata": {
    "vscode": {
     "languageId": "r"
    }
   },
   "outputs": [],
   "source": [
    "seu <- RunPCA(object = seu, \n",
    "              features = VariableFeatures(object = seu),\n",
    "              verbose = T)"
   ]
  },
  {
   "cell_type": "code",
   "execution_count": null,
   "id": "65e72666-a220-44c7-95ed-f8b14170dbc6",
   "metadata": {
    "vscode": {
     "languageId": "r"
    }
   },
   "outputs": [],
   "source": [
    "seu <- seu %>% \n",
    "    RunHarmony(\"patient\", dims.use = 1:30,\n",
    "               plot_convergence = TRUE)"
   ]
  },
  {
   "cell_type": "code",
   "execution_count": null,
   "id": "9f1162bc-8233-4b9e-bbbb-e9cff5af2095",
   "metadata": {
    "vscode": {
     "languageId": "r"
    }
   },
   "outputs": [],
   "source": [
    "#seu <- RunTSNE(object = seu,reduction = 'harmony', dims = 1:30)\n",
    "seu <- RunUMAP(object = seu,reduction = 'harmony', dims = 1:30)"
   ]
  },
  {
   "cell_type": "code",
   "execution_count": null,
   "id": "ec7e4d61-fcf0-4d5c-94e2-968eb73c1cd5",
   "metadata": {
    "vscode": {
     "languageId": "r"
    }
   },
   "outputs": [],
   "source": [
    "#DimPlot(object = seu, reduction = 'tsne',label = F, \n",
    "#        pt.size = 0.1)+ theme(aspect.ratio=1)\n",
    "DimPlot(object = seu, reduction = 'umap',label = F, \n",
    "        pt.size = 0.1)+ theme(aspect.ratio=1)"
   ]
  },
  {
   "cell_type": "code",
   "execution_count": null,
   "id": "fae4a56f-5ff7-4a4f-8489-5f34cbbd33c8",
   "metadata": {
    "vscode": {
     "languageId": "r"
    }
   },
   "outputs": [],
   "source": [
    "sample_names<-unique(seu@meta.data$patient)\n",
    "for (i in c(1:length(sample_names))){\n",
    "    highlightcells <- list(WhichCells(object = seu, \n",
    "                                      idents = sample_names[i]))\n",
    "    names(highlightcells) <- sample_names[i]\n",
    "    print(\n",
    "        DimPlot(object = seu, pt.size = 1,reduction = 'umap',\n",
    "                label = F, \n",
    "         cells.highlight = highlightcells,\n",
    "         cols.highlight = scales::hue_pal()(length(sample_names))[i],\n",
    "         sizes.highlight = 1,\n",
    "         #plot.title=sample_names[i]#,\n",
    "                )+ theme(aspect.ratio=1)\n",
    "         ) \n",
    "    \n",
    "}"
   ]
  },
  {
   "cell_type": "code",
   "execution_count": null,
   "id": "25b2221f-1b7f-45b5-939f-92917f65715c",
   "metadata": {
    "vscode": {
     "languageId": "r"
    }
   },
   "outputs": [],
   "source": [
    "marker_qc<-c(\"nFeature_RNA\",\"nCount_RNA\",\"frac.mito\",\"frac.ribo\",\"CD3_count\")\n",
    "for (n in marker_qc){\n",
    "    print(VlnPlot(object = seu, features = n,\n",
    "                  group.by = \"patient\",\n",
    "                  #split.by = \"cellgroup\",\n",
    "                  #x.lab.rot=T, \n",
    "                  #size.x.use = 5,\n",
    "                  pt.size = 0\n",
    "                       )#+ NoLegend()\n",
    "    )\n",
    "\n",
    "    print(FeaturePlot(object = seu,features = n,\n",
    "                  cols = c(\"grey\", \"blue\"),\n",
    "                      order = T,\n",
    "                      reduction = \"umap\",\n",
    "                pt.size=0.1\n",
    "                       ))     \n",
    "    }"
   ]
  },
  {
   "cell_type": "code",
   "execution_count": null,
   "id": "8aebc236-fcbc-4493-8039-e63fa82afdb6",
   "metadata": {
    "vscode": {
     "languageId": "r"
    }
   },
   "outputs": [],
   "source": [
    "seu <- FindNeighbors(object = seu,reduction = 'harmony', dims = 1:30)\n",
    "#!!! Essential step to set the reduction to 'harmony', otherwise the default is PCA and will give big difference of clusters and UMAP\n",
    "#seu <- FindNeighbors(object = seu, dims = 1:30)"
   ]
  },
  {
   "cell_type": "code",
   "execution_count": null,
   "id": "dd7a95d1-4a7b-4113-985a-f917ab2ee63a",
   "metadata": {
    "vscode": {
     "languageId": "r"
    }
   },
   "outputs": [],
   "source": [
    "seu <- FindClusters(object = seu, resolution = 0.1)\n",
    "table(Idents(seu))\n",
    "#DimPlot(object = seu, reduction = 'tsne',label = TRUE, \n",
    "#        pt.size = 0.1,label.size = 6, repel = T) + theme(aspect.ratio=1)\n",
    "DimPlot(object = seu, reduction = 'umap',label = TRUE, \n",
    "        pt.size = 0.1,label.size = 6, repel = T) + theme(aspect.ratio=1)"
   ]
  },
  {
   "cell_type": "code",
   "execution_count": null,
   "id": "b91b06fd-4911-416a-af47-ba4760ccc344",
   "metadata": {
    "vscode": {
     "languageId": "r"
    }
   },
   "outputs": [],
   "source": [
    "seu <- FindClusters(object = seu, resolution = 0.2)\n",
    "table(Idents(seu))\n",
    "#DimPlot(object = seu, reduction = 'tsne',label = TRUE, \n",
    "#        pt.size = 0.1,label.size = 6, repel = T) + theme(aspect.ratio=1)\n",
    "DimPlot(object = seu, reduction = 'umap',label = TRUE, \n",
    "        pt.size = 0.1,label.size = 6, repel = T) + theme(aspect.ratio=1)"
   ]
  },
  {
   "cell_type": "code",
   "execution_count": null,
   "id": "ff8c8d86-37df-4098-aeda-be74b02ce283",
   "metadata": {
    "vscode": {
     "languageId": "r"
    }
   },
   "outputs": [],
   "source": [
    "seu <- FindClusters(object = seu, resolution = 0.3)\n",
    "table(Idents(seu))\n",
    "#DimPlot(object = seu, reduction = 'tsne',label = TRUE, \n",
    "#        pt.size = 0.1,label.size = 6, repel = T) + theme(aspect.ratio=1)\n",
    "DimPlot(object = seu, reduction = 'umap',label = TRUE, \n",
    "        pt.size = 0.1,label.size = 6, repel = T) + theme(aspect.ratio=1)"
   ]
  },
  {
   "cell_type": "code",
   "execution_count": null,
   "id": "ac6d964b-76d0-4f2c-a459-ad174a8735fb",
   "metadata": {
    "vscode": {
     "languageId": "r"
    }
   },
   "outputs": [],
   "source": [
    "seu <- FindClusters(object = seu, resolution = 0.4)\n",
    "table(Idents(seu))\n",
    "#DimPlot(object = seu, reduction = 'tsne',label = TRUE, \n",
    "#        pt.size = 0.1,label.size = 6, repel = T) + theme(aspect.ratio=1)\n",
    "DimPlot(object = seu, reduction = 'umap',label = TRUE, \n",
    "        pt.size = 0.1,label.size = 6, repel = T) + theme(aspect.ratio=1)"
   ]
  },
  {
   "cell_type": "code",
   "execution_count": null,
   "id": "cc531f8d-eca8-42bd-95d2-4c4f7aa64040",
   "metadata": {
    "vscode": {
     "languageId": "r"
    }
   },
   "outputs": [],
   "source": [
    "seu <- FindClusters(object = seu, resolution = 0.5)\n",
    "table(Idents(seu))\n",
    "#DimPlot(object = seu, reduction = 'tsne',label = TRUE, \n",
    "#        pt.size = 0.1,label.size = 6, repel = T) + theme(aspect.ratio=1)\n",
    "DimPlot(object = seu, reduction = 'umap',label = TRUE, \n",
    "        pt.size = 0.1,label.size = 6, repel = T) + theme(aspect.ratio=1)"
   ]
  },
  {
   "cell_type": "code",
   "execution_count": null,
   "id": "ce03f4ac-4648-47de-9473-933df31e9987",
   "metadata": {
    "vscode": {
     "languageId": "r"
    }
   },
   "outputs": [],
   "source": [
    "seu <- FindClusters(object = seu, resolution = 0.6)\n",
    "table(Idents(seu))\n",
    "#DimPlot(object = seu, reduction = 'tsne',label = TRUE, \n",
    "#        pt.size = 0.1,label.size = 6, repel = T) + theme(aspect.ratio=1)\n",
    "DimPlot(object = seu, reduction = 'umap',label = TRUE, \n",
    "        pt.size = 0.1,label.size = 6, repel = T) + theme(aspect.ratio=1)"
   ]
  },
  {
   "cell_type": "code",
   "execution_count": null,
   "id": "808a94d0-399d-46de-b177-624b34bb92ad",
   "metadata": {
    "vscode": {
     "languageId": "r"
    }
   },
   "outputs": [],
   "source": []
  },
  {
   "cell_type": "code",
   "execution_count": null,
   "id": "7f7c8966-5a8f-432f-ad33-9d29e3134121",
   "metadata": {
    "vscode": {
     "languageId": "r"
    }
   },
   "outputs": [],
   "source": []
  },
  {
   "cell_type": "code",
   "execution_count": null,
   "id": "5d5480bb-786f-4a31-a7b7-bcf022de3852",
   "metadata": {
    "vscode": {
     "languageId": "r"
    }
   },
   "outputs": [],
   "source": []
  },
  {
   "cell_type": "code",
   "execution_count": null,
   "id": "5e1c500b-7394-4755-b30a-963ac42ddf0f",
   "metadata": {
    "vscode": {
     "languageId": "r"
    }
   },
   "outputs": [],
   "source": [
    "seu <- FindClusters(object = seu, resolution = 0.6)\n",
    "table(Idents(seu))\n",
    "#DimPlot(object = seu, reduction = 'tsne',label = TRUE, \n",
    "#        pt.size = 0.1,label.size = 6, repel = T) + theme(aspect.ratio=1)\n",
    "DimPlot(object = seu, reduction = 'umap',label = TRUE, \n",
    "        pt.size = 0.1,label.size = 6, repel = T) + theme(aspect.ratio=1)"
   ]
  },
  {
   "cell_type": "code",
   "execution_count": null,
   "id": "19ff4a6a-fb9d-4fe9-bb50-1f92d9ddd1ec",
   "metadata": {
    "vscode": {
     "languageId": "r"
    }
   },
   "outputs": [],
   "source": [
    "# find markers for every cluster compared to all remaining cells, report only the positive ones\n",
    "seu.markers <- FindAllMarkers(object = seu, only.pos = TRUE, \n",
    "                              min.pct = 0.25, logfc.threshold = 0.5)\n",
    "#logfc.threshold=0.25 (default) instead of old version thresh.use=0.25\n",
    "head(seu.markers)\n",
    "dim(seu.markers)"
   ]
  },
  {
   "cell_type": "code",
   "execution_count": null,
   "id": "0627c5aa-cc42-4a73-9af8-42322a01f05e",
   "metadata": {
    "vscode": {
     "languageId": "r"
    }
   },
   "outputs": [],
   "source": [
    "top3 <- seu.markers %>% group_by(cluster) %>% top_n(3, avg_log2FC)\n",
    "top5 <- seu.markers %>% group_by(cluster) %>% top_n(5, avg_log2FC)\n",
    "top10 <- seu.markers %>% group_by(cluster) %>% top_n(10, avg_log2FC)"
   ]
  },
  {
   "cell_type": "code",
   "execution_count": null,
   "id": "5d7bb49e-c66f-4bd5-95e5-3f35ade6b04c",
   "metadata": {
    "vscode": {
     "languageId": "r"
    }
   },
   "outputs": [],
   "source": [
    "top10"
   ]
  },
  {
   "cell_type": "code",
   "execution_count": null,
   "id": "9adfe61f-8a0b-45ce-9886-baa82e1790a6",
   "metadata": {
    "tags": [],
    "vscode": {
     "languageId": "r"
    }
   },
   "outputs": [],
   "source": [
    "plt1<-DotPlot(seu, features = unique(top5$gene),\n",
    "              dot.scale = 2\n",
    "              #scale.by = \"size\"\n",
    "             ) + coord_flip()+\n",
    "theme(#strip.background = element_blank(),\n",
    "    axis.title = element_blank(),\n",
    "    axis.text.x = element_text(size = 8,angle = 45,hjust = 1),\n",
    "    axis.text.y = element_text(size = 8),\n",
    "     legend.position = \"right\",\n",
    "     #legend.spacing = unit(0, \"mm\"),\n",
    "     legend.direction = \"vertical\",\n",
    "        legend.text = element_text(size=5),\n",
    "        legend.key.width = unit(2, \"mm\"),\n",
    "        legend.key.height = unit(2, \"mm\"),\n",
    "        legend.box.spacing = unit(1, \"mm\"),\n",
    "        legend.margin = margin(2),\n",
    "        legend.title = element_text(size = 7,angle = 90)\n",
    ")\n",
    "plt1"
   ]
  },
  {
   "cell_type": "code",
   "execution_count": null,
   "id": "653bfb51-1749-4026-91cc-1e064c32cc3c",
   "metadata": {
    "vscode": {
     "languageId": "r"
    }
   },
   "outputs": [],
   "source": []
  },
  {
   "cell_type": "code",
   "execution_count": null,
   "id": "f5cc2a52-9280-49a3-958f-019f37c6bcde",
   "metadata": {
    "vscode": {
     "languageId": "r"
    }
   },
   "outputs": [],
   "source": [
    "DefaultAssay(seu) <- \"CITE\"\n",
    "seu<- NormalizeData(object = seu,\n",
    "                     normalization.method = \"LogNormalize\",\n",
    "                     scale.factor = 10000)"
   ]
  },
  {
   "cell_type": "code",
   "execution_count": null,
   "id": "7ba7db03-05fe-4f9a-b798-79e9a3bf004e",
   "metadata": {
    "vscode": {
     "languageId": "r"
    }
   },
   "outputs": [],
   "source": [
    "#FeatureScatter(seu, feature1 = \"cite_CD4\", feature2 = \"cite_CD8\")\n",
    "#FeatureScatter(seu, feature1 = \"cite_CD4\", feature2 = \"cite_CD8\",\n",
    "#              slot = \"counts\")"
   ]
  },
  {
   "cell_type": "code",
   "execution_count": null,
   "id": "2559a4b9-1f31-41a6-8d62-62662b66f5fc",
   "metadata": {
    "vscode": {
     "languageId": "r"
    }
   },
   "outputs": [],
   "source": [
    "CITE_gene<-\n",
    "c(\n",
    "\"cite_CD45\",\n",
    "\"cite_CD3\",\n",
    "\"cite_CD4\",\n",
    "\"cite_CD8\",\n",
    "\"cite_TCRab\",\n",
    "\"cite_TCRgd\",\n",
    "\"cite_TCRVa7.2\",\n",
    "\"cite_TCRVa24Ja18\",\n",
    "\"cite_CD45RA\",\n",
    "\"cite_CD45RO\",\n",
    "\"cite_PDL1\",\n",
    "\"cite_CD154\",\n",
    "\"cite_CD56\",\n",
    "\"cite_CD14\",\n",
    "\"cite_CD19\",\n",
    "\"cite_HLAABC\",\n",
    "\"cite_CD7\",\n",
    "\"cite_CD49f\",\n",
    "\"cite_CD25\",\n",
    "\"cite_TIGIT\",\n",
    "\"cite_CTLA4\",\n",
    "\"cite_CD31\",\n",
    "\"cite_CD44\",\n",
    "\"cite_PDPN\",\n",
    "\"cite_CD103\",\n",
    "\"cite_CD69\",\n",
    "\"cite_CD62L\",\n",
    "\"cite_CD161\",\n",
    "\"cite_LAG3\",\n",
    "\"cite_CD27\",\n",
    "\"cite_LAMP1\",\n",
    "\"cite_HLADR\",\n",
    "\"cite_NKG2D\",\n",
    "\"cite_CD57\",\n",
    "\"cite_KLRG1\",\n",
    "\"cite_CD38\",\n",
    "\"cite_CD127\",\n",
    "\"cite_CD169\")"
   ]
  },
  {
   "cell_type": "code",
   "execution_count": null,
   "id": "b3aa726f-c934-4479-afa6-9c0ed18a4372",
   "metadata": {
    "vscode": {
     "languageId": "r"
    }
   },
   "outputs": [],
   "source": [
    "cite_gene<-\n",
    "c(\n",
    "\"CD45\",\n",
    "\"CD3\",\n",
    "\"CD4\",\n",
    "\"CD8\",\n",
    "\"TCRab\",\n",
    "\"TCRgd\",\n",
    "\"TCRVa7.2\",\n",
    "\"TCRVa24Ja18\",\n",
    "\"CD45RA\",\n",
    "\"CD45RO\",\n",
    "\"PDL1\",\n",
    "\"CD154\",\n",
    "\"CD56\",\n",
    "\"CD14\",\n",
    "\"CD19\",\n",
    "\"HLAABC\",\n",
    "\"CD7\",\n",
    "\"CD49f\",\n",
    "\"CD25\",\n",
    "\"TIGIT\",\n",
    "\"CTLA4\",\n",
    "\"CD31\",\n",
    "\"CD44\",\n",
    "\"PDPN\",\n",
    "\"CD103\",\n",
    "\"CD69\",\n",
    "\"CD62L\",\n",
    "\"CD161\",\n",
    "\"LAG3\",\n",
    "\"CD27\",\n",
    "\"LAMP1\",\n",
    "\"HLADR\",\n",
    "\"NKG2D\",\n",
    "\"CD57\",\n",
    "\"KLRG1\",\n",
    "\"CD38\",\n",
    "\"CD127\",\n",
    "\"CD169\")"
   ]
  },
  {
   "cell_type": "code",
   "execution_count": null,
   "id": "fb7561af-6058-4b77-bbb7-b918ce5a53a4",
   "metadata": {
    "vscode": {
     "languageId": "r"
    }
   },
   "outputs": [],
   "source": [
    "seu@assays"
   ]
  },
  {
   "cell_type": "code",
   "execution_count": null,
   "id": "658aa44c-7f60-4da8-af4d-44aab4d81ed4",
   "metadata": {
    "vscode": {
     "languageId": "r"
    }
   },
   "outputs": [],
   "source": [
    "#DefaultAssay(seu) <- \"CITE\"\n",
    "#seu<- NormalizeData(object = seu,\n",
    "#                     normalization.method = \"LogNormalize\",\n",
    "#                     scale.factor = 10000)"
   ]
  },
  {
   "cell_type": "code",
   "execution_count": null,
   "id": "59c5c480-32a7-4ca8-8d26-0e0246d664bd",
   "metadata": {
    "tags": [],
    "vscode": {
     "languageId": "r"
    }
   },
   "outputs": [],
   "source": [
    "for (n in cite_gene){\n",
    "    print(FeaturePlot(object = seu,features = n,\n",
    "                  cols = c(\"lightgrey\", \"blue\"),\n",
    "                      order = T,\n",
    "                      slot = \"data\",\n",
    "                      #min.cutoff = \"q05\", max.cutoff = \"q95\",\n",
    "                      reduction = \"umap\",\n",
    "                pt.size=1\n",
    "                       ))   \n",
    "      print(VlnPlot(object = seu, features = n,\n",
    "                 #group.by = \"sample\",\n",
    "                 #x.lab.rot=T, \n",
    "                 #size.x.use = 5,\n",
    "                 pt.size = 0.01\n",
    "                      )+NoLegend()\n",
    "   )\n",
    "   #print(RidgePlot(seu, \n",
    "   #          features = n))\n",
    "\n",
    "    }"
   ]
  },
  {
   "cell_type": "code",
   "execution_count": null,
   "id": "b15ad07d-b41d-47f5-ace7-2555d579b66f",
   "metadata": {
    "vscode": {
     "languageId": "r"
    }
   },
   "outputs": [],
   "source": [
    "DefaultAssay(seu)<-'RNA'"
   ]
  },
  {
   "cell_type": "code",
   "execution_count": null,
   "id": "6aec9202-7f77-4906-9bbe-f113231115d0",
   "metadata": {
    "vscode": {
     "languageId": "r"
    }
   },
   "outputs": [],
   "source": [
    "DefaultAssay(seu)<-'RNA'\n",
    "# Search for known marker genes in seu\n",
    "leukos <- c(\"PTPRC\") \n",
    "Tcells <- c(\"CD3G\",\"CD3D\",\"CD3E\")\n",
    "CD4<-c(\"CD4\")\n",
    "CD8 <- c(\"CD8A\", \"CD8B\")\n",
    "Naive<-c(\"LEF1\",\"TCF7\",\"LTB\")\n",
    "CM<-c(\"CCR7\",\"SELL\",\"KLF2\",\"S1PR1\")\n",
    "RM<-c(\"CXCR6\",\"CD69\",\"ITGAE\",\"RGS1\")\n",
    "Th1 <- c(\"CXCR3\",\"TBX21\", \"IFNG\", \"TNF\",\"CSF2\")\n",
    "Th2 <- c(\"GATA3\", \"IL4\", \"IL5\", \"IL13\") \n",
    "Th17 <- c(\"CCR6\",\"RORC\",\"IL17A\",\"IL17F\", \"IL23R\") \n",
    "Tr1<-c(\"IL10\",\"ITGA2\",\"LAG3\",\"HAVCR2\")#,\"Ahr\",\"Irf4\",\"Prdm1\",\"Maf\")\n",
    "Tregs <- c(\"FOXP3\", \"IL2RA\", \"CTLA4\",\"IKZF2\",\"TIGIT\")\n",
    "Tfh<-c('IL21','POU2AF1','CXCR5','BCL6','ASCL2','CD200','ID3','ICOS','ICOSLG')\n",
    "CTL<-c(\"PRF1\", \"GZMB\",\"GZMK\",\"GZMA\",\"GZMH\",\"GNLY\")\n",
    "NK <- c(\"NKG7\",\"KLRC1\",\"KLRD1\",\"KLRF1\",\"KLRB1\",\"NCR1\",\"NCAM1\",\"FGFBP2\",\"XCL1\",\"XCL2\")\n",
    "Tgd<- c(\"TRDV2\",\"TRGV9\")\n",
    "MAIT<-c(\"TRAV1-2\")\n",
    "Prolif<-c(\"STMN1\",\"MKI67\",\"TOP2A\")\n",
    "\n",
    "known_markers<-list(\n",
    "leukos,\n",
    "Tcells,\n",
    "CD4,\n",
    "CD8,\n",
    "CTL,\n",
    "NK,\n",
    "Naive,\n",
    "CM,\n",
    "RM,\n",
    "Th1,\n",
    "Tr1,\n",
    "Th2,\n",
    "Th17,\n",
    "MAIT,\n",
    "Tgd,\n",
    "Tregs,\n",
    "Tfh,\n",
    "Prolif\n",
    ")\n",
    "known_markers\n",
    "\n",
    "marker_gene_list<-known_markers\n",
    "length(unlist(marker_gene_list))\n",
    "marker_gene_list_expressed <- intersect(unlist(marker_gene_list), rownames(GetAssayData(seu)))\n",
    "length(marker_gene_list_expressed)\n",
    "setdiff(unlist(marker_gene_list),marker_gene_list_expressed)"
   ]
  },
  {
   "cell_type": "code",
   "execution_count": null,
   "id": "c1c2f89a-80a0-4d30-a167-9f0f755e254d",
   "metadata": {
    "tags": [],
    "vscode": {
     "languageId": "r"
    }
   },
   "outputs": [],
   "source": [
    "for (n in marker_gene_list_expressed){\n",
    "    print(FeaturePlot(object = seu,features = n,\n",
    "                  cols = c(\"lightgrey\", \"blue\"),\n",
    "                      order = T,\n",
    "                      slot = \"data\",\n",
    "                      #min.cutoff = \"q05\", max.cutoff = \"q95\",\n",
    "                      reduction = \"umap\",\n",
    "                pt.size=1\n",
    "                       ))   \n",
    "      print(VlnPlot(object = seu, features = n,\n",
    "                 #group.by = \"sample\",\n",
    "                 #x.lab.rot=T, \n",
    "                 #size.x.use = 5,\n",
    "                 pt.size = 0.01\n",
    "                      )+NoLegend()\n",
    "   )\n",
    "          print(VlnPlot(object = seu, features = n,\n",
    "                 #group.by = \"sample\",\n",
    "                 #x.lab.rot=T, \n",
    "                 #size.x.use = 5,\n",
    "                 pt.size = 0\n",
    "                      )+NoLegend()\n",
    "   )\n",
    "   #print(RidgePlot(seu, \n",
    "   #          features = n))\n",
    "\n",
    "    }"
   ]
  },
  {
   "cell_type": "code",
   "execution_count": null,
   "id": "cbe48d28-d787-4a89-998e-e5b7c1a39b9a",
   "metadata": {
    "vscode": {
     "languageId": "r"
    }
   },
   "outputs": [],
   "source": [
    "DimPlot(object = seu, reduction = 'umap',label = TRUE, \n",
    "        pt.size = 0.1,label.size = 6, repel = T) + theme(aspect.ratio=1)"
   ]
  },
  {
   "cell_type": "code",
   "execution_count": null,
   "id": "7bd01a72-7bb2-4661-89af-447c3a14d4c9",
   "metadata": {
    "vscode": {
     "languageId": "r"
    }
   },
   "outputs": [],
   "source": []
  },
  {
   "cell_type": "code",
   "execution_count": null,
   "id": "029a9773-f441-4458-b1b9-2a3e008d3b96",
   "metadata": {
    "vscode": {
     "languageId": "r"
    }
   },
   "outputs": [],
   "source": [
    "seu_T1<-subset(seu, subset = UMAP_1 > -8 & UMAP_2 > -8)\n",
    "seu_T1"
   ]
  },
  {
   "cell_type": "code",
   "execution_count": null,
   "id": "cd27cbed-76bd-4f56-8f24-0eec8224ad9d",
   "metadata": {
    "vscode": {
     "languageId": "r"
    }
   },
   "outputs": [],
   "source": [
    "DimPlot(object = seu_T1, reduction = 'umap',label = TRUE, \n",
    "        pt.size = 0.1,label.size = 6, repel = T) + theme(aspect.ratio=1)"
   ]
  },
  {
   "cell_type": "code",
   "execution_count": null,
   "id": "f6185527-e7b2-4527-810b-db692a712d6d",
   "metadata": {
    "vscode": {
     "languageId": "r"
    }
   },
   "outputs": [],
   "source": [
    "#seu\n",
    "seu_T<-subset(seu, idents=c(\"7\",\"8\",\"11\",\"12\",\"14\"),invert=TRUE)\n",
    "seu_T"
   ]
  },
  {
   "cell_type": "code",
   "execution_count": null,
   "id": "4c7c2bad-a1ee-4ba7-add9-36cc2783bfe1",
   "metadata": {
    "vscode": {
     "languageId": "r"
    }
   },
   "outputs": [],
   "source": [
    "DimPlot(object = seu_T, reduction = 'umap',label = TRUE, \n",
    "        pt.size = 0.1,label.size = 6, repel = T) + theme(aspect.ratio=1)"
   ]
  },
  {
   "cell_type": "code",
   "execution_count": null,
   "id": "b24d3dbb-dc73-489e-942e-bbf5cd783b6c",
   "metadata": {
    "vscode": {
     "languageId": "r"
    }
   },
   "outputs": [],
   "source": [
    "save_path = paste0(data_dir, \"/\", samples_ID, \"_T.rds\")\n",
    "saveRDS(seu_T1, file = save_path)"
   ]
  }
 ],
 "metadata": {
  "kernelspec": {
   "display_name": "R",
   "language": "R",
   "name": "ir"
  },
  "language_info": {
   "codemirror_mode": "r",
   "file_extension": ".r",
   "mimetype": "text/x-r-source",
   "name": "R",
   "pygments_lexer": "r",
   "version": "4.1.1"
  }
 },
 "nbformat": 4,
 "nbformat_minor": 5
}
