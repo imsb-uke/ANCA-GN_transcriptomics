{
 "cells": [
  {
   "cell_type": "code",
   "execution_count": 1,
   "metadata": {},
   "outputs": [],
   "source": [
    "working_dir = \"/data/projects/dschaub/ANCA-GN_transcriptomics\"\n",
    "data_dir = \"/data/projects/dschaub/ANCA-GN_transcriptomics/data/single-cell/ustekinumab\""
   ]
  },
  {
   "cell_type": "code",
   "execution_count": 2,
   "metadata": {},
   "outputs": [
    {
     "name": "stderr",
     "output_type": "stream",
     "text": [
      "Global seed set to 0\n",
      "/opt/conda/envs/scvi-env/lib/python3.9/site-packages/flax/struct.py:136: FutureWarning: jax.tree_util.register_keypaths is deprecated, and will be removed in a future release. Please use `register_pytree_with_keys()` instead.\n",
      "  jax.tree_util.register_keypaths(data_clz, keypaths)\n",
      "/opt/conda/envs/scvi-env/lib/python3.9/site-packages/flax/struct.py:136: FutureWarning: jax.tree_util.register_keypaths is deprecated, and will be removed in a future release. Please use `register_pytree_with_keys()` instead.\n",
      "  jax.tree_util.register_keypaths(data_clz, keypaths)\n"
     ]
    }
   ],
   "source": [
    "%load_ext autoreload\n",
    "%autoreload 2\n",
    "\n",
    "import sys\n",
    "import os\n",
    "\n",
    "os.chdir(working_dir)\n",
    "\n",
    "import yaml\n",
    "import anndata as ad\n",
    "import matplotlib.pyplot as plt\n",
    "import seaborn as sns\n",
    "import mudata as md\n",
    "import muon as mu\n",
    "import numpy as np\n",
    "import scanpy as sc\n",
    "from matplotlib import gridspec\n",
    "import scanpy.external as sce\n",
    "from scipy import sparse\n",
    "from matplotlib.colors import LinearSegmentedColormap\n",
    "import matplotlib as mpl\n",
    "\n",
    "from utils.utils import *\n",
    "from utils.plotting import *\n",
    "\n",
    "sc.settings.verbosity = 0\n",
    "sc.set_figure_params(dpi=80)\n",
    "sns.set(style=\"white\")"
   ]
  },
  {
   "cell_type": "code",
   "execution_count": 3,
   "metadata": {},
   "outputs": [
    {
     "data": {
      "text/html": [
       "<pre>MuData object with n_obs × n_vars = 34810 × 38528\n",
       "  obs:\t&#x27;orig.ident&#x27;, &#x27;nCount_RNA&#x27;, &#x27;nFeature_RNA&#x27;, &#x27;nCount_CITE&#x27;, &#x27;nFeature_CITE&#x27;, &#x27;frac.mito&#x27;, &#x27;frac.ribo&#x27;, &#x27;Feature_Count_ratio&#x27;, &#x27;CD3_count&#x27;, &#x27;RNA_snn_res.0.1&#x27;, &#x27;seurat_clusters&#x27;, &#x27;RNA_snn_res.0.2&#x27;, &#x27;RNA_snn_res.0.3&#x27;, &#x27;RNA_snn_res.0.4&#x27;, &#x27;RNA_snn_res.0.6&#x27;, &#x27;nCount_HTO&#x27;, &#x27;nFeature_HTO&#x27;, &#x27;HTO_maxID&#x27;, &#x27;HTO_secondID&#x27;, &#x27;HTO_margin&#x27;, &#x27;HTO_classification&#x27;, &#x27;HTO_classification.global&#x27;, &#x27;hash.ID&#x27;, &#x27;patient&#x27;, &#x27;sample&#x27;, &#x27;case&#x27;, &#x27;tissue&#x27;, &#x27;RNA_snn_res.0.5&#x27;, &#x27;RNA_snn_res.0.7&#x27;, &#x27;RNA_snn_res.0.8&#x27;, &#x27;RNA_snn_res.0.9&#x27;, &#x27;RNA_snn_res.1&#x27;, &#x27;cell_type&#x27;, &#x27;Trm_score1&#x27;, &#x27;non_Trm_score2&#x27;, &#x27;CD4_Trm_score3&#x27;, &#x27;CD4_non_Trm_score4&#x27;, &#x27;CD8_Trm_score5&#x27;, &#x27;CD8_non_Trm_score6&#x27;, &#x27;Proinflam_cytokines_score7&#x27;\n",
       "  obsm:\t&#x27;X_harmony&#x27;, &#x27;X_pca&#x27;, &#x27;X_umap&#x27;\n",
       "  3 modalities\n",
       "    RNA:\t34810 x 38224\n",
       "      layers:\t&#x27;counts&#x27;\n",
       "    CITE:\t34810 x 302\n",
       "      layers:\t&#x27;counts&#x27;\n",
       "    HTO:\t34810 x 2\n",
       "      layers:\t&#x27;counts&#x27;</pre>"
      ],
      "text/plain": [
       "MuData object with n_obs × n_vars = 34810 × 38528\n",
       "  obs:\t'orig.ident', 'nCount_RNA', 'nFeature_RNA', 'nCount_CITE', 'nFeature_CITE', 'frac.mito', 'frac.ribo', 'Feature_Count_ratio', 'CD3_count', 'RNA_snn_res.0.1', 'seurat_clusters', 'RNA_snn_res.0.2', 'RNA_snn_res.0.3', 'RNA_snn_res.0.4', 'RNA_snn_res.0.6', 'nCount_HTO', 'nFeature_HTO', 'HTO_maxID', 'HTO_secondID', 'HTO_margin', 'HTO_classification', 'HTO_classification.global', 'hash.ID', 'patient', 'sample', 'case', 'tissue', 'RNA_snn_res.0.5', 'RNA_snn_res.0.7', 'RNA_snn_res.0.8', 'RNA_snn_res.0.9', 'RNA_snn_res.1', 'cell_type', 'Trm_score1', 'non_Trm_score2', 'CD4_Trm_score3', 'CD4_non_Trm_score4', 'CD8_Trm_score5', 'CD8_non_Trm_score6', 'Proinflam_cytokines_score7'\n",
       "  obsm:\t'X_harmony', 'X_pca', 'X_umap'\n",
       "  3 modalities\n",
       "    RNA:\t34810 x 38224\n",
       "      layers:\t'counts'\n",
       "    CITE:\t34810 x 302\n",
       "      layers:\t'counts'\n",
       "    HTO:\t34810 x 2\n",
       "      layers:\t'counts'"
      ]
     },
     "execution_count": 3,
     "metadata": {},
     "output_type": "execute_result"
    }
   ],
   "source": [
    "path = os.path.join(data_dir, \"ANCA_ustekinumab_4PK4PB_Tcells.h5mu\")\n",
    "anca_data = md.read_h5mu(path)\n",
    "anca_data"
   ]
  },
  {
   "cell_type": "code",
   "execution_count": 5,
   "metadata": {},
   "outputs": [],
   "source": [
    "relevant_obs = [\"patient\", \"sample\", \"tissue\", \"case\", \"orig.ident\", \"cell_type\"]\n",
    "anca_data.obs = anca_data.obs[relevant_obs]"
   ]
  },
  {
   "cell_type": "code",
   "execution_count": 6,
   "metadata": {},
   "outputs": [],
   "source": [
    "mod = \"RNA\"\n",
    "rna_data = ad.AnnData(\n",
    "    anca_data.mod[mod].layers[\"counts\"].copy(),\n",
    "    # obs=anca_data.obs.copy(),\n",
    "    var=anca_data.mod[mod].var[[]],\n",
    "    layers={\"counts\": anca_data.mod[mod].layers[\"counts\"].copy()},\n",
    "    obsm={\n",
    "        \"X_harmony\": anca_data.obsm[\"X_harmony\"].copy(),\n",
    "        \"X_umap\": anca_data.obsm[\"X_umap\"].copy(),\n",
    "    },\n",
    ")"
   ]
  },
  {
   "cell_type": "code",
   "execution_count": 7,
   "metadata": {},
   "outputs": [],
   "source": [
    "mod = \"CITE\"\n",
    "cite_data = ad.AnnData(\n",
    "    anca_data.mod[mod].layers[\"counts\"].copy(),\n",
    "    # obs=anca_data.obs.copy(),\n",
    "    var=anca_data.mod[mod].var[[]],\n",
    "    layers={\"counts\": anca_data.mod[mod].layers[\"counts\"].copy()},\n",
    "    obsm={\n",
    "        \"X_harmony\": anca_data.obsm[\"X_harmony\"].copy(),\n",
    "        \"X_umap\": anca_data.obsm[\"X_umap\"].copy(),\n",
    "    },\n",
    ")"
   ]
  },
  {
   "cell_type": "code",
   "execution_count": 8,
   "metadata": {},
   "outputs": [],
   "source": [
    "rna_data.obs = anca_data.obs.copy()\n",
    "cite_data.obs = anca_data.obs.copy()"
   ]
  },
  {
   "cell_type": "markdown",
   "metadata": {},
   "source": [
    "## Futher processing"
   ]
  },
  {
   "cell_type": "code",
   "execution_count": 9,
   "metadata": {},
   "outputs": [
    {
     "name": "stdout",
     "output_type": "stream",
     "text": [
      "302\n",
      "228\n"
     ]
    }
   ],
   "source": [
    "print(len(cite_data.var_names))\n",
    "var_names = [name for name in cite_data.var_names if not \"Hash\" in name]\n",
    "cite_data = cite_data[:, var_names].copy()\n",
    "sc.pp.filter_genes(cite_data, min_cells=10)\n",
    "print(len(cite_data.var_names))"
   ]
  },
  {
   "cell_type": "code",
   "execution_count": 10,
   "metadata": {},
   "outputs": [
    {
     "name": "stdout",
     "output_type": "stream",
     "text": [
      "min cells per sample: 321,\n",
      "max cells per sample: 13909,\n",
      "min n expressed genes per cell: 10,\n",
      "max n expressed genes per cell: 147,\n",
      "min n cells expressing gene: 14\n",
      "\n"
     ]
    }
   ],
   "source": [
    "mod_cite = cite_data\n",
    "\n",
    "get_adata_stats(mod_cite)"
   ]
  },
  {
   "cell_type": "code",
   "execution_count": 11,
   "metadata": {},
   "outputs": [
    {
     "data": {
      "text/plain": [
       "<seaborn.axisgrid.FacetGrid at 0x7f7fcbe1dac0>"
      ]
     },
     "execution_count": 11,
     "metadata": {},
     "output_type": "execute_result"
    },
    {
     "data": {
      "image/png": "[encoded data removed]",
      "text/plain": [
       "<Figure size 400x400 with 1 Axes>"
      ]
     },
     "metadata": {
      "image/png": {
       "height": 386,
       "width": 387
      }
     },
     "output_type": "display_data"
    }
   ],
   "source": [
    "sc.pp.calculate_qc_metrics(mod_cite, inplace=True, percent_top=None)\n",
    "sns.displot(mod_cite.obs.n_genes_by_counts)"
   ]
  },
  {
   "cell_type": "code",
   "execution_count": 12,
   "metadata": {},
   "outputs": [
    {
     "data": {
      "text/plain": [
       "<seaborn.axisgrid.FacetGrid at 0x7f7fcbe1d880>"
      ]
     },
     "execution_count": 12,
     "metadata": {},
     "output_type": "execute_result"
    },
    {
     "data": {
      "image/png": "[encoded data removed]",
      "text/plain": [
       "<Figure size 400x400 with 1 Axes>"
      ]
     },
     "metadata": {
      "image/png": {
       "height": 386,
       "width": 387
      }
     },
     "output_type": "display_data"
    }
   ],
   "source": [
    "sns.displot(mod_cite.obs.total_counts)"
   ]
  },
  {
   "cell_type": "code",
   "execution_count": 13,
   "metadata": {},
   "outputs": [],
   "source": [
    "log_normalize(rna_data)\n",
    "protein_clr(cite_data)\n",
    "\n",
    "scale(rna_data)\n",
    "scale(cite_data)"
   ]
  },
  {
   "cell_type": "code",
   "execution_count": 14,
   "metadata": {},
   "outputs": [],
   "source": [
    "rna_data.X = rna_data.layers[\"log1p\"].copy()\n",
    "cite_data.X = cite_data.layers[\"clr\"].copy()"
   ]
  },
  {
   "cell_type": "markdown",
   "metadata": {},
   "source": [
    "## Refine annotation"
   ]
  },
  {
   "cell_type": "code",
   "execution_count": 15,
   "metadata": {},
   "outputs": [
    {
     "data": {
      "text/plain": [
       "CD4_EM/RM    6832\n",
       "CD4_Naive    6802\n",
       "Treg         3894\n",
       "CD8_EM/RM    3706\n",
       "CD4_CM/EM    3641\n",
       "CD4_CM       2716\n",
       "NKT/gdT      2670\n",
       "CD8_Naive    1035\n",
       "CD8_CTL       989\n",
       "CD4_CTL       908\n",
       "NKT           756\n",
       "MAIT          591\n",
       "Prolif        270\n",
       "Name: cell_type, dtype: int64"
      ]
     },
     "execution_count": 15,
     "metadata": {},
     "output_type": "execute_result"
    }
   ],
   "source": [
    "rna_data.obs.cell_type.value_counts()"
   ]
  },
  {
   "cell_type": "code",
   "execution_count": 16,
   "metadata": {},
   "outputs": [],
   "source": [
    "mapping = {\n",
    "    \"CD4_EM/RM\": \"CD4+ Teff\",\n",
    "    \"CD8_EM/RM\": \"CD8+ Teff\",\n",
    "    \"CD4_CM/EM\": \"CD4+ Tcm/Tem\",\n",
    "    \"CD4_CM\": \"CD4+ Tcm\",\n",
    "    \"CD4_Naive\": \"CD4+ naive\",\n",
    "    \"CD8_Naive\": \"CD8+ naive\",\n",
    "    \"Treg\": \"Treg\",\n",
    "    \"MAIT\": \"MAIT/gdT\",\n",
    "    \"CD4_CTL\": \"CD4+ CTL\",\n",
    "    \"CD8_CTL\": \"NKT\",\n",
    "    \"NKT/gdT\": \"NKT\",\n",
    "    \"NKT\": \"NKT\",\n",
    "    \"Prolif\": \"Prolif\",\n",
    "}\n",
    "rna_data.obs[\"cell_type_v1\"] = (\n",
    "    rna_data.obs[\"cell_type\"].astype(str).replace(mapping).astype(\"category\")\n",
    ")"
   ]
  },
  {
   "cell_type": "markdown",
   "metadata": {},
   "source": [
    "## Save everything"
   ]
  },
  {
   "cell_type": "code",
   "execution_count": 17,
   "metadata": {},
   "outputs": [
    {
     "name": "stderr",
     "output_type": "stream",
     "text": [
      "... storing 'patient' as categorical\n",
      "... storing 'sample' as categorical\n",
      "... storing 'tissue' as categorical\n",
      "... storing 'case' as categorical\n",
      "... storing 'orig.ident' as categorical\n",
      "... storing 'patient' as categorical\n",
      "... storing 'sample' as categorical\n",
      "... storing 'tissue' as categorical\n",
      "... storing 'case' as categorical\n",
      "... storing 'orig.ident' as categorical\n"
     ]
    }
   ],
   "source": [
    "anca_data_clean = md.MuData(\n",
    "    {\n",
    "        \"rna\": rna_data.copy(),\n",
    "        \"cite\": cite_data.copy(),\n",
    "    }\n",
    ")\n",
    "\n",
    "# save data\n",
    "save_path = os.path.join(data_dir, \"ANCA_ustekinumab_4PK4PB_Tcells_annotated.h5mu\")\n",
    "anca_data_clean.write_h5mu(save_path)"
   ]
  }
 ],
 "metadata": {
  "kernelspec": {
   "display_name": "scvi-env",
   "language": "python",
   "name": "python3"
  },
  "language_info": {
   "codemirror_mode": {
    "name": "ipython",
    "version": 3
   },
   "file_extension": ".py",
   "mimetype": "text/x-python",
   "name": "python",
   "nbconvert_exporter": "python",
   "pygments_lexer": "ipython3",
   "version": "3.9.15"
  },
  "orig_nbformat": 4
 },
 "nbformat": 4,
 "nbformat_minor": 2
}
