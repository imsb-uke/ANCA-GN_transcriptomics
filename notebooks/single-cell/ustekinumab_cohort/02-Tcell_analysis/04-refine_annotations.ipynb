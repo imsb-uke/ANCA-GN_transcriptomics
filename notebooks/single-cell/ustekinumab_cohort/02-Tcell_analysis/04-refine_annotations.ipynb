{
 "cells": [
  {
   "cell_type": "code",
   "execution_count": null,
   "metadata": {},
   "outputs": [],
   "source": [
    "%load_ext autoreload\n",
    "%autoreload 2\n",
    "\n",
    "import sys\n",
    "import os\n",
    "\n",
    "os.chdir(\"../../../../\")\n",
    "\n",
    "import yaml\n",
    "import anndata as ad\n",
    "import matplotlib.pyplot as plt\n",
    "import seaborn as sns\n",
    "import mudata as md\n",
    "import muon as mu\n",
    "import numpy as np\n",
    "import scanpy as sc\n",
    "from matplotlib import gridspec\n",
    "import scanpy.external as sce\n",
    "from scipy import sparse\n",
    "from matplotlib.colors import LinearSegmentedColormap\n",
    "\n",
    "from utils.utils import *\n",
    "from utils.plotting import *\n",
    "\n",
    "sc.settings.verbosity = 0\n",
    "sc.settings.set_figure_params(\n",
    "    dpi=100,\n",
    "    facecolor=\"white\",\n",
    "    # color_map=\"YlGnBu\",\n",
    "    frameon=False,\n",
    ")\n",
    "import matplotlib as mpl\n",
    "\n",
    "sc.set_figure_params(dpi=100)\n",
    "sns.set(style=\"white\")"
   ]
  },
  {
   "cell_type": "code",
   "execution_count": null,
   "metadata": {},
   "outputs": [],
   "source": [
    "data_path = \"data/anca/ustekinumab/ANCA_4PK4PB_ustekinumab.h5mu\"\n",
    "anca_data = md.read_h5mu(data_path)"
   ]
  },
  {
   "cell_type": "code",
   "execution_count": null,
   "metadata": {},
   "outputs": [],
   "source": [
    "anca_data"
   ]
  },
  {
   "cell_type": "code",
   "execution_count": null,
   "metadata": {},
   "outputs": [],
   "source": [
    "relevant_obs = [\"patient\", \"sample\", \"tissue\", \"case\", \"orig.ident\", \"cell_type\"]\n",
    "anca_data.obs = anca_data.obs[relevant_obs]"
   ]
  },
  {
   "cell_type": "code",
   "execution_count": null,
   "metadata": {},
   "outputs": [],
   "source": [
    "mod = \"RNA\"\n",
    "rna_data = ad.AnnData(\n",
    "    anca_data.mod[mod].layers[\"counts\"].copy(),\n",
    "    # obs=anca_data.obs.copy(),\n",
    "    var=anca_data.mod[mod].var[[]],\n",
    "    layers={\"counts\": anca_data.mod[mod].layers[\"counts\"].copy()},\n",
    "    obsm={\n",
    "        \"X_harmony\": anca_data.obsm[\"X_harmony\"].copy(),\n",
    "        \"X_umap\": anca_data.obsm[\"X_umap\"].copy(),\n",
    "    },\n",
    ")"
   ]
  },
  {
   "cell_type": "code",
   "execution_count": null,
   "metadata": {},
   "outputs": [],
   "source": [
    "mod = \"CITE\"\n",
    "cite_data = ad.AnnData(\n",
    "    anca_data.mod[mod].layers[\"counts\"].copy(),\n",
    "    # obs=anca_data.obs.copy(),\n",
    "    var=anca_data.mod[mod].var[[]],\n",
    "    layers={\"counts\": anca_data.mod[mod].layers[\"counts\"].copy()},\n",
    "    obsm={\n",
    "        \"X_harmony\": anca_data.obsm[\"X_harmony\"].copy(),\n",
    "        \"X_umap\": anca_data.obsm[\"X_umap\"].copy(),\n",
    "    },\n",
    ")"
   ]
  },
  {
   "cell_type": "code",
   "execution_count": null,
   "metadata": {},
   "outputs": [],
   "source": [
    "rna_data.obs = anca_data.obs.copy()\n",
    "cite_data.obs = anca_data.obs.copy()"
   ]
  },
  {
   "cell_type": "markdown",
   "metadata": {},
   "source": [
    "## Futher processing"
   ]
  },
  {
   "cell_type": "code",
   "execution_count": null,
   "metadata": {},
   "outputs": [],
   "source": [
    "print(len(cite_data.var_names))\n",
    "var_names = [name for name in cite_data.var_names if not \"Hash\" in name]\n",
    "cite_data = cite_data[:, var_names].copy()\n",
    "sc.pp.filter_genes(cite_data, min_cells=10)\n",
    "print(len(cite_data.var_names))"
   ]
  },
  {
   "cell_type": "code",
   "execution_count": null,
   "metadata": {},
   "outputs": [],
   "source": [
    "mod_cite = cite_data\n",
    "\n",
    "get_adata_stats(mod_cite)"
   ]
  },
  {
   "cell_type": "code",
   "execution_count": null,
   "metadata": {},
   "outputs": [],
   "source": [
    "sc.pp.calculate_qc_metrics(mod_cite, inplace=True, percent_top=None)\n",
    "sns.displot(mod_cite.obs.n_genes_by_counts)"
   ]
  },
  {
   "cell_type": "code",
   "execution_count": null,
   "metadata": {},
   "outputs": [],
   "source": [
    "sns.displot(mod_cite.obs.total_counts)"
   ]
  },
  {
   "cell_type": "code",
   "execution_count": null,
   "metadata": {},
   "outputs": [],
   "source": [
    "log_normalize(rna_data)\n",
    "protein_clr(cite_data)\n",
    "\n",
    "scale(rna_data)\n",
    "scale(cite_data)"
   ]
  },
  {
   "cell_type": "code",
   "execution_count": null,
   "metadata": {},
   "outputs": [],
   "source": [
    "rna_data.X = rna_data.layers[\"log1p\"].copy()\n",
    "cite_data.X = cite_data.layers[\"clr\"].copy()"
   ]
  },
  {
   "cell_type": "markdown",
   "metadata": {},
   "source": [
    "## Refine annotation"
   ]
  },
  {
   "cell_type": "code",
   "execution_count": null,
   "metadata": {},
   "outputs": [],
   "source": [
    "rna_data.obs.cell_type.value_counts()"
   ]
  },
  {
   "cell_type": "code",
   "execution_count": null,
   "metadata": {},
   "outputs": [],
   "source": [
    "mapping = {\n",
    "    \"CD4_EM/RM\": \"CD4+ Teff\",\n",
    "    \"CD4_CM\": \"CD4+ Tcm\",\n",
    "    \"CD4_Naive\": \"CD4+ naive\",\n",
    "    \"CD8_EM/RM\": \"CD8+ Teff\",\n",
    "    \"CD4_CM/EM\": \"CD4+ Tcm/Tem\",\n",
    "    \"CD8_CTL\": \"CD8+ Tem\",\n",
    "}"
   ]
  },
  {
   "cell_type": "markdown",
   "metadata": {},
   "source": [
    "## Save everything"
   ]
  },
  {
   "cell_type": "code",
   "execution_count": null,
   "metadata": {},
   "outputs": [],
   "source": [
    "anca_data_clean = md.MuData(\n",
    "    {\n",
    "        \"rna\": rna_data,\n",
    "        \"cite\": cite_data,\n",
    "    }\n",
    ")\n",
    "\n",
    "# save data\n",
    "anca_data_clean.write_h5mu(\"data/anca/ustekinumab/ANCA_4PK4PB_ustekinumab_clean.h5mu\")"
   ]
  }
 ],
 "metadata": {
  "kernelspec": {
   "display_name": "scvi-env",
   "language": "python",
   "name": "python3"
  },
  "language_info": {
   "codemirror_mode": {
    "name": "ipython",
    "version": 3
   },
   "file_extension": ".py",
   "mimetype": "text/x-python",
   "name": "python",
   "nbconvert_exporter": "python",
   "pygments_lexer": "ipython3",
   "version": "3.9.15"
  },
  "orig_nbformat": 4
 },
 "nbformat": 4,
 "nbformat_minor": 2
}
