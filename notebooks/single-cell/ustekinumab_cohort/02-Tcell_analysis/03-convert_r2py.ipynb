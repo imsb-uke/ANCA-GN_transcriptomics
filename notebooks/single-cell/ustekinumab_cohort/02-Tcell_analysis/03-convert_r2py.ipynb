{
 "cells": [
  {
   "cell_type": "code",
   "execution_count": null,
   "metadata": {
    "vscode": {
     "languageId": "r"
    }
   },
   "outputs": [],
   "source": [
    "setwd(\"../../../../\")\n",
    "RhpcBLASctl::blas_set_num_threads(1)\n",
    "library(Seurat)\n",
    "library(dplyr)\n",
    "# library(tidyverse)\n",
    "library(here)\n",
    "# library(readxl)\n",
    "# library(Matrix)\n",
    "library(IMSBSeuratHelpers)\n",
    "library(ggplot2)\n",
    "library(MuDataSeurat)\n",
    "# library(sctransform)\n",
    "library(future)\n",
    "library(data.table)\n",
    "library(xlsx)\n",
    "plan(\"multicore\", workers = 1)\n",
    "options(future.globals.maxSize = 20 * 1000 * 1024^2) # 20GB\n",
    "options(repr.matrix.max.rows = 600, repr.matrix.max.cols = 200)"
   ]
  },
  {
   "cell_type": "code",
   "execution_count": null,
   "metadata": {
    "vscode": {
     "languageId": "r"
    }
   },
   "outputs": [],
   "source": [
    "seu <- readRDS(paste0(\"/data/projects/ANCA_Atlas/Ustekinumab_patients/Integrated_objects/Harmony_Ustekinumab_4PK4PB_T_celltype.rds\"))"
   ]
  },
  {
   "cell_type": "code",
   "execution_count": null,
   "metadata": {
    "vscode": {
     "languageId": "r"
    }
   },
   "outputs": [],
   "source": [
    "DefaultAssay(seu) <- \"RNA\""
   ]
  },
  {
   "cell_type": "code",
   "execution_count": null,
   "metadata": {
    "vscode": {
     "languageId": "r"
    }
   },
   "outputs": [],
   "source": [
    "seu@assays$CITE"
   ]
  },
  {
   "cell_type": "code",
   "execution_count": null,
   "metadata": {
    "vscode": {
     "languageId": "r"
    }
   },
   "outputs": [],
   "source": [
    "str(seu)"
   ]
  },
  {
   "cell_type": "code",
   "execution_count": null,
   "metadata": {
    "vscode": {
     "languageId": "r"
    }
   },
   "outputs": [],
   "source": []
  },
  {
   "cell_type": "code",
   "execution_count": null,
   "metadata": {
    "vscode": {
     "languageId": "r"
    }
   },
   "outputs": [],
   "source": [
    "seu@assays$RNA@scale.data <- matrix(numeric(), nrow = 0, ncol = 0)\n",
    "seu@assays$RNA@var.features <- character()\n",
    "seu@assays$RNA@meta.features <- data.frame(row.names = row.names(seu@assays$RNA@meta.features))\n",
    "# seu@assays$RNA@key <- \"RNA_\"\n",
    "seu@commands <- list()\n",
    "seu@graphs <- list()\n",
    "# seu@reductions <- list()\n",
    "seu@reductions$pca@feature.loadings <- matrix(numeric(), nrow = 0, ncol = 0)\n",
    "seu@reductions$harmony@feature.loadings <- matrix(numeric(), nrow = 0, ncol = 0)\n",
    "seu@reductions$harmony@feature.loadings.projected <- matrix(numeric(), nrow = 0, ncol = 0)"
   ]
  },
  {
   "cell_type": "code",
   "execution_count": null,
   "metadata": {
    "vscode": {
     "languageId": "r"
    }
   },
   "outputs": [],
   "source": [
    "WriteH5MU(seu, \"data/anca/ustekinumab/ANCA_4PK4PB_ustekinumab.h5mu\")"
   ]
  }
 ],
 "metadata": {
  "kernelspec": {
   "display_name": "R",
   "language": "R",
   "name": "ir"
  },
  "language_info": {
   "codemirror_mode": "r",
   "file_extension": ".r",
   "mimetype": "text/x-r-source",
   "name": "R",
   "pygments_lexer": "r",
   "version": "4.1.1"
  },
  "orig_nbformat": 4
 },
 "nbformat": 4,
 "nbformat_minor": 2
}
