{
 "cells": [
  {
   "cell_type": "code",
   "execution_count": 1,
   "id": "eed5dc47-6949-4f14-b2f8-5091ddaaa777",
   "metadata": {},
   "outputs": [],
   "source": [
    "import sys\n",
    "sys.path.append(\"../src\")\n",
    "from utils import *"
   ]
  },
  {
   "cell_type": "code",
   "execution_count": 2,
   "id": "423ef596-08c7-491f-a48f-9e5bfae88f7f",
   "metadata": {},
   "outputs": [],
   "source": [
    "import pickle"
   ]
  },
  {
   "cell_type": "code",
   "execution_count": 3,
   "id": "61a97aac-b864-4bb9-87fd-482e7bb99889",
   "metadata": {},
   "outputs": [],
   "source": [
    "import PIL\n",
    "import matplotlib.pyplot as plt\n",
    "import seaborn as sns"
   ]
  },
  {
   "cell_type": "code",
   "execution_count": 4,
   "id": "143c668b-3211-4c4d-89a7-c0008a2cd976",
   "metadata": {},
   "outputs": [],
   "source": [
    "# load file sizes\n",
    "\n",
    "# img_folder = \"../tif_processed\"\n",
    "annots_folder = \"../annotations_visium_v2\"\n",
    "adata_file = os.path.join(datadir, \"anca_samples_annotated_v1.h5ad\")"
   ]
  },
  {
   "cell_type": "code",
   "execution_count": 5,
   "id": "048c108a-7f26-4549-9abf-f2ceb038018a",
   "metadata": {},
   "outputs": [],
   "source": [
    "data = sc.read(adata_file)\n",
    "samples = data.obs[\"Sample\"].cat.categories.tolist()"
   ]
  },
  {
   "cell_type": "code",
   "execution_count": 6,
   "id": "87dc828a-5c8a-468a-8713-1f46923b25f4",
   "metadata": {},
   "outputs": [],
   "source": [
    "with open(os.path.join(datadir, \"image_sizes.pkl\"), \"rb\") as f:\n",
    "    sizes = pickle.load(f)"
   ]
  },
  {
   "cell_type": "code",
   "execution_count": 7,
   "id": "77d1e259-c67e-49ba-86d8-8d53f3bfe734",
   "metadata": {},
   "outputs": [],
   "source": [
    "def map_coords(x, y, scale_factor=9.913354971):\n",
    "\n",
    "    x_, y_ = x/scale_factor, y/scale_factor\n",
    "    return x_, y_"
   ]
  },
  {
   "cell_type": "code",
   "execution_count": 8,
   "id": "9353c51c-10bb-48b8-9d75-3a6f8db4a074",
   "metadata": {},
   "outputs": [],
   "source": [
    "count = 0\n",
    "data.obs[\"annot_v1\"] = \"not_annotated\"\n",
    "for sample in data.obs[\"Sample\"].unique():\n",
    "    sub = data[data.obs[\"Sample\"]==sample]\n",
    "    \n",
    "    hires_scale_factor = data.uns[\"spatial\"][sample][\"scalefactors\"]['tissue_hires_scalef']\n",
    "    hires_size = data.uns[\"spatial\"][sample][\"images\"][\"hires\"].shape[0]\n",
    "    scale_tif_to_hires = sizes[sample]/hires_size\n",
    "    tif_scale_factor = hires_scale_factor*scale_tif_to_hires\n",
    "    \n",
    "    annotations = os.listdir(os.path.join(annots_folder, sample))\n",
    "    for file in annotations:\n",
    "        if \".csv\" in file:\n",
    "            type_ = file.split(\".csv\")[0]\n",
    "            shapes = pd.read_csv(os.path.join(annots_folder, sample, file), index_col=0)\n",
    "            for shape_n in shapes.index.unique():\n",
    "                shape = shapes[shapes.index==shape_n].reset_index()\n",
    "                for i in shape.index:\n",
    "                    y, x = shape.loc[i,\"axis-0\"], shape.loc[i, \"axis-1\"]\n",
    "                    shape.loc[i, \"x\"], shape.loc[i, \"y\"] = map_coords(x, y, tif_scale_factor)\n",
    "                min_x, min_y = shape[\"x\"].min(), shape[\"y\"].min()\n",
    "                max_x, max_y = shape[\"x\"].max(), shape[\"y\"].max()\n",
    "                sample_spots = sub.obsm[\"spatial\"]\n",
    "                \n",
    "                mapped_spots = []\n",
    "                for i in range(len(sample_spots)):\n",
    "                    x, y = sample_spots[i][0], sample_spots[i][1]\n",
    "                    if x <= max_x and x >= min_x and y <= max_y and y >= min_y: \n",
    "                        mapped_spots.append(i)\n",
    "                            \n",
    "                idxs = sub.obs.index[mapped_spots]\n",
    "                data.obs.loc[idxs, \"annot_v2\"] = [type_.capitalize()]*len(idxs)\n",
    "                count = count+1\n",
    "                data.obs.loc[idxs, \"count_v2\"] = [count+1]*len(idxs)"
   ]
  },
  {
   "cell_type": "code",
   "execution_count": 9,
   "id": "3a92b2b4-5660-4ada-b72a-28029d0ad452",
   "metadata": {},
   "outputs": [
    {
     "data": {
      "text/plain": [
       "Crescent     347\n",
       "Normal       146\n",
       "Uncertain     32\n",
       "Name: annot_v2, dtype: int64"
      ]
     },
     "execution_count": 9,
     "metadata": {},
     "output_type": "execute_result"
    }
   ],
   "source": [
    "data.obs[\"annot_v2\"].value_counts()"
   ]
  },
  {
   "cell_type": "code",
   "execution_count": 10,
   "id": "2ab847b8-47b5-4855-a9b4-b984d215c5e6",
   "metadata": {},
   "outputs": [],
   "source": [
    "data.write(os.path.join(datadir, \"anca_samples_annotated_v2.h5ad\"))"
   ]
  },
  {
   "cell_type": "code",
   "execution_count": null,
   "id": "b3f445f5-4821-4756-8c24-48ec074f55da",
   "metadata": {},
   "outputs": [],
   "source": []
  }
 ],
 "metadata": {
  "kernelspec": {
   "display_name": "Python 3 (ipykernel)",
   "language": "python",
   "name": "python3"
  },
  "language_info": {
   "codemirror_mode": {
    "name": "ipython",
    "version": 3
   },
   "file_extension": ".py",
   "mimetype": "text/x-python",
   "name": "python",
   "nbconvert_exporter": "python",
   "pygments_lexer": "ipython3",
   "version": "3.9.7"
  }
 },
 "nbformat": 4,
 "nbformat_minor": 5
}
