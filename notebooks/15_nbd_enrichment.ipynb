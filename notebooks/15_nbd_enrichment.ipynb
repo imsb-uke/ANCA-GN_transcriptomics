{
 "cells": [
  {
   "cell_type": "code",
   "execution_count": 1,
   "id": "644bd263-824e-4fb4-b969-5c60dbdf9a99",
   "metadata": {},
   "outputs": [],
   "source": [
    "import sys\n",
    "sys.path.append(\"../src\")\n",
    "from utils import *"
   ]
  },
  {
   "cell_type": "code",
   "execution_count": 2,
   "id": "0ebc8e81-f3ff-46af-b657-b984fe800845",
   "metadata": {},
   "outputs": [],
   "source": [
    "adata = sc.read(os.path.join(datadir, \"anca_samples_annotated_v2.h5ad\"))"
   ]
  },
  {
   "cell_type": "code",
   "execution_count": 3,
   "id": "7eb4dd31-c807-40f7-b3fe-5ce45a60d5db",
   "metadata": {},
   "outputs": [],
   "source": [
    "#%autoreload 2\n",
    "\n",
    "import scanpy as sc\n",
    "import pandas as pd\n",
    "import squidpy as sq\n",
    "import matplotlib.pyplot as plt\n",
    "import seaborn as sns\n",
    "import numpy as np\n",
    "import anndata as ad\n",
    "from scipy.sparse import csr_matrix\n",
    "import os#\n",
    "import networkx as nx\n",
    "from tqdm import tqdm\n",
    "\n",
    "from spatial import *"
   ]
  },
  {
   "cell_type": "code",
   "execution_count": 4,
   "id": "81cea549-0369-4394-a0e5-f7ee39306b1a",
   "metadata": {},
   "outputs": [
    {
     "name": "stderr",
     "output_type": "stream",
     "text": [
      "100%|██████████| 19/19 [00:04<00:00,  4.08it/s]\n"
     ]
    }
   ],
   "source": [
    "adata_list = split_by_col(adata, col=\"Sample\", verbose=False)"
   ]
  },
  {
   "cell_type": "code",
   "execution_count": 5,
   "id": "bac9d638-1a89-43c9-9213-c46710af4e22",
   "metadata": {},
   "outputs": [
    {
     "name": "stdout",
     "output_type": "stream",
     "text": [
      "Unpacking samples...\n"
     ]
    },
    {
     "name": "stderr",
     "output_type": "stream",
     "text": [
      "100%|██████████| 19/19 [00:04<00:00,  4.05it/s]\n"
     ]
    },
    {
     "name": "stdout",
     "output_type": "stream",
     "text": [
      "Constructing adjacency matrix...\n"
     ]
    },
    {
     "name": "stderr",
     "output_type": "stream",
     "text": [
      "100%|██████████| 19/19 [00:15<00:00,  1.19it/s]\n"
     ]
    },
    {
     "name": "stdout",
     "output_type": "stream",
     "text": [
      "Constructing graph...\n",
      "The average degree of the graph is 5.12.\n"
     ]
    }
   ],
   "source": [
    "G, global_adj_mat, global_dist_mat, adj_mats, dist_mats = construct_batch_graph_visium(\n",
    "    adata,\n",
    "    batch_col=\"Sample\",\n",
    "    adata_list=None,\n",
    "    output_intermediate_data=True,\n",
    "    allow_self_loops=False,\n",
    ")"
   ]
  },
  {
   "cell_type": "code",
   "execution_count": 6,
   "id": "fccaf323-bfdd-4038-886b-a722b34eab2f",
   "metadata": {},
   "outputs": [
    {
     "data": {
      "text/plain": [
       "(678, 678)"
      ]
     },
     "execution_count": 6,
     "metadata": {},
     "output_type": "execute_result"
    }
   ],
   "source": [
    "adj_mats[1].shape"
   ]
  },
  {
   "cell_type": "code",
   "execution_count": 7,
   "id": "14805aec-2338-421b-8ff1-bf17bfb99e43",
   "metadata": {},
   "outputs": [],
   "source": [
    "adata.obsp[\"spatial_connectivities\"] = csr_matrix(global_adj_mat)\n",
    "adata.obsp[\"spatial_distances\"] = csr_matrix(global_dist_mat)"
   ]
  },
  {
   "cell_type": "code",
   "execution_count": 8,
   "id": "9ba26d9d-f25b-494e-b0d0-cb82e8390c96",
   "metadata": {},
   "outputs": [
    {
     "data": {
      "application/vnd.jupyter.widget-view+json": {
       "model_id": "93900ee0d6db4646a6cf912021ac503d",
       "version_major": 2,
       "version_minor": 0
      },
      "text/plain": [
       "  0%|          | 0/1000 [00:00<?, ?/s]"
      ]
     },
     "metadata": {},
     "output_type": "display_data"
    },
    {
     "data": {
      "image/png": "[encoded data removed]",
      "text/plain": [
       "<Figure size 360x360 with 5 Axes>"
      ]
     },
     "metadata": {
      "needs_background": "light"
     },
     "output_type": "display_data"
    }
   ],
   "source": [
    "sq.gr.nhood_enrichment(adata, cluster_key=\"cluster_annot\")\n",
    "sq.pl.nhood_enrichment(\n",
    "    adata,\n",
    "    cluster_key=\"cluster_annot\",\n",
    "    method=\"average\",\n",
    "    cmap=\"RdBu_r\",\n",
    "    # vmin=-50,\n",
    "    # vmax=\"p99\",\n",
    "    vmin=-50,\n",
    "    vmax=50,\n",
    "    figsize=(5, 5),\n",
    "    save=\"nbd_enrichment.pdf\"\n",
    ")"
   ]
  },
  {
   "cell_type": "code",
   "execution_count": 9,
   "id": "632b5f17-df43-4e0b-b8fe-f1027c7a5c38",
   "metadata": {},
   "outputs": [],
   "source": [
    "adata_combined = adata.copy()"
   ]
  },
  {
   "cell_type": "code",
   "execution_count": 10,
   "id": "edb557c7-e223-4828-8ef1-021e0512878f",
   "metadata": {},
   "outputs": [],
   "source": [
    "cluster_key = \"cluster_annot\"\n",
    "nb_distances = adata_combined.uns[\"cluster_annot_nhood_enrichment\"][\"zscore\"]\n",
    "\n",
    "threshold = 0\n",
    "nb_adj_mat = (nb_distances > threshold).astype(int)\n",
    "nb_dist_mat = nb_distances * nb_adj_mat\n",
    "\n",
    "nb_graph = nx.Graph(nb_adj_mat)\n",
    "\n",
    "clusters = adata_combined.obs[cluster_key].unique().tolist()\n",
    "clusters = adata_combined.obs[cluster_key].cat.categories.tolist()\n",
    "\n",
    "labels = {i: label for i, label in enumerate(clusters)}\n",
    "\n",
    "for i in range(nb_dist_mat.shape[0]):\n",
    "    for j in range(i, nb_dist_mat.shape[0]):  # Ensures we only update each edge once\n",
    "        if nb_graph.has_edge(i, j):\n",
    "            nb_graph[i][j][\"weight\"] = nb_dist_mat[i][j]\n",
    "        # else:\n",
    "        #     print(f\"Edge {i}-{j} not in G\")\n",
    "\n",
    "# Get the tab20 colormap from seaborn\n",
    "colors_tab20 = sns.color_palette(\"tab20\", len(labels))\n",
    "\n",
    "# Define a mapping of node labels to colors\n",
    "color_map = {label: colors_tab20[i] for i, label in enumerate(labels.values())}\n",
    "\n",
    "# Get colors for each node\n",
    "node_colors = [color_map[labels[node]] for node in nb_graph.nodes()]\n",
    "\n",
    "nb_graph.remove_edges_from(nx.selfloop_edges(nb_graph))"
   ]
  },
  {
   "cell_type": "code",
   "execution_count": 11,
   "id": "ebfc7d8f-58f3-44b3-a7c0-728b24419c2e",
   "metadata": {},
   "outputs": [],
   "source": [
    "nodesizes = adata.obs[\"cluster_annot\"].value_counts()[list(labels.values())].tolist()"
   ]
  },
  {
   "cell_type": "code",
   "execution_count": 12,
   "id": "a91995fd-dd53-4cf1-ad45-6db81e6e6bb6",
   "metadata": {},
   "outputs": [],
   "source": [
    "import pickle\n",
    "with open(\"../data/cluster_annot_colors.pkl\", \"rb\") as handle:\n",
    "    color_map = pickle.load(handle)"
   ]
  },
  {
   "cell_type": "code",
   "execution_count": 32,
   "id": "3de3cf0f-9238-41e9-a433-8df0a067c3ed",
   "metadata": {},
   "outputs": [
    {
     "data": {
      "image/png": "[encoded data removed]",
      "text/plain": [
       "<Figure size 432x288 with 1 Axes>"
      ]
     },
     "metadata": {},
     "output_type": "display_data"
    }
   ],
   "source": [
    "edge_weights = [d[\"weight\"]*0.25 for _, _, d in nb_graph.edges(data=True)]\n",
    "pos = nx.nx_agraph.graphviz_layout(nb_graph)#, weight=\"weight\", scale=1) # nx.kamada_kawai_layout(nb_graph, weight=\"weight\", scale=1)\n",
    "# pos = nx.circular_layout(nb_graph, scale=1) \n",
    "\n",
    "\n",
    "# Draw the graph using the computed positions.\n",
    "# You can customize the drawing by adjusting node sizes, colors, etc.\n",
    "nx.draw(\n",
    "    nb_graph,\n",
    "    pos,\n",
    "    with_labels=False,\n",
    "    node_size=nodesizes, #700,\n",
    "    node_color= color_map.values(),#node_colors,\n",
    "    # font_weight=\"bold\",\n",
    "    width=edge_weights,\n",
    "    edge_color=\"black\",\n",
    "    labels=labels,\n",
    ")\n",
    "\n",
    "for key in pos:\n",
    "    x, y = pos[key]\n",
    "    label = labels[key]\n",
    "    if label == \"PT\":\n",
    "        y = y+20\n",
    "    elif label ==\"Normal glomerular\":\n",
    "        x = x-40\n",
    "        y = y-20\n",
    "    elif label ==\"Inflamed glomerular\":\n",
    "        x = x-70\n",
    "        y = y-30\n",
    "    elif label ==\"Inflamed tubulointerstitial\":\n",
    "        x = x+60\n",
    "        y = y-10\n",
    "    elif label in [\"Tubulointerstitial\", \"CNT/PC\", \"PT/DCT\"]:\n",
    "        y = y-20\n",
    "    elif label in [\"Tubulointerstitial/Vessels\"]:\n",
    "        y = y-20\n",
    "        x = x + 100\n",
    "    elif label in [\"LOH\", \"CNT/PC/IC\"]:\n",
    "        y = y-20\n",
    "        x = x + 35\n",
    "    elif label in [\"DCT/CNT\"]:\n",
    "        y = y-50\n",
    "        x = x + 40\n",
    "    \n",
    "    plt.text(x,y+50,s=label, \n",
    "             horizontalalignment='center',\n",
    "             va=\"bottom\", color=color_map[label],\n",
    "            fontsize=12)\n",
    "\n",
    "\n",
    "# Draw edge labels showing weights\n",
    "edge_labels = dict(\n",
    "    [\n",
    "        (\n",
    "            (\n",
    "                u,\n",
    "                v,\n",
    "            ),\n",
    "            d[\"weight\"],\n",
    "        )\n",
    "        for u, v, d in nb_graph.edges(data=True)\n",
    "    ]\n",
    ")\n",
    "\n",
    "T = nx.minimum_spanning_tree(nb_graph)\n",
    "\n",
    "\n",
    "# texts = nx.draw_networkx_edge_labels(nb_graph, pos, edge_labels=edge_labels)\n",
    "# Add a legend\n",
    "for label, color in color_map.items():\n",
    "    plt.plot([0], [0], color=color, label=label)\n",
    "#nx.draw_networkx_edges(T, pos, edge_color=\"black\", width=2)\n",
    "# plt.legend(loc=\"upper left\", bbox_to_anchor=(1, 1))\n",
    "plt.savefig(os.path.join(figdir, \"graph-cluster_annot.pdf\"), bbox_inches=\"tight\")\n",
    "plt.show()\n"
   ]
  },
  {
   "cell_type": "code",
   "execution_count": null,
   "id": "73c84867-f272-4c8f-8a84-c425af16bf18",
   "metadata": {},
   "outputs": [],
   "source": []
  }
 ],
 "metadata": {
  "kernelspec": {
   "display_name": "Python 3 (ipykernel)",
   "language": "python",
   "name": "python3"
  },
  "language_info": {
   "codemirror_mode": {
    "name": "ipython",
    "version": 3
   },
   "file_extension": ".py",
   "mimetype": "text/x-python",
   "name": "python",
   "nbconvert_exporter": "python",
   "pygments_lexer": "ipython3",
   "version": "3.9.7"
  }
 },
 "nbformat": 4,
 "nbformat_minor": 5
}
