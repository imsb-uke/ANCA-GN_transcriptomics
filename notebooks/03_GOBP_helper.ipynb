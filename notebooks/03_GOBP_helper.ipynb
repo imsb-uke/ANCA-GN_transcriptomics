{
 "cells": [
  {
   "cell_type": "code",
   "execution_count": 1,
   "id": "26b10d07-4602-4198-b91a-4a08065b6065",
   "metadata": {},
   "outputs": [],
   "source": [
    "import sys\n",
    "sys.path.append(\"../src\")\n",
    "from utils import *"
   ]
  },
  {
   "cell_type": "code",
   "execution_count": 2,
   "id": "475fb752-a883-4b8e-b55f-2f6a3c5b574c",
   "metadata": {},
   "outputs": [],
   "source": [
    "adata = sc.read(os.path.join(datadir, \"anca_samples_clustered.h5ad\"))"
   ]
  },
  {
   "cell_type": "code",
   "execution_count": 3,
   "id": "541244ce-97e8-4f71-b3f4-55ab0d9afb2b",
   "metadata": {},
   "outputs": [],
   "source": [
    "adata.uns[\"log1p\"][\"base\"] = None"
   ]
  },
  {
   "cell_type": "code",
   "execution_count": 4,
   "id": "c0a48d69-6144-4097-b7a7-e0ce8cdc844d",
   "metadata": {},
   "outputs": [],
   "source": [
    "adata.obs[\"cluster_annot_1\"] = [e.replace(\"/\", \"_\") for e in adata.obs[\"cluster_annot\"].tolist()]"
   ]
  },
  {
   "cell_type": "code",
   "execution_count": 5,
   "id": "3f775ce7-faf1-40e8-be47-952aae88605c",
   "metadata": {},
   "outputs": [],
   "source": [
    "sc.tl.rank_genes_groups(adata, method=\"wilcoxon\", groupby=\"cluster_annot_1\", use_raw=False, key_added=\"wilcoxon_cluster_annot_all\")\n",
    "df_deg = sc.get.rank_genes_groups_df(adata, group=None, pval_cutoff=0.05, key=\"wilcoxon_cluster_annot_all\")"
   ]
  },
  {
   "cell_type": "code",
   "execution_count": 7,
   "id": "4dd0549e-bb1c-46c4-b16c-58be81dc71d5",
   "metadata": {},
   "outputs": [],
   "source": [
    "df_deg.rename(columns={\"group\": \"cluster\",\n",
    "                       \"names\": \"gene\"}, inplace=True)"
   ]
  },
  {
   "cell_type": "code",
   "execution_count": 8,
   "id": "a96013cd-1db1-4053-9d10-f13025c49aec",
   "metadata": {},
   "outputs": [],
   "source": [
    "df_deg.to_csv(os.path.join(datadir, f\"DEG_anca_samples_genes_all.csv\"), \n",
    "                                                    index=False)"
   ]
  },
  {
   "cell_type": "code",
   "execution_count": null,
   "id": "7cf7eed7-c391-45ad-9e11-36f494131756",
   "metadata": {},
   "outputs": [],
   "source": []
  },
  {
   "cell_type": "code",
   "execution_count": 5,
   "id": "1705391a-b094-47dc-89ab-c87808b86975",
   "metadata": {
    "tags": []
   },
   "outputs": [],
   "source": [
    "sc.tl.rank_genes_groups(adata, method=\"wilcoxon\", groupby=\"cluster_annot_1\", use_raw=False, key_added=\"wilcoxon_cluster_annot\")\n",
    "df_deg = sc.get.rank_genes_groups_df(adata, group=None, pval_cutoff=0.05, log2fc_min=0.25, key=\"wilcoxon_cluster_annot\")"
   ]
  },
  {
   "cell_type": "code",
   "execution_count": 6,
   "id": "25d9a113-b4bc-4121-9df2-481b1c0643ff",
   "metadata": {},
   "outputs": [],
   "source": [
    "for cluster in df_deg.group.unique():\n",
    "    genelist = df_deg[df_deg[\"group\"]==cluster][\"names\"].tolist()\n",
    "    pd.DataFrame(genelist, columns=[\"gene\"]).to_csv(os.path.join(datadir, f\"DEG_anca_samples_genes_{cluster}.csv\"), \n",
    "                                                    index=False)"
   ]
  },
  {
   "cell_type": "code",
   "execution_count": 7,
   "id": "df0cf6d1-f06c-4a8f-82ba-d13ef7780484",
   "metadata": {},
   "outputs": [
    {
     "name": "stdout",
     "output_type": "stream",
     "text": [
      "CNT_PC 781\n",
      "CNT_PC_IC 1920\n",
      "DCT_CNT 377\n",
      "Inflamed glomerular 1958\n",
      "Inflamed tubulointerstitial 2483\n",
      "LOH 1467\n",
      "Normal glomerular 1145\n",
      "PT 1612\n",
      "PT_DCT 1240\n",
      "PT_TAL 1553\n",
      "Tubulointerstitial 299\n",
      "Tubulointerstitial_Vessels 930\n"
     ]
    }
   ],
   "source": [
    "for cluster in df_deg.group.unique():\n",
    "    genelist = df_deg[df_deg[\"group\"]==cluster][\"names\"].tolist()\n",
    "    print(cluster, len(genelist))"
   ]
  },
  {
   "cell_type": "code",
   "execution_count": 8,
   "id": "e8345d1f-2e07-4b6a-b34a-41d4912eb756",
   "metadata": {},
   "outputs": [
    {
     "data": {
      "text/html": [
       "<div>\n",
       "<style scoped>\n",
       "    .dataframe tbody tr th:only-of-type {\n",
       "        vertical-align: middle;\n",
       "    }\n",
       "\n",
       "    .dataframe tbody tr th {\n",
       "        vertical-align: top;\n",
       "    }\n",
       "\n",
       "    .dataframe thead th {\n",
       "        text-align: right;\n",
       "    }\n",
       "</style>\n",
       "<table border=\"1\" class=\"dataframe\">\n",
       "  <thead>\n",
       "    <tr style=\"text-align: right;\">\n",
       "      <th></th>\n",
       "      <th>PT</th>\n",
       "      <th>LOH</th>\n",
       "      <th>Inflamed tubulointerstitial</th>\n",
       "      <th>PT/TAL</th>\n",
       "      <th>CNT/PC/IC</th>\n",
       "      <th>Tubulointerstitial/Vessels</th>\n",
       "      <th>PT/DCT</th>\n",
       "      <th>Normal glomerular</th>\n",
       "      <th>Inflamed glomerular</th>\n",
       "      <th>CNT/PC</th>\n",
       "      <th>Tubulointerstitial</th>\n",
       "      <th>DCT/CNT</th>\n",
       "    </tr>\n",
       "  </thead>\n",
       "  <tbody>\n",
       "    <tr>\n",
       "      <th>cluster_annot</th>\n",
       "      <td>0.269906</td>\n",
       "      <td>0.157391</td>\n",
       "      <td>0.130726</td>\n",
       "      <td>0.117346</td>\n",
       "      <td>0.090402</td>\n",
       "      <td>0.06736</td>\n",
       "      <td>0.048128</td>\n",
       "      <td>0.047106</td>\n",
       "      <td>0.028152</td>\n",
       "      <td>0.017281</td>\n",
       "      <td>0.01533</td>\n",
       "      <td>0.010871</td>\n",
       "    </tr>\n",
       "  </tbody>\n",
       "</table>\n",
       "</div>"
      ],
      "text/plain": [
       "                     PT       LOH  Inflamed tubulointerstitial    PT/TAL  \\\n",
       "cluster_annot  0.269906  0.157391                     0.130726  0.117346   \n",
       "\n",
       "               CNT/PC/IC  Tubulointerstitial/Vessels    PT/DCT  \\\n",
       "cluster_annot   0.090402                     0.06736  0.048128   \n",
       "\n",
       "               Normal glomerular  Inflamed glomerular    CNT/PC  \\\n",
       "cluster_annot           0.047106             0.028152  0.017281   \n",
       "\n",
       "               Tubulointerstitial   DCT/CNT  \n",
       "cluster_annot             0.01533  0.010871  "
      ]
     },
     "execution_count": 8,
     "metadata": {},
     "output_type": "execute_result"
    }
   ],
   "source": [
    "tab = pd.DataFrame(adata.obs[\"cluster_annot\"].value_counts(normalize=True)).T\n",
    "tab"
   ]
  },
  {
   "cell_type": "code",
   "execution_count": 9,
   "id": "2b7b87f0-c904-410e-8aa9-5f2a71be21fe",
   "metadata": {},
   "outputs": [
    {
     "data": {
      "text/plain": [
       "CategoricalIndex(['PT', 'LOH', 'Inflamed tubulointerstitial', 'PT/TAL',\n",
       "                  'CNT/PC/IC', 'Tubulointerstitial/Vessels', 'PT/DCT',\n",
       "                  'Normal glomerular', 'Inflamed glomerular', 'CNT/PC',\n",
       "                  'Tubulointerstitial', 'DCT/CNT'],\n",
       "                 categories=['LOH', 'Inflamed tubulointerstitial', 'CNT/PC/IC', 'PT/DCT', ..., 'CNT/PC', 'Tubulointerstitial', 'DCT/CNT', 'PT'], ordered=False, dtype='category')"
      ]
     },
     "execution_count": 9,
     "metadata": {},
     "output_type": "execute_result"
    }
   ],
   "source": [
    "tab.columns"
   ]
  },
  {
   "cell_type": "code",
   "execution_count": 12,
   "id": "32ccabdf-0ab1-4362-b276-7f5433d12498",
   "metadata": {},
   "outputs": [],
   "source": [
    "colors_dict = {\"PT\": \"#1f77b4\",\n",
    "               \"PT/DCT\": \"#1f88b9\",\n",
    "               \"DCT/CNT\": \"#aec7e8\", \n",
    "               \"PT/TAL\": \"#ff7f0e\",\n",
    "               \"CNT/PC\": \"#2ca02c\",\n",
    "               \"CNT/PC/IC\": \"#98df8a\",\n",
    "               \"LOH\": \"#ff9896\",\n",
    "               \"Tubulointerstitial\": \"#c49c94\",\n",
    "               \"Tubulointerstitial/Vessels\": \"#219EBC\", #\n",
    "               \"Normal glomerular\": \"#bcbd22\",\n",
    "               \"Inflamed glomerular\": \"#d62728\",\n",
    "               \"Inflamed tubulointerstitial\": \"#900D09\"\n",
    "              }"
   ]
  },
  {
   "cell_type": "code",
   "execution_count": 13,
   "id": "3664c700-bc9a-40f2-8355-7588af698969",
   "metadata": {},
   "outputs": [],
   "source": [
    "color = []\n",
    "for key in tab.columns:\n",
    "    color.append(colors_dict[key])"
   ]
  },
  {
   "cell_type": "code",
   "execution_count": 14,
   "id": "17e4b50b-ffb7-4bef-b9cc-e2c24f8e857e",
   "metadata": {},
   "outputs": [
    {
     "data": {
      "text/plain": [
       "<matplotlib.legend.Legend at 0x7f860b1d2640>"
      ]
     },
     "execution_count": 14,
     "metadata": {},
     "output_type": "execute_result"
    },
    {
     "data": {
      "image/png": "[encoded data removed]",
      "text/plain": [
       "<Figure size 144x360 with 1 Axes>"
      ]
     },
     "metadata": {
      "needs_background": "light"
     },
     "output_type": "display_data"
    }
   ],
   "source": [
    "tab.plot(kind=\"bar\", stacked=True, figsize=(2,5), color=color)\n",
    "plt.legend(bbox_to_anchor=(1,1))"
   ]
  },
  {
   "cell_type": "code",
   "execution_count": null,
   "id": "b694530c-2318-4a38-99a6-e6290652a4e9",
   "metadata": {},
   "outputs": [],
   "source": []
  }
 ],
 "metadata": {
  "kernelspec": {
   "display_name": "Python 3 (ipykernel)",
   "language": "python",
   "name": "python3"
  },
  "language_info": {
   "codemirror_mode": {
    "name": "ipython",
    "version": 3
   },
   "file_extension": ".py",
   "mimetype": "text/x-python",
   "name": "python",
   "nbconvert_exporter": "python",
   "pygments_lexer": "ipython3",
   "version": "3.9.7"
  }
 },
 "nbformat": 4,
 "nbformat_minor": 5
}
